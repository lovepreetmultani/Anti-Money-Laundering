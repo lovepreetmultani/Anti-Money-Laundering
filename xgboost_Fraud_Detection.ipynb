{
  "nbformat": 4,
  "nbformat_minor": 0,
  "metadata": {
    "colab": {
      "provenance": [],
      "gpuType": "T4",
      "collapsed_sections": [
        "Jg4AfnQEd049"
      ],
      "include_colab_link": true
    },
    "kernelspec": {
      "name": "python3",
      "display_name": "Python 3"
    },
    "language_info": {
      "name": "python"
    }
  },
  "cells": [
    {
      "cell_type": "markdown",
      "metadata": {
        "id": "view-in-github",
        "colab_type": "text"
      },
      "source": [
        "<a href=\"https://colab.research.google.com/github/lovepreetmultani/Anti-Money-Laundering/blob/main/xgboost_Fraud_Detection.ipynb\" target=\"_parent\"><img src=\"https://colab.research.google.com/assets/colab-badge.svg\" alt=\"Open In Colab\"/></a>"
      ]
    },
    {
      "cell_type": "markdown",
      "source": [
        "### Imports and Data load"
      ],
      "metadata": {
        "id": "ItmKCv2LpTPp"
      }
    },
    {
      "cell_type": "code",
      "source": [
        "!pip install explainerdashboard"
      ],
      "metadata": {
        "id": "Bqa-GGiVzZj7",
        "colab": {
          "base_uri": "https://localhost:8080/"
        },
        "outputId": "50fa77e8-225b-46f3-8211-ef6d3ed04f21"
      },
      "execution_count": null,
      "outputs": [
        {
          "output_type": "stream",
          "name": "stdout",
          "text": [
            "Requirement already satisfied: explainerdashboard in /usr/local/lib/python3.10/dist-packages (0.4.3)\n",
            "Requirement already satisfied: click in /usr/local/lib/python3.10/dist-packages (from explainerdashboard) (8.1.7)\n",
            "Requirement already satisfied: dash-auth in /usr/local/lib/python3.10/dist-packages (from explainerdashboard) (2.0.0)\n",
            "Requirement already satisfied: dash-bootstrap-components>=1 in /usr/local/lib/python3.10/dist-packages (from explainerdashboard) (1.4.2)\n",
            "Requirement already satisfied: dash>=2.10.1 in /usr/local/lib/python3.10/dist-packages (from explainerdashboard) (2.13.0)\n",
            "Requirement already satisfied: dtreeviz>=2.1 in /usr/local/lib/python3.10/dist-packages (from explainerdashboard) (2.2.2)\n",
            "Requirement already satisfied: flask-simplelogin in /usr/local/lib/python3.10/dist-packages (from explainerdashboard) (0.1.2)\n",
            "Requirement already satisfied: Flask-WTF>=1.1 in /usr/local/lib/python3.10/dist-packages (from explainerdashboard) (1.1.1)\n",
            "Requirement already satisfied: graphviz>=0.18.2 in /usr/local/lib/python3.10/dist-packages (from explainerdashboard) (0.20.1)\n",
            "Requirement already satisfied: joblib in /usr/local/lib/python3.10/dist-packages (from explainerdashboard) (1.3.2)\n",
            "Requirement already satisfied: jupyter-dash>=0.4.1 in /usr/local/lib/python3.10/dist-packages (from explainerdashboard) (0.4.2)\n",
            "Requirement already satisfied: numpy<=1.24.4 in /usr/local/lib/python3.10/dist-packages (from explainerdashboard) (1.23.5)\n",
            "Requirement already satisfied: oyaml in /usr/local/lib/python3.10/dist-packages (from explainerdashboard) (1.0)\n",
            "Requirement already satisfied: pandas>=1.1 in /usr/local/lib/python3.10/dist-packages (from explainerdashboard) (1.5.3)\n",
            "Requirement already satisfied: scikit-learn>=1.1 in /usr/local/lib/python3.10/dist-packages (from explainerdashboard) (1.2.2)\n",
            "Requirement already satisfied: shap>=0.42.1 in /usr/local/lib/python3.10/dist-packages (from explainerdashboard) (0.42.1)\n",
            "Requirement already satisfied: waitress in /usr/local/lib/python3.10/dist-packages (from explainerdashboard) (2.1.2)\n",
            "Requirement already satisfied: Flask<2.3.0,>=1.0.4 in /usr/local/lib/python3.10/dist-packages (from dash>=2.10.1->explainerdashboard) (2.2.5)\n",
            "Requirement already satisfied: Werkzeug<2.3.0 in /usr/local/lib/python3.10/dist-packages (from dash>=2.10.1->explainerdashboard) (2.2.3)\n",
            "Requirement already satisfied: plotly>=5.0.0 in /usr/local/lib/python3.10/dist-packages (from dash>=2.10.1->explainerdashboard) (5.15.0)\n",
            "Requirement already satisfied: dash-html-components==2.0.0 in /usr/local/lib/python3.10/dist-packages (from dash>=2.10.1->explainerdashboard) (2.0.0)\n",
            "Requirement already satisfied: dash-core-components==2.0.0 in /usr/local/lib/python3.10/dist-packages (from dash>=2.10.1->explainerdashboard) (2.0.0)\n",
            "Requirement already satisfied: dash-table==5.0.0 in /usr/local/lib/python3.10/dist-packages (from dash>=2.10.1->explainerdashboard) (5.0.0)\n",
            "Requirement already satisfied: typing-extensions>=4.1.1 in /usr/local/lib/python3.10/dist-packages (from dash>=2.10.1->explainerdashboard) (4.7.1)\n",
            "Requirement already satisfied: requests in /usr/local/lib/python3.10/dist-packages (from dash>=2.10.1->explainerdashboard) (2.31.0)\n",
            "Requirement already satisfied: retrying in /usr/local/lib/python3.10/dist-packages (from dash>=2.10.1->explainerdashboard) (1.3.4)\n",
            "Requirement already satisfied: ansi2html in /usr/local/lib/python3.10/dist-packages (from dash>=2.10.1->explainerdashboard) (1.8.0)\n",
            "Requirement already satisfied: nest-asyncio in /usr/local/lib/python3.10/dist-packages (from dash>=2.10.1->explainerdashboard) (1.5.7)\n",
            "Requirement already satisfied: setuptools in /usr/local/lib/python3.10/dist-packages (from dash>=2.10.1->explainerdashboard) (67.7.2)\n",
            "Requirement already satisfied: matplotlib in /usr/local/lib/python3.10/dist-packages (from dtreeviz>=2.1->explainerdashboard) (3.7.1)\n",
            "Requirement already satisfied: colour in /usr/local/lib/python3.10/dist-packages (from dtreeviz>=2.1->explainerdashboard) (0.1.5)\n",
            "Requirement already satisfied: pytest in /usr/local/lib/python3.10/dist-packages (from dtreeviz>=2.1->explainerdashboard) (7.4.0)\n",
            "Requirement already satisfied: WTForms in /usr/local/lib/python3.10/dist-packages (from Flask-WTF>=1.1->explainerdashboard) (3.0.1)\n",
            "Requirement already satisfied: itsdangerous in /usr/local/lib/python3.10/dist-packages (from Flask-WTF>=1.1->explainerdashboard) (2.1.2)\n",
            "Requirement already satisfied: ipython in /usr/local/lib/python3.10/dist-packages (from jupyter-dash>=0.4.1->explainerdashboard) (7.34.0)\n",
            "Requirement already satisfied: ipykernel in /usr/local/lib/python3.10/dist-packages (from jupyter-dash>=0.4.1->explainerdashboard) (5.5.6)\n",
            "Requirement already satisfied: python-dateutil>=2.8.1 in /usr/local/lib/python3.10/dist-packages (from pandas>=1.1->explainerdashboard) (2.8.2)\n",
            "Requirement already satisfied: pytz>=2020.1 in /usr/local/lib/python3.10/dist-packages (from pandas>=1.1->explainerdashboard) (2023.3)\n",
            "Requirement already satisfied: scipy>=1.3.2 in /usr/local/lib/python3.10/dist-packages (from scikit-learn>=1.1->explainerdashboard) (1.10.1)\n",
            "Requirement already satisfied: threadpoolctl>=2.0.0 in /usr/local/lib/python3.10/dist-packages (from scikit-learn>=1.1->explainerdashboard) (3.2.0)\n",
            "Requirement already satisfied: tqdm>=4.27.0 in /usr/local/lib/python3.10/dist-packages (from shap>=0.42.1->explainerdashboard) (4.66.1)\n",
            "Requirement already satisfied: packaging>20.9 in /usr/local/lib/python3.10/dist-packages (from shap>=0.42.1->explainerdashboard) (23.1)\n",
            "Requirement already satisfied: slicer==0.0.7 in /usr/local/lib/python3.10/dist-packages (from shap>=0.42.1->explainerdashboard) (0.0.7)\n",
            "Requirement already satisfied: numba in /usr/local/lib/python3.10/dist-packages (from shap>=0.42.1->explainerdashboard) (0.56.4)\n",
            "Requirement already satisfied: cloudpickle in /usr/local/lib/python3.10/dist-packages (from shap>=0.42.1->explainerdashboard) (2.2.1)\n",
            "Requirement already satisfied: pyyaml in /usr/local/lib/python3.10/dist-packages (from oyaml->explainerdashboard) (6.0.1)\n",
            "Requirement already satisfied: Jinja2>=3.0 in /usr/local/lib/python3.10/dist-packages (from Flask<2.3.0,>=1.0.4->dash>=2.10.1->explainerdashboard) (3.1.2)\n",
            "Requirement already satisfied: tenacity>=6.2.0 in /usr/local/lib/python3.10/dist-packages (from plotly>=5.0.0->dash>=2.10.1->explainerdashboard) (8.2.3)\n",
            "Requirement already satisfied: six>=1.5 in /usr/local/lib/python3.10/dist-packages (from python-dateutil>=2.8.1->pandas>=1.1->explainerdashboard) (1.16.0)\n",
            "Requirement already satisfied: MarkupSafe>=2.1.1 in /usr/local/lib/python3.10/dist-packages (from Werkzeug<2.3.0->dash>=2.10.1->explainerdashboard) (2.1.3)\n",
            "Requirement already satisfied: ipython-genutils in /usr/local/lib/python3.10/dist-packages (from ipykernel->jupyter-dash>=0.4.1->explainerdashboard) (0.2.0)\n",
            "Requirement already satisfied: traitlets>=4.1.0 in /usr/local/lib/python3.10/dist-packages (from ipykernel->jupyter-dash>=0.4.1->explainerdashboard) (5.7.1)\n",
            "Requirement already satisfied: jupyter-client in /usr/local/lib/python3.10/dist-packages (from ipykernel->jupyter-dash>=0.4.1->explainerdashboard) (6.1.12)\n",
            "Requirement already satisfied: tornado>=4.2 in /usr/local/lib/python3.10/dist-packages (from ipykernel->jupyter-dash>=0.4.1->explainerdashboard) (6.3.2)\n",
            "Requirement already satisfied: jedi>=0.16 in /usr/local/lib/python3.10/dist-packages (from ipython->jupyter-dash>=0.4.1->explainerdashboard) (0.19.0)\n",
            "Requirement already satisfied: decorator in /usr/local/lib/python3.10/dist-packages (from ipython->jupyter-dash>=0.4.1->explainerdashboard) (4.4.2)\n",
            "Requirement already satisfied: pickleshare in /usr/local/lib/python3.10/dist-packages (from ipython->jupyter-dash>=0.4.1->explainerdashboard) (0.7.5)\n",
            "Requirement already satisfied: prompt-toolkit!=3.0.0,!=3.0.1,<3.1.0,>=2.0.0 in /usr/local/lib/python3.10/dist-packages (from ipython->jupyter-dash>=0.4.1->explainerdashboard) (3.0.39)\n",
            "Requirement already satisfied: pygments in /usr/local/lib/python3.10/dist-packages (from ipython->jupyter-dash>=0.4.1->explainerdashboard) (2.16.1)\n",
            "Requirement already satisfied: backcall in /usr/local/lib/python3.10/dist-packages (from ipython->jupyter-dash>=0.4.1->explainerdashboard) (0.2.0)\n",
            "Requirement already satisfied: matplotlib-inline in /usr/local/lib/python3.10/dist-packages (from ipython->jupyter-dash>=0.4.1->explainerdashboard) (0.1.6)\n",
            "Requirement already satisfied: pexpect>4.3 in /usr/local/lib/python3.10/dist-packages (from ipython->jupyter-dash>=0.4.1->explainerdashboard) (4.8.0)\n",
            "Requirement already satisfied: contourpy>=1.0.1 in /usr/local/lib/python3.10/dist-packages (from matplotlib->dtreeviz>=2.1->explainerdashboard) (1.1.0)\n",
            "Requirement already satisfied: cycler>=0.10 in /usr/local/lib/python3.10/dist-packages (from matplotlib->dtreeviz>=2.1->explainerdashboard) (0.11.0)\n",
            "Requirement already satisfied: fonttools>=4.22.0 in /usr/local/lib/python3.10/dist-packages (from matplotlib->dtreeviz>=2.1->explainerdashboard) (4.42.1)\n",
            "Requirement already satisfied: kiwisolver>=1.0.1 in /usr/local/lib/python3.10/dist-packages (from matplotlib->dtreeviz>=2.1->explainerdashboard) (1.4.4)\n",
            "Requirement already satisfied: pillow>=6.2.0 in /usr/local/lib/python3.10/dist-packages (from matplotlib->dtreeviz>=2.1->explainerdashboard) (9.4.0)\n",
            "Requirement already satisfied: pyparsing>=2.3.1 in /usr/local/lib/python3.10/dist-packages (from matplotlib->dtreeviz>=2.1->explainerdashboard) (3.1.1)\n",
            "Requirement already satisfied: llvmlite<0.40,>=0.39.0dev0 in /usr/local/lib/python3.10/dist-packages (from numba->shap>=0.42.1->explainerdashboard) (0.39.1)\n",
            "Requirement already satisfied: iniconfig in /usr/local/lib/python3.10/dist-packages (from pytest->dtreeviz>=2.1->explainerdashboard) (2.0.0)\n",
            "Requirement already satisfied: pluggy<2.0,>=0.12 in /usr/local/lib/python3.10/dist-packages (from pytest->dtreeviz>=2.1->explainerdashboard) (1.2.0)\n",
            "Requirement already satisfied: exceptiongroup>=1.0.0rc8 in /usr/local/lib/python3.10/dist-packages (from pytest->dtreeviz>=2.1->explainerdashboard) (1.1.3)\n",
            "Requirement already satisfied: tomli>=1.0.0 in /usr/local/lib/python3.10/dist-packages (from pytest->dtreeviz>=2.1->explainerdashboard) (2.0.1)\n",
            "Requirement already satisfied: charset-normalizer<4,>=2 in /usr/local/lib/python3.10/dist-packages (from requests->dash>=2.10.1->explainerdashboard) (3.2.0)\n",
            "Requirement already satisfied: idna<4,>=2.5 in /usr/local/lib/python3.10/dist-packages (from requests->dash>=2.10.1->explainerdashboard) (3.4)\n",
            "Requirement already satisfied: urllib3<3,>=1.21.1 in /usr/local/lib/python3.10/dist-packages (from requests->dash>=2.10.1->explainerdashboard) (2.0.4)\n",
            "Requirement already satisfied: certifi>=2017.4.17 in /usr/local/lib/python3.10/dist-packages (from requests->dash>=2.10.1->explainerdashboard) (2023.7.22)\n",
            "Requirement already satisfied: parso<0.9.0,>=0.8.3 in /usr/local/lib/python3.10/dist-packages (from jedi>=0.16->ipython->jupyter-dash>=0.4.1->explainerdashboard) (0.8.3)\n",
            "Requirement already satisfied: ptyprocess>=0.5 in /usr/local/lib/python3.10/dist-packages (from pexpect>4.3->ipython->jupyter-dash>=0.4.1->explainerdashboard) (0.7.0)\n",
            "Requirement already satisfied: wcwidth in /usr/local/lib/python3.10/dist-packages (from prompt-toolkit!=3.0.0,!=3.0.1,<3.1.0,>=2.0.0->ipython->jupyter-dash>=0.4.1->explainerdashboard) (0.2.6)\n",
            "Requirement already satisfied: jupyter-core>=4.6.0 in /usr/local/lib/python3.10/dist-packages (from jupyter-client->ipykernel->jupyter-dash>=0.4.1->explainerdashboard) (5.3.1)\n",
            "Requirement already satisfied: pyzmq>=13 in /usr/local/lib/python3.10/dist-packages (from jupyter-client->ipykernel->jupyter-dash>=0.4.1->explainerdashboard) (23.2.1)\n",
            "Requirement already satisfied: platformdirs>=2.5 in /usr/local/lib/python3.10/dist-packages (from jupyter-core>=4.6.0->jupyter-client->ipykernel->jupyter-dash>=0.4.1->explainerdashboard) (3.10.0)\n"
          ]
        }
      ]
    },
    {
      "cell_type": "code",
      "source": [
        "!pip install torch torchvision\n",
        "!pip install torch-geometric\n"
      ],
      "metadata": {
        "id": "oLNyDb6lc8zU",
        "colab": {
          "base_uri": "https://localhost:8080/"
        },
        "outputId": "4b554f0c-9fec-4ad4-cb77-b8dc3ae2ac25"
      },
      "execution_count": null,
      "outputs": [
        {
          "output_type": "stream",
          "name": "stdout",
          "text": [
            "Requirement already satisfied: torch in /usr/local/lib/python3.10/dist-packages (2.0.1+cu118)\n",
            "Requirement already satisfied: torchvision in /usr/local/lib/python3.10/dist-packages (0.15.2+cu118)\n",
            "Requirement already satisfied: filelock in /usr/local/lib/python3.10/dist-packages (from torch) (3.12.2)\n",
            "Requirement already satisfied: typing-extensions in /usr/local/lib/python3.10/dist-packages (from torch) (4.7.1)\n",
            "Requirement already satisfied: sympy in /usr/local/lib/python3.10/dist-packages (from torch) (1.12)\n",
            "Requirement already satisfied: networkx in /usr/local/lib/python3.10/dist-packages (from torch) (3.1)\n",
            "Requirement already satisfied: jinja2 in /usr/local/lib/python3.10/dist-packages (from torch) (3.1.2)\n",
            "Requirement already satisfied: triton==2.0.0 in /usr/local/lib/python3.10/dist-packages (from torch) (2.0.0)\n",
            "Requirement already satisfied: cmake in /usr/local/lib/python3.10/dist-packages (from triton==2.0.0->torch) (3.27.2)\n",
            "Requirement already satisfied: lit in /usr/local/lib/python3.10/dist-packages (from triton==2.0.0->torch) (16.0.6)\n",
            "Requirement already satisfied: numpy in /usr/local/lib/python3.10/dist-packages (from torchvision) (1.23.5)\n",
            "Requirement already satisfied: requests in /usr/local/lib/python3.10/dist-packages (from torchvision) (2.31.0)\n",
            "Requirement already satisfied: pillow!=8.3.*,>=5.3.0 in /usr/local/lib/python3.10/dist-packages (from torchvision) (9.4.0)\n",
            "Requirement already satisfied: MarkupSafe>=2.0 in /usr/local/lib/python3.10/dist-packages (from jinja2->torch) (2.1.3)\n",
            "Requirement already satisfied: charset-normalizer<4,>=2 in /usr/local/lib/python3.10/dist-packages (from requests->torchvision) (3.2.0)\n",
            "Requirement already satisfied: idna<4,>=2.5 in /usr/local/lib/python3.10/dist-packages (from requests->torchvision) (3.4)\n",
            "Requirement already satisfied: urllib3<3,>=1.21.1 in /usr/local/lib/python3.10/dist-packages (from requests->torchvision) (2.0.4)\n",
            "Requirement already satisfied: certifi>=2017.4.17 in /usr/local/lib/python3.10/dist-packages (from requests->torchvision) (2023.7.22)\n",
            "Requirement already satisfied: mpmath>=0.19 in /usr/local/lib/python3.10/dist-packages (from sympy->torch) (1.3.0)\n",
            "Requirement already satisfied: torch-geometric in /usr/local/lib/python3.10/dist-packages (2.3.1)\n",
            "Requirement already satisfied: tqdm in /usr/local/lib/python3.10/dist-packages (from torch-geometric) (4.66.1)\n",
            "Requirement already satisfied: numpy in /usr/local/lib/python3.10/dist-packages (from torch-geometric) (1.23.5)\n",
            "Requirement already satisfied: scipy in /usr/local/lib/python3.10/dist-packages (from torch-geometric) (1.10.1)\n",
            "Requirement already satisfied: jinja2 in /usr/local/lib/python3.10/dist-packages (from torch-geometric) (3.1.2)\n",
            "Requirement already satisfied: requests in /usr/local/lib/python3.10/dist-packages (from torch-geometric) (2.31.0)\n",
            "Requirement already satisfied: pyparsing in /usr/local/lib/python3.10/dist-packages (from torch-geometric) (3.1.1)\n",
            "Requirement already satisfied: scikit-learn in /usr/local/lib/python3.10/dist-packages (from torch-geometric) (1.2.2)\n",
            "Requirement already satisfied: psutil>=5.8.0 in /usr/local/lib/python3.10/dist-packages (from torch-geometric) (5.9.5)\n",
            "Requirement already satisfied: MarkupSafe>=2.0 in /usr/local/lib/python3.10/dist-packages (from jinja2->torch-geometric) (2.1.3)\n",
            "Requirement already satisfied: charset-normalizer<4,>=2 in /usr/local/lib/python3.10/dist-packages (from requests->torch-geometric) (3.2.0)\n",
            "Requirement already satisfied: idna<4,>=2.5 in /usr/local/lib/python3.10/dist-packages (from requests->torch-geometric) (3.4)\n",
            "Requirement already satisfied: urllib3<3,>=1.21.1 in /usr/local/lib/python3.10/dist-packages (from requests->torch-geometric) (2.0.4)\n",
            "Requirement already satisfied: certifi>=2017.4.17 in /usr/local/lib/python3.10/dist-packages (from requests->torch-geometric) (2023.7.22)\n",
            "Requirement already satisfied: joblib>=1.1.1 in /usr/local/lib/python3.10/dist-packages (from scikit-learn->torch-geometric) (1.3.2)\n",
            "Requirement already satisfied: threadpoolctl>=2.0.0 in /usr/local/lib/python3.10/dist-packages (from scikit-learn->torch-geometric) (3.2.0)\n"
          ]
        }
      ]
    },
    {
      "cell_type": "code",
      "source": [
        "!pip install xgboost\n",
        "import xgboost as xgb\n"
      ],
      "metadata": {
        "colab": {
          "base_uri": "https://localhost:8080/"
        },
        "id": "cAxCV3s2t5eB",
        "outputId": "3837ae83-4470-40f8-8dce-316517062389"
      },
      "execution_count": null,
      "outputs": [
        {
          "output_type": "stream",
          "name": "stdout",
          "text": [
            "Requirement already satisfied: xgboost in /usr/local/lib/python3.10/dist-packages (1.7.6)\n",
            "Requirement already satisfied: numpy in /usr/local/lib/python3.10/dist-packages (from xgboost) (1.23.5)\n",
            "Requirement already satisfied: scipy in /usr/local/lib/python3.10/dist-packages (from xgboost) (1.10.1)\n"
          ]
        }
      ]
    },
    {
      "cell_type": "code",
      "source": [
        "import pandas as pd\n",
        "import numpy as np\n",
        "import seaborn as sns\n",
        "import matplotlib.pyplot as plt\n",
        "from scipy import stats\n",
        "import time\n",
        "from datetime import datetime as dt\n",
        "from sklearn.feature_selection import  f_classif, SelectKBest\n",
        "import matplotlib.pyplot as plt"
      ],
      "metadata": {
        "id": "fFCZAY1Nb45M"
      },
      "execution_count": null,
      "outputs": []
    },
    {
      "cell_type": "code",
      "source": [
        "from sklearn.metrics import classification_report, confusion_matrix, accuracy_score, precision_score, recall_score, roc_curve, roc_auc_score, f1_score"
      ],
      "metadata": {
        "id": "l4D_N-xqohUZ"
      },
      "execution_count": null,
      "outputs": []
    },
    {
      "cell_type": "code",
      "source": [
        "from google.colab import drive\n",
        "drive.mount(\"/content/drive\")"
      ],
      "metadata": {
        "colab": {
          "base_uri": "https://localhost:8080/"
        },
        "id": "bfDJdBB7cATL",
        "outputId": "014b62bc-af30-40e3-dcce-b0275faf652e"
      },
      "execution_count": null,
      "outputs": [
        {
          "output_type": "stream",
          "name": "stdout",
          "text": [
            "Drive already mounted at /content/drive; to attempt to forcibly remount, call drive.mount(\"/content/drive\", force_remount=True).\n"
          ]
        }
      ]
    },
    {
      "cell_type": "code",
      "source": [
        "fraud=pd.read_csv(\"drive/My Drive/Dataset1-Big.csv\")"
      ],
      "metadata": {
        "id": "nwTfJcTCcD6Z"
      },
      "execution_count": null,
      "outputs": []
    },
    {
      "cell_type": "code",
      "source": [
        "fraud.head()"
      ],
      "metadata": {
        "id": "68eMw_aObOS7",
        "colab": {
          "base_uri": "https://localhost:8080/",
          "height": 255
        },
        "outputId": "3d68568e-7bd5-41d0-e2cc-fdea1f135093"
      },
      "execution_count": null,
      "outputs": [
        {
          "output_type": "execute_result",
          "data": {
            "text/plain": [
              "   tx_fraud  tx_amount  s_pagerank   s_label  s_min_send_tx  \\\n",
              "0     False     447.72     0.58295  36700160         447.72   \n",
              "1     False     447.72     6.36310  36700160          15.48   \n",
              "2     False      17.37     0.37284  36700160          17.37   \n",
              "3     False      17.37     0.32571  36700160         280.45   \n",
              "4     False     473.85     0.28323  36700160         473.85   \n",
              "\n",
              "   s_min_receieve_tx  s_max_send_tx  s_max_recieve_tx  s_avg_send_tx  \\\n",
              "0             179.57         447.72         292119.18      447.72000   \n",
              "1               5.90         296.07        5246430.50      281.01446   \n",
              "2              21.94          17.37        2099443.75       17.37000   \n",
              "3               8.12         280.45             17.37      280.45000   \n",
              "4             134.02         473.85        2530242.00      473.85000   \n",
              "\n",
              "   s_avg_recieve_tx  ...   r_label  r_min_send_tx  r_min_receieve_tx  \\\n",
              "0        1853.61565  ...  36700160         447.72             179.57   \n",
              "1       34892.03171  ...  36700160          15.48               5.90   \n",
              "2       20834.57295  ...  36700160          17.37              21.94   \n",
              "3          12.09138  ...  36700160         280.45               8.12   \n",
              "4      250599.53815  ...  36700160         473.85             134.02   \n",
              "\n",
              "   r_max_send_tx  r_max_recieve_tx  r_avg_send_tx  r_avg_recieve_tx  \\\n",
              "0         447.72         292119.18      447.72000        1853.61565   \n",
              "1         296.07        5246430.50      281.01446       34892.03171   \n",
              "2          17.37        2099443.75       17.37000       20834.57295   \n",
              "3         280.45             17.37      280.45000          12.09138   \n",
              "4         473.85        2530242.00      473.85000      250599.53815   \n",
              "\n",
              "   r_cnt_recieve_tx  r_cnt_send_tx  r_timestamp  \n",
              "0               200            178          199  \n",
              "1               945             74          199  \n",
              "2               105            220          199  \n",
              "3                58              9          199  \n",
              "4                27            177          199  \n",
              "\n",
              "[5 rows x 24 columns]"
            ],
            "text/html": [
              "\n",
              "  <div id=\"df-3f5020e6-6af1-4611-9724-7b9db0c6d251\" class=\"colab-df-container\">\n",
              "    <div>\n",
              "<style scoped>\n",
              "    .dataframe tbody tr th:only-of-type {\n",
              "        vertical-align: middle;\n",
              "    }\n",
              "\n",
              "    .dataframe tbody tr th {\n",
              "        vertical-align: top;\n",
              "    }\n",
              "\n",
              "    .dataframe thead th {\n",
              "        text-align: right;\n",
              "    }\n",
              "</style>\n",
              "<table border=\"1\" class=\"dataframe\">\n",
              "  <thead>\n",
              "    <tr style=\"text-align: right;\">\n",
              "      <th></th>\n",
              "      <th>tx_fraud</th>\n",
              "      <th>tx_amount</th>\n",
              "      <th>s_pagerank</th>\n",
              "      <th>s_label</th>\n",
              "      <th>s_min_send_tx</th>\n",
              "      <th>s_min_receieve_tx</th>\n",
              "      <th>s_max_send_tx</th>\n",
              "      <th>s_max_recieve_tx</th>\n",
              "      <th>s_avg_send_tx</th>\n",
              "      <th>s_avg_recieve_tx</th>\n",
              "      <th>...</th>\n",
              "      <th>r_label</th>\n",
              "      <th>r_min_send_tx</th>\n",
              "      <th>r_min_receieve_tx</th>\n",
              "      <th>r_max_send_tx</th>\n",
              "      <th>r_max_recieve_tx</th>\n",
              "      <th>r_avg_send_tx</th>\n",
              "      <th>r_avg_recieve_tx</th>\n",
              "      <th>r_cnt_recieve_tx</th>\n",
              "      <th>r_cnt_send_tx</th>\n",
              "      <th>r_timestamp</th>\n",
              "    </tr>\n",
              "  </thead>\n",
              "  <tbody>\n",
              "    <tr>\n",
              "      <th>0</th>\n",
              "      <td>False</td>\n",
              "      <td>447.72</td>\n",
              "      <td>0.58295</td>\n",
              "      <td>36700160</td>\n",
              "      <td>447.72</td>\n",
              "      <td>179.57</td>\n",
              "      <td>447.72</td>\n",
              "      <td>292119.18</td>\n",
              "      <td>447.72000</td>\n",
              "      <td>1853.61565</td>\n",
              "      <td>...</td>\n",
              "      <td>36700160</td>\n",
              "      <td>447.72</td>\n",
              "      <td>179.57</td>\n",
              "      <td>447.72</td>\n",
              "      <td>292119.18</td>\n",
              "      <td>447.72000</td>\n",
              "      <td>1853.61565</td>\n",
              "      <td>200</td>\n",
              "      <td>178</td>\n",
              "      <td>199</td>\n",
              "    </tr>\n",
              "    <tr>\n",
              "      <th>1</th>\n",
              "      <td>False</td>\n",
              "      <td>447.72</td>\n",
              "      <td>6.36310</td>\n",
              "      <td>36700160</td>\n",
              "      <td>15.48</td>\n",
              "      <td>5.90</td>\n",
              "      <td>296.07</td>\n",
              "      <td>5246430.50</td>\n",
              "      <td>281.01446</td>\n",
              "      <td>34892.03171</td>\n",
              "      <td>...</td>\n",
              "      <td>36700160</td>\n",
              "      <td>15.48</td>\n",
              "      <td>5.90</td>\n",
              "      <td>296.07</td>\n",
              "      <td>5246430.50</td>\n",
              "      <td>281.01446</td>\n",
              "      <td>34892.03171</td>\n",
              "      <td>945</td>\n",
              "      <td>74</td>\n",
              "      <td>199</td>\n",
              "    </tr>\n",
              "    <tr>\n",
              "      <th>2</th>\n",
              "      <td>False</td>\n",
              "      <td>17.37</td>\n",
              "      <td>0.37284</td>\n",
              "      <td>36700160</td>\n",
              "      <td>17.37</td>\n",
              "      <td>21.94</td>\n",
              "      <td>17.37</td>\n",
              "      <td>2099443.75</td>\n",
              "      <td>17.37000</td>\n",
              "      <td>20834.57295</td>\n",
              "      <td>...</td>\n",
              "      <td>36700160</td>\n",
              "      <td>17.37</td>\n",
              "      <td>21.94</td>\n",
              "      <td>17.37</td>\n",
              "      <td>2099443.75</td>\n",
              "      <td>17.37000</td>\n",
              "      <td>20834.57295</td>\n",
              "      <td>105</td>\n",
              "      <td>220</td>\n",
              "      <td>199</td>\n",
              "    </tr>\n",
              "    <tr>\n",
              "      <th>3</th>\n",
              "      <td>False</td>\n",
              "      <td>17.37</td>\n",
              "      <td>0.32571</td>\n",
              "      <td>36700160</td>\n",
              "      <td>280.45</td>\n",
              "      <td>8.12</td>\n",
              "      <td>280.45</td>\n",
              "      <td>17.37</td>\n",
              "      <td>280.45000</td>\n",
              "      <td>12.09138</td>\n",
              "      <td>...</td>\n",
              "      <td>36700160</td>\n",
              "      <td>280.45</td>\n",
              "      <td>8.12</td>\n",
              "      <td>280.45</td>\n",
              "      <td>17.37</td>\n",
              "      <td>280.45000</td>\n",
              "      <td>12.09138</td>\n",
              "      <td>58</td>\n",
              "      <td>9</td>\n",
              "      <td>199</td>\n",
              "    </tr>\n",
              "    <tr>\n",
              "      <th>4</th>\n",
              "      <td>False</td>\n",
              "      <td>473.85</td>\n",
              "      <td>0.28323</td>\n",
              "      <td>36700160</td>\n",
              "      <td>473.85</td>\n",
              "      <td>134.02</td>\n",
              "      <td>473.85</td>\n",
              "      <td>2530242.00</td>\n",
              "      <td>473.85000</td>\n",
              "      <td>250599.53815</td>\n",
              "      <td>...</td>\n",
              "      <td>36700160</td>\n",
              "      <td>473.85</td>\n",
              "      <td>134.02</td>\n",
              "      <td>473.85</td>\n",
              "      <td>2530242.00</td>\n",
              "      <td>473.85000</td>\n",
              "      <td>250599.53815</td>\n",
              "      <td>27</td>\n",
              "      <td>177</td>\n",
              "      <td>199</td>\n",
              "    </tr>\n",
              "  </tbody>\n",
              "</table>\n",
              "<p>5 rows × 24 columns</p>\n",
              "</div>\n",
              "    <div class=\"colab-df-buttons\">\n",
              "\n",
              "  <div class=\"colab-df-container\">\n",
              "    <button class=\"colab-df-convert\" onclick=\"convertToInteractive('df-3f5020e6-6af1-4611-9724-7b9db0c6d251')\"\n",
              "            title=\"Convert this dataframe to an interactive table.\"\n",
              "            style=\"display:none;\">\n",
              "\n",
              "  <svg xmlns=\"http://www.w3.org/2000/svg\" height=\"24px\" viewBox=\"0 -960 960 960\">\n",
              "    <path d=\"M120-120v-720h720v720H120Zm60-500h600v-160H180v160Zm220 220h160v-160H400v160Zm0 220h160v-160H400v160ZM180-400h160v-160H180v160Zm440 0h160v-160H620v160ZM180-180h160v-160H180v160Zm440 0h160v-160H620v160Z\"/>\n",
              "  </svg>\n",
              "    </button>\n",
              "\n",
              "  <style>\n",
              "    .colab-df-container {\n",
              "      display:flex;\n",
              "      gap: 12px;\n",
              "    }\n",
              "\n",
              "    .colab-df-convert {\n",
              "      background-color: #E8F0FE;\n",
              "      border: none;\n",
              "      border-radius: 50%;\n",
              "      cursor: pointer;\n",
              "      display: none;\n",
              "      fill: #1967D2;\n",
              "      height: 32px;\n",
              "      padding: 0 0 0 0;\n",
              "      width: 32px;\n",
              "    }\n",
              "\n",
              "    .colab-df-convert:hover {\n",
              "      background-color: #E2EBFA;\n",
              "      box-shadow: 0px 1px 2px rgba(60, 64, 67, 0.3), 0px 1px 3px 1px rgba(60, 64, 67, 0.15);\n",
              "      fill: #174EA6;\n",
              "    }\n",
              "\n",
              "    .colab-df-buttons div {\n",
              "      margin-bottom: 4px;\n",
              "    }\n",
              "\n",
              "    [theme=dark] .colab-df-convert {\n",
              "      background-color: #3B4455;\n",
              "      fill: #D2E3FC;\n",
              "    }\n",
              "\n",
              "    [theme=dark] .colab-df-convert:hover {\n",
              "      background-color: #434B5C;\n",
              "      box-shadow: 0px 1px 3px 1px rgba(0, 0, 0, 0.15);\n",
              "      filter: drop-shadow(0px 1px 2px rgba(0, 0, 0, 0.3));\n",
              "      fill: #FFFFFF;\n",
              "    }\n",
              "  </style>\n",
              "\n",
              "    <script>\n",
              "      const buttonEl =\n",
              "        document.querySelector('#df-3f5020e6-6af1-4611-9724-7b9db0c6d251 button.colab-df-convert');\n",
              "      buttonEl.style.display =\n",
              "        google.colab.kernel.accessAllowed ? 'block' : 'none';\n",
              "\n",
              "      async function convertToInteractive(key) {\n",
              "        const element = document.querySelector('#df-3f5020e6-6af1-4611-9724-7b9db0c6d251');\n",
              "        const dataTable =\n",
              "          await google.colab.kernel.invokeFunction('convertToInteractive',\n",
              "                                                    [key], {});\n",
              "        if (!dataTable) return;\n",
              "\n",
              "        const docLinkHtml = 'Like what you see? Visit the ' +\n",
              "          '<a target=\"_blank\" href=https://colab.research.google.com/notebooks/data_table.ipynb>data table notebook</a>'\n",
              "          + ' to learn more about interactive tables.';\n",
              "        element.innerHTML = '';\n",
              "        dataTable['output_type'] = 'display_data';\n",
              "        await google.colab.output.renderOutput(dataTable, element);\n",
              "        const docLink = document.createElement('div');\n",
              "        docLink.innerHTML = docLinkHtml;\n",
              "        element.appendChild(docLink);\n",
              "      }\n",
              "    </script>\n",
              "  </div>\n",
              "\n",
              "\n",
              "<div id=\"df-ccb8abb4-46b2-443f-8615-6ee6001301bb\">\n",
              "  <button class=\"colab-df-quickchart\" onclick=\"quickchart('df-ccb8abb4-46b2-443f-8615-6ee6001301bb')\"\n",
              "            title=\"Suggest charts.\"\n",
              "            style=\"display:none;\">\n",
              "\n",
              "<svg xmlns=\"http://www.w3.org/2000/svg\" height=\"24px\"viewBox=\"0 0 24 24\"\n",
              "     width=\"24px\">\n",
              "    <g>\n",
              "        <path d=\"M19 3H5c-1.1 0-2 .9-2 2v14c0 1.1.9 2 2 2h14c1.1 0 2-.9 2-2V5c0-1.1-.9-2-2-2zM9 17H7v-7h2v7zm4 0h-2V7h2v10zm4 0h-2v-4h2v4z\"/>\n",
              "    </g>\n",
              "</svg>\n",
              "  </button>\n",
              "\n",
              "<style>\n",
              "  .colab-df-quickchart {\n",
              "      --bg-color: #E8F0FE;\n",
              "      --fill-color: #1967D2;\n",
              "      --hover-bg-color: #E2EBFA;\n",
              "      --hover-fill-color: #174EA6;\n",
              "      --disabled-fill-color: #AAA;\n",
              "      --disabled-bg-color: #DDD;\n",
              "  }\n",
              "\n",
              "  [theme=dark] .colab-df-quickchart {\n",
              "      --bg-color: #3B4455;\n",
              "      --fill-color: #D2E3FC;\n",
              "      --hover-bg-color: #434B5C;\n",
              "      --hover-fill-color: #FFFFFF;\n",
              "      --disabled-bg-color: #3B4455;\n",
              "      --disabled-fill-color: #666;\n",
              "  }\n",
              "\n",
              "  .colab-df-quickchart {\n",
              "    background-color: var(--bg-color);\n",
              "    border: none;\n",
              "    border-radius: 50%;\n",
              "    cursor: pointer;\n",
              "    display: none;\n",
              "    fill: var(--fill-color);\n",
              "    height: 32px;\n",
              "    padding: 0;\n",
              "    width: 32px;\n",
              "  }\n",
              "\n",
              "  .colab-df-quickchart:hover {\n",
              "    background-color: var(--hover-bg-color);\n",
              "    box-shadow: 0 1px 2px rgba(60, 64, 67, 0.3), 0 1px 3px 1px rgba(60, 64, 67, 0.15);\n",
              "    fill: var(--button-hover-fill-color);\n",
              "  }\n",
              "\n",
              "  .colab-df-quickchart-complete:disabled,\n",
              "  .colab-df-quickchart-complete:disabled:hover {\n",
              "    background-color: var(--disabled-bg-color);\n",
              "    fill: var(--disabled-fill-color);\n",
              "    box-shadow: none;\n",
              "  }\n",
              "\n",
              "  .colab-df-spinner {\n",
              "    border: 2px solid var(--fill-color);\n",
              "    border-color: transparent;\n",
              "    border-bottom-color: var(--fill-color);\n",
              "    animation:\n",
              "      spin 1s steps(1) infinite;\n",
              "  }\n",
              "\n",
              "  @keyframes spin {\n",
              "    0% {\n",
              "      border-color: transparent;\n",
              "      border-bottom-color: var(--fill-color);\n",
              "      border-left-color: var(--fill-color);\n",
              "    }\n",
              "    20% {\n",
              "      border-color: transparent;\n",
              "      border-left-color: var(--fill-color);\n",
              "      border-top-color: var(--fill-color);\n",
              "    }\n",
              "    30% {\n",
              "      border-color: transparent;\n",
              "      border-left-color: var(--fill-color);\n",
              "      border-top-color: var(--fill-color);\n",
              "      border-right-color: var(--fill-color);\n",
              "    }\n",
              "    40% {\n",
              "      border-color: transparent;\n",
              "      border-right-color: var(--fill-color);\n",
              "      border-top-color: var(--fill-color);\n",
              "    }\n",
              "    60% {\n",
              "      border-color: transparent;\n",
              "      border-right-color: var(--fill-color);\n",
              "    }\n",
              "    80% {\n",
              "      border-color: transparent;\n",
              "      border-right-color: var(--fill-color);\n",
              "      border-bottom-color: var(--fill-color);\n",
              "    }\n",
              "    90% {\n",
              "      border-color: transparent;\n",
              "      border-bottom-color: var(--fill-color);\n",
              "    }\n",
              "  }\n",
              "</style>\n",
              "\n",
              "  <script>\n",
              "    async function quickchart(key) {\n",
              "      const quickchartButtonEl =\n",
              "        document.querySelector('#' + key + ' button');\n",
              "      quickchartButtonEl.disabled = true;  // To prevent multiple clicks.\n",
              "      quickchartButtonEl.classList.add('colab-df-spinner');\n",
              "      try {\n",
              "        const charts = await google.colab.kernel.invokeFunction(\n",
              "            'suggestCharts', [key], {});\n",
              "      } catch (error) {\n",
              "        console.error('Error during call to suggestCharts:', error);\n",
              "      }\n",
              "      quickchartButtonEl.classList.remove('colab-df-spinner');\n",
              "      quickchartButtonEl.classList.add('colab-df-quickchart-complete');\n",
              "    }\n",
              "    (() => {\n",
              "      let quickchartButtonEl =\n",
              "        document.querySelector('#df-ccb8abb4-46b2-443f-8615-6ee6001301bb button');\n",
              "      quickchartButtonEl.style.display =\n",
              "        google.colab.kernel.accessAllowed ? 'block' : 'none';\n",
              "    })();\n",
              "  </script>\n",
              "</div>\n",
              "    </div>\n",
              "  </div>\n"
            ]
          },
          "metadata": {},
          "execution_count": 8
        }
      ]
    },
    {
      "cell_type": "code",
      "source": [
        "fraud.columns"
      ],
      "metadata": {
        "id": "4Rx-rPwqbSQ2",
        "colab": {
          "base_uri": "https://localhost:8080/"
        },
        "outputId": "9ad605fb-e409-48ed-a6b7-10ec43010ec1"
      },
      "execution_count": null,
      "outputs": [
        {
          "output_type": "execute_result",
          "data": {
            "text/plain": [
              "Index(['tx_fraud', 'tx_amount', 's_pagerank', 's_label', 's_min_send_tx',\n",
              "       's_min_receieve_tx', 's_max_send_tx', 's_max_recieve_tx',\n",
              "       's_avg_send_tx', 's_avg_recieve_tx', 's_cnt_recieve_tx',\n",
              "       's_cnt_send_tx', 's_timestamp', 'r_pagerank', 'r_label',\n",
              "       'r_min_send_tx', 'r_min_receieve_tx', 'r_max_send_tx',\n",
              "       'r_max_recieve_tx', 'r_avg_send_tx', 'r_avg_recieve_tx',\n",
              "       'r_cnt_recieve_tx', 'r_cnt_send_tx', 'r_timestamp'],\n",
              "      dtype='object')"
            ]
          },
          "metadata": {},
          "execution_count": 9
        }
      ]
    },
    {
      "cell_type": "markdown",
      "source": [
        "## Data balacing"
      ],
      "metadata": {
        "id": "T-hukTbDpJTv"
      }
    },
    {
      "cell_type": "code",
      "source": [
        "from imblearn.over_sampling import SMOTE\n",
        "\n",
        "# ... Your existing imports and code for reading data ...\n",
        "\n",
        "# Features and labels before SMOTE\n",
        "features = fraud[['tx_amount', 's_pagerank', 's_label', 's_min_send_tx',\n",
        "                 's_min_receieve_tx', 's_max_send_tx', 's_max_recieve_tx',\n",
        "                 's_avg_send_tx', 's_avg_recieve_tx', 's_cnt_recieve_tx',\n",
        "                 's_cnt_send_tx', 's_timestamp', 'r_pagerank', 'r_label',\n",
        "                 'r_min_send_tx', 'r_min_receieve_tx', 'r_max_send_tx',\n",
        "                 'r_max_recieve_tx', 'r_avg_send_tx', 'r_avg_recieve_tx',\n",
        "                 'r_cnt_recieve_tx', 'r_cnt_send_tx', 'r_timestamp']]\n",
        "labels = fraud['tx_fraud']\n",
        "\n",
        "# Apply SMOTE\n",
        "smote = SMOTE(sampling_strategy='auto', random_state=42)\n",
        "features_resampled, labels_resampled = smote.fit_resample(features, labels)\n",
        "\n",
        "# Replace your original 'fraud' DataFrame with the resampled data\n",
        "fraud_resampled = features_resampled.copy()\n",
        "fraud_resampled['tx_fraud'] = labels_resampled"
      ],
      "metadata": {
        "id": "K6FkrxMJnKPL"
      },
      "execution_count": null,
      "outputs": []
    },
    {
      "cell_type": "code",
      "source": [
        "fraud_resampled['tx_fraud'].value_counts()"
      ],
      "metadata": {
        "colab": {
          "base_uri": "https://localhost:8080/"
        },
        "id": "5a0gXnNLp_MO",
        "outputId": "e03e807d-d8d9-42bb-addc-8223b5eb399f"
      },
      "execution_count": null,
      "outputs": [
        {
          "output_type": "execute_result",
          "data": {
            "text/plain": [
              "False    234716\n",
              "True     234716\n",
              "Name: tx_fraud, dtype: int64"
            ]
          },
          "metadata": {},
          "execution_count": 11
        }
      ]
    },
    {
      "cell_type": "markdown",
      "source": [
        "## Data preprocessing"
      ],
      "metadata": {
        "id": "JLoFkwjWpCmz"
      }
    },
    {
      "cell_type": "code",
      "source": [
        "import torch\n",
        "from torch_geometric.data import Data\n",
        "\n",
        "\n",
        "# Step 1: Map unique accounts to unique integer IDs\n",
        "unique_accounts = pd.concat([fraud_resampled['s_label'], fraud_resampled['r_label']]).drop_duplicates()\n",
        "account_to_id = {account: i for i, account in enumerate(unique_accounts)}\n",
        "\n",
        "# Step 2: Create the edge_index tensor\n",
        "source_node_indices = fraud_resampled['s_label'].map(account_to_id).values\n",
        "target_node_indices = fraud_resampled['r_label'].map(account_to_id).values\n",
        "\n",
        "edge_index = torch.tensor(\n",
        "    [\n",
        "        source_node_indices,  # Source nodes\n",
        "        target_node_indices   # Target nodes\n",
        "    ],\n",
        "    dtype=torch.long\n",
        ")"
      ],
      "metadata": {
        "colab": {
          "base_uri": "https://localhost:8080/"
        },
        "id": "E1Sq70c5b1Yc",
        "outputId": "53a6697f-d53f-4bf7-8d87-76914de474c4"
      },
      "execution_count": null,
      "outputs": [
        {
          "output_type": "stream",
          "name": "stderr",
          "text": [
            "<ipython-input-12-170449250967>:13: UserWarning: Creating a tensor from a list of numpy.ndarrays is extremely slow. Please consider converting the list to a single numpy.ndarray with numpy.array() before converting to a tensor. (Triggered internally at ../torch/csrc/utils/tensor_new.cpp:245.)\n",
            "  edge_index = torch.tensor(\n"
          ]
        }
      ]
    },
    {
      "cell_type": "code",
      "source": [
        "from sklearn.preprocessing import StandardScaler\n",
        "\n",
        "# Extract the features from the resampled data\n",
        "features_to_scale = ['tx_amount', 's_pagerank', 's_label', 's_min_send_tx',\n",
        "                     's_min_receieve_tx', 's_max_send_tx', 's_max_recieve_tx',\n",
        "                     's_avg_send_tx', 's_avg_recieve_tx', 's_cnt_recieve_tx',\n",
        "                     's_cnt_send_tx', 's_timestamp', 'r_pagerank', 'r_label',\n",
        "                     'r_min_send_tx', 'r_min_receieve_tx', 'r_max_send_tx',\n",
        "                     'r_max_recieve_tx', 'r_avg_send_tx', 'r_avg_recieve_tx',\n",
        "                     'r_cnt_recieve_tx', 'r_cnt_send_tx', 'r_timestamp']\n",
        "\n",
        "# Initialize the scaler\n",
        "scaler = StandardScaler()\n",
        "\n",
        "# Apply scaling to the features\n",
        "fraud_data_scaled = fraud_resampled.copy()\n",
        "fraud_data_scaled[features_to_scale] = scaler.fit_transform(fraud_resampled[features_to_scale])\n",
        "\n",
        "\n",
        "# Use the scaled features in the resampled dataset\n",
        "fraud_resampled_scaled = fraud_data_scaled.copy()\n",
        "\n",
        "# Node features for the sender and receiver\n",
        "sender_features_scaled = torch.tensor(fraud_resampled_scaled[['s_pagerank', 's_label', 's_min_send_tx',\n",
        "                                  's_min_receieve_tx', 's_max_send_tx', 's_max_recieve_tx',\n",
        "                                  's_avg_send_tx', 's_avg_recieve_tx', 's_cnt_recieve_tx',\n",
        "                                  's_cnt_send_tx', 's_timestamp']].values, dtype=torch.float)\n",
        "\n",
        "receiver_features_scaled = torch.tensor(fraud_resampled_scaled[['r_pagerank', 'r_label', 'r_min_send_tx',\n",
        "                                    'r_min_receieve_tx', 'r_max_send_tx', 'r_max_recieve_tx',\n",
        "                                    'r_avg_send_tx', 'r_avg_recieve_tx', 'r_cnt_recieve_tx',\n",
        "                                    'r_cnt_send_tx', 'r_timestamp']].values, dtype=torch.float)\n",
        "\n",
        "# Combining the sender and receiver features\n",
        "x_scaled = torch.cat([sender_features_scaled, receiver_features_scaled], dim=1)\n",
        "\n",
        "# Edge features\n",
        "edge_attr_scaled = torch.tensor(fraud_resampled_scaled[['tx_amount']].values, dtype=torch.float)\n",
        "\n",
        "# Create a PyTorch Geometric data object with scaled features\n",
        "data_scaled = Data(x=x_scaled, edge_index=edge_index, edge_attr=edge_attr_scaled)\n"
      ],
      "metadata": {
        "id": "NGz49bToFM2x"
      },
      "execution_count": null,
      "outputs": []
    },
    {
      "cell_type": "markdown",
      "source": [
        "## XGBoost"
      ],
      "metadata": {
        "id": "SFTHXIY7t6Pw"
      }
    },
    {
      "cell_type": "markdown",
      "source": [
        "Test train split"
      ],
      "metadata": {
        "id": "kXa0nXa3uO8y"
      }
    },
    {
      "cell_type": "code",
      "source": [
        "from sklearn.model_selection import train_test_split\n",
        "\n",
        "# Initial train-test split\n",
        "train_fraud, temp_fraud = train_test_split(fraud_resampled_scaled, test_size=0.4, random_state=42, stratify=fraud_resampled_scaled['tx_fraud'])\n",
        "\n",
        "# Split the remaining 40% into validation and test sets\n",
        "val_fraud, test_fraud = train_test_split(temp_fraud, test_size=0.5, random_state=42, stratify=temp_fraud['tx_fraud'])"
      ],
      "metadata": {
        "id": "6L61QYVVrknD"
      },
      "execution_count": null,
      "outputs": []
    },
    {
      "cell_type": "code",
      "source": [
        "X_train = fraud_resampled_scaled.loc[train_fraud.index, features_to_scale]\n",
        "y_train = fraud_resampled_scaled.loc[train_fraud.index, 'tx_fraud']\n",
        "\n",
        "X_val = fraud_resampled_scaled.loc[val_fraud.index, features_to_scale]\n",
        "y_val = fraud_resampled_scaled.loc[val_fraud.index, 'tx_fraud']\n",
        "\n",
        "X_test = fraud_resampled_scaled.loc[test_fraud.index, features_to_scale]\n",
        "y_test = fraud_resampled_scaled.loc[test_fraud.index, 'tx_fraud']\n",
        "\n",
        "\n"
      ],
      "metadata": {
        "id": "FdwhY0IhuOCr"
      },
      "execution_count": null,
      "outputs": []
    },
    {
      "cell_type": "markdown",
      "source": [
        "Train"
      ],
      "metadata": {
        "id": "YOWeCKEYueCY"
      }
    },
    {
      "cell_type": "code",
      "source": [
        "from xgboost import XGBRFClassifier\n",
        "# Training the XGBoost model\n",
        "''' xgb_model = XGBRFClassifier(\n",
        "    nthread=-1, n_estimators=100, learning_rate=0.1,\n",
        "    objective='binary:logistic', max_depth=2, scale_pos_weight=400,\n",
        "    min_child_weight=80, gamma=10, max_delta_step=2\n",
        ") '''\n",
        "\n",
        "xgb_model = XGBRFClassifier(\n",
        "    n_estimators=10, max_depth=3, learning_rate=0.01, objective='binary:logistic',\n",
        "    booster='gbtree', gamma=0, min_child_weight=1\n",
        "\n",
        ")\n",
        "\n",
        "\n",
        "xgb_model.fit(X_train, y_train, eval_metric='error', eval_set=[(X_train, y_train), (X_val, y_val)])\n",
        "\n",
        "# Making predictions on the test set using XGBoost\n",
        "xgb_test_predictions = xgb_model.predict(X_test)\n",
        "\n",
        "# Evaluate the XGBoost model using Precision on the test set\n",
        "xgb_test_precision = precision_score(y_test, xgb_test_predictions)\n",
        "print(f\"XGBoost Test Precision: {xgb_test_precision}\")\n",
        "\n",
        "# Making predictions on the validation set using XGBoost\n",
        "xgb_val_predictions = xgb_model.predict(X_val)\n",
        "\n",
        "# Evaluate the XGBoost model using Precision on validation set\n",
        "xgb_val_precision = precision_score(y_val, xgb_val_predictions)\n",
        "print(f\"XGBoost Validation Precision: {xgb_val_precision}\")"
      ],
      "metadata": {
        "colab": {
          "base_uri": "https://localhost:8080/"
        },
        "id": "m2Ib0TK8fpK_",
        "outputId": "d474ecd2-432d-499c-de9b-d0f3c3ce4d9a"
      },
      "execution_count": null,
      "outputs": [
        {
          "output_type": "stream",
          "name": "stderr",
          "text": [
            "/usr/local/lib/python3.10/dist-packages/xgboost/sklearn.py:835: UserWarning: `eval_metric` in `fit` method is deprecated for better compatibility with scikit-learn, use `eval_metric` in constructor or`set_params` instead.\n",
            "  warnings.warn(\n"
          ]
        },
        {
          "output_type": "stream",
          "name": "stdout",
          "text": [
            "[0]\tvalidation_0-error:0.03383\tvalidation_1-error:0.03399\n",
            "XGBoost Test Precision: 0.9693516193419612\n",
            "XGBoost Validation Precision: 0.9696436238729068\n"
          ]
        }
      ]
    },
    {
      "cell_type": "code",
      "source": [
        "from sklearn.metrics import classification_report, confusion_matrix, accuracy_score, precision_score, recall_score, roc_curve, roc_auc_score, f1_score\n",
        "result = confusion_matrix(y_test, xgb_test_predictions)\n",
        "print(\"Confusion Matrix:\")\n",
        "print(result)\n",
        "print('\\n')\n",
        "result1 = classification_report(y_test, xgb_test_predictions)\n",
        "print(\"Classification Report:\",)\n",
        "print (result1)\n",
        "print('\\n')\n",
        "x_result2 = accuracy_score(y_test,xgb_test_predictions)\n",
        "print(\"Accuracy:\",x_result2)\n",
        "print('\\n')\n",
        "# calculate precision and recall scores\n",
        "x_precision = precision_score(y_test, xgb_test_predictions)\n",
        "x_recall = recall_score(y_test, xgb_test_predictions)\n",
        "x_f1score = f1_score(y_test, xgb_test_predictions)\n",
        "\n",
        "# print the results\n",
        "print(\"Precision:\", x_precision)\n",
        "print(\"Recall:\", x_recall)\n",
        "print(\"f1 score:\", x_f1score)\n",
        "\n",
        "print(roc_auc_score(y_test, xgb_test_predictions))\n",
        "\n",
        "fpr, tpr, _ = roc_curve(y_test, xgb_test_predictions)\n",
        "\n",
        "plt.clf()\n",
        "plt.plot(fpr, tpr)\n",
        "plt.xlabel('FPR')\n",
        "plt.ylabel('TPR')\n",
        "plt.title('ROC curve')\n",
        "plt.show()"
      ],
      "metadata": {
        "id": "FmLcel27xCEY",
        "colab": {
          "base_uri": "https://localhost:8080/",
          "height": 904
        },
        "outputId": "85e2bc6f-4327-48a4-defd-81d84e81d021"
      },
      "execution_count": null,
      "outputs": [
        {
          "output_type": "stream",
          "name": "stdout",
          "text": [
            "Confusion Matrix:\n",
            "[[45516  1428]\n",
            " [ 1778 45165]]\n",
            "\n",
            "\n",
            "Classification Report:\n",
            "              precision    recall  f1-score   support\n",
            "\n",
            "       False       0.96      0.97      0.97     46944\n",
            "        True       0.97      0.96      0.97     46943\n",
            "\n",
            "    accuracy                           0.97     93887\n",
            "   macro avg       0.97      0.97      0.97     93887\n",
            "weighted avg       0.97      0.97      0.97     93887\n",
            "\n",
            "\n",
            "\n",
            "Accuracy: 0.9658525674481026\n",
            "\n",
            "\n",
            "Precision: 0.9693516193419612\n",
            "Recall: 0.9621242783801631\n",
            "f1 score: 0.965724426958604\n",
            "0.9658525277381389\n"
          ]
        },
        {
          "output_type": "display_data",
          "data": {
            "text/plain": [
              "<Figure size 640x480 with 1 Axes>"
            ],
            "image/png": "[encoded data removed]"
          },
          "metadata": {}
        }
      ]
    },
    {
      "cell_type": "code",
      "source": [
        "from xgboost import plot_importance, to_graphviz\n",
        "fig = plt.figure(figsize = (5, 3))\n",
        "ax = fig.add_subplot(111)\n",
        "\n",
        "colours = plt.cm.Set1(np.linspace(0, 1, 9))\n",
        "\n",
        "ax = plot_importance(xgb_model, height = 1, color = colours, grid = False, \\\n",
        "                     show_values = False, importance_type = 'cover', ax = ax);\n",
        "for axis in ['top','bottom','left','right']:\n",
        "            ax.spines[axis].set_linewidth(2)\n",
        "\n",
        "ax.set_xlabel('importance score', size = 16);\n",
        "ax.set_ylabel('features', size = 16);\n",
        "ax.set_yticklabels(ax.get_yticklabels(), size = 12);\n",
        "ax.set_title('Ordering of features by importance to the model learnt', size = 20);\n",
        "to_graphviz(xgb_model)"
      ],
      "metadata": {
        "colab": {
          "base_uri": "https://localhost:8080/",
          "height": 758
        },
        "id": "bYswx3wF9RiX",
        "outputId": "5c92bef4-8af3-4566-b3e0-f7f1c40bb7c0"
      },
      "execution_count": null,
      "outputs": [
        {
          "output_type": "execute_result",
          "data": {
            "image/svg+xml": "<?xml version=\"1.0\" encoding=\"UTF-8\" standalone=\"no\"?>\n<!DOCTYPE svg PUBLIC \"-//W3C//DTD SVG 1.1//EN\"\n \"http://www.w3.org/Graphics/SVG/1.1/DTD/svg11.dtd\">\n<!-- Generated by graphviz version 2.43.0 (0)\n -->\n<!-- Title: %3 Pages: 1 -->\n<svg width=\"1006pt\" height=\"305pt\"\n viewBox=\"0.00 0.00 1005.58 305.00\" xmlns=\"http://www.w3.org/2000/svg\" xmlns:xlink=\"http://www.w3.org/1999/xlink\">\n<g id=\"graph0\" class=\"graph\" transform=\"scale(1 1) rotate(0) translate(4 301)\">\n<title>%3</title>\n<polygon fill=\"white\" stroke=\"transparent\" points=\"-4,4 -4,-301 1001.58,-301 1001.58,4 -4,4\"/>\n<!-- 0 -->\n<g id=\"node1\" class=\"node\">\n<title>0</title>\n<ellipse fill=\"none\" stroke=\"black\" cx=\"599.49\" cy=\"-279\" rx=\"107.78\" ry=\"18\"/>\n<text text-anchor=\"middle\" x=\"599.49\" y=\"-275.3\" font-family=\"Times,serif\" font-size=\"14.00\">tx_amount&lt;&#45;0.0599938445</text>\n</g>\n<!-- 1 -->\n<g id=\"node2\" class=\"node\">\n<title>1</title>\n<ellipse fill=\"none\" stroke=\"black\" cx=\"477.49\" cy=\"-192\" rx=\"120.48\" ry=\"18\"/>\n<text text-anchor=\"middle\" x=\"477.49\" y=\"-188.3\" font-family=\"Times,serif\" font-size=\"14.00\">s_max_send_tx&lt;&#45;0.320612729</text>\n</g>\n<!-- 0&#45;&gt;1 -->\n<g id=\"edge1\" class=\"edge\">\n<title>0&#45;&gt;1</title>\n<path fill=\"none\" stroke=\"#0000ff\" d=\"M575.68,-261.41C556.99,-248.39 530.77,-230.12 510.13,-215.74\"/>\n<polygon fill=\"#0000ff\" stroke=\"#0000ff\" points=\"511.87,-212.68 501.66,-209.84 507.87,-218.43 511.87,-212.68\"/>\n<text text-anchor=\"middle\" x=\"580.99\" y=\"-231.8\" font-family=\"Times,serif\" font-size=\"14.00\">yes, missing</text>\n</g>\n<!-- 2 -->\n<g id=\"node3\" class=\"node\">\n<title>2</title>\n<ellipse fill=\"none\" stroke=\"black\" cx=\"721.49\" cy=\"-192\" rx=\"105.08\" ry=\"18\"/>\n<text text-anchor=\"middle\" x=\"721.49\" y=\"-188.3\" font-family=\"Times,serif\" font-size=\"14.00\">s_pagerank&lt;&#45;0.664550483</text>\n</g>\n<!-- 0&#45;&gt;2 -->\n<g id=\"edge2\" class=\"edge\">\n<title>0&#45;&gt;2</title>\n<path fill=\"none\" stroke=\"#ff0000\" d=\"M623.3,-261.41C642.2,-248.25 668.79,-229.72 689.53,-215.27\"/>\n<polygon fill=\"#ff0000\" stroke=\"#ff0000\" points=\"691.54,-218.14 697.74,-209.55 687.53,-212.39 691.54,-218.14\"/>\n<text text-anchor=\"middle\" x=\"675.49\" y=\"-231.8\" font-family=\"Times,serif\" font-size=\"14.00\">no</text>\n</g>\n<!-- 3 -->\n<g id=\"node4\" class=\"node\">\n<title>3</title>\n<ellipse fill=\"none\" stroke=\"black\" cx=\"247.49\" cy=\"-105\" rx=\"107.78\" ry=\"18\"/>\n<text text-anchor=\"middle\" x=\"247.49\" y=\"-101.3\" font-family=\"Times,serif\" font-size=\"14.00\">tx_amount&lt;&#45;0.0600746423</text>\n</g>\n<!-- 1&#45;&gt;3 -->\n<g id=\"edge3\" class=\"edge\">\n<title>1&#45;&gt;3</title>\n<path fill=\"none\" stroke=\"#0000ff\" d=\"M434.5,-175.11C396.22,-160.97 340.14,-140.24 299.37,-125.17\"/>\n<polygon fill=\"#0000ff\" stroke=\"#0000ff\" points=\"300.48,-121.85 289.88,-121.67 298.05,-128.42 300.48,-121.85\"/>\n<text text-anchor=\"middle\" x=\"410.99\" y=\"-144.8\" font-family=\"Times,serif\" font-size=\"14.00\">yes, missing</text>\n</g>\n<!-- 4 -->\n<g id=\"node5\" class=\"node\">\n<title>4</title>\n<ellipse fill=\"none\" stroke=\"black\" cx=\"492.49\" cy=\"-105\" rx=\"118.88\" ry=\"18\"/>\n<text text-anchor=\"middle\" x=\"492.49\" y=\"-101.3\" font-family=\"Times,serif\" font-size=\"14.00\">s_min_send_tx&lt;&#45;0.127983332</text>\n</g>\n<!-- 1&#45;&gt;4 -->\n<g id=\"edge4\" class=\"edge\">\n<title>1&#45;&gt;4</title>\n<path fill=\"none\" stroke=\"#ff0000\" d=\"M480.53,-173.8C482.58,-162.16 485.34,-146.55 487.69,-133.24\"/>\n<polygon fill=\"#ff0000\" stroke=\"#ff0000\" points=\"491.17,-133.63 489.46,-123.18 484.28,-132.41 491.17,-133.63\"/>\n<text text-anchor=\"middle\" x=\"493.49\" y=\"-144.8\" font-family=\"Times,serif\" font-size=\"14.00\">no</text>\n</g>\n<!-- 5 -->\n<g id=\"node10\" class=\"node\">\n<title>5</title>\n<ellipse fill=\"none\" stroke=\"black\" cx=\"718.49\" cy=\"-105\" rx=\"87.18\" ry=\"18\"/>\n<text text-anchor=\"middle\" x=\"718.49\" y=\"-101.3\" font-family=\"Times,serif\" font-size=\"14.00\">leaf=&#45;0.00199999986</text>\n</g>\n<!-- 2&#45;&gt;5 -->\n<g id=\"edge9\" class=\"edge\">\n<title>2&#45;&gt;5</title>\n<path fill=\"none\" stroke=\"#0000ff\" d=\"M720.89,-173.8C720.47,-162.16 719.92,-146.55 719.45,-133.24\"/>\n<polygon fill=\"#0000ff\" stroke=\"#0000ff\" points=\"722.95,-133.05 719.1,-123.18 715.95,-133.29 722.95,-133.05\"/>\n<text text-anchor=\"middle\" x=\"754.99\" y=\"-144.8\" font-family=\"Times,serif\" font-size=\"14.00\">yes, missing</text>\n</g>\n<!-- 6 -->\n<g id=\"node11\" class=\"node\">\n<title>6</title>\n<ellipse fill=\"none\" stroke=\"black\" cx=\"910.49\" cy=\"-105\" rx=\"87.18\" ry=\"18\"/>\n<text text-anchor=\"middle\" x=\"910.49\" y=\"-101.3\" font-family=\"Times,serif\" font-size=\"14.00\">leaf=&#45;0.00199999986</text>\n</g>\n<!-- 2&#45;&gt;6 -->\n<g id=\"edge10\" class=\"edge\">\n<title>2&#45;&gt;6</title>\n<path fill=\"none\" stroke=\"#ff0000\" d=\"M757.04,-175.01C787.99,-161.09 832.99,-140.86 866.26,-125.89\"/>\n<polygon fill=\"#ff0000\" stroke=\"#ff0000\" points=\"868.06,-128.92 875.74,-121.63 865.19,-122.54 868.06,-128.92\"/>\n<text text-anchor=\"middle\" x=\"833.49\" y=\"-144.8\" font-family=\"Times,serif\" font-size=\"14.00\">no</text>\n</g>\n<!-- 7 -->\n<g id=\"node6\" class=\"node\">\n<title>7</title>\n<ellipse fill=\"none\" stroke=\"black\" cx=\"84.49\" cy=\"-18\" rx=\"84.49\" ry=\"18\"/>\n<text text-anchor=\"middle\" x=\"84.49\" y=\"-14.3\" font-family=\"Times,serif\" font-size=\"14.00\">leaf=0.00199798075</text>\n</g>\n<!-- 3&#45;&gt;7 -->\n<g id=\"edge5\" class=\"edge\">\n<title>3&#45;&gt;7</title>\n<path fill=\"none\" stroke=\"#0000ff\" d=\"M216.06,-87.61C189.88,-73.96 152.45,-54.44 124.2,-39.7\"/>\n<polygon fill=\"#0000ff\" stroke=\"#0000ff\" points=\"125.48,-36.43 115,-34.91 122.24,-42.63 125.48,-36.43\"/>\n<text text-anchor=\"middle\" x=\"210.99\" y=\"-57.8\" font-family=\"Times,serif\" font-size=\"14.00\">yes, missing</text>\n</g>\n<!-- 8 -->\n<g id=\"node7\" class=\"node\">\n<title>8</title>\n<ellipse fill=\"none\" stroke=\"black\" cx=\"274.49\" cy=\"-18\" rx=\"87.18\" ry=\"18\"/>\n<text text-anchor=\"middle\" x=\"274.49\" y=\"-14.3\" font-family=\"Times,serif\" font-size=\"14.00\">leaf=&#45;0.00122606452</text>\n</g>\n<!-- 3&#45;&gt;8 -->\n<g id=\"edge6\" class=\"edge\">\n<title>3&#45;&gt;8</title>\n<path fill=\"none\" stroke=\"#ff0000\" d=\"M252.96,-86.8C256.69,-75.05 261.71,-59.24 265.97,-45.84\"/>\n<polygon fill=\"#ff0000\" stroke=\"#ff0000\" points=\"269.35,-46.77 269.04,-36.18 262.67,-44.65 269.35,-46.77\"/>\n<text text-anchor=\"middle\" x=\"270.49\" y=\"-57.8\" font-family=\"Times,serif\" font-size=\"14.00\">no</text>\n</g>\n<!-- 9 -->\n<g id=\"node8\" class=\"node\">\n<title>9</title>\n<ellipse fill=\"none\" stroke=\"black\" cx=\"478.49\" cy=\"-18\" rx=\"84.49\" ry=\"18\"/>\n<text text-anchor=\"middle\" x=\"478.49\" y=\"-14.3\" font-family=\"Times,serif\" font-size=\"14.00\">leaf=0.00185916433</text>\n</g>\n<!-- 4&#45;&gt;9 -->\n<g id=\"edge7\" class=\"edge\">\n<title>4&#45;&gt;9</title>\n<path fill=\"none\" stroke=\"#0000ff\" d=\"M489.66,-86.8C487.74,-75.16 485.17,-59.55 482.98,-46.24\"/>\n<polygon fill=\"#0000ff\" stroke=\"#0000ff\" points=\"486.4,-45.47 481.32,-36.18 479.49,-46.61 486.4,-45.47\"/>\n<text text-anchor=\"middle\" x=\"520.99\" y=\"-57.8\" font-family=\"Times,serif\" font-size=\"14.00\">yes, missing</text>\n</g>\n<!-- 10 -->\n<g id=\"node9\" class=\"node\">\n<title>10</title>\n<ellipse fill=\"none\" stroke=\"black\" cx=\"670.49\" cy=\"-18\" rx=\"89.08\" ry=\"18\"/>\n<text text-anchor=\"middle\" x=\"670.49\" y=\"-14.3\" font-family=\"Times,serif\" font-size=\"14.00\">leaf=0.000572680437</text>\n</g>\n<!-- 4&#45;&gt;10 -->\n<g id=\"edge8\" class=\"edge\">\n<title>4&#45;&gt;10</title>\n<path fill=\"none\" stroke=\"#ff0000\" d=\"M526.81,-87.61C555.74,-73.8 597.26,-53.97 628.23,-39.18\"/>\n<polygon fill=\"#ff0000\" stroke=\"#ff0000\" points=\"629.97,-42.23 637.48,-34.76 626.95,-35.91 629.97,-42.23\"/>\n<text text-anchor=\"middle\" x=\"599.49\" y=\"-57.8\" font-family=\"Times,serif\" font-size=\"14.00\">no</text>\n</g>\n</g>\n</svg>\n",
            "text/plain": [
              "<graphviz.sources.Source at 0x79188c71a560>"
            ]
          },
          "metadata": {},
          "execution_count": 18
        },
        {
          "output_type": "display_data",
          "data": {
            "text/plain": [
              "<Figure size 500x300 with 1 Axes>"
            ],
            "image/png": "[encoded data removed]"
          },
          "metadata": {}
        }
      ]
    },
    {
      "cell_type": "code",
      "source": [
        "from explainerdashboard import ClassifierExplainer, ExplainerDashboard\n",
        "explainer = ClassifierExplainer(xgb_model, X_test, y_test)\n",
        "ExplainerDashboard(explainer).run()"
      ],
      "metadata": {
        "id": "3BfTKjyAzgFZ"
      },
      "execution_count": null,
      "outputs": []
    },
    {
      "cell_type": "markdown",
      "source": [
        "## KNN"
      ],
      "metadata": {
        "id": "XwJj5ig7p2j4"
      }
    },
    {
      "cell_type": "code",
      "source": [
        "from sklearn.neighbors import KNeighborsClassifier\n",
        "from sklearn.metrics import accuracy_score\n",
        "\n",
        "# Training the KNN model\n",
        "knn_model = KNeighborsClassifier(n_neighbors=5)\n",
        "\n",
        "# Fitting the model on the training set\n",
        "knn_model.fit(X_train, y_train)\n",
        "\n",
        "# Making predictions on the test set using KNN\n",
        "knn_test_predictions = knn_model.predict(X_test)\n",
        "\n",
        "# Evaluate the KNN model using Precision on the test set\n",
        "knn_test_precision = precision_score(y_test, knn_test_predictions)\n",
        "print(f\"KNN Test precision: {knn_test_precision}\")\n",
        "\n",
        "# Making predictions on the validation set using KNN\n",
        "knn_val_predictions = knn_model.predict(X_val)\n",
        "\n",
        "# Evaluate the KNN model using Precision on the validation set\n",
        "knn_val_precision = precision_score(y_val, knn_val_predictions)\n",
        "print(f\"KNN Validation precision: {knn_val_precision}\")\n"
      ],
      "metadata": {
        "id": "TC_pn1wjh3o1",
        "colab": {
          "base_uri": "https://localhost:8080/"
        },
        "outputId": "e7a2d985-f956-44fb-f0b7-1837f43a2ba9"
      },
      "execution_count": null,
      "outputs": [
        {
          "output_type": "stream",
          "name": "stdout",
          "text": [
            "KNN Test precision: 0.978614325472389\n",
            "KNN Validation precision: 0.9794576484137787\n"
          ]
        }
      ]
    },
    {
      "cell_type": "code",
      "source": [
        "from sklearn.metrics import classification_report, confusion_matrix, accuracy_score, precision_score, recall_score, roc_curve, roc_auc_score, f1_score\n",
        "result = confusion_matrix(y_test, knn_test_predictions)\n",
        "print(\"Confusion Matrix:\")\n",
        "print(result)\n",
        "print('\\n')\n",
        "result1 = classification_report(y_test, knn_test_predictions)\n",
        "print(\"Classification Report:\",)\n",
        "print (result1)\n",
        "print('\\n')\n",
        "k_result2 = accuracy_score(y_test,knn_test_predictions)\n",
        "print(\"Accuracy:\",k_result2)\n",
        "print('\\n')\n",
        "# calculate precision and recall scores\n",
        "k_precision = precision_score(y_test, knn_test_predictions)\n",
        "k_recall = recall_score(y_test, knn_test_predictions)\n",
        "k_f1score = f1_score(y_test, knn_test_predictions)\n",
        "\n",
        "# print the results\n",
        "print(\"Precision:\", k_precision)\n",
        "print(\"Recall:\", k_recall)\n",
        "print(\"f1 score:\", k_f1score)\n",
        "\n",
        "print(roc_auc_score(y_test, knn_test_predictions))\n",
        "\n",
        "fpr, tpr, _ = roc_curve(y_test, knn_test_predictions)\n",
        "\n",
        "plt.clf()\n",
        "plt.plot(fpr, tpr)\n",
        "plt.xlabel('FPR')\n",
        "plt.ylabel('TPR')\n",
        "plt.title('ROC curve')\n",
        "plt.show()"
      ],
      "metadata": {
        "id": "8UKKjo_as0m2",
        "colab": {
          "base_uri": "https://localhost:8080/",
          "height": 904
        },
        "outputId": "c38ef3d5-12c3-49e1-f965-a2233ea926b6"
      },
      "execution_count": null,
      "outputs": [
        {
          "output_type": "stream",
          "name": "stdout",
          "text": [
            "Confusion Matrix:\n",
            "[[45922  1022]\n",
            " [  176 46767]]\n",
            "\n",
            "\n",
            "Classification Report:\n",
            "              precision    recall  f1-score   support\n",
            "\n",
            "       False       1.00      0.98      0.99     46944\n",
            "        True       0.98      1.00      0.99     46943\n",
            "\n",
            "    accuracy                           0.99     93887\n",
            "   macro avg       0.99      0.99      0.99     93887\n",
            "weighted avg       0.99      0.99      0.99     93887\n",
            "\n",
            "\n",
            "\n",
            "Accuracy: 0.9872399799759285\n",
            "\n",
            "\n",
            "Precision: 0.978614325472389\n",
            "Recall: 0.9962507722131095\n",
            "f1 score: 0.987353798083013\n",
            "0.9872400759497721\n"
          ]
        },
        {
          "output_type": "display_data",
          "data": {
            "text/plain": [
              "<Figure size 640x480 with 1 Axes>"
            ],
            "image/png": "[encoded data removed]"
          },
          "metadata": {}
        }
      ]
    },
    {
      "cell_type": "markdown",
      "source": [
        "##Decision Tree"
      ],
      "metadata": {
        "id": "Jg4AfnQEd049"
      }
    },
    {
      "cell_type": "code",
      "source": [
        "from sklearn.tree import DecisionTreeClassifier\n",
        "\n",
        "# Initialize the Decision Tree model\n",
        "dt_model = DecisionTreeClassifier(\n",
        "    criterion='entropy', max_depth=5, min_samples_split=2,\n",
        "    min_samples_leaf=1, random_state=42\n",
        ")\n",
        "\n",
        "# Training the Decision Tree model\n",
        "dt_model.fit(X_train, y_train)\n",
        "\n",
        "# Making predictions on the validation set using the Decision Tree model\n",
        "dt_val_predictions = dt_model.predict(X_val)\n",
        "\n",
        "# Evaluate the Decision Tree model using Precision on the validation set\n",
        "dt_val_precision = precision_score(y_val, dt_val_predictions)\n",
        "print(f\"Decision Tree Validation precision: {dt_val_precision}\")\n",
        "\n",
        "# Making predictions on the test set using the Decision Tree model\n",
        "dt_test_predictions = dt_model.predict(X_test)\n",
        "\n",
        "# Evaluate the Decision Tree model using Precision on the test set\n",
        "dt_test_precision = precision_score(y_test, dt_test_predictions)\n",
        "print(f\"Decision Tree Test precision: {dt_test_precision}\")\n"
      ],
      "metadata": {
        "id": "Eeiw0hokd0Va",
        "colab": {
          "base_uri": "https://localhost:8080/"
        },
        "outputId": "d4e90c9c-55a4-4e97-bb71-c2156db3cde3"
      },
      "execution_count": null,
      "outputs": [
        {
          "output_type": "stream",
          "name": "stdout",
          "text": [
            "Decision Tree Validation precision: 0.9554851927733283\n",
            "Decision Tree Test precision: 0.955251349283484\n"
          ]
        }
      ]
    },
    {
      "cell_type": "code",
      "source": [
        "from sklearn.metrics import classification_report, confusion_matrix, accuracy_score, precision_score, recall_score, roc_curve, roc_auc_score, f1_score\n",
        "result = confusion_matrix(y_test, dt_test_predictions)\n",
        "print(\"Confusion Matrix:\")\n",
        "print(result)\n",
        "print('\\n')\n",
        "result1 = classification_report(y_test, dt_test_predictions)\n",
        "print(\"Classification Report:\",)\n",
        "print (result1)\n",
        "print('\\n')\n",
        "d_result2 = accuracy_score(y_test,dt_test_predictions)\n",
        "print(\"Accuracy:\",d_result2)\n",
        "print('\\n')\n",
        "# calculate precision and recall scores\n",
        "d_precision = precision_score(y_test, dt_test_predictions)\n",
        "d_recall = recall_score(y_test, dt_test_predictions)\n",
        "d_f1score = f1_score(y_test, dt_test_predictions)\n",
        "\n",
        "# print the results\n",
        "print(\"Precision:\", d_precision)\n",
        "print(\"Recall:\", d_recall)\n",
        "print(\"f1 score:\", d_f1score)\n",
        "\n",
        "print(roc_auc_score(y_test, dt_test_predictions))\n",
        "\n",
        "fpr, tpr, _ = roc_curve(y_test, dt_test_predictions)\n",
        "\n",
        "plt.clf()\n",
        "plt.plot(fpr, tpr)\n",
        "plt.xlabel('FPR')\n",
        "plt.ylabel('TPR')\n",
        "plt.title('ROC curve')\n",
        "plt.show()"
      ],
      "metadata": {
        "id": "8cxqzYOrfD8O",
        "colab": {
          "base_uri": "https://localhost:8080/"
        },
        "outputId": "36a1be78-d943-4ff0-9375-1c46b3069925"
      },
      "execution_count": null,
      "outputs": [
        {
          "output_type": "stream",
          "name": "stdout",
          "text": [
            "Confusion Matrix:\n",
            "[[44780  2164]\n",
            " [  748 46195]]\n",
            "\n",
            "\n",
            "Classification Report:\n",
            "              precision    recall  f1-score   support\n",
            "\n",
            "       False       0.98      0.95      0.97     46944\n",
            "        True       0.96      0.98      0.97     46943\n",
            "\n",
            "    accuracy                           0.97     93887\n",
            "   macro avg       0.97      0.97      0.97     93887\n",
            "weighted avg       0.97      0.97      0.97     93887\n",
            "\n",
            "\n",
            "\n",
            "Accuracy: 0.9689839913939097\n",
            "\n",
            "\n",
            "Precision: 0.955251349283484\n",
            "Recall: 0.9840657819057155\n",
            "f1 score: 0.9694445027386623\n",
            "0.9689841520298856\n"
          ]
        },
        {
          "output_type": "display_data",
          "data": {
            "text/plain": [
              "<Figure size 640x480 with 1 Axes>"
            ],
            "image/png": "[encoded data removed]"
          },
          "metadata": {}
        }
      ]
    },
    {
      "cell_type": "markdown",
      "source": [
        "## GNN\n"
      ],
      "metadata": {
        "id": "8phdKSM3bxco"
      }
    },
    {
      "cell_type": "markdown",
      "source": [
        "Model building"
      ],
      "metadata": {
        "id": "ExQZUWFzfHEi"
      }
    },
    {
      "cell_type": "code",
      "source": [
        "import torch.nn.functional as F\n",
        "from torch_geometric.nn import GCNConv"
      ],
      "metadata": {
        "id": "q0bnXG24qqOv"
      },
      "execution_count": null,
      "outputs": []
    },
    {
      "cell_type": "code",
      "source": [
        "class GNNModel(torch.nn.Module):\n",
        "    def __init__(self, num_node_features):\n",
        "        super(GNNModel, self).__init__()\n",
        "        self.conv1 = GCNConv(num_node_features, 32)  # Increased from 16 to 32\n",
        "        self.conv2 = GCNConv(32, 16)  # New layer\n",
        "        self.conv3 = GCNConv(16, 2)  # Output layer\n",
        "\n",
        "    def forward(self, data):\n",
        "        x, edge_index = data.x, data.edge_index\n",
        "        x = self.conv1(x, edge_index)\n",
        "        x = F.relu(x)\n",
        "        x = self.conv2(x, edge_index)  # New layer\n",
        "        x = F.relu(x)\n",
        "        x = F.dropout(x, training=self.training)\n",
        "        x = self.conv3(x, edge_index)\n",
        "        return F.log_softmax(x, dim=1)\n"
      ],
      "metadata": {
        "id": "BdQ4VzCzMfuG"
      },
      "execution_count": null,
      "outputs": []
    },
    {
      "cell_type": "markdown",
      "source": [
        "Test train split"
      ],
      "metadata": {
        "id": "Og7KE5KIfvTi"
      }
    },
    {
      "cell_type": "code",
      "source": [
        "from sklearn.model_selection import train_test_split\n",
        "\n",
        "# Initial train-test split\n",
        "train_fraud, temp_fraud = train_test_split(fraud_resampled_scaled, test_size=0.4, random_state=42, stratify=fraud_resampled_scaled['tx_fraud'])\n",
        "\n",
        "# Split the remaining 40% into validation and test sets\n",
        "val_fraud, test_fraud = train_test_split(temp_fraud, test_size=0.5, random_state=42, stratify=temp_fraud['tx_fraud'])\n",
        "\n",
        "# Initialize masks\n",
        "train_mask = torch.zeros(len(fraud_resampled_scaled), dtype=torch.bool)\n",
        "val_mask = torch.zeros(len(fraud_resampled_scaled), dtype=torch.bool)\n",
        "test_mask = torch.zeros(len(fraud_resampled_scaled), dtype=torch.bool)\n",
        "\n",
        "# Update masks based on the indices of the train, validation and test sets\n",
        "train_mask[train_fraud.index] = True\n",
        "val_mask[val_fraud.index] = True\n",
        "test_mask[test_fraud.index] = True\n",
        "\n",
        "# Update your data object\n",
        "data_scaled.train_mask = train_mask\n",
        "data_scaled.val_mask = val_mask\n",
        "data_scaled.test_mask = test_mask\n",
        "data_scaled.y = torch.tensor(fraud_resampled_scaled['tx_fraud'].values, dtype=torch.long)"
      ],
      "metadata": {
        "id": "eXFqbVBdfMuQ"
      },
      "execution_count": null,
      "outputs": []
    },
    {
      "cell_type": "markdown",
      "source": [
        "Training"
      ],
      "metadata": {
        "id": "e-IdIPtTh70D"
      }
    },
    {
      "cell_type": "code",
      "source": [
        "# Number of node features\n",
        "num_node_features = x_scaled.shape[1]"
      ],
      "metadata": {
        "id": "mw8XicY6kJ5z"
      },
      "execution_count": null,
      "outputs": []
    },
    {
      "cell_type": "code",
      "source": [
        "# Initialize the model and optimizer\n",
        "GN_model = GNNModel(data_scaled.num_node_features)\n",
        "optimizer = torch.optim.Adam(GN_model.parameters(), lr=0.01)\n",
        "\n",
        "# Lists to hold loss and precision values for plotting or analysis\n",
        "train_losses = []\n",
        "val_losses = []\n",
        "train_precisions = []\n",
        "val_precisions = []\n",
        "\n",
        "# Training loop with validation\n",
        "for epoch in range(200):\n",
        "    GN_model.train()\n",
        "    optimizer.zero_grad()\n",
        "    out = GN_model(data_scaled)\n",
        "\n",
        "    # Training loss\n",
        "    train_loss = F.nll_loss(out[data_scaled.train_mask], data_scaled.y[data_scaled.train_mask])\n",
        "    train_loss.backward()\n",
        "    optimizer.step()\n",
        "\n",
        "    # Calculate training precision\n",
        "    _, train_pred = out[data_scaled.train_mask].max(dim=1)\n",
        "    train_true = data_scaled.y[data_scaled.train_mask]\n",
        "    train_precision = precision_score(train_true.cpu(), train_pred.cpu(), average='micro')\n",
        "\n",
        "    # Validation\n",
        "    GN_model.eval()  # Set the model to evaluation mode\n",
        "    with torch.no_grad():  # Deactivate autograd engine to reduce memory usage and speed up computations\n",
        "        val_loss = F.nll_loss(out[data_scaled.val_mask], data_scaled.y[data_scaled.val_mask])\n",
        "\n",
        "        # Calculate validation precision\n",
        "        _, val_pred = out[data_scaled.val_mask].max(dim=1)\n",
        "        val_true = data_scaled.y[data_scaled.val_mask]\n",
        "        val_precision = precision_score(val_true.cpu(), val_pred.cpu(), average='micro')\n",
        "\n",
        "    # Print the metrics\n",
        "    print(f\"Epoch {epoch+1}, Training Loss: {train_loss.item()}, Validation Loss: {val_loss.item()}, Training Precision: {train_precision}, Validation Precision: {val_precision}\")"
      ],
      "metadata": {
        "id": "kpzaYYSZh12z",
        "colab": {
          "base_uri": "https://localhost:8080/"
        },
        "outputId": "5c962c4a-3a99-4b0a-d92e-75d1d2d3e2ce"
      },
      "execution_count": null,
      "outputs": [
        {
          "output_type": "stream",
          "name": "stdout",
          "text": [
            "Epoch 1, Training Loss: 0.8507736921310425, Validation Loss: 0.8540202975273132, Training Precision: 0.5123642418669384, Validation Precision: 0.5128134120103104\n",
            "Epoch 2, Training Loss: 0.7528509497642517, Validation Loss: 0.75123530626297, Training Precision: 0.535544754472607, Validation Precision: 0.5374177193617792\n",
            "Epoch 3, Training Loss: 0.7140596508979797, Validation Loss: 0.7127236723899841, Training Precision: 0.546590025527322, Validation Precision: 0.5475257226849584\n",
            "Epoch 4, Training Loss: 0.694470226764679, Validation Loss: 0.6937756538391113, Training Precision: 0.5579086768042207, Validation Precision: 0.5598065739300854\n",
            "Epoch 5, Training Loss: 0.6794331073760986, Validation Loss: 0.6794774532318115, Training Precision: 0.5728416276419358, Validation Precision: 0.5724708689261445\n",
            "Epoch 6, Training Loss: 0.6655293703079224, Validation Loss: 0.6662406921386719, Training Precision: 0.5902705044042619, Validation Precision: 0.5885222503887694\n",
            "Epoch 7, Training Loss: 0.6542511582374573, Validation Loss: 0.6543599367141724, Training Precision: 0.6127622408657277, Validation Precision: 0.6135632575676885\n",
            "Epoch 8, Training Loss: 0.6449912190437317, Validation Loss: 0.6443032622337341, Training Precision: 0.6344764413705936, Validation Precision: 0.6360799267196388\n",
            "Epoch 9, Training Loss: 0.6394464373588562, Validation Loss: 0.6399750709533691, Training Precision: 0.6546639731022265, Validation Precision: 0.6551562533285048\n",
            "Epoch 10, Training Loss: 0.6342415809631348, Validation Loss: 0.6327450275421143, Training Precision: 0.6697531412097607, Validation Precision: 0.6737319728180985\n",
            "Epoch 11, Training Loss: 0.6286830306053162, Validation Loss: 0.6286965012550354, Training Precision: 0.6804895281173333, Validation Precision: 0.6827215985343927\n",
            "Epoch 12, Training Loss: 0.6229098439216614, Validation Loss: 0.6225942969322205, Training Precision: 0.6896956958591772, Validation Precision: 0.6930213237330379\n",
            "Epoch 13, Training Loss: 0.6160722374916077, Validation Loss: 0.6156883835792542, Training Precision: 0.6960650999968047, Validation Precision: 0.6994440065611486\n",
            "Epoch 14, Training Loss: 0.6083457469940186, Validation Loss: 0.6077845692634583, Training Precision: 0.7008723314362403, Validation Precision: 0.7022665786166201\n",
            "Epoch 15, Training Loss: 0.6000545024871826, Validation Loss: 0.6004914045333862, Training Precision: 0.7044617782495854, Validation Precision: 0.7058986430351704\n",
            "Epoch 16, Training Loss: 0.5910612344741821, Validation Loss: 0.5907700061798096, Training Precision: 0.7086157374697772, Validation Precision: 0.7092005197793069\n",
            "Epoch 17, Training Loss: 0.5824280381202698, Validation Loss: 0.5810196995735168, Training Precision: 0.7127590455124814, Validation Precision: 0.7163687876786742\n",
            "Epoch 18, Training Loss: 0.574225902557373, Validation Loss: 0.5741811990737915, Training Precision: 0.7202823272112732, Validation Precision: 0.7212363930724496\n",
            "Epoch 19, Training Loss: 0.5652745366096497, Validation Loss: 0.5637030601501465, Training Precision: 0.7282174544395883, Validation Precision: 0.7307692307692307\n",
            "Epoch 20, Training Loss: 0.556851863861084, Validation Loss: 0.5539677143096924, Training Precision: 0.7336424541733089, Validation Precision: 0.7380759644675458\n",
            "Epoch 21, Training Loss: 0.5485047698020935, Validation Loss: 0.5461100339889526, Training Precision: 0.7399053465360595, Validation Precision: 0.7429329186460175\n",
            "Epoch 22, Training Loss: 0.5397599339485168, Validation Loss: 0.536978006362915, Training Precision: 0.7460617271239336, Validation Precision: 0.7487697846324266\n",
            "Epoch 23, Training Loss: 0.5308382511138916, Validation Loss: 0.5287004709243774, Training Precision: 0.7500630194668021, Validation Precision: 0.7540101825618303\n",
            "Epoch 24, Training Loss: 0.5239465832710266, Validation Loss: 0.521389901638031, Training Precision: 0.7533400317405089, Validation Precision: 0.7558528428093646\n",
            "Epoch 25, Training Loss: 0.5166285634040833, Validation Loss: 0.5136365294456482, Training Precision: 0.7588360393241473, Validation Precision: 0.7613062650448417\n",
            "Epoch 26, Training Loss: 0.5103791952133179, Validation Loss: 0.5066014528274536, Training Precision: 0.7628905875544542, Validation Precision: 0.7661738704386171\n",
            "Epoch 27, Training Loss: 0.5027502179145813, Validation Loss: 0.5004148483276367, Training Precision: 0.7679747496085693, Validation Precision: 0.7697846324265599\n",
            "Epoch 28, Training Loss: 0.49683016538619995, Validation Loss: 0.495812326669693, Training Precision: 0.7708221643902733, Validation Precision: 0.7745457256672986\n",
            "Epoch 29, Training Loss: 0.4912787973880768, Validation Loss: 0.4898982048034668, Training Precision: 0.7741133782339638, Validation Precision: 0.7764842468525659\n",
            "Epoch 30, Training Loss: 0.48664557933807373, Validation Loss: 0.4847322702407837, Training Precision: 0.7770104985106103, Validation Precision: 0.7791577018937861\n",
            "Epoch 31, Training Loss: 0.4806195795536041, Validation Loss: 0.4791013300418854, Training Precision: 0.7810011396759912, Validation Precision: 0.7824169737767079\n",
            "Epoch 32, Training Loss: 0.4773942530155182, Validation Loss: 0.4745256304740906, Training Precision: 0.7830923208560706, Validation Precision: 0.7863898770849754\n",
            "Epoch 33, Training Loss: 0.4731088876724243, Validation Loss: 0.4721817672252655, Training Precision: 0.785833223862898, Validation Precision: 0.786975693926677\n",
            "Epoch 34, Training Loss: 0.4702893793582916, Validation Loss: 0.46784910559654236, Training Precision: 0.7865823566795309, Validation Precision: 0.7899793366423109\n",
            "Epoch 35, Training Loss: 0.4658771753311157, Validation Loss: 0.46298748254776, Training Precision: 0.788229738797624, Validation Precision: 0.7907781777900859\n",
            "Epoch 36, Training Loss: 0.4624306261539459, Validation Loss: 0.4608632028102875, Training Precision: 0.7903102688002158, Validation Precision: 0.7916835310908975\n",
            "Epoch 37, Training Loss: 0.45902812480926514, Validation Loss: 0.45614948868751526, Training Precision: 0.7923694964478323, Validation Precision: 0.7951025712033744\n",
            "Epoch 38, Training Loss: 0.4567018449306488, Validation Loss: 0.4546036422252655, Training Precision: 0.7940914368083392, Validation Precision: 0.7958801099205419\n",
            "Epoch 39, Training Loss: 0.45286616683006287, Validation Loss: 0.44973114132881165, Training Precision: 0.7969708051225063, Validation Precision: 0.7988624502055685\n",
            "Epoch 40, Training Loss: 0.449728786945343, Validation Loss: 0.4471552073955536, Training Precision: 0.7979152095264131, Validation Precision: 0.7998210595828984\n",
            "Epoch 41, Training Loss: 0.445893794298172, Validation Loss: 0.44489535689353943, Training Precision: 0.7997933671567392, Validation Precision: 0.801013995696909\n",
            "Epoch 42, Training Loss: 0.4439113736152649, Validation Loss: 0.44185519218444824, Training Precision: 0.8012525784725502, Validation Precision: 0.8030057729586946\n",
            "Epoch 43, Training Loss: 0.44065117835998535, Validation Loss: 0.438839852809906, Training Precision: 0.8019023002992981, Validation Precision: 0.8039004750442026\n",
            "Epoch 44, Training Loss: 0.4377071261405945, Validation Loss: 0.43480294942855835, Training Precision: 0.8037911091071118, Validation Precision: 0.8054768549091451\n",
            "Epoch 45, Training Loss: 0.43388622999191284, Validation Loss: 0.4319937229156494, Training Precision: 0.8053177778803446, Validation Precision: 0.8068508616833181\n",
            "Epoch 46, Training Loss: 0.4325208067893982, Validation Loss: 0.4278763234615326, Training Precision: 0.8059639493145967, Validation Precision: 0.808480497624779\n",
            "Epoch 47, Training Loss: 0.4284500181674957, Validation Loss: 0.4266716241836548, Training Precision: 0.8091451009909145, Validation Precision: 0.8102912042264022\n",
            "Epoch 48, Training Loss: 0.4265006184577942, Validation Loss: 0.4259715974330902, Training Precision: 0.8094113804281063, Validation Precision: 0.8107279040538525\n",
            "Epoch 49, Training Loss: 0.4244072139263153, Validation Loss: 0.42241039872169495, Training Precision: 0.8104658469993857, Validation Precision: 0.8118675840913449\n",
            "Epoch 50, Training Loss: 0.4226956069469452, Validation Loss: 0.4201633632183075, Training Precision: 0.8120635236225364, Validation Precision: 0.8147540634386383\n",
            "Epoch 51, Training Loss: 0.420733243227005, Validation Loss: 0.419100284576416, Training Precision: 0.8129937264564597, Validation Precision: 0.8150735998977483\n",
            "Epoch 52, Training Loss: 0.41854825615882874, Validation Loss: 0.4166205823421478, Training Precision: 0.8140410922427475, Validation Precision: 0.8147114585774237\n",
            "Epoch 53, Training Loss: 0.41654837131500244, Validation Loss: 0.4135483205318451, Training Precision: 0.8145985038646022, Validation Precision: 0.8173103551115182\n",
            "Epoch 54, Training Loss: 0.4147002696990967, Validation Loss: 0.4128417372703552, Training Precision: 0.8151843186264242, Validation Precision: 0.8167990967769423\n",
            "Epoch 55, Training Loss: 0.4131348729133606, Validation Loss: 0.41019245982170105, Training Precision: 0.8157665829957502, Validation Precision: 0.8174381696951623\n",
            "Epoch 56, Training Loss: 0.41085416078567505, Validation Loss: 0.4083040654659271, Training Precision: 0.8167642432870954, Validation Precision: 0.8206122318556547\n",
            "Epoch 57, Training Loss: 0.40945565700531006, Validation Loss: 0.4064675271511078, Training Precision: 0.816906258986931, Validation Precision: 0.8194192957416441\n",
            "Epoch 58, Training Loss: 0.4070206582546234, Validation Loss: 0.40343204140663147, Training Precision: 0.8186672536648927, Validation Precision: 0.8211021877596234\n",
            "Epoch 59, Training Loss: 0.40628480911254883, Validation Loss: 0.40283697843551636, Training Precision: 0.818397423835205, Validation Precision: 0.8211980486973564\n",
            "Epoch 60, Training Loss: 0.40261131525039673, Validation Loss: 0.40095001459121704, Training Precision: 0.8200270539908187, Validation Precision: 0.822550753040922\n",
            "Epoch 61, Training Loss: 0.40021422505378723, Validation Loss: 0.39839187264442444, Training Precision: 0.8213904047092406, Validation Precision: 0.8246703448863515\n",
            "Epoch 62, Training Loss: 0.39805418252944946, Validation Loss: 0.3962821662425995, Training Precision: 0.8205631632576982, Validation Precision: 0.8238715037385765\n",
            "Epoch 63, Training Loss: 0.3966132700443268, Validation Loss: 0.39489734172821045, Training Precision: 0.8216602345389282, Validation Precision: 0.8240525743987389\n",
            "Epoch 64, Training Loss: 0.39439263939857483, Validation Loss: 0.39205875992774963, Training Precision: 0.8227608562126543, Validation Precision: 0.8256822103401998\n",
            "Epoch 65, Training Loss: 0.3932959735393524, Validation Loss: 0.39119118452072144, Training Precision: 0.8236022992341804, Validation Precision: 0.8258526297850585\n",
            "Epoch 66, Training Loss: 0.3911738991737366, Validation Loss: 0.3881136476993561, Training Precision: 0.8249549987751146, Validation Precision: 0.8267686343011738\n",
            "Epoch 67, Training Loss: 0.3894067406654358, Validation Loss: 0.3881547451019287, Training Precision: 0.8263609542034872, Validation Precision: 0.8276952900325927\n",
            "Epoch 68, Training Loss: 0.3877432346343994, Validation Loss: 0.3847059905529022, Training Precision: 0.8258781008240461, Validation Precision: 0.8287923652088703\n",
            "Epoch 69, Training Loss: 0.38608261942863464, Validation Loss: 0.38409745693206787, Training Precision: 0.8270071256377393, Validation Precision: 0.8289840870843364\n",
            "Epoch 70, Training Loss: 0.38431516289711, Validation Loss: 0.38298580050468445, Training Precision: 0.8282213598713338, Validation Precision: 0.829665764863771\n",
            "Epoch 71, Training Loss: 0.3825128674507141, Validation Loss: 0.38199368119239807, Training Precision: 0.8290521517153722, Validation Precision: 0.8299107428157553\n",
            "Epoch 72, Training Loss: 0.38075870275497437, Validation Loss: 0.3803543448448181, Training Precision: 0.8307740920758789, Validation Precision: 0.8316255884796455\n",
            "Epoch 73, Training Loss: 0.3793463706970215, Validation Loss: 0.37720322608947754, Training Precision: 0.8315800311724462, Validation Precision: 0.8340221119229704\n",
            "Epoch 74, Training Loss: 0.3777925670146942, Validation Loss: 0.3756410777568817, Training Precision: 0.8333090723179447, Validation Precision: 0.8352683041134994\n",
            "Epoch 75, Training Loss: 0.37685415148735046, Validation Loss: 0.3735560476779938, Training Precision: 0.833170607010605, Validation Precision: 0.836621008457065\n",
            "Epoch 76, Training Loss: 0.3749707043170929, Validation Loss: 0.3717077374458313, Training Precision: 0.8334723903727557, Validation Precision: 0.8367381718254053\n",
            "Epoch 77, Training Loss: 0.373374342918396, Validation Loss: 0.3714812994003296, Training Precision: 0.8357801454950845, Validation Precision: 0.8371748716528556\n",
            "Epoch 78, Training Loss: 0.37290534377098083, Validation Loss: 0.3691530227661133, Training Precision: 0.8361955414171036, Validation Precision: 0.8393370683594998\n",
            "Epoch 79, Training Loss: 0.3709939420223236, Validation Loss: 0.3676415979862213, Training Precision: 0.8372642095583667, Validation Precision: 0.8397631169716465\n",
            "Epoch 80, Training Loss: 0.36939767003059387, Validation Loss: 0.36718717217445374, Training Precision: 0.8379068306001228, Validation Precision: 0.8403489338133481\n",
            "Epoch 81, Training Loss: 0.3686120808124542, Validation Loss: 0.36589354276657104, Training Precision: 0.838095001402405, Validation Precision: 0.8412223334682487\n",
            "Epoch 82, Training Loss: 0.3672029674053192, Validation Loss: 0.36444544792175293, Training Precision: 0.8399305543227804, Validation Precision: 0.841818801525254\n",
            "Epoch 83, Training Loss: 0.3667152225971222, Validation Loss: 0.3648125231266022, Training Precision: 0.8392204758236023, Validation Precision: 0.8401252582919712\n",
            "Epoch 84, Training Loss: 0.3648461103439331, Validation Loss: 0.3636082708835602, Training Precision: 0.841787409598131, Validation Precision: 0.8434377862514113\n",
            "Epoch 85, Training Loss: 0.36470556259155273, Validation Loss: 0.36183542013168335, Training Precision: 0.8397707866604653, Validation Precision: 0.8416803357263064\n",
            "Epoch 86, Training Loss: 0.3624396324157715, Validation Loss: 0.3609178066253662, Training Precision: 0.8429057832343365, Validation Precision: 0.8446307223654219\n",
            "Epoch 87, Training Loss: 0.3617844581604004, Validation Loss: 0.35950303077697754, Training Precision: 0.843051349326668, Validation Precision: 0.8450354685469612\n",
            "Epoch 88, Training Loss: 0.36124613881111145, Validation Loss: 0.35852277278900146, Training Precision: 0.8425507439847475, Validation Precision: 0.8455786805274482\n",
            "Epoch 89, Training Loss: 0.3595770001411438, Validation Loss: 0.35736873745918274, Training Precision: 0.8454230115139229, Validation Precision: 0.8474213407749824\n",
            "Epoch 90, Training Loss: 0.35895317792892456, Validation Loss: 0.3560261130332947, Training Precision: 0.8450431195168626, Validation Precision: 0.8471550603923907\n",
            "Epoch 91, Training Loss: 0.35856544971466064, Validation Loss: 0.3557223081588745, Training Precision: 0.8448123440046297, Validation Precision: 0.8461431949385425\n",
            "Epoch 92, Training Loss: 0.35720863938331604, Validation Loss: 0.35320356488227844, Training Precision: 0.8460478805931996, Validation Precision: 0.8488273011950663\n",
            "Epoch 93, Training Loss: 0.3553256392478943, Validation Loss: 0.3538110852241516, Training Precision: 0.846296408067912, Validation Precision: 0.8478047845259145\n",
            "Epoch 94, Training Loss: 0.35527169704437256, Validation Loss: 0.3529250919818878, Training Precision: 0.8469390291096681, Validation Precision: 0.8487207890420297\n",
            "Epoch 95, Training Loss: 0.3539227545261383, Validation Loss: 0.35004928708076477, Training Precision: 0.8476881619263009, Validation Precision: 0.8500628421702916\n",
            "Epoch 96, Training Loss: 0.3524364233016968, Validation Loss: 0.3487933278083801, Training Precision: 0.8481035578483201, Validation Precision: 0.8497752593570926\n",
            "Epoch 97, Training Loss: 0.35229918360710144, Validation Loss: 0.34965530037879944, Training Precision: 0.8491296212796324, Validation Precision: 0.8501693543233283\n",
            "Epoch 98, Training Loss: 0.3510214686393738, Validation Loss: 0.34840020537376404, Training Precision: 0.8483627365005202, Validation Precision: 0.8498285154336109\n",
            "Epoch 99, Training Loss: 0.3489905297756195, Validation Loss: 0.3481174111366272, Training Precision: 0.8508018561451969, Validation Precision: 0.8522995973840615\n",
            "Epoch 100, Training Loss: 0.3484574258327484, Validation Loss: 0.34708496928215027, Training Precision: 0.8503864602231777, Validation Precision: 0.8516605244658415\n",
            "Epoch 101, Training Loss: 0.3481278717517853, Validation Loss: 0.3453553318977356, Training Precision: 0.8507343986877749, Validation Precision: 0.8516711756811453\n",
            "Epoch 102, Training Loss: 0.34689387679100037, Validation Loss: 0.34426695108413696, Training Precision: 0.8518669738939639, Validation Precision: 0.8534925334980721\n",
            "Epoch 103, Training Loss: 0.34769439697265625, Validation Loss: 0.3442201018333435, Training Precision: 0.8504539176805996, Validation Precision: 0.8529173678716742\n",
            "Epoch 104, Training Loss: 0.34624364972114563, Validation Loss: 0.34324926137924194, Training Precision: 0.8519273305663941, Validation Precision: 0.8535244871439831\n",
            "Epoch 105, Training Loss: 0.3452305793762207, Validation Loss: 0.34077778458595276, Training Precision: 0.8520373927337667, Validation Precision: 0.8539079308949151\n",
            "Epoch 106, Training Loss: 0.3439531922340393, Validation Loss: 0.34087198972702026, Training Precision: 0.8527297192704654, Validation Precision: 0.8542700722152398\n",
            "Epoch 107, Training Loss: 0.3432569205760956, Validation Loss: 0.34059005975723267, Training Precision: 0.8539688062515312, Validation Precision: 0.8552393328078733\n",
            "Epoch 108, Training Loss: 0.3420190215110779, Validation Loss: 0.33947888016700745, Training Precision: 0.8536528213193969, Validation Precision: 0.8563151055535436\n",
            "Epoch 109, Training Loss: 0.34143102169036865, Validation Loss: 0.3378557562828064, Training Precision: 0.8536528213193969, Validation Precision: 0.8563577104147583\n",
            "Epoch 110, Training Loss: 0.34049227833747864, Validation Loss: 0.3391483724117279, Training Precision: 0.8548386524130243, Validation Precision: 0.8572524125002663\n",
            "Epoch 111, Training Loss: 0.33963268995285034, Validation Loss: 0.3359382450580597, Training Precision: 0.8555522813046982, Validation Precision: 0.8580832072939523\n",
            "Epoch 112, Training Loss: 0.3388236463069916, Validation Loss: 0.3359759747982025, Training Precision: 0.8558221111343859, Validation Precision: 0.8580832072939523\n",
            "Epoch 113, Training Loss: 0.33827605843544006, Validation Loss: 0.3366542458534241, Training Precision: 0.856304964513827, Validation Precision: 0.857838229341968\n",
            "Epoch 114, Training Loss: 0.3379376530647278, Validation Loss: 0.33535417914390564, Training Precision: 0.8567736163232845, Validation Precision: 0.8586051168438319\n",
            "Epoch 115, Training Loss: 0.337176650762558, Validation Loss: 0.3347337543964386, Training Precision: 0.8567345620058298, Validation Precision: 0.8580832072939523\n",
            "Epoch 116, Training Loss: 0.33639654517173767, Validation Loss: 0.3338202238082886, Training Precision: 0.8582541299940708, Validation Precision: 0.8594998189293398\n",
            "Epoch 117, Training Loss: 0.3366110026836395, Validation Loss: 0.333389550447464, Training Precision: 0.8566387014084407, Validation Precision: 0.8587009777815648\n",
            "Epoch 118, Training Loss: 0.33643966913223267, Validation Loss: 0.33514878153800964, Training Precision: 0.8579168427069612, Validation Precision: 0.8589566069488529\n",
            "Epoch 119, Training Loss: 0.3345980644226074, Validation Loss: 0.33254528045654297, Training Precision: 0.8576825168022325, Validation Precision: 0.8583388364612402\n",
            "Epoch 120, Training Loss: 0.3341578245162964, Validation Loss: 0.3314010798931122, Training Precision: 0.8589997124182078, Validation Precision: 0.8602667064312038\n",
            "Epoch 121, Training Loss: 0.33324867486953735, Validation Loss: 0.32945361733436584, Training Precision: 0.8591275265480599, Validation Precision: 0.8616300619900731\n",
            "Epoch 122, Training Loss: 0.33357715606689453, Validation Loss: 0.3294718861579895, Training Precision: 0.8587866888684544, Validation Precision: 0.8614383401146071\n",
            "Epoch 123, Training Loss: 0.3309815526008606, Validation Loss: 0.32878172397613525, Training Precision: 0.859610379927501, Validation Precision: 0.8606714526127431\n",
            "Epoch 124, Training Loss: 0.3309308886528015, Validation Loss: 0.3276371955871582, Training Precision: 0.8600896829144462, Validation Precision: 0.8621413203246491\n",
            "Epoch 125, Training Loss: 0.33118972182273865, Validation Loss: 0.32713690400123596, Training Precision: 0.8590778210531175, Validation Precision: 0.8611081524401935\n",
            "Epoch 126, Training Loss: 0.33084622025489807, Validation Loss: 0.32789182662963867, Training Precision: 0.8611086455607667, Validation Precision: 0.8628123468887801\n",
            "Epoch 127, Training Loss: 0.33172401785850525, Validation Loss: 0.32768991589546204, Training Precision: 0.8582931843115257, Validation Precision: 0.8605968941056175\n",
            "Epoch 128, Training Loss: 0.32900169491767883, Validation Loss: 0.3270156979560852, Training Precision: 0.861360723427975, Validation Precision: 0.8630786272713716\n",
            "Epoch 129, Training Loss: 0.32805293798446655, Validation Loss: 0.32590019702911377, Training Precision: 0.8613820257829503, Validation Precision: 0.8633236052233559\n",
            "Epoch 130, Training Loss: 0.329257994890213, Validation Loss: 0.325687438249588, Training Precision: 0.8600257758495201, Validation Precision: 0.8614596425452145\n",
            "Epoch 131, Training Loss: 0.32698389887809753, Validation Loss: 0.3250359892845154, Training Precision: 0.861651855612638, Validation Precision: 0.8633981637304816\n",
            "Epoch 132, Training Loss: 0.3279830515384674, Validation Loss: 0.32452088594436646, Training Precision: 0.8610731416358078, Validation Precision: 0.8628016956734763\n",
            "Epoch 133, Training Loss: 0.32596978545188904, Validation Loss: 0.3232707381248474, Training Precision: 0.8615914989402078, Validation Precision: 0.8625141128602773\n",
            "Epoch 134, Training Loss: 0.3253101110458374, Validation Loss: 0.32280123233795166, Training Precision: 0.8626530662964791, Validation Precision: 0.8642396097394712\n",
            "Epoch 135, Training Loss: 0.32411250472068787, Validation Loss: 0.32220444083213806, Training Precision: 0.862592709624049, Validation Precision: 0.8638135611273247\n",
            "Epoch 136, Training Loss: 0.3238345980644226, Validation Loss: 0.3218102753162384, Training Precision: 0.8638779517075613, Validation Precision: 0.8639094220650576\n",
            "Epoch 137, Training Loss: 0.32356977462768555, Validation Loss: 0.3199827969074249, Training Precision: 0.863011655938564, Validation Precision: 0.8652940800545342\n",
            "Epoch 138, Training Loss: 0.32350972294807434, Validation Loss: 0.3200870156288147, Training Precision: 0.8627595780713558, Validation Precision: 0.8653260337004453\n",
            "Epoch 139, Training Loss: 0.3219781517982483, Validation Loss: 0.3198288381099701, Training Precision: 0.863984463482438, Validation Precision: 0.8659544554033616\n",
            "Epoch 140, Training Loss: 0.32224076986312866, Validation Loss: 0.31950244307518005, Training Precision: 0.8639986650524215, Validation Precision: 0.8646337047057069\n",
            "Epoch 141, Training Loss: 0.3213191330432892, Validation Loss: 0.318769633769989, Training Precision: 0.8647868521865092, Validation Precision: 0.8662207357859532\n",
            "Epoch 142, Training Loss: 0.3213742673397064, Validation Loss: 0.31787922978401184, Training Precision: 0.8643182003770516, Validation Precision: 0.8653153824851415\n",
            "Epoch 143, Training Loss: 0.3201557993888855, Validation Loss: 0.317262202501297, Training Precision: 0.865376217340827, Validation Precision: 0.8677864644355922\n",
            "Epoch 144, Training Loss: 0.3194137513637543, Validation Loss: 0.3172001540660858, Training Precision: 0.864861410428923, Validation Precision: 0.8659544554033616\n",
            "Epoch 145, Training Loss: 0.31895360350608826, Validation Loss: 0.3168087601661682, Training Precision: 0.8646803404116326, Validation Precision: 0.8663485503695971\n",
            "Epoch 146, Training Loss: 0.3191201090812683, Validation Loss: 0.3157096803188324, Training Precision: 0.8657667605153749, Validation Precision: 0.8679675350957544\n",
            "Epoch 147, Training Loss: 0.31753626465797424, Validation Loss: 0.31489458680152893, Training Precision: 0.8662531642873119, Validation Precision: 0.8670302281490319\n",
            "Epoch 148, Training Loss: 0.3184702694416046, Validation Loss: 0.31524980068206787, Training Precision: 0.8651241394736188, Validation Precision: 0.8674669279764822\n",
            "Epoch 149, Training Loss: 0.3176931142807007, Validation Loss: 0.3140319585800171, Training Precision: 0.8661111485874764, Validation Precision: 0.8679462326651471\n",
            "Epoch 150, Training Loss: 0.31676074862480164, Validation Loss: 0.3141571581363678, Training Precision: 0.8668780333665886, Validation Precision: 0.8684255373538121\n",
            "Epoch 151, Training Loss: 0.3167567551136017, Validation Loss: 0.31406208872795105, Training Precision: 0.8667928239466873, Validation Precision: 0.8676053937754298\n",
            "Epoch 152, Training Loss: 0.31658971309661865, Validation Loss: 0.3141539394855499, Training Precision: 0.8673715379235174, Validation Precision: 0.868137954540613\n",
            "Epoch 153, Training Loss: 0.3164089024066925, Validation Loss: 0.3138354420661926, Training Precision: 0.8669099868990517, Validation Precision: 0.8675734401295188\n",
            "Epoch 154, Training Loss: 0.3157140016555786, Validation Loss: 0.3127537667751312, Training Precision: 0.8668567310116133, Validation Precision: 0.8692137272862833\n",
            "Epoch 155, Training Loss: 0.3156786561012268, Validation Loss: 0.3125734031200409, Training Precision: 0.8671230104488051, Validation Precision: 0.8681805594018277\n",
            "Epoch 156, Training Loss: 0.31509095430374146, Validation Loss: 0.31253454089164734, Training Precision: 0.8677833834530407, Validation Precision: 0.8688196323200477\n",
            "Epoch 157, Training Loss: 0.31420403718948364, Validation Loss: 0.31149065494537354, Training Precision: 0.8680212597502653, Validation Precision: 0.8689261444730844\n",
            "Epoch 158, Training Loss: 0.3147437870502472, Validation Loss: 0.3118554651737213, Training Precision: 0.8665265445094955, Validation Precision: 0.8682870715548644\n",
            "Epoch 159, Training Loss: 0.3137032389640808, Validation Loss: 0.3115790784358978, Training Precision: 0.8682236321225312, Validation Precision: 0.869735636836163\n",
            "Epoch 160, Training Loss: 0.3131404221057892, Validation Loss: 0.3111587464809418, Training Precision: 0.8691360829939749, Validation Precision: 0.869671729544341\n",
            "Epoch 161, Training Loss: 0.3130204975605011, Validation Loss: 0.31015193462371826, Training Precision: 0.868454407634764, Validation Precision: 0.8687450738129221\n",
            "Epoch 162, Training Loss: 0.3120422065258026, Validation Loss: 0.31015604734420776, Training Precision: 0.8689656641541722, Validation Precision: 0.8691498199944614\n",
            "Epoch 163, Training Loss: 0.31279733777046204, Validation Loss: 0.3103281259536743, Training Precision: 0.86877749335189, Validation Precision: 0.8694587052382677\n",
            "Epoch 164, Training Loss: 0.3129381835460663, Validation Loss: 0.3107213079929352, Training Precision: 0.869395261646175, Validation Precision: 0.8704918731227232\n",
            "Epoch 165, Training Loss: 0.3137115240097046, Validation Loss: 0.30965179204940796, Training Precision: 0.8675597087257997, Validation Precision: 0.8691391687791578\n",
            "Epoch 166, Training Loss: 0.3107971251010895, Validation Loss: 0.3086433708667755, Training Precision: 0.870364518797553, Validation Precision: 0.8719617408346292\n",
            "Epoch 167, Training Loss: 0.31409502029418945, Validation Loss: 0.31133776903152466, Training Precision: 0.869263897123827, Validation Precision: 0.8718552286815926\n",
            "Epoch 168, Training Loss: 0.31721705198287964, Validation Loss: 0.3142737150192261, Training Precision: 0.8653939693033065, Validation Precision: 0.8655497092218222\n",
            "Epoch 169, Training Loss: 0.3130030035972595, Validation Loss: 0.3097921311855316, Training Precision: 0.8673786387085092, Validation Precision: 0.8690113541955137\n",
            "Epoch 170, Training Loss: 0.3175468444824219, Validation Loss: 0.3152778744697571, Training Precision: 0.8660117375975914, Validation Precision: 0.8664124576614192\n",
            "Epoch 171, Training Loss: 0.3131970167160034, Validation Loss: 0.31033870577812195, Training Precision: 0.8671656151587558, Validation Precision: 0.8690113541955137\n",
            "Epoch 172, Training Loss: 0.31527894735336304, Validation Loss: 0.31190016865730286, Training Precision: 0.8658129156178216, Validation Precision: 0.8679568838804508\n",
            "Epoch 173, Training Loss: 0.31477662920951843, Validation Loss: 0.3107517957687378, Training Precision: 0.8674851504833859, Validation Precision: 0.8702681976013463\n",
            "Epoch 174, Training Loss: 0.31273987889289856, Validation Loss: 0.3091021776199341, Training Precision: 0.868809446884353, Validation Precision: 0.870822060797137\n",
            "Epoch 175, Training Loss: 0.3104289472103119, Validation Loss: 0.307410329580307, Training Precision: 0.8698248591381778, Validation Precision: 0.8719191359734145\n",
            "Epoch 176, Training Loss: 0.30975431203842163, Validation Loss: 0.30738937854766846, Training Precision: 0.8705491392073393, Validation Precision: 0.8716848092367339\n",
            "Epoch 177, Training Loss: 0.3116137981414795, Validation Loss: 0.3075767755508423, Training Precision: 0.8697005954008216, Validation Precision: 0.8720043456958438\n",
            "Epoch 178, Training Loss: 0.3115834891796112, Validation Loss: 0.308702677488327, Training Precision: 0.8684118029248133, Validation Precision: 0.8688835396118697\n",
            "Epoch 179, Training Loss: 0.30804187059402466, Validation Loss: 0.3061521351337433, Training Precision: 0.8706521005897202, Validation Precision: 0.8714185288541423\n",
            "Epoch 180, Training Loss: 0.3111450672149658, Validation Loss: 0.30831214785575867, Training Precision: 0.871014240624301, Validation Precision: 0.8729416526425665\n",
            "Epoch 181, Training Loss: 0.3112369775772095, Validation Loss: 0.3076746165752411, Training Precision: 0.867744329135586, Validation Precision: 0.8693308906546237\n",
            "Epoch 182, Training Loss: 0.31054726243019104, Validation Loss: 0.3069569170475006, Training Precision: 0.8677727322755531, Validation Precision: 0.8705131755533306\n",
            "Epoch 183, Training Loss: 0.3094392418861389, Validation Loss: 0.3070503771305084, Training Precision: 0.8697254481482928, Validation Precision: 0.8712268069786763\n",
            "Epoch 184, Training Loss: 0.30832192301750183, Validation Loss: 0.3052363991737366, Training Precision: 0.8701230921078326, Validation Precision: 0.8714504825000533\n",
            "Epoch 185, Training Loss: 0.3070673942565918, Validation Loss: 0.3033303916454315, Training Precision: 0.8699704252305093, Validation Precision: 0.8721641139253989\n",
            "Epoch 186, Training Loss: 0.3082989454269409, Validation Loss: 0.30387428402900696, Training Precision: 0.8711065508291942, Validation Precision: 0.8731653281639435\n",
            "Epoch 187, Training Loss: 0.306051105260849, Validation Loss: 0.3035055100917816, Training Precision: 0.8727148786298325, Validation Precision: 0.8743050082014358\n",
            "Epoch 188, Training Loss: 0.30650028586387634, Validation Loss: 0.3040079176425934, Training Precision: 0.8724592503701284, Validation Precision: 0.8731120720874251\n",
            "Epoch 189, Training Loss: 0.3054368495941162, Validation Loss: 0.30226948857307434, Training Precision: 0.8726225684249393, Validation Precision: 0.8743795667085614\n",
            "Epoch 190, Training Loss: 0.3051680028438568, Validation Loss: 0.3022916913032532, Training Precision: 0.8720154513081421, Validation Precision: 0.8740600302494514\n",
            "Epoch 191, Training Loss: 0.30397239327430725, Validation Loss: 0.3000854551792145, Training Precision: 0.872537359005038, Validation Precision: 0.8745819397993311\n",
            "Epoch 192, Training Loss: 0.3043205738067627, Validation Loss: 0.30109331011772156, Training Precision: 0.8730628170944298, Validation Precision: 0.8749121274737448\n",
            "Epoch 193, Training Loss: 0.30402955412864685, Validation Loss: 0.302131325006485, Training Precision: 0.8733042437841504, Validation Precision: 0.8752955712246767\n",
            "Epoch 194, Training Loss: 0.3036591112613678, Validation Loss: 0.29904377460479736, Training Precision: 0.8730521659169421, Validation Precision: 0.8758068295592527\n",
            "Epoch 195, Training Loss: 0.30317386984825134, Validation Loss: 0.2995137572288513, Training Precision: 0.8728142896197174, Validation Precision: 0.8744221715697761\n",
            "Epoch 196, Training Loss: 0.3023679554462433, Validation Loss: 0.2989681363105774, Training Precision: 0.8740214230683202, Validation Precision: 0.8754766418848391\n",
            "Epoch 197, Training Loss: 0.30212530493736267, Validation Loss: 0.29916009306907654, Training Precision: 0.8740427254232955, Validation Precision: 0.8756577125450014\n",
            "Epoch 198, Training Loss: 0.30223700404167175, Validation Loss: 0.29951047897338867, Training Precision: 0.8745717339051832, Validation Precision: 0.8758174807745563\n",
            "Epoch 199, Training Loss: 0.3010824918746948, Validation Loss: 0.2989208400249481, Training Precision: 0.874706648820027, Validation Precision: 0.8756896661909124\n",
            "Epoch 200, Training Loss: 0.30141377449035645, Validation Loss: 0.29777342081069946, Training Precision: 0.8742131442630983, Validation Precision: 0.8755085955307501\n"
          ]
        }
      ]
    },
    {
      "cell_type": "code",
      "source": [
        "# Testing and Evaluation\n",
        "GN_model.eval()\n",
        "_, pred = out.max(dim=1)\n",
        "correct = float(pred[data_scaled.test_mask].eq(data_scaled.y[data_scaled.test_mask]).sum().item())\n",
        "acc = correct / data_scaled.test_mask.sum().item()\n",
        "print(f\"Test Accuracy: {acc}\")\n",
        "\n",
        "from sklearn.metrics import precision_score\n",
        "\n",
        "\n",
        "# Testing and Evaluation\n",
        "GN_model.eval()\n",
        "_, pred = out.max(dim=1)\n",
        "\n",
        "# Extract ground truth and predictions for test set\n",
        "true_labels = data_scaled.y[data_scaled.test_mask].cpu().numpy()\n",
        "predicted_labels = pred[data_scaled.test_mask].cpu().numpy()"
      ],
      "metadata": {
        "id": "twp_PyW5v8-u",
        "colab": {
          "base_uri": "https://localhost:8080/"
        },
        "outputId": "c72f2752-ab5a-4f8c-c94d-898244778977"
      },
      "execution_count": null,
      "outputs": [
        {
          "output_type": "stream",
          "name": "stdout",
          "text": [
            "Test Accuracy: 0.8752649461586801\n"
          ]
        }
      ]
    },
    {
      "cell_type": "code",
      "source": [
        "from sklearn.metrics import f1_score\n",
        "result = confusion_matrix(true_labels, predicted_labels)\n",
        "print(\"Confusion Matrix:\")\n",
        "print(result)\n",
        "print('\\n')\n",
        "result1 = classification_report(true_labels, predicted_labels)\n",
        "print(\"Classification Report:\",)\n",
        "print (result1)\n",
        "print('\\n')\n",
        "g_result2 = accuracy_score(true_labels,predicted_labels)\n",
        "print(\"Accuracy:\",g_result2)\n",
        "print('\\n')\n",
        "# calculate precision and recall scores\n",
        "g_precision = precision_score(true_labels, predicted_labels)\n",
        "g_recall = recall_score(true_labels, predicted_labels)\n",
        "g_f1score = f1_score(true_labels, predicted_labels)\n",
        "\n",
        "# print the results\n",
        "print(\"Precision:\", g_precision)\n",
        "print(\"Recall:\", g_recall)\n",
        "print(\"f1 score:\", g_f1score)\n",
        "\n",
        "print(roc_auc_score(true_labels, predicted_labels))\n",
        "\n",
        "fpr, tpr, _ = roc_curve(true_labels, predicted_labels)\n",
        "\n",
        "plt.clf()\n",
        "plt.plot(fpr, tpr)\n",
        "plt.xlabel('FPR')\n",
        "plt.ylabel('TPR')\n",
        "plt.title('ROC curve')\n",
        "plt.show()"
      ],
      "metadata": {
        "id": "X8yuErRAxr6t",
        "colab": {
          "base_uri": "https://localhost:8080/",
          "height": 904
        },
        "outputId": "25f094c9-f222-41eb-af11-3de44f8ab9d9"
      },
      "execution_count": null,
      "outputs": [
        {
          "output_type": "stream",
          "name": "stdout",
          "text": [
            "Confusion Matrix:\n",
            "[[36784 10160]\n",
            " [ 1551 45392]]\n",
            "\n",
            "\n",
            "Classification Report:\n",
            "              precision    recall  f1-score   support\n",
            "\n",
            "           0       0.96      0.78      0.86     46944\n",
            "           1       0.82      0.97      0.89     46943\n",
            "\n",
            "    accuracy                           0.88     93887\n",
            "   macro avg       0.89      0.88      0.87     93887\n",
            "weighted avg       0.89      0.88      0.87     93887\n",
            "\n",
            "\n",
            "\n",
            "Accuracy: 0.8752649461586801\n",
            "\n",
            "\n",
            "Precision: 0.8171082949308756\n",
            "Recall: 0.9669599301280276\n",
            "f1 score: 0.8857407678423338\n",
            "0.8752659228008917\n"
          ]
        },
        {
          "output_type": "display_data",
          "data": {
            "text/plain": [
              "<Figure size 640x480 with 1 Axes>"
            ],
            "image/png": "[encoded data removed]"
          },
          "metadata": {}
        }
      ]
    },
    {
      "cell_type": "code",
      "source": [
        "import matplotlib.pyplot as plt\n",
        "import numpy as np\n",
        "\n",
        "# Define the models and their performance metrics\n",
        "models = ['KNN', 'XGBRFClassifier', 'Decision Tree', 'Graph Convolution Network']\n",
        "accuracy = [k_result2, x_result2, d_result2, g_result2]\n",
        "precision = [k_precision, x_precision, d_precision, g_precision]\n",
        "recall = [k_recall, x_recall, d_recall, g_recall]\n",
        "f1_score = [k_f1score, x_f1score, d_f1score, g_f1score]\n",
        "\n",
        "# Create a single plot for all metrics using grouped bar chart\n",
        "fig, ax = plt.subplots(figsize=(10, 5))\n",
        "fig.suptitle('Model Performance Comparison Across Metrics')\n",
        "\n",
        "# Set the positions and width for the bars\n",
        "pos = np.arange(len(models))\n",
        "bar_width = 0.2\n",
        "\n",
        "# Plot bars for each metric\n",
        "rects1 = ax.bar(pos - bar_width*1.5, accuracy, bar_width, label='Accuracy', color='blue')\n",
        "rects2 = ax.bar(pos - bar_width/2, precision, bar_width, label='Precision', color='green')\n",
        "rects3 = ax.bar(pos + bar_width/2, recall, bar_width, label='Recall', color='red')\n",
        "rects4 = ax.bar(pos + bar_width*1.5, f1_score, bar_width, label='F1 Score', color='purple')\n",
        "\n",
        "# Add some text for labels, title and custom x-axis tick labels, etc.\n",
        "ax.set_xlabel('Models')\n",
        "ax.set_ylabel('Metrics Value')\n",
        "ax.set_xticks(pos)\n",
        "ax.set_xticklabels(models)\n",
        "ax.set_ylim([0.7, 1.0])\n",
        "ax.legend()\n",
        "\n",
        "# Label with specially formatted floats\n",
        "ax.bar_label(rects1, fmt='%.3f')\n",
        "ax.bar_label(rects2, fmt='%.3f')\n",
        "ax.bar_label(rects3, fmt='%.3f')\n",
        "ax.bar_label(rects4, fmt='%.3f')\n",
        "\n",
        "plt.tight_layout(rect=[0, 0, 1, 0.96])\n",
        "plt.show()\n"
      ],
      "metadata": {
        "colab": {
          "base_uri": "https://localhost:8080/",
          "height": 512
        },
        "id": "jKM7XWg6P7aS",
        "outputId": "8bc0ae9c-5d74-4e36-afd5-43b4d0c8ef79"
      },
      "execution_count": null,
      "outputs": [
        {
          "output_type": "display_data",
          "data": {
            "text/plain": [
              "<Figure size 1000x500 with 1 Axes>"
            ],
            "image/png": "[encoded data removed]"
          },
          "metadata": {}
        }
      ]
    },
    {
      "cell_type": "markdown",
      "source": [
        "## MPNN"
      ],
      "metadata": {
        "id": "OcBFP8am_kUg"
      }
    },
    {
      "cell_type": "code",
      "source": [
        "from torch_geometric.nn import MessagePassing"
      ],
      "metadata": {
        "id": "IbDuu2DY_jn7"
      },
      "execution_count": null,
      "outputs": []
    },
    {
      "cell_type": "code",
      "source": [
        "class MPNNLayer(MessagePassing):\n",
        "    def __init__(self, in_channels, out_channels):\n",
        "        super(MPNNLayer, self).__init__(aggr='mean')  # \"Mean\" aggregation.\n",
        "        self.lin = torch.nn.Linear(in_channels, out_channels)\n",
        "        self.act = torch.nn.ReLU()\n",
        "\n",
        "    def forward(self, x, edge_index):\n",
        "        # x has shape [N, in_channels]\n",
        "        # edge_index has shape [2, E]\n",
        "        return self.propagate(edge_index, size=(x.size(0), x.size(0)), x=x)\n",
        "\n",
        "    def message(self, x_j, edge_index, size):\n",
        "        # x_j has shape [E, in_channels]\n",
        "        x_j = self.lin(x_j)\n",
        "        x_j = self.act(x_j)\n",
        "        return x_j\n",
        "\n",
        "    def update(self, aggr_out):\n",
        "        # aggr_out has shape [N, out_channels]\n",
        "        return aggr_out"
      ],
      "metadata": {
        "id": "eYYasMuL_pgO"
      },
      "execution_count": null,
      "outputs": []
    },
    {
      "cell_type": "code",
      "source": [
        "class MPNNModel(torch.nn.Module):\n",
        "    def __init__(self, num_node_features):\n",
        "        super(MPNNModel, self).__init__()\n",
        "        self.layer1 = MPNNLayer(num_node_features, 64)  # Increase to 64 nodes\n",
        "        self.layer2 = MPNNLayer(64, 32)  # New layer\n",
        "        self.layer3 = MPNNLayer(32, 32)  # New layer\n",
        "        self.layer4 = MPNNLayer(32, 16)  # Reduce to 16 nodes\n",
        "        self.layer5 = MPNNLayer(16, 2)   # Output layer for binary classification\n",
        "\n",
        "    def forward(self, data):\n",
        "        x, edge_index = data.x, data.edge_index\n",
        "        x = F.relu(self.layer1(x, edge_index))\n",
        "        x = F.relu(self.layer2(x, edge_index))\n",
        "        x = F.relu(self.layer3(x, edge_index))\n",
        "        x = F.relu(self.layer4(x, edge_index))\n",
        "        x = self.layer5(x, edge_index)\n",
        "        return F.log_softmax(x, dim=1)\n"
      ],
      "metadata": {
        "id": "a8RGvRwR_yFs"
      },
      "execution_count": null,
      "outputs": []
    },
    {
      "cell_type": "code",
      "source": [
        "# Initialize the model and optimizer\n",
        "MPNN_model = MPNNModel(data_scaled.num_node_features)\n",
        "optimizer = torch.optim.Adam(MPNN_model.parameters(), lr=0.001)\n",
        "# Initialize the SGD optimizer with momentum\n",
        "\n",
        "# Lists to hold loss and precision values for plotting or analysis\n",
        "train_losses = []\n",
        "val_losses = []\n",
        "train_precisions = []\n",
        "val_precisions = []\n",
        "\n",
        "# Training loop with validation\n",
        "for epoch in range(200):\n",
        "    MPNN_model.train()\n",
        "    optimizer.zero_grad()\n",
        "    out = MPNN_model(data_scaled)\n",
        "\n",
        "    # Training loss\n",
        "    train_loss = F.nll_loss(out[data_scaled.train_mask], data_scaled.y[data_scaled.train_mask])\n",
        "    train_loss.backward()\n",
        "    optimizer.step()\n",
        "\n",
        "    # Calculate training precision\n",
        "    _, train_pred = out[data_scaled.train_mask].max(dim=1)\n",
        "    train_true = data_scaled.y[data_scaled.train_mask]\n",
        "    train_precision = precision_score(train_true.cpu(), train_pred.cpu(), average='micro')\n",
        "\n",
        "    # Validation\n",
        "    MPNN_model.eval()  # Set the model to evaluation mode\n",
        "    with torch.no_grad():  # Deactivate autograd engine to reduce memory usage and speed up computations\n",
        "        val_loss = F.nll_loss(out[data_scaled.val_mask], data_scaled.y[data_scaled.val_mask])\n",
        "\n",
        "        # Calculate validation precision\n",
        "        _, val_pred = out[data_scaled.val_mask].max(dim=1)\n",
        "        val_true = data_scaled.y[data_scaled.val_mask]\n",
        "        val_precision = precision_score(val_true.cpu(), val_pred.cpu(), average='micro')\n",
        "\n",
        "    # Print the metrics\n",
        "    print(f\"Epoch {epoch+1}, Training Loss: {train_loss.item()}, Validation Loss: {val_loss.item()}, Training Precision: {train_precision}, Validation Precision: {val_precision}\")"
      ],
      "metadata": {
        "colab": {
          "base_uri": "https://localhost:8080/"
        },
        "id": "_z7G1vFR_0nc",
        "outputId": "eeaad09f-ef0e-4f99-946a-669205675cf3"
      },
      "execution_count": null,
      "outputs": [
        {
          "output_type": "stream",
          "name": "stdout",
          "text": [
            "Epoch 1, Training Loss: 0.6929028034210205, Validation Loss: 0.6929224133491516, Training Precision: 0.49999822480375206, Validation Precision: 0.5\n",
            "Epoch 2, Training Loss: 0.6928874850273132, Validation Loss: 0.6929083466529846, Training Precision: 0.49999822480375206, Validation Precision: 0.5\n",
            "Epoch 3, Training Loss: 0.6928715109825134, Validation Loss: 0.6928941011428833, Training Precision: 0.49999822480375206, Validation Precision: 0.5\n",
            "Epoch 4, Training Loss: 0.6928553581237793, Validation Loss: 0.6928796768188477, Training Precision: 0.49999822480375206, Validation Precision: 0.5\n",
            "Epoch 5, Training Loss: 0.6928388476371765, Validation Loss: 0.6928649544715881, Training Precision: 0.49999822480375206, Validation Precision: 0.5\n",
            "Epoch 6, Training Loss: 0.6928218007087708, Validation Loss: 0.6928497552871704, Training Precision: 0.49999822480375206, Validation Precision: 0.5\n",
            "Epoch 7, Training Loss: 0.6928039789199829, Validation Loss: 0.6928339004516602, Training Precision: 0.49999822480375206, Validation Precision: 0.5\n",
            "Epoch 8, Training Loss: 0.6927853226661682, Validation Loss: 0.6928172707557678, Training Precision: 0.49999822480375206, Validation Precision: 0.5\n",
            "Epoch 9, Training Loss: 0.6927658915519714, Validation Loss: 0.6927999258041382, Training Precision: 0.49999822480375206, Validation Precision: 0.5\n",
            "Epoch 10, Training Loss: 0.692745566368103, Validation Loss: 0.6927816867828369, Training Precision: 0.49999822480375206, Validation Precision: 0.5\n",
            "Epoch 11, Training Loss: 0.6927241683006287, Validation Loss: 0.6927624940872192, Training Precision: 0.49999822480375206, Validation Precision: 0.5\n",
            "Epoch 12, Training Loss: 0.692701518535614, Validation Loss: 0.6927422881126404, Training Precision: 0.49999822480375206, Validation Precision: 0.5\n",
            "Epoch 13, Training Loss: 0.69267737865448, Validation Loss: 0.6927207708358765, Training Precision: 0.49999822480375206, Validation Precision: 0.5\n",
            "Epoch 14, Training Loss: 0.6926523447036743, Validation Loss: 0.6926984190940857, Training Precision: 0.49999822480375206, Validation Precision: 0.5\n",
            "Epoch 15, Training Loss: 0.6926262378692627, Validation Loss: 0.6926751732826233, Training Precision: 0.49999822480375206, Validation Precision: 0.5\n",
            "Epoch 16, Training Loss: 0.6925991177558899, Validation Loss: 0.6926510334014893, Training Precision: 0.49999822480375206, Validation Precision: 0.5\n",
            "Epoch 17, Training Loss: 0.6925706267356873, Validation Loss: 0.6926257610321045, Training Precision: 0.49999822480375206, Validation Precision: 0.5\n",
            "Epoch 18, Training Loss: 0.69254070520401, Validation Loss: 0.6925992369651794, Training Precision: 0.49999822480375206, Validation Precision: 0.5\n",
            "Epoch 19, Training Loss: 0.6925094723701477, Validation Loss: 0.6925714612007141, Training Precision: 0.49999822480375206, Validation Precision: 0.5\n",
            "Epoch 20, Training Loss: 0.6924771070480347, Validation Loss: 0.6925429105758667, Training Precision: 0.49999822480375206, Validation Precision: 0.5\n",
            "Epoch 21, Training Loss: 0.6924448609352112, Validation Loss: 0.6925142407417297, Training Precision: 0.49999822480375206, Validation Precision: 0.5\n",
            "Epoch 22, Training Loss: 0.6924107074737549, Validation Loss: 0.6924839615821838, Training Precision: 0.49999822480375206, Validation Precision: 0.5\n",
            "Epoch 23, Training Loss: 0.6923736333847046, Validation Loss: 0.6924506425857544, Training Precision: 0.49999822480375206, Validation Precision: 0.5\n",
            "Epoch 24, Training Loss: 0.6923332810401917, Validation Loss: 0.6924144625663757, Training Precision: 0.49999822480375206, Validation Precision: 0.5\n",
            "Epoch 25, Training Loss: 0.6922896504402161, Validation Loss: 0.6923751831054688, Training Precision: 0.49999822480375206, Validation Precision: 0.5\n",
            "Epoch 26, Training Loss: 0.6922421455383301, Validation Loss: 0.6923321485519409, Training Precision: 0.49999822480375206, Validation Precision: 0.5\n",
            "Epoch 27, Training Loss: 0.6921907067298889, Validation Loss: 0.6922852993011475, Training Precision: 0.49999822480375206, Validation Precision: 0.5\n",
            "Epoch 28, Training Loss: 0.6921344995498657, Validation Loss: 0.6922340989112854, Training Precision: 0.49999822480375206, Validation Precision: 0.5\n",
            "Epoch 29, Training Loss: 0.6920732259750366, Validation Loss: 0.6921780705451965, Training Precision: 0.49999822480375206, Validation Precision: 0.5\n",
            "Epoch 30, Training Loss: 0.6920072436332703, Validation Loss: 0.6921176314353943, Training Precision: 0.49999822480375206, Validation Precision: 0.5\n",
            "Epoch 31, Training Loss: 0.6919362545013428, Validation Loss: 0.6920521855354309, Training Precision: 0.49999822480375206, Validation Precision: 0.5\n",
            "Epoch 32, Training Loss: 0.691860020160675, Validation Loss: 0.6919816136360168, Training Precision: 0.49999822480375206, Validation Precision: 0.5\n",
            "Epoch 33, Training Loss: 0.6917778253555298, Validation Loss: 0.6919055581092834, Training Precision: 0.49999822480375206, Validation Precision: 0.5\n",
            "Epoch 34, Training Loss: 0.6916902661323547, Validation Loss: 0.6918244957923889, Training Precision: 0.49999822480375206, Validation Precision: 0.5\n",
            "Epoch 35, Training Loss: 0.6915985941886902, Validation Loss: 0.6917397379875183, Training Precision: 0.49999822480375206, Validation Precision: 0.5\n",
            "Epoch 36, Training Loss: 0.6915037631988525, Validation Loss: 0.6916519999504089, Training Precision: 0.49999822480375206, Validation Precision: 0.5\n",
            "Epoch 37, Training Loss: 0.6914070248603821, Validation Loss: 0.6915622353553772, Training Precision: 0.49999822480375206, Validation Precision: 0.5\n",
            "Epoch 38, Training Loss: 0.6913094520568848, Validation Loss: 0.6914716362953186, Training Precision: 0.49999822480375206, Validation Precision: 0.5\n",
            "Epoch 39, Training Loss: 0.6912121176719666, Validation Loss: 0.6913810968399048, Training Precision: 0.49999822480375206, Validation Precision: 0.5\n",
            "Epoch 40, Training Loss: 0.691116213798523, Validation Loss: 0.6912916898727417, Training Precision: 0.49999822480375206, Validation Precision: 0.5\n",
            "Epoch 41, Training Loss: 0.6910229325294495, Validation Loss: 0.6912046074867249, Training Precision: 0.49999822480375206, Validation Precision: 0.5\n",
            "Epoch 42, Training Loss: 0.6909334659576416, Validation Loss: 0.6911208033561707, Training Precision: 0.49999822480375206, Validation Precision: 0.5\n",
            "Epoch 43, Training Loss: 0.6908490657806396, Validation Loss: 0.6910415291786194, Training Precision: 0.49999822480375206, Validation Precision: 0.5\n",
            "Epoch 44, Training Loss: 0.6907706260681152, Validation Loss: 0.6909677982330322, Training Precision: 0.49999822480375206, Validation Precision: 0.5\n",
            "Epoch 45, Training Loss: 0.6906991004943848, Validation Loss: 0.6909003853797913, Training Precision: 0.49999822480375206, Validation Precision: 0.5\n",
            "Epoch 46, Training Loss: 0.690635085105896, Validation Loss: 0.6908398270606995, Training Precision: 0.49999822480375206, Validation Precision: 0.5\n",
            "Epoch 47, Training Loss: 0.6905788779258728, Validation Loss: 0.6907864809036255, Training Precision: 0.49999822480375206, Validation Precision: 0.5\n",
            "Epoch 48, Training Loss: 0.6905303597450256, Validation Loss: 0.6907402873039246, Training Precision: 0.49999822480375206, Validation Precision: 0.5\n",
            "Epoch 49, Training Loss: 0.6904892921447754, Validation Loss: 0.6907010078430176, Training Precision: 0.49999822480375206, Validation Precision: 0.5\n",
            "Epoch 50, Training Loss: 0.6904551386833191, Validation Loss: 0.6906682252883911, Training Precision: 0.49999822480375206, Validation Precision: 0.5\n",
            "Epoch 51, Training Loss: 0.6904271841049194, Validation Loss: 0.6906411051750183, Training Precision: 0.49999822480375206, Validation Precision: 0.5\n",
            "Epoch 52, Training Loss: 0.6904045939445496, Validation Loss: 0.6906189918518066, Training Precision: 0.49999822480375206, Validation Precision: 0.5\n",
            "Epoch 53, Training Loss: 0.6903866529464722, Validation Loss: 0.690601110458374, Training Precision: 0.49999822480375206, Validation Precision: 0.5\n",
            "Epoch 54, Training Loss: 0.6903724074363708, Validation Loss: 0.6905869245529175, Training Precision: 0.49999822480375206, Validation Precision: 0.5\n",
            "Epoch 55, Training Loss: 0.6903612017631531, Validation Loss: 0.6905755400657654, Training Precision: 0.49999822480375206, Validation Precision: 0.5\n",
            "Epoch 56, Training Loss: 0.6903525590896606, Validation Loss: 0.6905664801597595, Training Precision: 0.49999822480375206, Validation Precision: 0.5\n",
            "Epoch 57, Training Loss: 0.6903458833694458, Validation Loss: 0.690559446811676, Training Precision: 0.49999822480375206, Validation Precision: 0.5\n",
            "Epoch 58, Training Loss: 0.6903406381607056, Validation Loss: 0.6905537843704224, Training Precision: 0.49999822480375206, Validation Precision: 0.5\n",
            "Epoch 59, Training Loss: 0.6903366446495056, Validation Loss: 0.6905493140220642, Training Precision: 0.49999822480375206, Validation Precision: 0.5\n",
            "Epoch 60, Training Loss: 0.6903335452079773, Validation Loss: 0.6905456781387329, Training Precision: 0.49999822480375206, Validation Precision: 0.5\n",
            "Epoch 61, Training Loss: 0.6903311610221863, Validation Loss: 0.6905427575111389, Training Precision: 0.49999822480375206, Validation Precision: 0.5\n",
            "Epoch 62, Training Loss: 0.6903293132781982, Validation Loss: 0.6905404925346375, Training Precision: 0.49999822480375206, Validation Precision: 0.5\n",
            "Epoch 63, Training Loss: 0.6903279423713684, Validation Loss: 0.6905385851860046, Training Precision: 0.49999822480375206, Validation Precision: 0.5\n",
            "Epoch 64, Training Loss: 0.6903268098831177, Validation Loss: 0.6905370950698853, Training Precision: 0.49999822480375206, Validation Precision: 0.5\n",
            "Epoch 65, Training Loss: 0.6903259754180908, Validation Loss: 0.690535843372345, Training Precision: 0.49999822480375206, Validation Precision: 0.5\n",
            "Epoch 66, Training Loss: 0.6903253793716431, Validation Loss: 0.6905348300933838, Training Precision: 0.49999822480375206, Validation Precision: 0.5\n",
            "Epoch 67, Training Loss: 0.6903249025344849, Validation Loss: 0.6905339360237122, Training Precision: 0.49999822480375206, Validation Precision: 0.5\n",
            "Epoch 68, Training Loss: 0.6903244853019714, Validation Loss: 0.6905332803726196, Training Precision: 0.49999822480375206, Validation Precision: 0.5\n",
            "Epoch 69, Training Loss: 0.6903241872787476, Validation Loss: 0.6905326843261719, Training Precision: 0.49999822480375206, Validation Precision: 0.5\n",
            "Epoch 70, Training Loss: 0.6903239488601685, Validation Loss: 0.6905322074890137, Training Precision: 0.49999822480375206, Validation Precision: 0.5\n",
            "Epoch 71, Training Loss: 0.6903237700462341, Validation Loss: 0.6905317902565002, Training Precision: 0.49999822480375206, Validation Precision: 0.5\n",
            "Epoch 72, Training Loss: 0.6903235912322998, Validation Loss: 0.6905314326286316, Training Precision: 0.49999822480375206, Validation Precision: 0.5\n",
            "Epoch 73, Training Loss: 0.6903234720230103, Validation Loss: 0.6905310750007629, Training Precision: 0.49999822480375206, Validation Precision: 0.5\n",
            "Epoch 74, Training Loss: 0.6903234124183655, Validation Loss: 0.6905308365821838, Training Precision: 0.49999822480375206, Validation Precision: 0.5\n",
            "Epoch 75, Training Loss: 0.6903232932090759, Validation Loss: 0.6905305981636047, Training Precision: 0.49999822480375206, Validation Precision: 0.5\n",
            "Epoch 76, Training Loss: 0.6903232336044312, Validation Loss: 0.6905304193496704, Training Precision: 0.49999822480375206, Validation Precision: 0.5\n",
            "Epoch 77, Training Loss: 0.6903231143951416, Validation Loss: 0.6905303001403809, Training Precision: 0.49999822480375206, Validation Precision: 0.5\n",
            "Epoch 78, Training Loss: 0.6903230547904968, Validation Loss: 0.6905301213264465, Training Precision: 0.49999822480375206, Validation Precision: 0.5\n",
            "Epoch 79, Training Loss: 0.690322995185852, Validation Loss: 0.690530002117157, Training Precision: 0.49999822480375206, Validation Precision: 0.5\n",
            "Epoch 80, Training Loss: 0.6903229355812073, Validation Loss: 0.6905298829078674, Training Precision: 0.49999822480375206, Validation Precision: 0.5\n",
            "Epoch 81, Training Loss: 0.6903228163719177, Validation Loss: 0.6905297636985779, Training Precision: 0.49999822480375206, Validation Precision: 0.5\n",
            "Epoch 82, Training Loss: 0.690322756767273, Validation Loss: 0.6905297040939331, Training Precision: 0.49999822480375206, Validation Precision: 0.5\n",
            "Epoch 83, Training Loss: 0.690322756767273, Validation Loss: 0.6905297040939331, Training Precision: 0.49999822480375206, Validation Precision: 0.5\n",
            "Epoch 84, Training Loss: 0.6903226971626282, Validation Loss: 0.6905295848846436, Training Precision: 0.49999822480375206, Validation Precision: 0.5\n",
            "Epoch 85, Training Loss: 0.6903225779533386, Validation Loss: 0.6905295848846436, Training Precision: 0.49999822480375206, Validation Precision: 0.5\n",
            "Epoch 86, Training Loss: 0.6903225183486938, Validation Loss: 0.6905295252799988, Training Precision: 0.49999822480375206, Validation Precision: 0.5\n",
            "Epoch 87, Training Loss: 0.6903224587440491, Validation Loss: 0.6905295252799988, Training Precision: 0.49999822480375206, Validation Precision: 0.5\n",
            "Epoch 88, Training Loss: 0.6903223991394043, Validation Loss: 0.690529465675354, Training Precision: 0.49999822480375206, Validation Precision: 0.5\n",
            "Epoch 89, Training Loss: 0.6903222799301147, Validation Loss: 0.690529465675354, Training Precision: 0.49999822480375206, Validation Precision: 0.5\n",
            "Epoch 90, Training Loss: 0.69032222032547, Validation Loss: 0.690529465675354, Training Precision: 0.49999822480375206, Validation Precision: 0.5\n",
            "Epoch 91, Training Loss: 0.6903221011161804, Validation Loss: 0.690529465675354, Training Precision: 0.49999822480375206, Validation Precision: 0.5\n",
            "Epoch 92, Training Loss: 0.6903220415115356, Validation Loss: 0.690529465675354, Training Precision: 0.49999822480375206, Validation Precision: 0.5\n",
            "Epoch 93, Training Loss: 0.6903219223022461, Validation Loss: 0.690529465675354, Training Precision: 0.49999822480375206, Validation Precision: 0.5\n",
            "Epoch 94, Training Loss: 0.6903219223022461, Validation Loss: 0.690529465675354, Training Precision: 0.49999822480375206, Validation Precision: 0.5\n",
            "Epoch 95, Training Loss: 0.6903218030929565, Validation Loss: 0.690529465675354, Training Precision: 0.49999822480375206, Validation Precision: 0.5\n",
            "Epoch 96, Training Loss: 0.690321683883667, Validation Loss: 0.690529465675354, Training Precision: 0.49999822480375206, Validation Precision: 0.5\n",
            "Epoch 97, Training Loss: 0.6903216242790222, Validation Loss: 0.690529465675354, Training Precision: 0.49999822480375206, Validation Precision: 0.5\n",
            "Epoch 98, Training Loss: 0.6903215050697327, Validation Loss: 0.690529465675354, Training Precision: 0.49999822480375206, Validation Precision: 0.5\n",
            "Epoch 99, Training Loss: 0.6903214454650879, Validation Loss: 0.6905295252799988, Training Precision: 0.49999822480375206, Validation Precision: 0.5\n",
            "Epoch 100, Training Loss: 0.6903213262557983, Validation Loss: 0.6905295252799988, Training Precision: 0.49999822480375206, Validation Precision: 0.5\n",
            "Epoch 101, Training Loss: 0.6903212070465088, Validation Loss: 0.6905295252799988, Training Precision: 0.49999822480375206, Validation Precision: 0.5\n",
            "Epoch 102, Training Loss: 0.690321147441864, Validation Loss: 0.6905295252799988, Training Precision: 0.49999822480375206, Validation Precision: 0.5\n",
            "Epoch 103, Training Loss: 0.6903210878372192, Validation Loss: 0.6905295252799988, Training Precision: 0.49999822480375206, Validation Precision: 0.5\n",
            "Epoch 104, Training Loss: 0.6903209686279297, Validation Loss: 0.6905295848846436, Training Precision: 0.49999822480375206, Validation Precision: 0.5\n",
            "Epoch 105, Training Loss: 0.6903209090232849, Validation Loss: 0.6905295848846436, Training Precision: 0.49999822480375206, Validation Precision: 0.5\n",
            "Epoch 106, Training Loss: 0.6903207898139954, Validation Loss: 0.6905295848846436, Training Precision: 0.49999822480375206, Validation Precision: 0.5\n",
            "Epoch 107, Training Loss: 0.6903206706047058, Validation Loss: 0.6905297040939331, Training Precision: 0.49999822480375206, Validation Precision: 0.5\n",
            "Epoch 108, Training Loss: 0.690320611000061, Validation Loss: 0.6905297040939331, Training Precision: 0.49999822480375206, Validation Precision: 0.5\n",
            "Epoch 109, Training Loss: 0.6903204917907715, Validation Loss: 0.6905297040939331, Training Precision: 0.49999822480375206, Validation Precision: 0.5\n",
            "Epoch 110, Training Loss: 0.6903204321861267, Validation Loss: 0.6905297636985779, Training Precision: 0.49999822480375206, Validation Precision: 0.5\n",
            "Epoch 111, Training Loss: 0.6903203725814819, Validation Loss: 0.6905297636985779, Training Precision: 0.49999822480375206, Validation Precision: 0.5\n",
            "Epoch 112, Training Loss: 0.6903202533721924, Validation Loss: 0.6905297636985779, Training Precision: 0.49999822480375206, Validation Precision: 0.5\n",
            "Epoch 113, Training Loss: 0.6903201937675476, Validation Loss: 0.6905298829078674, Training Precision: 0.49999822480375206, Validation Precision: 0.5\n",
            "Epoch 114, Training Loss: 0.6903200745582581, Validation Loss: 0.6905298829078674, Training Precision: 0.49999822480375206, Validation Precision: 0.5\n",
            "Epoch 115, Training Loss: 0.6903200149536133, Validation Loss: 0.6905299425125122, Training Precision: 0.49999822480375206, Validation Precision: 0.5\n",
            "Epoch 116, Training Loss: 0.6903198957443237, Validation Loss: 0.6905299425125122, Training Precision: 0.49999822480375206, Validation Precision: 0.5\n",
            "Epoch 117, Training Loss: 0.690319836139679, Validation Loss: 0.6905299425125122, Training Precision: 0.49999822480375206, Validation Precision: 0.5\n",
            "Epoch 118, Training Loss: 0.6903197169303894, Validation Loss: 0.690530002117157, Training Precision: 0.49999822480375206, Validation Precision: 0.5\n",
            "Epoch 119, Training Loss: 0.6903195977210999, Validation Loss: 0.690530002117157, Training Precision: 0.49999822480375206, Validation Precision: 0.5\n",
            "Epoch 120, Training Loss: 0.6903195381164551, Validation Loss: 0.6905301213264465, Training Precision: 0.49999822480375206, Validation Precision: 0.5\n",
            "Epoch 121, Training Loss: 0.6903194785118103, Validation Loss: 0.6905301213264465, Training Precision: 0.49999822480375206, Validation Precision: 0.5\n",
            "Epoch 122, Training Loss: 0.6903194189071655, Validation Loss: 0.6905301213264465, Training Precision: 0.49999822480375206, Validation Precision: 0.5\n",
            "Epoch 123, Training Loss: 0.690319299697876, Validation Loss: 0.6905301809310913, Training Precision: 0.49999822480375206, Validation Precision: 0.5\n",
            "Epoch 124, Training Loss: 0.6903192400932312, Validation Loss: 0.6905301809310913, Training Precision: 0.49999822480375206, Validation Precision: 0.5\n",
            "Epoch 125, Training Loss: 0.6903191208839417, Validation Loss: 0.6905303001403809, Training Precision: 0.49999822480375206, Validation Precision: 0.5\n",
            "Epoch 126, Training Loss: 0.6903190612792969, Validation Loss: 0.6905303001403809, Training Precision: 0.49999822480375206, Validation Precision: 0.5\n",
            "Epoch 127, Training Loss: 0.6903189420700073, Validation Loss: 0.6905303001403809, Training Precision: 0.49999822480375206, Validation Precision: 0.5\n",
            "Epoch 128, Training Loss: 0.6903188824653625, Validation Loss: 0.6905303597450256, Training Precision: 0.49999822480375206, Validation Precision: 0.5\n",
            "Epoch 129, Training Loss: 0.6903188228607178, Validation Loss: 0.6905303597450256, Training Precision: 0.49999822480375206, Validation Precision: 0.5\n",
            "Epoch 130, Training Loss: 0.690318763256073, Validation Loss: 0.6905304193496704, Training Precision: 0.49999822480375206, Validation Precision: 0.5\n",
            "Epoch 131, Training Loss: 0.6903187036514282, Validation Loss: 0.6905304193496704, Training Precision: 0.49999822480375206, Validation Precision: 0.5\n",
            "Epoch 132, Training Loss: 0.6903186440467834, Validation Loss: 0.6905304193496704, Training Precision: 0.49999822480375206, Validation Precision: 0.5\n",
            "Epoch 133, Training Loss: 0.6903185248374939, Validation Loss: 0.69053053855896, Training Precision: 0.49999822480375206, Validation Precision: 0.5\n",
            "Epoch 134, Training Loss: 0.6903184652328491, Validation Loss: 0.69053053855896, Training Precision: 0.49999822480375206, Validation Precision: 0.5\n",
            "Epoch 135, Training Loss: 0.6903184056282043, Validation Loss: 0.6905305981636047, Training Precision: 0.49999822480375206, Validation Precision: 0.5\n",
            "Epoch 136, Training Loss: 0.6903183460235596, Validation Loss: 0.6905305981636047, Training Precision: 0.49999822480375206, Validation Precision: 0.5\n",
            "Epoch 137, Training Loss: 0.69031822681427, Validation Loss: 0.6905305981636047, Training Precision: 0.49999822480375206, Validation Precision: 0.5\n",
            "Epoch 138, Training Loss: 0.6903181672096252, Validation Loss: 0.6905306577682495, Training Precision: 0.49999822480375206, Validation Precision: 0.5\n",
            "Epoch 139, Training Loss: 0.6903181076049805, Validation Loss: 0.6905306577682495, Training Precision: 0.49999822480375206, Validation Precision: 0.5\n",
            "Epoch 140, Training Loss: 0.6903180480003357, Validation Loss: 0.6905306577682495, Training Precision: 0.49999822480375206, Validation Precision: 0.5\n",
            "Epoch 141, Training Loss: 0.6903179287910461, Validation Loss: 0.6905307769775391, Training Precision: 0.49999822480375206, Validation Precision: 0.5\n",
            "Epoch 142, Training Loss: 0.6903179287910461, Validation Loss: 0.6905307769775391, Training Precision: 0.49999822480375206, Validation Precision: 0.5\n",
            "Epoch 143, Training Loss: 0.6903178691864014, Validation Loss: 0.6905307769775391, Training Precision: 0.49999822480375206, Validation Precision: 0.5\n",
            "Epoch 144, Training Loss: 0.6903178095817566, Validation Loss: 0.6905308365821838, Training Precision: 0.49999822480375206, Validation Precision: 0.5\n",
            "Epoch 145, Training Loss: 0.6903177499771118, Validation Loss: 0.6905308365821838, Training Precision: 0.49999822480375206, Validation Precision: 0.5\n",
            "Epoch 146, Training Loss: 0.690317690372467, Validation Loss: 0.6905308365821838, Training Precision: 0.49999822480375206, Validation Precision: 0.5\n",
            "Epoch 147, Training Loss: 0.6903176307678223, Validation Loss: 0.6905309557914734, Training Precision: 0.49999822480375206, Validation Precision: 0.5\n",
            "Epoch 148, Training Loss: 0.6903175711631775, Validation Loss: 0.6905309557914734, Training Precision: 0.49999822480375206, Validation Precision: 0.5\n",
            "Epoch 149, Training Loss: 0.6903175115585327, Validation Loss: 0.6905309557914734, Training Precision: 0.49999822480375206, Validation Precision: 0.5\n",
            "Epoch 150, Training Loss: 0.6903174519538879, Validation Loss: 0.6905310153961182, Training Precision: 0.49999822480375206, Validation Precision: 0.5\n",
            "Epoch 151, Training Loss: 0.6903173923492432, Validation Loss: 0.6905310153961182, Training Precision: 0.49999822480375206, Validation Precision: 0.5\n",
            "Epoch 152, Training Loss: 0.6903173327445984, Validation Loss: 0.6905310153961182, Training Precision: 0.49999822480375206, Validation Precision: 0.5\n",
            "Epoch 153, Training Loss: 0.6903172731399536, Validation Loss: 0.6905310750007629, Training Precision: 0.49999822480375206, Validation Precision: 0.5\n",
            "Epoch 154, Training Loss: 0.6903172135353088, Validation Loss: 0.6905310750007629, Training Precision: 0.49999822480375206, Validation Precision: 0.5\n",
            "Epoch 155, Training Loss: 0.6903171539306641, Validation Loss: 0.6905310750007629, Training Precision: 0.49999822480375206, Validation Precision: 0.5\n",
            "Epoch 156, Training Loss: 0.6903171539306641, Validation Loss: 0.6905310750007629, Training Precision: 0.49999822480375206, Validation Precision: 0.5\n",
            "Epoch 157, Training Loss: 0.6903170943260193, Validation Loss: 0.6905311942100525, Training Precision: 0.49999822480375206, Validation Precision: 0.5\n",
            "Epoch 158, Training Loss: 0.6903170347213745, Validation Loss: 0.6905311942100525, Training Precision: 0.49999822480375206, Validation Precision: 0.5\n",
            "Epoch 159, Training Loss: 0.6903169751167297, Validation Loss: 0.6905311942100525, Training Precision: 0.49999822480375206, Validation Precision: 0.5\n",
            "Epoch 160, Training Loss: 0.690316915512085, Validation Loss: 0.6905311942100525, Training Precision: 0.49999822480375206, Validation Precision: 0.5\n",
            "Epoch 161, Training Loss: 0.6903168559074402, Validation Loss: 0.6905312538146973, Training Precision: 0.49999822480375206, Validation Precision: 0.5\n",
            "Epoch 162, Training Loss: 0.6903167963027954, Validation Loss: 0.6905312538146973, Training Precision: 0.49999822480375206, Validation Precision: 0.5\n",
            "Epoch 163, Training Loss: 0.6903167366981506, Validation Loss: 0.6905312538146973, Training Precision: 0.49999822480375206, Validation Precision: 0.5\n",
            "Epoch 164, Training Loss: 0.6903166770935059, Validation Loss: 0.6905312538146973, Training Precision: 0.49999822480375206, Validation Precision: 0.5\n",
            "Epoch 165, Training Loss: 0.6903166174888611, Validation Loss: 0.6905312538146973, Training Precision: 0.49999822480375206, Validation Precision: 0.5\n",
            "Epoch 166, Training Loss: 0.6903165578842163, Validation Loss: 0.6905313730239868, Training Precision: 0.49999822480375206, Validation Precision: 0.5\n",
            "Epoch 167, Training Loss: 0.6903164982795715, Validation Loss: 0.6905313730239868, Training Precision: 0.49999822480375206, Validation Precision: 0.5\n",
            "Epoch 168, Training Loss: 0.6903164386749268, Validation Loss: 0.6905313730239868, Training Precision: 0.49999822480375206, Validation Precision: 0.5\n",
            "Epoch 169, Training Loss: 0.690316379070282, Validation Loss: 0.6905313730239868, Training Precision: 0.49999822480375206, Validation Precision: 0.5\n",
            "Epoch 170, Training Loss: 0.6903163194656372, Validation Loss: 0.6905313730239868, Training Precision: 0.49999822480375206, Validation Precision: 0.5\n",
            "Epoch 171, Training Loss: 0.6903163194656372, Validation Loss: 0.6905313730239868, Training Precision: 0.49999822480375206, Validation Precision: 0.5\n",
            "Epoch 172, Training Loss: 0.6903162598609924, Validation Loss: 0.6905314326286316, Training Precision: 0.49999822480375206, Validation Precision: 0.5\n",
            "Epoch 173, Training Loss: 0.6903162002563477, Validation Loss: 0.6905314326286316, Training Precision: 0.49999822480375206, Validation Precision: 0.5\n",
            "Epoch 174, Training Loss: 0.6903162002563477, Validation Loss: 0.6905314326286316, Training Precision: 0.49999822480375206, Validation Precision: 0.5\n",
            "Epoch 175, Training Loss: 0.6903161406517029, Validation Loss: 0.6905314326286316, Training Precision: 0.49999822480375206, Validation Precision: 0.5\n",
            "Epoch 176, Training Loss: 0.6903160810470581, Validation Loss: 0.6905314326286316, Training Precision: 0.49999822480375206, Validation Precision: 0.5\n",
            "Epoch 177, Training Loss: 0.6903160214424133, Validation Loss: 0.6905314326286316, Training Precision: 0.49999822480375206, Validation Precision: 0.5\n",
            "Epoch 178, Training Loss: 0.6903159618377686, Validation Loss: 0.6905314326286316, Training Precision: 0.49999822480375206, Validation Precision: 0.5\n",
            "Epoch 179, Training Loss: 0.6903159022331238, Validation Loss: 0.6905314326286316, Training Precision: 0.49999822480375206, Validation Precision: 0.5\n",
            "Epoch 180, Training Loss: 0.690315842628479, Validation Loss: 0.6905314326286316, Training Precision: 0.49999822480375206, Validation Precision: 0.5\n",
            "Epoch 181, Training Loss: 0.6903157830238342, Validation Loss: 0.6905314922332764, Training Precision: 0.49999822480375206, Validation Precision: 0.5\n",
            "Epoch 182, Training Loss: 0.6903157830238342, Validation Loss: 0.6905314922332764, Training Precision: 0.49999822480375206, Validation Precision: 0.5\n",
            "Epoch 183, Training Loss: 0.6903157234191895, Validation Loss: 0.6905314922332764, Training Precision: 0.49999822480375206, Validation Precision: 0.5\n",
            "Epoch 184, Training Loss: 0.6903156638145447, Validation Loss: 0.6905314922332764, Training Precision: 0.49999822480375206, Validation Precision: 0.5\n",
            "Epoch 185, Training Loss: 0.6903156042098999, Validation Loss: 0.6905314922332764, Training Precision: 0.49999822480375206, Validation Precision: 0.5\n",
            "Epoch 186, Training Loss: 0.6903155446052551, Validation Loss: 0.6905314922332764, Training Precision: 0.49999822480375206, Validation Precision: 0.5\n",
            "Epoch 187, Training Loss: 0.6903155446052551, Validation Loss: 0.6905314922332764, Training Precision: 0.49999822480375206, Validation Precision: 0.5\n",
            "Epoch 188, Training Loss: 0.6903154850006104, Validation Loss: 0.6905314922332764, Training Precision: 0.49999822480375206, Validation Precision: 0.5\n",
            "Epoch 189, Training Loss: 0.6903154253959656, Validation Loss: 0.6905314922332764, Training Precision: 0.49999822480375206, Validation Precision: 0.5\n",
            "Epoch 190, Training Loss: 0.6903154253959656, Validation Loss: 0.6905314922332764, Training Precision: 0.49999822480375206, Validation Precision: 0.5\n",
            "Epoch 191, Training Loss: 0.6903153657913208, Validation Loss: 0.6905314922332764, Training Precision: 0.49999822480375206, Validation Precision: 0.5\n",
            "Epoch 192, Training Loss: 0.690315306186676, Validation Loss: 0.6905314922332764, Training Precision: 0.49999822480375206, Validation Precision: 0.5\n",
            "Epoch 193, Training Loss: 0.6903152465820312, Validation Loss: 0.6905314922332764, Training Precision: 0.49999822480375206, Validation Precision: 0.5\n",
            "Epoch 194, Training Loss: 0.6903151869773865, Validation Loss: 0.6905314922332764, Training Precision: 0.49999822480375206, Validation Precision: 0.5\n",
            "Epoch 195, Training Loss: 0.6903151273727417, Validation Loss: 0.6905314922332764, Training Precision: 0.49999822480375206, Validation Precision: 0.5\n",
            "Epoch 196, Training Loss: 0.6903150677680969, Validation Loss: 0.6905316114425659, Training Precision: 0.49999822480375206, Validation Precision: 0.5\n",
            "Epoch 197, Training Loss: 0.6903150081634521, Validation Loss: 0.6905316114425659, Training Precision: 0.49999822480375206, Validation Precision: 0.5\n",
            "Epoch 198, Training Loss: 0.6903150081634521, Validation Loss: 0.6905316114425659, Training Precision: 0.49999822480375206, Validation Precision: 0.5\n",
            "Epoch 199, Training Loss: 0.6903149485588074, Validation Loss: 0.6905316114425659, Training Precision: 0.49999822480375206, Validation Precision: 0.5\n",
            "Epoch 200, Training Loss: 0.6903148889541626, Validation Loss: 0.6905316114425659, Training Precision: 0.49999822480375206, Validation Precision: 0.5\n"
          ]
        }
      ]
    },
    {
      "cell_type": "code",
      "source": [],
      "metadata": {
        "id": "VQ8D4vlXAJUM"
      },
      "execution_count": null,
      "outputs": []
    }
  ]
}