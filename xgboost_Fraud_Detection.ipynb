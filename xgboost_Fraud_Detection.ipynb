{
  "nbformat": 4,
  "nbformat_minor": 0,
  "metadata": {
    "colab": {
      "provenance": [],
      "gpuType": "T4",
      "include_colab_link": true
    },
    "kernelspec": {
      "name": "python3",
      "display_name": "Python 3"
    },
    "language_info": {
      "name": "python"
    },
    "widgets": {
      "application/vnd.jupyter.widget-state+json": {
        "4cad4885cba240aa835a3a876e07a65c": {
          "model_module": "@jupyter-widgets/controls",
          "model_name": "HBoxModel",
          "model_module_version": "1.5.0",
          "state": {
            "_dom_classes": [],
            "_model_module": "@jupyter-widgets/controls",
            "_model_module_version": "1.5.0",
            "_model_name": "HBoxModel",
            "_view_count": null,
            "_view_module": "@jupyter-widgets/controls",
            "_view_module_version": "1.5.0",
            "_view_name": "HBoxView",
            "box_style": "",
            "children": [
              "IPY_MODEL_b19871dbcd354005834293a6fe18010e",
              "IPY_MODEL_0ea52d3dfbc849ceb55cc05146a941cc",
              "IPY_MODEL_aed19d57370f4fb1a8d5cb3f4896ea12"
            ],
            "layout": "IPY_MODEL_c50f123ab76e40e5a856b392ca30bc45"
          }
        },
        "b19871dbcd354005834293a6fe18010e": {
          "model_module": "@jupyter-widgets/controls",
          "model_name": "HTMLModel",
          "model_module_version": "1.5.0",
          "state": {
            "_dom_classes": [],
            "_model_module": "@jupyter-widgets/controls",
            "_model_module_version": "1.5.0",
            "_model_name": "HTMLModel",
            "_view_count": null,
            "_view_module": "@jupyter-widgets/controls",
            "_view_module_version": "1.5.0",
            "_view_name": "HTMLView",
            "description": "",
            "description_tooltip": null,
            "layout": "IPY_MODEL_b0d92061e100401e92b06198cc461567",
            "placeholder": "​",
            "style": "IPY_MODEL_03d37d5e16714dab93e006b2d0875500",
            "value": "  0%"
          }
        },
        "0ea52d3dfbc849ceb55cc05146a941cc": {
          "model_module": "@jupyter-widgets/controls",
          "model_name": "FloatProgressModel",
          "model_module_version": "1.5.0",
          "state": {
            "_dom_classes": [],
            "_model_module": "@jupyter-widgets/controls",
            "_model_module_version": "1.5.0",
            "_model_name": "FloatProgressModel",
            "_view_count": null,
            "_view_module": "@jupyter-widgets/controls",
            "_view_module_version": "1.5.0",
            "_view_name": "ProgressView",
            "bar_style": "danger",
            "description": "",
            "description_tooltip": null,
            "layout": "IPY_MODEL_5d618c1b0e9345b6ab75ed199028a338",
            "max": 93887,
            "min": 0,
            "orientation": "horizontal",
            "style": "IPY_MODEL_10651cc41389465c874658dfceaedebd",
            "value": 4
          }
        },
        "aed19d57370f4fb1a8d5cb3f4896ea12": {
          "model_module": "@jupyter-widgets/controls",
          "model_name": "HTMLModel",
          "model_module_version": "1.5.0",
          "state": {
            "_dom_classes": [],
            "_model_module": "@jupyter-widgets/controls",
            "_model_module_version": "1.5.0",
            "_model_name": "HTMLModel",
            "_view_count": null,
            "_view_module": "@jupyter-widgets/controls",
            "_view_module_version": "1.5.0",
            "_view_name": "HTMLView",
            "description": "",
            "description_tooltip": null,
            "layout": "IPY_MODEL_dbbd13b649c04f94b4e3d8fae0f3be2f",
            "placeholder": "​",
            "style": "IPY_MODEL_f5c9e4f8646d4f4396dce1cd2ce5e4b2",
            "value": " 4/93887 [00:05&lt;28:46:41,  1.10s/it]"
          }
        },
        "c50f123ab76e40e5a856b392ca30bc45": {
          "model_module": "@jupyter-widgets/base",
          "model_name": "LayoutModel",
          "model_module_version": "1.2.0",
          "state": {
            "_model_module": "@jupyter-widgets/base",
            "_model_module_version": "1.2.0",
            "_model_name": "LayoutModel",
            "_view_count": null,
            "_view_module": "@jupyter-widgets/base",
            "_view_module_version": "1.2.0",
            "_view_name": "LayoutView",
            "align_content": null,
            "align_items": null,
            "align_self": null,
            "border": null,
            "bottom": null,
            "display": null,
            "flex": null,
            "flex_flow": null,
            "grid_area": null,
            "grid_auto_columns": null,
            "grid_auto_flow": null,
            "grid_auto_rows": null,
            "grid_column": null,
            "grid_gap": null,
            "grid_row": null,
            "grid_template_areas": null,
            "grid_template_columns": null,
            "grid_template_rows": null,
            "height": null,
            "justify_content": null,
            "justify_items": null,
            "left": null,
            "margin": null,
            "max_height": null,
            "max_width": null,
            "min_height": null,
            "min_width": null,
            "object_fit": null,
            "object_position": null,
            "order": null,
            "overflow": null,
            "overflow_x": null,
            "overflow_y": null,
            "padding": null,
            "right": null,
            "top": null,
            "visibility": null,
            "width": null
          }
        },
        "b0d92061e100401e92b06198cc461567": {
          "model_module": "@jupyter-widgets/base",
          "model_name": "LayoutModel",
          "model_module_version": "1.2.0",
          "state": {
            "_model_module": "@jupyter-widgets/base",
            "_model_module_version": "1.2.0",
            "_model_name": "LayoutModel",
            "_view_count": null,
            "_view_module": "@jupyter-widgets/base",
            "_view_module_version": "1.2.0",
            "_view_name": "LayoutView",
            "align_content": null,
            "align_items": null,
            "align_self": null,
            "border": null,
            "bottom": null,
            "display": null,
            "flex": null,
            "flex_flow": null,
            "grid_area": null,
            "grid_auto_columns": null,
            "grid_auto_flow": null,
            "grid_auto_rows": null,
            "grid_column": null,
            "grid_gap": null,
            "grid_row": null,
            "grid_template_areas": null,
            "grid_template_columns": null,
            "grid_template_rows": null,
            "height": null,
            "justify_content": null,
            "justify_items": null,
            "left": null,
            "margin": null,
            "max_height": null,
            "max_width": null,
            "min_height": null,
            "min_width": null,
            "object_fit": null,
            "object_position": null,
            "order": null,
            "overflow": null,
            "overflow_x": null,
            "overflow_y": null,
            "padding": null,
            "right": null,
            "top": null,
            "visibility": null,
            "width": null
          }
        },
        "03d37d5e16714dab93e006b2d0875500": {
          "model_module": "@jupyter-widgets/controls",
          "model_name": "DescriptionStyleModel",
          "model_module_version": "1.5.0",
          "state": {
            "_model_module": "@jupyter-widgets/controls",
            "_model_module_version": "1.5.0",
            "_model_name": "DescriptionStyleModel",
            "_view_count": null,
            "_view_module": "@jupyter-widgets/base",
            "_view_module_version": "1.2.0",
            "_view_name": "StyleView",
            "description_width": ""
          }
        },
        "5d618c1b0e9345b6ab75ed199028a338": {
          "model_module": "@jupyter-widgets/base",
          "model_name": "LayoutModel",
          "model_module_version": "1.2.0",
          "state": {
            "_model_module": "@jupyter-widgets/base",
            "_model_module_version": "1.2.0",
            "_model_name": "LayoutModel",
            "_view_count": null,
            "_view_module": "@jupyter-widgets/base",
            "_view_module_version": "1.2.0",
            "_view_name": "LayoutView",
            "align_content": null,
            "align_items": null,
            "align_self": null,
            "border": null,
            "bottom": null,
            "display": null,
            "flex": null,
            "flex_flow": null,
            "grid_area": null,
            "grid_auto_columns": null,
            "grid_auto_flow": null,
            "grid_auto_rows": null,
            "grid_column": null,
            "grid_gap": null,
            "grid_row": null,
            "grid_template_areas": null,
            "grid_template_columns": null,
            "grid_template_rows": null,
            "height": null,
            "justify_content": null,
            "justify_items": null,
            "left": null,
            "margin": null,
            "max_height": null,
            "max_width": null,
            "min_height": null,
            "min_width": null,
            "object_fit": null,
            "object_position": null,
            "order": null,
            "overflow": null,
            "overflow_x": null,
            "overflow_y": null,
            "padding": null,
            "right": null,
            "top": null,
            "visibility": null,
            "width": null
          }
        },
        "10651cc41389465c874658dfceaedebd": {
          "model_module": "@jupyter-widgets/controls",
          "model_name": "ProgressStyleModel",
          "model_module_version": "1.5.0",
          "state": {
            "_model_module": "@jupyter-widgets/controls",
            "_model_module_version": "1.5.0",
            "_model_name": "ProgressStyleModel",
            "_view_count": null,
            "_view_module": "@jupyter-widgets/base",
            "_view_module_version": "1.2.0",
            "_view_name": "StyleView",
            "bar_color": null,
            "description_width": ""
          }
        },
        "dbbd13b649c04f94b4e3d8fae0f3be2f": {
          "model_module": "@jupyter-widgets/base",
          "model_name": "LayoutModel",
          "model_module_version": "1.2.0",
          "state": {
            "_model_module": "@jupyter-widgets/base",
            "_model_module_version": "1.2.0",
            "_model_name": "LayoutModel",
            "_view_count": null,
            "_view_module": "@jupyter-widgets/base",
            "_view_module_version": "1.2.0",
            "_view_name": "LayoutView",
            "align_content": null,
            "align_items": null,
            "align_self": null,
            "border": null,
            "bottom": null,
            "display": null,
            "flex": null,
            "flex_flow": null,
            "grid_area": null,
            "grid_auto_columns": null,
            "grid_auto_flow": null,
            "grid_auto_rows": null,
            "grid_column": null,
            "grid_gap": null,
            "grid_row": null,
            "grid_template_areas": null,
            "grid_template_columns": null,
            "grid_template_rows": null,
            "height": null,
            "justify_content": null,
            "justify_items": null,
            "left": null,
            "margin": null,
            "max_height": null,
            "max_width": null,
            "min_height": null,
            "min_width": null,
            "object_fit": null,
            "object_position": null,
            "order": null,
            "overflow": null,
            "overflow_x": null,
            "overflow_y": null,
            "padding": null,
            "right": null,
            "top": null,
            "visibility": null,
            "width": null
          }
        },
        "f5c9e4f8646d4f4396dce1cd2ce5e4b2": {
          "model_module": "@jupyter-widgets/controls",
          "model_name": "DescriptionStyleModel",
          "model_module_version": "1.5.0",
          "state": {
            "_model_module": "@jupyter-widgets/controls",
            "_model_module_version": "1.5.0",
            "_model_name": "DescriptionStyleModel",
            "_view_count": null,
            "_view_module": "@jupyter-widgets/base",
            "_view_module_version": "1.2.0",
            "_view_name": "StyleView",
            "description_width": ""
          }
        }
      }
    }
  },
  "cells": [
    {
      "cell_type": "markdown",
      "metadata": {
        "id": "view-in-github",
        "colab_type": "text"
      },
      "source": [
        "<a href=\"https://colab.research.google.com/github/lovepreetmultani/Anti-Money-Laundering/blob/main/xgboost_Fraud_Detection.ipynb\" target=\"_parent\"><img src=\"https://colab.research.google.com/assets/colab-badge.svg\" alt=\"Open In Colab\"/></a>"
      ]
    },
    {
      "cell_type": "markdown",
      "source": [
        "### Imports and Data load"
      ],
      "metadata": {
        "id": "ItmKCv2LpTPp"
      }
    },
    {
      "cell_type": "code",
      "source": [
        "!pip install explainerdashboard"
      ],
      "metadata": {
        "id": "Bqa-GGiVzZj7",
        "colab": {
          "base_uri": "https://localhost:8080/"
        },
        "outputId": "1437d61d-757e-46d5-f644-bb36e1b8ee3d"
      },
      "execution_count": 1,
      "outputs": [
        {
          "output_type": "stream",
          "name": "stdout",
          "text": [
            "Collecting explainerdashboard\n",
            "  Downloading explainerdashboard-0.4.3-py3-none-any.whl (287 kB)\n",
            "\u001b[?25l     \u001b[90m━━━━━━━━━━━━━━━━━━━━━━━━━━━━━━━━━━━━━━━━\u001b[0m \u001b[32m0.0/287.2 kB\u001b[0m \u001b[31m?\u001b[0m eta \u001b[36m-:--:--\u001b[0m\r\u001b[2K     \u001b[91m━━━━━━━━━━━━\u001b[0m\u001b[91m╸\u001b[0m\u001b[90m━━━━━━━━━━━━━━━━━━━━━━━━━━━\u001b[0m \u001b[32m92.2/287.2 kB\u001b[0m \u001b[31m2.5 MB/s\u001b[0m eta \u001b[36m0:00:01\u001b[0m\r\u001b[2K     \u001b[90m━━━━━━━━━━━━━━━━━━━━━━━━━━━━━━━━━━━━━━━\u001b[0m \u001b[32m287.2/287.2 kB\u001b[0m \u001b[31m4.5 MB/s\u001b[0m eta \u001b[36m0:00:00\u001b[0m\n",
            "\u001b[?25hRequirement already satisfied: click in /usr/local/lib/python3.10/dist-packages (from explainerdashboard) (8.1.7)\n",
            "Collecting dash-auth (from explainerdashboard)\n",
            "  Downloading dash_auth-2.0.0-py3-none-any.whl (3.4 kB)\n",
            "Collecting dash-bootstrap-components>=1 (from explainerdashboard)\n",
            "  Downloading dash_bootstrap_components-1.4.2-py3-none-any.whl (220 kB)\n",
            "\u001b[2K     \u001b[90m━━━━━━━━━━━━━━━━━━━━━━━━━━━━━━━━━━━━━━\u001b[0m \u001b[32m220.6/220.6 kB\u001b[0m \u001b[31m17.1 MB/s\u001b[0m eta \u001b[36m0:00:00\u001b[0m\n",
            "\u001b[?25hCollecting dash>=2.10.1 (from explainerdashboard)\n",
            "  Downloading dash-2.13.0-py3-none-any.whl (10.4 MB)\n",
            "\u001b[2K     \u001b[90m━━━━━━━━━━━━━━━━━━━━━━━━━━━━━━━━━━━━━━━━\u001b[0m \u001b[32m10.4/10.4 MB\u001b[0m \u001b[31m55.9 MB/s\u001b[0m eta \u001b[36m0:00:00\u001b[0m\n",
            "\u001b[?25hCollecting dtreeviz>=2.1 (from explainerdashboard)\n",
            "  Downloading dtreeviz-2.2.2-py3-none-any.whl (91 kB)\n",
            "\u001b[2K     \u001b[90m━━━━━━━━━━━━━━━━━━━━━━━━━━━━━━━━━━━━━━━━\u001b[0m \u001b[32m91.8/91.8 kB\u001b[0m \u001b[31m9.7 MB/s\u001b[0m eta \u001b[36m0:00:00\u001b[0m\n",
            "\u001b[?25hCollecting flask-simplelogin (from explainerdashboard)\n",
            "  Downloading flask_simplelogin-0.1.2-py3-none-any.whl (7.2 kB)\n",
            "Collecting Flask-WTF>=1.1 (from explainerdashboard)\n",
            "  Downloading Flask_WTF-1.1.1-py3-none-any.whl (12 kB)\n",
            "Requirement already satisfied: graphviz>=0.18.2 in /usr/local/lib/python3.10/dist-packages (from explainerdashboard) (0.20.1)\n",
            "Requirement already satisfied: joblib in /usr/local/lib/python3.10/dist-packages (from explainerdashboard) (1.3.2)\n",
            "Collecting jupyter-dash>=0.4.1 (from explainerdashboard)\n",
            "  Downloading jupyter_dash-0.4.2-py3-none-any.whl (23 kB)\n",
            "Requirement already satisfied: numpy<=1.24.4 in /usr/local/lib/python3.10/dist-packages (from explainerdashboard) (1.23.5)\n",
            "Collecting oyaml (from explainerdashboard)\n",
            "  Downloading oyaml-1.0-py2.py3-none-any.whl (3.0 kB)\n",
            "Requirement already satisfied: pandas>=1.1 in /usr/local/lib/python3.10/dist-packages (from explainerdashboard) (1.5.3)\n",
            "Requirement already satisfied: scikit-learn>=1.1 in /usr/local/lib/python3.10/dist-packages (from explainerdashboard) (1.2.2)\n",
            "Collecting shap>=0.42.1 (from explainerdashboard)\n",
            "  Downloading shap-0.42.1-cp310-cp310-manylinux_2_12_x86_64.manylinux2010_x86_64.manylinux_2_17_x86_64.manylinux2014_x86_64.whl (547 kB)\n",
            "\u001b[2K     \u001b[90m━━━━━━━━━━━━━━━━━━━━━━━━━━━━━━━━━━━━━━\u001b[0m \u001b[32m547.9/547.9 kB\u001b[0m \u001b[31m32.4 MB/s\u001b[0m eta \u001b[36m0:00:00\u001b[0m\n",
            "\u001b[?25hCollecting waitress (from explainerdashboard)\n",
            "  Downloading waitress-2.1.2-py3-none-any.whl (57 kB)\n",
            "\u001b[2K     \u001b[90m━━━━━━━━━━━━━━━━━━━━━━━━━━━━━━━━━━━━━━━━\u001b[0m \u001b[32m57.7/57.7 kB\u001b[0m \u001b[31m6.0 MB/s\u001b[0m eta \u001b[36m0:00:00\u001b[0m\n",
            "\u001b[?25hRequirement already satisfied: Flask<2.3.0,>=1.0.4 in /usr/local/lib/python3.10/dist-packages (from dash>=2.10.1->explainerdashboard) (2.2.5)\n",
            "Collecting Werkzeug<2.3.0 (from dash>=2.10.1->explainerdashboard)\n",
            "  Downloading Werkzeug-2.2.3-py3-none-any.whl (233 kB)\n",
            "\u001b[2K     \u001b[90m━━━━━━━━━━━━━━━━━━━━━━━━━━━━━━━━━━━━━━\u001b[0m \u001b[32m233.6/233.6 kB\u001b[0m \u001b[31m18.6 MB/s\u001b[0m eta \u001b[36m0:00:00\u001b[0m\n",
            "\u001b[?25hRequirement already satisfied: plotly>=5.0.0 in /usr/local/lib/python3.10/dist-packages (from dash>=2.10.1->explainerdashboard) (5.15.0)\n",
            "Collecting dash-html-components==2.0.0 (from dash>=2.10.1->explainerdashboard)\n",
            "  Downloading dash_html_components-2.0.0-py3-none-any.whl (4.1 kB)\n",
            "Collecting dash-core-components==2.0.0 (from dash>=2.10.1->explainerdashboard)\n",
            "  Downloading dash_core_components-2.0.0-py3-none-any.whl (3.8 kB)\n",
            "Collecting dash-table==5.0.0 (from dash>=2.10.1->explainerdashboard)\n",
            "  Downloading dash_table-5.0.0-py3-none-any.whl (3.9 kB)\n",
            "Requirement already satisfied: typing-extensions>=4.1.1 in /usr/local/lib/python3.10/dist-packages (from dash>=2.10.1->explainerdashboard) (4.7.1)\n",
            "Requirement already satisfied: requests in /usr/local/lib/python3.10/dist-packages (from dash>=2.10.1->explainerdashboard) (2.31.0)\n",
            "Collecting retrying (from dash>=2.10.1->explainerdashboard)\n",
            "  Downloading retrying-1.3.4-py3-none-any.whl (11 kB)\n",
            "Collecting ansi2html (from dash>=2.10.1->explainerdashboard)\n",
            "  Downloading ansi2html-1.8.0-py3-none-any.whl (16 kB)\n",
            "Requirement already satisfied: nest-asyncio in /usr/local/lib/python3.10/dist-packages (from dash>=2.10.1->explainerdashboard) (1.5.7)\n",
            "Requirement already satisfied: setuptools in /usr/local/lib/python3.10/dist-packages (from dash>=2.10.1->explainerdashboard) (67.7.2)\n",
            "Requirement already satisfied: matplotlib in /usr/local/lib/python3.10/dist-packages (from dtreeviz>=2.1->explainerdashboard) (3.7.1)\n",
            "Collecting colour (from dtreeviz>=2.1->explainerdashboard)\n",
            "  Downloading colour-0.1.5-py2.py3-none-any.whl (23 kB)\n",
            "Requirement already satisfied: pytest in /usr/local/lib/python3.10/dist-packages (from dtreeviz>=2.1->explainerdashboard) (7.4.0)\n",
            "Collecting WTForms (from Flask-WTF>=1.1->explainerdashboard)\n",
            "  Downloading WTForms-3.0.1-py3-none-any.whl (136 kB)\n",
            "\u001b[2K     \u001b[90m━━━━━━━━━━━━━━━━━━━━━━━━━━━━━━━━━━━━━━\u001b[0m \u001b[32m136.5/136.5 kB\u001b[0m \u001b[31m12.4 MB/s\u001b[0m eta \u001b[36m0:00:00\u001b[0m\n",
            "\u001b[?25hRequirement already satisfied: itsdangerous in /usr/local/lib/python3.10/dist-packages (from Flask-WTF>=1.1->explainerdashboard) (2.1.2)\n",
            "Requirement already satisfied: ipython in /usr/local/lib/python3.10/dist-packages (from jupyter-dash>=0.4.1->explainerdashboard) (7.34.0)\n",
            "Requirement already satisfied: ipykernel in /usr/local/lib/python3.10/dist-packages (from jupyter-dash>=0.4.1->explainerdashboard) (5.5.6)\n",
            "Requirement already satisfied: python-dateutil>=2.8.1 in /usr/local/lib/python3.10/dist-packages (from pandas>=1.1->explainerdashboard) (2.8.2)\n",
            "Requirement already satisfied: pytz>=2020.1 in /usr/local/lib/python3.10/dist-packages (from pandas>=1.1->explainerdashboard) (2023.3)\n",
            "Requirement already satisfied: scipy>=1.3.2 in /usr/local/lib/python3.10/dist-packages (from scikit-learn>=1.1->explainerdashboard) (1.10.1)\n",
            "Requirement already satisfied: threadpoolctl>=2.0.0 in /usr/local/lib/python3.10/dist-packages (from scikit-learn>=1.1->explainerdashboard) (3.2.0)\n",
            "Requirement already satisfied: tqdm>=4.27.0 in /usr/local/lib/python3.10/dist-packages (from shap>=0.42.1->explainerdashboard) (4.66.1)\n",
            "Requirement already satisfied: packaging>20.9 in /usr/local/lib/python3.10/dist-packages (from shap>=0.42.1->explainerdashboard) (23.1)\n",
            "Collecting slicer==0.0.7 (from shap>=0.42.1->explainerdashboard)\n",
            "  Downloading slicer-0.0.7-py3-none-any.whl (14 kB)\n",
            "Requirement already satisfied: numba in /usr/local/lib/python3.10/dist-packages (from shap>=0.42.1->explainerdashboard) (0.56.4)\n",
            "Requirement already satisfied: cloudpickle in /usr/local/lib/python3.10/dist-packages (from shap>=0.42.1->explainerdashboard) (2.2.1)\n",
            "Requirement already satisfied: pyyaml in /usr/local/lib/python3.10/dist-packages (from oyaml->explainerdashboard) (6.0.1)\n",
            "Requirement already satisfied: Jinja2>=3.0 in /usr/local/lib/python3.10/dist-packages (from Flask<2.3.0,>=1.0.4->dash>=2.10.1->explainerdashboard) (3.1.2)\n",
            "Requirement already satisfied: tenacity>=6.2.0 in /usr/local/lib/python3.10/dist-packages (from plotly>=5.0.0->dash>=2.10.1->explainerdashboard) (8.2.3)\n",
            "Requirement already satisfied: six>=1.5 in /usr/local/lib/python3.10/dist-packages (from python-dateutil>=2.8.1->pandas>=1.1->explainerdashboard) (1.16.0)\n",
            "Requirement already satisfied: MarkupSafe>=2.1.1 in /usr/local/lib/python3.10/dist-packages (from Werkzeug<2.3.0->dash>=2.10.1->explainerdashboard) (2.1.3)\n",
            "Requirement already satisfied: ipython-genutils in /usr/local/lib/python3.10/dist-packages (from ipykernel->jupyter-dash>=0.4.1->explainerdashboard) (0.2.0)\n",
            "Requirement already satisfied: traitlets>=4.1.0 in /usr/local/lib/python3.10/dist-packages (from ipykernel->jupyter-dash>=0.4.1->explainerdashboard) (5.7.1)\n",
            "Requirement already satisfied: jupyter-client in /usr/local/lib/python3.10/dist-packages (from ipykernel->jupyter-dash>=0.4.1->explainerdashboard) (6.1.12)\n",
            "Requirement already satisfied: tornado>=4.2 in /usr/local/lib/python3.10/dist-packages (from ipykernel->jupyter-dash>=0.4.1->explainerdashboard) (6.3.2)\n",
            "Collecting jedi>=0.16 (from ipython->jupyter-dash>=0.4.1->explainerdashboard)\n",
            "  Downloading jedi-0.19.0-py2.py3-none-any.whl (1.6 MB)\n",
            "\u001b[2K     \u001b[90m━━━━━━━━━━━━━━━━━━━━━━━━━━━━━━━━━━━━━━━━\u001b[0m \u001b[32m1.6/1.6 MB\u001b[0m \u001b[31m52.0 MB/s\u001b[0m eta \u001b[36m0:00:00\u001b[0m\n",
            "\u001b[?25hRequirement already satisfied: decorator in /usr/local/lib/python3.10/dist-packages (from ipython->jupyter-dash>=0.4.1->explainerdashboard) (4.4.2)\n",
            "Requirement already satisfied: pickleshare in /usr/local/lib/python3.10/dist-packages (from ipython->jupyter-dash>=0.4.1->explainerdashboard) (0.7.5)\n",
            "Requirement already satisfied: prompt-toolkit!=3.0.0,!=3.0.1,<3.1.0,>=2.0.0 in /usr/local/lib/python3.10/dist-packages (from ipython->jupyter-dash>=0.4.1->explainerdashboard) (3.0.39)\n",
            "Requirement already satisfied: pygments in /usr/local/lib/python3.10/dist-packages (from ipython->jupyter-dash>=0.4.1->explainerdashboard) (2.16.1)\n",
            "Requirement already satisfied: backcall in /usr/local/lib/python3.10/dist-packages (from ipython->jupyter-dash>=0.4.1->explainerdashboard) (0.2.0)\n",
            "Requirement already satisfied: matplotlib-inline in /usr/local/lib/python3.10/dist-packages (from ipython->jupyter-dash>=0.4.1->explainerdashboard) (0.1.6)\n",
            "Requirement already satisfied: pexpect>4.3 in /usr/local/lib/python3.10/dist-packages (from ipython->jupyter-dash>=0.4.1->explainerdashboard) (4.8.0)\n",
            "Requirement already satisfied: contourpy>=1.0.1 in /usr/local/lib/python3.10/dist-packages (from matplotlib->dtreeviz>=2.1->explainerdashboard) (1.1.0)\n",
            "Requirement already satisfied: cycler>=0.10 in /usr/local/lib/python3.10/dist-packages (from matplotlib->dtreeviz>=2.1->explainerdashboard) (0.11.0)\n",
            "Requirement already satisfied: fonttools>=4.22.0 in /usr/local/lib/python3.10/dist-packages (from matplotlib->dtreeviz>=2.1->explainerdashboard) (4.42.1)\n",
            "Requirement already satisfied: kiwisolver>=1.0.1 in /usr/local/lib/python3.10/dist-packages (from matplotlib->dtreeviz>=2.1->explainerdashboard) (1.4.4)\n",
            "Requirement already satisfied: pillow>=6.2.0 in /usr/local/lib/python3.10/dist-packages (from matplotlib->dtreeviz>=2.1->explainerdashboard) (9.4.0)\n",
            "Requirement already satisfied: pyparsing>=2.3.1 in /usr/local/lib/python3.10/dist-packages (from matplotlib->dtreeviz>=2.1->explainerdashboard) (3.1.1)\n",
            "Requirement already satisfied: llvmlite<0.40,>=0.39.0dev0 in /usr/local/lib/python3.10/dist-packages (from numba->shap>=0.42.1->explainerdashboard) (0.39.1)\n",
            "Requirement already satisfied: iniconfig in /usr/local/lib/python3.10/dist-packages (from pytest->dtreeviz>=2.1->explainerdashboard) (2.0.0)\n",
            "Requirement already satisfied: pluggy<2.0,>=0.12 in /usr/local/lib/python3.10/dist-packages (from pytest->dtreeviz>=2.1->explainerdashboard) (1.2.0)\n",
            "Requirement already satisfied: exceptiongroup>=1.0.0rc8 in /usr/local/lib/python3.10/dist-packages (from pytest->dtreeviz>=2.1->explainerdashboard) (1.1.3)\n",
            "Requirement already satisfied: tomli>=1.0.0 in /usr/local/lib/python3.10/dist-packages (from pytest->dtreeviz>=2.1->explainerdashboard) (2.0.1)\n",
            "Requirement already satisfied: charset-normalizer<4,>=2 in /usr/local/lib/python3.10/dist-packages (from requests->dash>=2.10.1->explainerdashboard) (3.2.0)\n",
            "Requirement already satisfied: idna<4,>=2.5 in /usr/local/lib/python3.10/dist-packages (from requests->dash>=2.10.1->explainerdashboard) (3.4)\n",
            "Requirement already satisfied: urllib3<3,>=1.21.1 in /usr/local/lib/python3.10/dist-packages (from requests->dash>=2.10.1->explainerdashboard) (2.0.4)\n",
            "Requirement already satisfied: certifi>=2017.4.17 in /usr/local/lib/python3.10/dist-packages (from requests->dash>=2.10.1->explainerdashboard) (2023.7.22)\n",
            "Requirement already satisfied: parso<0.9.0,>=0.8.3 in /usr/local/lib/python3.10/dist-packages (from jedi>=0.16->ipython->jupyter-dash>=0.4.1->explainerdashboard) (0.8.3)\n",
            "Requirement already satisfied: ptyprocess>=0.5 in /usr/local/lib/python3.10/dist-packages (from pexpect>4.3->ipython->jupyter-dash>=0.4.1->explainerdashboard) (0.7.0)\n",
            "Requirement already satisfied: wcwidth in /usr/local/lib/python3.10/dist-packages (from prompt-toolkit!=3.0.0,!=3.0.1,<3.1.0,>=2.0.0->ipython->jupyter-dash>=0.4.1->explainerdashboard) (0.2.6)\n",
            "Requirement already satisfied: jupyter-core>=4.6.0 in /usr/local/lib/python3.10/dist-packages (from jupyter-client->ipykernel->jupyter-dash>=0.4.1->explainerdashboard) (5.3.1)\n",
            "Requirement already satisfied: pyzmq>=13 in /usr/local/lib/python3.10/dist-packages (from jupyter-client->ipykernel->jupyter-dash>=0.4.1->explainerdashboard) (23.2.1)\n",
            "Requirement already satisfied: platformdirs>=2.5 in /usr/local/lib/python3.10/dist-packages (from jupyter-core>=4.6.0->jupyter-client->ipykernel->jupyter-dash>=0.4.1->explainerdashboard) (3.10.0)\n",
            "Installing collected packages: dash-table, dash-html-components, dash-core-components, colour, WTForms, Werkzeug, waitress, slicer, retrying, oyaml, jedi, ansi2html, shap, Flask-WTF, dtreeviz, dash, jupyter-dash, flask-simplelogin, dash-bootstrap-components, dash-auth, explainerdashboard\n",
            "  Attempting uninstall: Werkzeug\n",
            "    Found existing installation: Werkzeug 2.3.7\n",
            "    Uninstalling Werkzeug-2.3.7:\n",
            "      Successfully uninstalled Werkzeug-2.3.7\n",
            "Successfully installed Flask-WTF-1.1.1 WTForms-3.0.1 Werkzeug-2.2.3 ansi2html-1.8.0 colour-0.1.5 dash-2.13.0 dash-auth-2.0.0 dash-bootstrap-components-1.4.2 dash-core-components-2.0.0 dash-html-components-2.0.0 dash-table-5.0.0 dtreeviz-2.2.2 explainerdashboard-0.4.3 flask-simplelogin-0.1.2 jedi-0.19.0 jupyter-dash-0.4.2 oyaml-1.0 retrying-1.3.4 shap-0.42.1 slicer-0.0.7 waitress-2.1.2\n"
          ]
        }
      ]
    },
    {
      "cell_type": "code",
      "source": [
        "import pandas as pd\n",
        "import numpy as np\n",
        "import seaborn as sns\n",
        "import matplotlib.pyplot as plt\n",
        "from scipy import stats\n",
        "import time\n",
        "from datetime import datetime as dt\n",
        "from sklearn.feature_selection import  f_classif, SelectKBest\n",
        "import matplotlib.pyplot as plt"
      ],
      "metadata": {
        "id": "fFCZAY1Nb45M"
      },
      "execution_count": 2,
      "outputs": []
    },
    {
      "cell_type": "code",
      "source": [
        "from sklearn.metrics import classification_report, confusion_matrix, accuracy_score, precision_score, recall_score, roc_curve, roc_auc_score, f1_score"
      ],
      "metadata": {
        "id": "l4D_N-xqohUZ"
      },
      "execution_count": 3,
      "outputs": []
    },
    {
      "cell_type": "code",
      "source": [
        "from google.colab import drive\n",
        "drive.mount(\"/content/drive\")"
      ],
      "metadata": {
        "colab": {
          "base_uri": "https://localhost:8080/"
        },
        "id": "bfDJdBB7cATL",
        "outputId": "e7a3d49f-ea8e-40cb-cbfe-895b9d5eb865"
      },
      "execution_count": 4,
      "outputs": [
        {
          "output_type": "stream",
          "name": "stdout",
          "text": [
            "Mounted at /content/drive\n"
          ]
        }
      ]
    },
    {
      "cell_type": "code",
      "source": [
        "fraud=pd.read_csv(\"drive/My Drive/Dissertation/Dataset1-Big.csv\")"
      ],
      "metadata": {
        "id": "nwTfJcTCcD6Z"
      },
      "execution_count": 5,
      "outputs": []
    },
    {
      "cell_type": "code",
      "source": [
        "fraud.head()"
      ],
      "metadata": {
        "id": "68eMw_aObOS7",
        "colab": {
          "base_uri": "https://localhost:8080/",
          "height": 256
        },
        "outputId": "be176eed-c9e3-4600-f4d0-64761b49038a"
      },
      "execution_count": 6,
      "outputs": [
        {
          "output_type": "execute_result",
          "data": {
            "text/plain": [
              "   tx_fraud  tx_amount  s_pagerank   s_label  s_min_send_tx  \\\n",
              "0     False     447.72     0.58295  36700160         447.72   \n",
              "1     False     447.72     6.36310  36700160          15.48   \n",
              "2     False      17.37     0.37284  36700160          17.37   \n",
              "3     False      17.37     0.32571  36700160         280.45   \n",
              "4     False     473.85     0.28323  36700160         473.85   \n",
              "\n",
              "   s_min_receieve_tx  s_max_send_tx  s_max_recieve_tx  s_avg_send_tx  \\\n",
              "0             179.57         447.72         292119.18      447.72000   \n",
              "1               5.90         296.07        5246430.50      281.01446   \n",
              "2              21.94          17.37        2099443.75       17.37000   \n",
              "3               8.12         280.45             17.37      280.45000   \n",
              "4             134.02         473.85        2530242.00      473.85000   \n",
              "\n",
              "   s_avg_recieve_tx  ...   r_label  r_min_send_tx  r_min_receieve_tx  \\\n",
              "0        1853.61565  ...  36700160         447.72             179.57   \n",
              "1       34892.03171  ...  36700160          15.48               5.90   \n",
              "2       20834.57295  ...  36700160          17.37              21.94   \n",
              "3          12.09138  ...  36700160         280.45               8.12   \n",
              "4      250599.53815  ...  36700160         473.85             134.02   \n",
              "\n",
              "   r_max_send_tx  r_max_recieve_tx  r_avg_send_tx  r_avg_recieve_tx  \\\n",
              "0         447.72         292119.18      447.72000        1853.61565   \n",
              "1         296.07        5246430.50      281.01446       34892.03171   \n",
              "2          17.37        2099443.75       17.37000       20834.57295   \n",
              "3         280.45             17.37      280.45000          12.09138   \n",
              "4         473.85        2530242.00      473.85000      250599.53815   \n",
              "\n",
              "   r_cnt_recieve_tx  r_cnt_send_tx  r_timestamp  \n",
              "0               200            178          199  \n",
              "1               945             74          199  \n",
              "2               105            220          199  \n",
              "3                58              9          199  \n",
              "4                27            177          199  \n",
              "\n",
              "[5 rows x 24 columns]"
            ],
            "text/html": [
              "\n",
              "  <div id=\"df-bf95e498-5dbc-402b-8f75-ee5eab651900\" class=\"colab-df-container\">\n",
              "    <div>\n",
              "<style scoped>\n",
              "    .dataframe tbody tr th:only-of-type {\n",
              "        vertical-align: middle;\n",
              "    }\n",
              "\n",
              "    .dataframe tbody tr th {\n",
              "        vertical-align: top;\n",
              "    }\n",
              "\n",
              "    .dataframe thead th {\n",
              "        text-align: right;\n",
              "    }\n",
              "</style>\n",
              "<table border=\"1\" class=\"dataframe\">\n",
              "  <thead>\n",
              "    <tr style=\"text-align: right;\">\n",
              "      <th></th>\n",
              "      <th>tx_fraud</th>\n",
              "      <th>tx_amount</th>\n",
              "      <th>s_pagerank</th>\n",
              "      <th>s_label</th>\n",
              "      <th>s_min_send_tx</th>\n",
              "      <th>s_min_receieve_tx</th>\n",
              "      <th>s_max_send_tx</th>\n",
              "      <th>s_max_recieve_tx</th>\n",
              "      <th>s_avg_send_tx</th>\n",
              "      <th>s_avg_recieve_tx</th>\n",
              "      <th>...</th>\n",
              "      <th>r_label</th>\n",
              "      <th>r_min_send_tx</th>\n",
              "      <th>r_min_receieve_tx</th>\n",
              "      <th>r_max_send_tx</th>\n",
              "      <th>r_max_recieve_tx</th>\n",
              "      <th>r_avg_send_tx</th>\n",
              "      <th>r_avg_recieve_tx</th>\n",
              "      <th>r_cnt_recieve_tx</th>\n",
              "      <th>r_cnt_send_tx</th>\n",
              "      <th>r_timestamp</th>\n",
              "    </tr>\n",
              "  </thead>\n",
              "  <tbody>\n",
              "    <tr>\n",
              "      <th>0</th>\n",
              "      <td>False</td>\n",
              "      <td>447.72</td>\n",
              "      <td>0.58295</td>\n",
              "      <td>36700160</td>\n",
              "      <td>447.72</td>\n",
              "      <td>179.57</td>\n",
              "      <td>447.72</td>\n",
              "      <td>292119.18</td>\n",
              "      <td>447.72000</td>\n",
              "      <td>1853.61565</td>\n",
              "      <td>...</td>\n",
              "      <td>36700160</td>\n",
              "      <td>447.72</td>\n",
              "      <td>179.57</td>\n",
              "      <td>447.72</td>\n",
              "      <td>292119.18</td>\n",
              "      <td>447.72000</td>\n",
              "      <td>1853.61565</td>\n",
              "      <td>200</td>\n",
              "      <td>178</td>\n",
              "      <td>199</td>\n",
              "    </tr>\n",
              "    <tr>\n",
              "      <th>1</th>\n",
              "      <td>False</td>\n",
              "      <td>447.72</td>\n",
              "      <td>6.36310</td>\n",
              "      <td>36700160</td>\n",
              "      <td>15.48</td>\n",
              "      <td>5.90</td>\n",
              "      <td>296.07</td>\n",
              "      <td>5246430.50</td>\n",
              "      <td>281.01446</td>\n",
              "      <td>34892.03171</td>\n",
              "      <td>...</td>\n",
              "      <td>36700160</td>\n",
              "      <td>15.48</td>\n",
              "      <td>5.90</td>\n",
              "      <td>296.07</td>\n",
              "      <td>5246430.50</td>\n",
              "      <td>281.01446</td>\n",
              "      <td>34892.03171</td>\n",
              "      <td>945</td>\n",
              "      <td>74</td>\n",
              "      <td>199</td>\n",
              "    </tr>\n",
              "    <tr>\n",
              "      <th>2</th>\n",
              "      <td>False</td>\n",
              "      <td>17.37</td>\n",
              "      <td>0.37284</td>\n",
              "      <td>36700160</td>\n",
              "      <td>17.37</td>\n",
              "      <td>21.94</td>\n",
              "      <td>17.37</td>\n",
              "      <td>2099443.75</td>\n",
              "      <td>17.37000</td>\n",
              "      <td>20834.57295</td>\n",
              "      <td>...</td>\n",
              "      <td>36700160</td>\n",
              "      <td>17.37</td>\n",
              "      <td>21.94</td>\n",
              "      <td>17.37</td>\n",
              "      <td>2099443.75</td>\n",
              "      <td>17.37000</td>\n",
              "      <td>20834.57295</td>\n",
              "      <td>105</td>\n",
              "      <td>220</td>\n",
              "      <td>199</td>\n",
              "    </tr>\n",
              "    <tr>\n",
              "      <th>3</th>\n",
              "      <td>False</td>\n",
              "      <td>17.37</td>\n",
              "      <td>0.32571</td>\n",
              "      <td>36700160</td>\n",
              "      <td>280.45</td>\n",
              "      <td>8.12</td>\n",
              "      <td>280.45</td>\n",
              "      <td>17.37</td>\n",
              "      <td>280.45000</td>\n",
              "      <td>12.09138</td>\n",
              "      <td>...</td>\n",
              "      <td>36700160</td>\n",
              "      <td>280.45</td>\n",
              "      <td>8.12</td>\n",
              "      <td>280.45</td>\n",
              "      <td>17.37</td>\n",
              "      <td>280.45000</td>\n",
              "      <td>12.09138</td>\n",
              "      <td>58</td>\n",
              "      <td>9</td>\n",
              "      <td>199</td>\n",
              "    </tr>\n",
              "    <tr>\n",
              "      <th>4</th>\n",
              "      <td>False</td>\n",
              "      <td>473.85</td>\n",
              "      <td>0.28323</td>\n",
              "      <td>36700160</td>\n",
              "      <td>473.85</td>\n",
              "      <td>134.02</td>\n",
              "      <td>473.85</td>\n",
              "      <td>2530242.00</td>\n",
              "      <td>473.85000</td>\n",
              "      <td>250599.53815</td>\n",
              "      <td>...</td>\n",
              "      <td>36700160</td>\n",
              "      <td>473.85</td>\n",
              "      <td>134.02</td>\n",
              "      <td>473.85</td>\n",
              "      <td>2530242.00</td>\n",
              "      <td>473.85000</td>\n",
              "      <td>250599.53815</td>\n",
              "      <td>27</td>\n",
              "      <td>177</td>\n",
              "      <td>199</td>\n",
              "    </tr>\n",
              "  </tbody>\n",
              "</table>\n",
              "<p>5 rows × 24 columns</p>\n",
              "</div>\n",
              "    <div class=\"colab-df-buttons\">\n",
              "\n",
              "  <div class=\"colab-df-container\">\n",
              "    <button class=\"colab-df-convert\" onclick=\"convertToInteractive('df-bf95e498-5dbc-402b-8f75-ee5eab651900')\"\n",
              "            title=\"Convert this dataframe to an interactive table.\"\n",
              "            style=\"display:none;\">\n",
              "\n",
              "  <svg xmlns=\"http://www.w3.org/2000/svg\" height=\"24px\" viewBox=\"0 -960 960 960\">\n",
              "    <path d=\"M120-120v-720h720v720H120Zm60-500h600v-160H180v160Zm220 220h160v-160H400v160Zm0 220h160v-160H400v160ZM180-400h160v-160H180v160Zm440 0h160v-160H620v160ZM180-180h160v-160H180v160Zm440 0h160v-160H620v160Z\"/>\n",
              "  </svg>\n",
              "    </button>\n",
              "\n",
              "  <style>\n",
              "    .colab-df-container {\n",
              "      display:flex;\n",
              "      gap: 12px;\n",
              "    }\n",
              "\n",
              "    .colab-df-convert {\n",
              "      background-color: #E8F0FE;\n",
              "      border: none;\n",
              "      border-radius: 50%;\n",
              "      cursor: pointer;\n",
              "      display: none;\n",
              "      fill: #1967D2;\n",
              "      height: 32px;\n",
              "      padding: 0 0 0 0;\n",
              "      width: 32px;\n",
              "    }\n",
              "\n",
              "    .colab-df-convert:hover {\n",
              "      background-color: #E2EBFA;\n",
              "      box-shadow: 0px 1px 2px rgba(60, 64, 67, 0.3), 0px 1px 3px 1px rgba(60, 64, 67, 0.15);\n",
              "      fill: #174EA6;\n",
              "    }\n",
              "\n",
              "    .colab-df-buttons div {\n",
              "      margin-bottom: 4px;\n",
              "    }\n",
              "\n",
              "    [theme=dark] .colab-df-convert {\n",
              "      background-color: #3B4455;\n",
              "      fill: #D2E3FC;\n",
              "    }\n",
              "\n",
              "    [theme=dark] .colab-df-convert:hover {\n",
              "      background-color: #434B5C;\n",
              "      box-shadow: 0px 1px 3px 1px rgba(0, 0, 0, 0.15);\n",
              "      filter: drop-shadow(0px 1px 2px rgba(0, 0, 0, 0.3));\n",
              "      fill: #FFFFFF;\n",
              "    }\n",
              "  </style>\n",
              "\n",
              "    <script>\n",
              "      const buttonEl =\n",
              "        document.querySelector('#df-bf95e498-5dbc-402b-8f75-ee5eab651900 button.colab-df-convert');\n",
              "      buttonEl.style.display =\n",
              "        google.colab.kernel.accessAllowed ? 'block' : 'none';\n",
              "\n",
              "      async function convertToInteractive(key) {\n",
              "        const element = document.querySelector('#df-bf95e498-5dbc-402b-8f75-ee5eab651900');\n",
              "        const dataTable =\n",
              "          await google.colab.kernel.invokeFunction('convertToInteractive',\n",
              "                                                    [key], {});\n",
              "        if (!dataTable) return;\n",
              "\n",
              "        const docLinkHtml = 'Like what you see? Visit the ' +\n",
              "          '<a target=\"_blank\" href=https://colab.research.google.com/notebooks/data_table.ipynb>data table notebook</a>'\n",
              "          + ' to learn more about interactive tables.';\n",
              "        element.innerHTML = '';\n",
              "        dataTable['output_type'] = 'display_data';\n",
              "        await google.colab.output.renderOutput(dataTable, element);\n",
              "        const docLink = document.createElement('div');\n",
              "        docLink.innerHTML = docLinkHtml;\n",
              "        element.appendChild(docLink);\n",
              "      }\n",
              "    </script>\n",
              "  </div>\n",
              "\n",
              "\n",
              "<div id=\"df-7e8b25ab-77d6-4058-9266-28b9715105f7\">\n",
              "  <button class=\"colab-df-quickchart\" onclick=\"quickchart('df-7e8b25ab-77d6-4058-9266-28b9715105f7')\"\n",
              "            title=\"Suggest charts.\"\n",
              "            style=\"display:none;\">\n",
              "\n",
              "<svg xmlns=\"http://www.w3.org/2000/svg\" height=\"24px\"viewBox=\"0 0 24 24\"\n",
              "     width=\"24px\">\n",
              "    <g>\n",
              "        <path d=\"M19 3H5c-1.1 0-2 .9-2 2v14c0 1.1.9 2 2 2h14c1.1 0 2-.9 2-2V5c0-1.1-.9-2-2-2zM9 17H7v-7h2v7zm4 0h-2V7h2v10zm4 0h-2v-4h2v4z\"/>\n",
              "    </g>\n",
              "</svg>\n",
              "  </button>\n",
              "\n",
              "<style>\n",
              "  .colab-df-quickchart {\n",
              "      --bg-color: #E8F0FE;\n",
              "      --fill-color: #1967D2;\n",
              "      --hover-bg-color: #E2EBFA;\n",
              "      --hover-fill-color: #174EA6;\n",
              "      --disabled-fill-color: #AAA;\n",
              "      --disabled-bg-color: #DDD;\n",
              "  }\n",
              "\n",
              "  [theme=dark] .colab-df-quickchart {\n",
              "      --bg-color: #3B4455;\n",
              "      --fill-color: #D2E3FC;\n",
              "      --hover-bg-color: #434B5C;\n",
              "      --hover-fill-color: #FFFFFF;\n",
              "      --disabled-bg-color: #3B4455;\n",
              "      --disabled-fill-color: #666;\n",
              "  }\n",
              "\n",
              "  .colab-df-quickchart {\n",
              "    background-color: var(--bg-color);\n",
              "    border: none;\n",
              "    border-radius: 50%;\n",
              "    cursor: pointer;\n",
              "    display: none;\n",
              "    fill: var(--fill-color);\n",
              "    height: 32px;\n",
              "    padding: 0;\n",
              "    width: 32px;\n",
              "  }\n",
              "\n",
              "  .colab-df-quickchart:hover {\n",
              "    background-color: var(--hover-bg-color);\n",
              "    box-shadow: 0 1px 2px rgba(60, 64, 67, 0.3), 0 1px 3px 1px rgba(60, 64, 67, 0.15);\n",
              "    fill: var(--button-hover-fill-color);\n",
              "  }\n",
              "\n",
              "  .colab-df-quickchart-complete:disabled,\n",
              "  .colab-df-quickchart-complete:disabled:hover {\n",
              "    background-color: var(--disabled-bg-color);\n",
              "    fill: var(--disabled-fill-color);\n",
              "    box-shadow: none;\n",
              "  }\n",
              "\n",
              "  .colab-df-spinner {\n",
              "    border: 2px solid var(--fill-color);\n",
              "    border-color: transparent;\n",
              "    border-bottom-color: var(--fill-color);\n",
              "    animation:\n",
              "      spin 1s steps(1) infinite;\n",
              "  }\n",
              "\n",
              "  @keyframes spin {\n",
              "    0% {\n",
              "      border-color: transparent;\n",
              "      border-bottom-color: var(--fill-color);\n",
              "      border-left-color: var(--fill-color);\n",
              "    }\n",
              "    20% {\n",
              "      border-color: transparent;\n",
              "      border-left-color: var(--fill-color);\n",
              "      border-top-color: var(--fill-color);\n",
              "    }\n",
              "    30% {\n",
              "      border-color: transparent;\n",
              "      border-left-color: var(--fill-color);\n",
              "      border-top-color: var(--fill-color);\n",
              "      border-right-color: var(--fill-color);\n",
              "    }\n",
              "    40% {\n",
              "      border-color: transparent;\n",
              "      border-right-color: var(--fill-color);\n",
              "      border-top-color: var(--fill-color);\n",
              "    }\n",
              "    60% {\n",
              "      border-color: transparent;\n",
              "      border-right-color: var(--fill-color);\n",
              "    }\n",
              "    80% {\n",
              "      border-color: transparent;\n",
              "      border-right-color: var(--fill-color);\n",
              "      border-bottom-color: var(--fill-color);\n",
              "    }\n",
              "    90% {\n",
              "      border-color: transparent;\n",
              "      border-bottom-color: var(--fill-color);\n",
              "    }\n",
              "  }\n",
              "</style>\n",
              "\n",
              "  <script>\n",
              "    async function quickchart(key) {\n",
              "      const quickchartButtonEl =\n",
              "        document.querySelector('#' + key + ' button');\n",
              "      quickchartButtonEl.disabled = true;  // To prevent multiple clicks.\n",
              "      quickchartButtonEl.classList.add('colab-df-spinner');\n",
              "      try {\n",
              "        const charts = await google.colab.kernel.invokeFunction(\n",
              "            'suggestCharts', [key], {});\n",
              "      } catch (error) {\n",
              "        console.error('Error during call to suggestCharts:', error);\n",
              "      }\n",
              "      quickchartButtonEl.classList.remove('colab-df-spinner');\n",
              "      quickchartButtonEl.classList.add('colab-df-quickchart-complete');\n",
              "    }\n",
              "    (() => {\n",
              "      let quickchartButtonEl =\n",
              "        document.querySelector('#df-7e8b25ab-77d6-4058-9266-28b9715105f7 button');\n",
              "      quickchartButtonEl.style.display =\n",
              "        google.colab.kernel.accessAllowed ? 'block' : 'none';\n",
              "    })();\n",
              "  </script>\n",
              "</div>\n",
              "    </div>\n",
              "  </div>\n"
            ]
          },
          "metadata": {},
          "execution_count": 6
        }
      ]
    },
    {
      "cell_type": "code",
      "source": [
        "fraud.columns"
      ],
      "metadata": {
        "id": "4Rx-rPwqbSQ2",
        "colab": {
          "base_uri": "https://localhost:8080/"
        },
        "outputId": "9a648176-245d-40f4-c071-bd2ed4de23fb"
      },
      "execution_count": 7,
      "outputs": [
        {
          "output_type": "execute_result",
          "data": {
            "text/plain": [
              "Index(['tx_fraud', 'tx_amount', 's_pagerank', 's_label', 's_min_send_tx',\n",
              "       's_min_receieve_tx', 's_max_send_tx', 's_max_recieve_tx',\n",
              "       's_avg_send_tx', 's_avg_recieve_tx', 's_cnt_recieve_tx',\n",
              "       's_cnt_send_tx', 's_timestamp', 'r_pagerank', 'r_label',\n",
              "       'r_min_send_tx', 'r_min_receieve_tx', 'r_max_send_tx',\n",
              "       'r_max_recieve_tx', 'r_avg_send_tx', 'r_avg_recieve_tx',\n",
              "       'r_cnt_recieve_tx', 'r_cnt_send_tx', 'r_timestamp'],\n",
              "      dtype='object')"
            ]
          },
          "metadata": {},
          "execution_count": 7
        }
      ]
    },
    {
      "cell_type": "markdown",
      "source": [
        "## Data balacing"
      ],
      "metadata": {
        "id": "T-hukTbDpJTv"
      }
    },
    {
      "cell_type": "code",
      "source": [
        "from imblearn.over_sampling import SMOTE\n",
        "\n",
        "# ... Your existing imports and code for reading data ...\n",
        "\n",
        "# Features and labels before SMOTE\n",
        "features = fraud[['tx_amount', 's_pagerank', 's_label', 's_min_send_tx',\n",
        "                 's_min_receieve_tx', 's_max_send_tx', 's_max_recieve_tx',\n",
        "                 's_avg_send_tx', 's_avg_recieve_tx', 's_cnt_recieve_tx',\n",
        "                 's_cnt_send_tx', 's_timestamp', 'r_pagerank', 'r_label',\n",
        "                 'r_min_send_tx', 'r_min_receieve_tx', 'r_max_send_tx',\n",
        "                 'r_max_recieve_tx', 'r_avg_send_tx', 'r_avg_recieve_tx',\n",
        "                 'r_cnt_recieve_tx', 'r_cnt_send_tx', 'r_timestamp']]\n",
        "labels = fraud['tx_fraud']\n",
        "\n",
        "# Apply SMOTE\n",
        "smote = SMOTE(sampling_strategy='auto', random_state=42)\n",
        "features_resampled, labels_resampled = smote.fit_resample(features, labels)\n",
        "\n",
        "# Replace your original 'fraud' DataFrame with the resampled data\n",
        "fraud_resampled = features_resampled.copy()\n",
        "fraud_resampled['tx_fraud'] = labels_resampled"
      ],
      "metadata": {
        "id": "K6FkrxMJnKPL"
      },
      "execution_count": 8,
      "outputs": []
    },
    {
      "cell_type": "code",
      "source": [
        "fraud_resampled['tx_fraud'].value_counts()"
      ],
      "metadata": {
        "colab": {
          "base_uri": "https://localhost:8080/"
        },
        "id": "5a0gXnNLp_MO",
        "outputId": "e5a42ec0-d6e7-4b70-d99b-6187ac20d289"
      },
      "execution_count": 9,
      "outputs": [
        {
          "output_type": "execute_result",
          "data": {
            "text/plain": [
              "False    234716\n",
              "True     234716\n",
              "Name: tx_fraud, dtype: int64"
            ]
          },
          "metadata": {},
          "execution_count": 9
        }
      ]
    },
    {
      "cell_type": "markdown",
      "source": [
        "## Data preprocessing"
      ],
      "metadata": {
        "id": "JLoFkwjWpCmz"
      }
    },
    {
      "cell_type": "code",
      "source": [
        "!pip install torch torchvision\n",
        "!pip install torch-geometric\n"
      ],
      "metadata": {
        "id": "oLNyDb6lc8zU",
        "colab": {
          "base_uri": "https://localhost:8080/"
        },
        "outputId": "e2d94366-a964-486c-ffab-01b3a6214652"
      },
      "execution_count": 10,
      "outputs": [
        {
          "output_type": "stream",
          "name": "stdout",
          "text": [
            "Requirement already satisfied: torch in /usr/local/lib/python3.10/dist-packages (2.0.1+cu118)\n",
            "Requirement already satisfied: torchvision in /usr/local/lib/python3.10/dist-packages (0.15.2+cu118)\n",
            "Requirement already satisfied: filelock in /usr/local/lib/python3.10/dist-packages (from torch) (3.12.2)\n",
            "Requirement already satisfied: typing-extensions in /usr/local/lib/python3.10/dist-packages (from torch) (4.7.1)\n",
            "Requirement already satisfied: sympy in /usr/local/lib/python3.10/dist-packages (from torch) (1.12)\n",
            "Requirement already satisfied: networkx in /usr/local/lib/python3.10/dist-packages (from torch) (3.1)\n",
            "Requirement already satisfied: jinja2 in /usr/local/lib/python3.10/dist-packages (from torch) (3.1.2)\n",
            "Requirement already satisfied: triton==2.0.0 in /usr/local/lib/python3.10/dist-packages (from torch) (2.0.0)\n",
            "Requirement already satisfied: cmake in /usr/local/lib/python3.10/dist-packages (from triton==2.0.0->torch) (3.27.2)\n",
            "Requirement already satisfied: lit in /usr/local/lib/python3.10/dist-packages (from triton==2.0.0->torch) (16.0.6)\n",
            "Requirement already satisfied: numpy in /usr/local/lib/python3.10/dist-packages (from torchvision) (1.23.5)\n",
            "Requirement already satisfied: requests in /usr/local/lib/python3.10/dist-packages (from torchvision) (2.31.0)\n",
            "Requirement already satisfied: pillow!=8.3.*,>=5.3.0 in /usr/local/lib/python3.10/dist-packages (from torchvision) (9.4.0)\n",
            "Requirement already satisfied: MarkupSafe>=2.0 in /usr/local/lib/python3.10/dist-packages (from jinja2->torch) (2.1.3)\n",
            "Requirement already satisfied: charset-normalizer<4,>=2 in /usr/local/lib/python3.10/dist-packages (from requests->torchvision) (3.2.0)\n",
            "Requirement already satisfied: idna<4,>=2.5 in /usr/local/lib/python3.10/dist-packages (from requests->torchvision) (3.4)\n",
            "Requirement already satisfied: urllib3<3,>=1.21.1 in /usr/local/lib/python3.10/dist-packages (from requests->torchvision) (2.0.4)\n",
            "Requirement already satisfied: certifi>=2017.4.17 in /usr/local/lib/python3.10/dist-packages (from requests->torchvision) (2023.7.22)\n",
            "Requirement already satisfied: mpmath>=0.19 in /usr/local/lib/python3.10/dist-packages (from sympy->torch) (1.3.0)\n",
            "Collecting torch-geometric\n",
            "  Downloading torch_geometric-2.3.1.tar.gz (661 kB)\n",
            "\u001b[2K     \u001b[90m━━━━━━━━━━━━━━━━━━━━━━━━━━━━━━━━━━━━━━━\u001b[0m \u001b[32m661.6/661.6 kB\u001b[0m \u001b[31m5.0 MB/s\u001b[0m eta \u001b[36m0:00:00\u001b[0m\n",
            "\u001b[?25h  Installing build dependencies ... \u001b[?25l\u001b[?25hdone\n",
            "  Getting requirements to build wheel ... \u001b[?25l\u001b[?25hdone\n",
            "  Preparing metadata (pyproject.toml) ... \u001b[?25l\u001b[?25hdone\n",
            "Requirement already satisfied: tqdm in /usr/local/lib/python3.10/dist-packages (from torch-geometric) (4.66.1)\n",
            "Requirement already satisfied: numpy in /usr/local/lib/python3.10/dist-packages (from torch-geometric) (1.23.5)\n",
            "Requirement already satisfied: scipy in /usr/local/lib/python3.10/dist-packages (from torch-geometric) (1.10.1)\n",
            "Requirement already satisfied: jinja2 in /usr/local/lib/python3.10/dist-packages (from torch-geometric) (3.1.2)\n",
            "Requirement already satisfied: requests in /usr/local/lib/python3.10/dist-packages (from torch-geometric) (2.31.0)\n",
            "Requirement already satisfied: pyparsing in /usr/local/lib/python3.10/dist-packages (from torch-geometric) (3.1.1)\n",
            "Requirement already satisfied: scikit-learn in /usr/local/lib/python3.10/dist-packages (from torch-geometric) (1.2.2)\n",
            "Requirement already satisfied: psutil>=5.8.0 in /usr/local/lib/python3.10/dist-packages (from torch-geometric) (5.9.5)\n",
            "Requirement already satisfied: MarkupSafe>=2.0 in /usr/local/lib/python3.10/dist-packages (from jinja2->torch-geometric) (2.1.3)\n",
            "Requirement already satisfied: charset-normalizer<4,>=2 in /usr/local/lib/python3.10/dist-packages (from requests->torch-geometric) (3.2.0)\n",
            "Requirement already satisfied: idna<4,>=2.5 in /usr/local/lib/python3.10/dist-packages (from requests->torch-geometric) (3.4)\n",
            "Requirement already satisfied: urllib3<3,>=1.21.1 in /usr/local/lib/python3.10/dist-packages (from requests->torch-geometric) (2.0.4)\n",
            "Requirement already satisfied: certifi>=2017.4.17 in /usr/local/lib/python3.10/dist-packages (from requests->torch-geometric) (2023.7.22)\n",
            "Requirement already satisfied: joblib>=1.1.1 in /usr/local/lib/python3.10/dist-packages (from scikit-learn->torch-geometric) (1.3.2)\n",
            "Requirement already satisfied: threadpoolctl>=2.0.0 in /usr/local/lib/python3.10/dist-packages (from scikit-learn->torch-geometric) (3.2.0)\n",
            "Building wheels for collected packages: torch-geometric\n",
            "  Building wheel for torch-geometric (pyproject.toml) ... \u001b[?25l\u001b[?25hdone\n",
            "  Created wheel for torch-geometric: filename=torch_geometric-2.3.1-py3-none-any.whl size=910454 sha256=85295a642cc6b8d5b2435547a8619ee5a1ea5ec3580fced15e7263a3ca1da8f0\n",
            "  Stored in directory: /root/.cache/pip/wheels/ac/dc/30/e2874821ff308ee67dcd7a66dbde912411e19e35a1addda028\n",
            "Successfully built torch-geometric\n",
            "Installing collected packages: torch-geometric\n",
            "Successfully installed torch-geometric-2.3.1\n"
          ]
        }
      ]
    },
    {
      "cell_type": "code",
      "source": [
        "import torch\n",
        "from torch_geometric.data import Data\n",
        "\n",
        "\n",
        "# Step 1: Map unique accounts to unique integer IDs\n",
        "unique_accounts = pd.concat([fraud_resampled['s_label'], fraud_resampled['r_label']]).drop_duplicates()\n",
        "account_to_id = {account: i for i, account in enumerate(unique_accounts)}\n",
        "\n",
        "# Step 2: Create the edge_index tensor\n",
        "source_node_indices = fraud_resampled['s_label'].map(account_to_id).values\n",
        "target_node_indices = fraud_resampled['r_label'].map(account_to_id).values\n",
        "\n",
        "edge_index = torch.tensor(\n",
        "    [\n",
        "        source_node_indices,  # Source nodes\n",
        "        target_node_indices   # Target nodes\n",
        "    ],\n",
        "    dtype=torch.long\n",
        ")"
      ],
      "metadata": {
        "colab": {
          "base_uri": "https://localhost:8080/"
        },
        "id": "E1Sq70c5b1Yc",
        "outputId": "585ec6b8-619d-4745-a363-59a1ebb2f2d1"
      },
      "execution_count": 11,
      "outputs": [
        {
          "output_type": "stream",
          "name": "stderr",
          "text": [
            "<ipython-input-11-170449250967>:13: UserWarning: Creating a tensor from a list of numpy.ndarrays is extremely slow. Please consider converting the list to a single numpy.ndarray with numpy.array() before converting to a tensor. (Triggered internally at ../torch/csrc/utils/tensor_new.cpp:245.)\n",
            "  edge_index = torch.tensor(\n"
          ]
        }
      ]
    },
    {
      "cell_type": "code",
      "source": [
        "from sklearn.preprocessing import StandardScaler\n",
        "\n",
        "# Extract the features from the resampled data\n",
        "features_to_scale = ['tx_amount', 's_pagerank', 's_label', 's_min_send_tx',\n",
        "                     's_min_receieve_tx', 's_max_send_tx', 's_max_recieve_tx',\n",
        "                     's_avg_send_tx', 's_avg_recieve_tx', 's_cnt_recieve_tx',\n",
        "                     's_cnt_send_tx', 's_timestamp', 'r_pagerank', 'r_label',\n",
        "                     'r_min_send_tx', 'r_min_receieve_tx', 'r_max_send_tx',\n",
        "                     'r_max_recieve_tx', 'r_avg_send_tx', 'r_avg_recieve_tx',\n",
        "                     'r_cnt_recieve_tx', 'r_cnt_send_tx', 'r_timestamp']\n",
        "\n",
        "# Initialize the scaler\n",
        "scaler = StandardScaler()\n",
        "\n",
        "# Apply scaling to the features\n",
        "fraud_data_scaled = fraud_resampled.copy()\n",
        "fraud_data_scaled[features_to_scale] = scaler.fit_transform(fraud_resampled[features_to_scale])\n",
        "\n",
        "\n",
        "# Use the scaled features in the resampled dataset\n",
        "fraud_resampled_scaled = fraud_data_scaled.copy()\n",
        "\n",
        "# Node features for the sender and receiver\n",
        "sender_features_scaled = torch.tensor(fraud_resampled_scaled[['s_pagerank', 's_label', 's_min_send_tx',\n",
        "                                  's_min_receieve_tx', 's_max_send_tx', 's_max_recieve_tx',\n",
        "                                  's_avg_send_tx', 's_avg_recieve_tx', 's_cnt_recieve_tx',\n",
        "                                  's_cnt_send_tx', 's_timestamp']].values, dtype=torch.float)\n",
        "\n",
        "receiver_features_scaled = torch.tensor(fraud_resampled_scaled[['r_pagerank', 'r_label', 'r_min_send_tx',\n",
        "                                    'r_min_receieve_tx', 'r_max_send_tx', 'r_max_recieve_tx',\n",
        "                                    'r_avg_send_tx', 'r_avg_recieve_tx', 'r_cnt_recieve_tx',\n",
        "                                    'r_cnt_send_tx', 'r_timestamp']].values, dtype=torch.float)\n",
        "\n",
        "# Combining the sender and receiver features\n",
        "x_scaled = torch.cat([sender_features_scaled, receiver_features_scaled], dim=1)\n",
        "\n",
        "# Edge features\n",
        "edge_attr_scaled = torch.tensor(fraud_resampled_scaled[['tx_amount']].values, dtype=torch.float)\n",
        "\n",
        "# Create a PyTorch Geometric data object with scaled features\n",
        "data_scaled = Data(x=x_scaled, edge_index=edge_index, edge_attr=edge_attr_scaled)\n"
      ],
      "metadata": {
        "id": "NGz49bToFM2x"
      },
      "execution_count": 12,
      "outputs": []
    },
    {
      "cell_type": "markdown",
      "source": [
        "## XGBoost"
      ],
      "metadata": {
        "id": "SFTHXIY7t6Pw"
      }
    },
    {
      "cell_type": "code",
      "source": [
        "!pip install xgboost\n",
        "import xgboost as xgb\n"
      ],
      "metadata": {
        "colab": {
          "base_uri": "https://localhost:8080/"
        },
        "id": "cAxCV3s2t5eB",
        "outputId": "4ade4ee0-aac0-40ce-c130-3dea6a845c98"
      },
      "execution_count": 13,
      "outputs": [
        {
          "output_type": "stream",
          "name": "stdout",
          "text": [
            "Requirement already satisfied: xgboost in /usr/local/lib/python3.10/dist-packages (1.7.6)\n",
            "Requirement already satisfied: numpy in /usr/local/lib/python3.10/dist-packages (from xgboost) (1.23.5)\n",
            "Requirement already satisfied: scipy in /usr/local/lib/python3.10/dist-packages (from xgboost) (1.10.1)\n"
          ]
        }
      ]
    },
    {
      "cell_type": "markdown",
      "source": [
        "Test train split"
      ],
      "metadata": {
        "id": "kXa0nXa3uO8y"
      }
    },
    {
      "cell_type": "code",
      "source": [
        "from sklearn.model_selection import train_test_split\n",
        "\n",
        "# Initial train-test split\n",
        "train_fraud, temp_fraud = train_test_split(fraud_resampled_scaled, test_size=0.4, random_state=42, stratify=fraud_resampled_scaled['tx_fraud'])\n",
        "\n",
        "# Split the remaining 40% into validation and test sets\n",
        "val_fraud, test_fraud = train_test_split(temp_fraud, test_size=0.5, random_state=42, stratify=temp_fraud['tx_fraud'])"
      ],
      "metadata": {
        "id": "6L61QYVVrknD"
      },
      "execution_count": 14,
      "outputs": []
    },
    {
      "cell_type": "code",
      "source": [
        "X_train = fraud_resampled_scaled.loc[train_fraud.index, features_to_scale]\n",
        "y_train = fraud_resampled_scaled.loc[train_fraud.index, 'tx_fraud']\n",
        "\n",
        "X_val = fraud_resampled_scaled.loc[val_fraud.index, features_to_scale]\n",
        "y_val = fraud_resampled_scaled.loc[val_fraud.index, 'tx_fraud']\n",
        "\n",
        "X_test = fraud_resampled_scaled.loc[test_fraud.index, features_to_scale]\n",
        "y_test = fraud_resampled_scaled.loc[test_fraud.index, 'tx_fraud']\n",
        "\n",
        "\n"
      ],
      "metadata": {
        "id": "FdwhY0IhuOCr"
      },
      "execution_count": 15,
      "outputs": []
    },
    {
      "cell_type": "markdown",
      "source": [
        "Train"
      ],
      "metadata": {
        "id": "YOWeCKEYueCY"
      }
    },
    {
      "cell_type": "code",
      "source": [
        "from xgboost import XGBRFClassifier\n",
        "# Training the XGBoost model\n",
        "''' xgb_model = XGBRFClassifier(\n",
        "    nthread=-1, n_estimators=100, learning_rate=0.1,\n",
        "    objective='binary:logistic', max_depth=2, scale_pos_weight=400,\n",
        "    min_child_weight=80, gamma=10, max_delta_step=2\n",
        ") '''\n",
        "xgb_model = XGBRFClassifier(\n",
        "   n_estimators=10\n",
        ")\n",
        "xgb_model.fit(X_train, y_train, eval_metric='error', eval_set=[(X_train, y_train), (X_val, y_val)])\n",
        "\n",
        "# Making predictions on the test set using XGBoost\n",
        "xgb_test_predictions = xgb_model.predict(X_test)\n",
        "\n",
        "# Evaluate the XGBoost model using Precision on the test set\n",
        "xgb_test_precision = precision_score(y_test, xgb_test_predictions)\n",
        "print(f\"XGBoost Test Precision: {xgb_test_precision}\")\n",
        "\n",
        "# Making predictions on the validation set using XGBoost\n",
        "xgb_val_predictions = xgb_model.predict(X_val)\n",
        "\n",
        "# Evaluate the XGBoost model using Precision on validation set\n",
        "xgb_val_precision = precision_score(y_val, xgb_val_predictions)\n",
        "print(f\"XGBoost Validation Precision: {xgb_val_precision}\")"
      ],
      "metadata": {
        "colab": {
          "base_uri": "https://localhost:8080/"
        },
        "id": "m2Ib0TK8fpK_",
        "outputId": "f299ce9d-59c8-4444-f275-33486f340658"
      },
      "execution_count": 20,
      "outputs": [
        {
          "output_type": "stream",
          "name": "stderr",
          "text": [
            "/usr/local/lib/python3.10/dist-packages/xgboost/sklearn.py:835: UserWarning:\n",
            "\n",
            "`eval_metric` in `fit` method is deprecated for better compatibility with scikit-learn, use `eval_metric` in constructor or`set_params` instead.\n",
            "\n"
          ]
        },
        {
          "output_type": "stream",
          "name": "stdout",
          "text": [
            "[0]\tvalidation_0-error:0.02127\tvalidation_1-error:0.02080\n",
            "XGBoost Test Precision: 0.9685098406747892\n",
            "XGBoost Validation Precision: 0.9689193696322855\n"
          ]
        }
      ]
    },
    {
      "cell_type": "code",
      "source": [
        "from sklearn.metrics import classification_report, confusion_matrix, accuracy_score, precision_score, recall_score, roc_curve, roc_auc_score, f1_score\n",
        "result = confusion_matrix(y_test, xgb_test_predictions)\n",
        "print(\"Confusion Matrix:\")\n",
        "print(result)\n",
        "print('\\n')\n",
        "result1 = classification_report(y_test, xgb_test_predictions)\n",
        "print(\"Classification Report:\",)\n",
        "print (result1)\n",
        "print('\\n')\n",
        "result2 = accuracy_score(y_test,xgb_test_predictions)\n",
        "print(\"Accuracy:\",result2)\n",
        "print('\\n')\n",
        "# calculate precision and recall scores\n",
        "precision = precision_score(y_test, xgb_test_predictions)\n",
        "recall = recall_score(y_test, xgb_test_predictions)\n",
        "f1score = f1_score(y_test, xgb_test_predictions)\n",
        "\n",
        "# print the results\n",
        "print(\"Precision:\", precision)\n",
        "print(\"Recall:\", recall)\n",
        "print(\"f1 score:\", recall)\n",
        "\n",
        "print(roc_auc_score(y_test, xgb_test_predictions))\n",
        "\n",
        "fpr, tpr, _ = roc_curve(y_test, xgb_test_predictions)\n",
        "\n",
        "plt.clf()\n",
        "plt.plot(fpr, tpr)\n",
        "plt.xlabel('FPR')\n",
        "plt.ylabel('TPR')\n",
        "plt.title('ROC curve')\n",
        "plt.show()"
      ],
      "metadata": {
        "id": "FmLcel27xCEY"
      },
      "execution_count": null,
      "outputs": []
    },
    {
      "cell_type": "code",
      "source": [
        "from xgboost import plot_importance, to_graphviz\n",
        "fig = plt.figure(figsize = (5, 3))\n",
        "ax = fig.add_subplot(111)\n",
        "\n",
        "colours = plt.cm.Set1(np.linspace(0, 1, 9))\n",
        "\n",
        "ax = plot_importance(xgb_model, height = 1, color = colours, grid = False, \\\n",
        "                     show_values = False, importance_type = 'cover', ax = ax);\n",
        "for axis in ['top','bottom','left','right']:\n",
        "            ax.spines[axis].set_linewidth(2)\n",
        "\n",
        "ax.set_xlabel('importance score', size = 16);\n",
        "ax.set_ylabel('features', size = 16);\n",
        "ax.set_yticklabels(ax.get_yticklabels(), size = 12);\n",
        "ax.set_title('Ordering of features by importance to the model learnt', size = 20);\n",
        "to_graphviz(xgb_model)"
      ],
      "metadata": {
        "colab": {
          "base_uri": "https://localhost:8080/",
          "height": 1000
        },
        "id": "bYswx3wF9RiX",
        "outputId": "fc7da05c-0e18-4c5a-df0c-a062a12c1fd0"
      },
      "execution_count": 21,
      "outputs": [
        {
          "output_type": "execute_result",
          "data": {
            "image/svg+xml": "<?xml version=\"1.0\" encoding=\"UTF-8\" standalone=\"no\"?>\n<!DOCTYPE svg PUBLIC \"-//W3C//DTD SVG 1.1//EN\"\n \"http://www.w3.org/Graphics/SVG/1.1/DTD/svg11.dtd\">\n<!-- Generated by graphviz version 2.43.0 (0)\n -->\n<!-- Title: %3 Pages: 1 -->\n<svg width=\"3541pt\" height=\"566pt\"\n viewBox=\"0.00 0.00 3541.04 566.00\" xmlns=\"http://www.w3.org/2000/svg\" xmlns:xlink=\"http://www.w3.org/1999/xlink\">\n<g id=\"graph0\" class=\"graph\" transform=\"scale(1 1) rotate(0) translate(4 562)\">\n<title>%3</title>\n<polygon fill=\"white\" stroke=\"transparent\" points=\"-4,4 -4,-562 3537.04,-562 3537.04,4 -4,4\"/>\n<!-- 0 -->\n<g id=\"node1\" class=\"node\">\n<title>0</title>\n<ellipse fill=\"none\" stroke=\"black\" cx=\"2205.64\" cy=\"-540\" rx=\"107.78\" ry=\"18\"/>\n<text text-anchor=\"middle\" x=\"2205.64\" y=\"-536.3\" font-family=\"Times,serif\" font-size=\"14.00\">tx_amount&lt;&#45;0.0599938445</text>\n</g>\n<!-- 1 -->\n<g id=\"node2\" class=\"node\">\n<title>1</title>\n<ellipse fill=\"none\" stroke=\"black\" cx=\"2083.64\" cy=\"-453\" rx=\"120.48\" ry=\"18\"/>\n<text text-anchor=\"middle\" x=\"2083.64\" y=\"-449.3\" font-family=\"Times,serif\" font-size=\"14.00\">s_max_send_tx&lt;&#45;0.320612729</text>\n</g>\n<!-- 0&#45;&gt;1 -->\n<g id=\"edge1\" class=\"edge\">\n<title>0&#45;&gt;1</title>\n<path fill=\"none\" stroke=\"#0000ff\" d=\"M2181.83,-522.41C2163.14,-509.39 2136.92,-491.12 2116.28,-476.74\"/>\n<polygon fill=\"#0000ff\" stroke=\"#0000ff\" points=\"2118.02,-473.68 2107.81,-470.84 2114.02,-479.43 2118.02,-473.68\"/>\n<text text-anchor=\"middle\" x=\"2187.14\" y=\"-492.8\" font-family=\"Times,serif\" font-size=\"14.00\">yes, missing</text>\n</g>\n<!-- 2 -->\n<g id=\"node3\" class=\"node\">\n<title>2</title>\n<ellipse fill=\"none\" stroke=\"black\" cx=\"2327.64\" cy=\"-453\" rx=\"105.08\" ry=\"18\"/>\n<text text-anchor=\"middle\" x=\"2327.64\" y=\"-449.3\" font-family=\"Times,serif\" font-size=\"14.00\">s_pagerank&lt;&#45;0.664550483</text>\n</g>\n<!-- 0&#45;&gt;2 -->\n<g id=\"edge2\" class=\"edge\">\n<title>0&#45;&gt;2</title>\n<path fill=\"none\" stroke=\"#ff0000\" d=\"M2229.46,-522.41C2248.35,-509.25 2274.94,-490.72 2295.68,-476.27\"/>\n<polygon fill=\"#ff0000\" stroke=\"#ff0000\" points=\"2297.69,-479.14 2303.89,-470.55 2293.68,-473.39 2297.69,-479.14\"/>\n<text text-anchor=\"middle\" x=\"2281.64\" y=\"-492.8\" font-family=\"Times,serif\" font-size=\"14.00\">no</text>\n</g>\n<!-- 3 -->\n<g id=\"node4\" class=\"node\">\n<title>3</title>\n<ellipse fill=\"none\" stroke=\"black\" cx=\"756.64\" cy=\"-366\" rx=\"107.78\" ry=\"18\"/>\n<text text-anchor=\"middle\" x=\"756.64\" y=\"-362.3\" font-family=\"Times,serif\" font-size=\"14.00\">tx_amount&lt;&#45;0.0600746423</text>\n</g>\n<!-- 1&#45;&gt;3 -->\n<g id=\"edge3\" class=\"edge\">\n<title>1&#45;&gt;3</title>\n<path fill=\"none\" stroke=\"#0000ff\" d=\"M1975.61,-445.08C1726.76,-429.14 1115.37,-389.98 865.61,-373.98\"/>\n<polygon fill=\"#0000ff\" stroke=\"#0000ff\" points=\"865.64,-370.47 855.44,-373.33 865.19,-377.46 865.64,-370.47\"/>\n<text text-anchor=\"middle\" x=\"1534.14\" y=\"-405.8\" font-family=\"Times,serif\" font-size=\"14.00\">yes, missing</text>\n</g>\n<!-- 4 -->\n<g id=\"node5\" class=\"node\">\n<title>4</title>\n<ellipse fill=\"none\" stroke=\"black\" cx=\"2101.64\" cy=\"-366\" rx=\"118.88\" ry=\"18\"/>\n<text text-anchor=\"middle\" x=\"2101.64\" y=\"-362.3\" font-family=\"Times,serif\" font-size=\"14.00\">s_min_send_tx&lt;&#45;0.127983332</text>\n</g>\n<!-- 1&#45;&gt;4 -->\n<g id=\"edge4\" class=\"edge\">\n<title>1&#45;&gt;4</title>\n<path fill=\"none\" stroke=\"#ff0000\" d=\"M2087.29,-434.8C2089.75,-423.16 2093.06,-407.55 2095.88,-394.24\"/>\n<polygon fill=\"#ff0000\" stroke=\"#ff0000\" points=\"2099.36,-394.68 2098.01,-384.18 2092.51,-393.23 2099.36,-394.68\"/>\n<text text-anchor=\"middle\" x=\"2101.64\" y=\"-405.8\" font-family=\"Times,serif\" font-size=\"14.00\">no</text>\n</g>\n<!-- 5 -->\n<g id=\"node50\" class=\"node\">\n<title>5</title>\n<ellipse fill=\"none\" stroke=\"black\" cx=\"2324.64\" cy=\"-366\" rx=\"78.79\" ry=\"18\"/>\n<text text-anchor=\"middle\" x=\"2324.64\" y=\"-362.3\" font-family=\"Times,serif\" font-size=\"14.00\">leaf=&#45;0.200000003</text>\n</g>\n<!-- 2&#45;&gt;5 -->\n<g id=\"edge49\" class=\"edge\">\n<title>2&#45;&gt;5</title>\n<path fill=\"none\" stroke=\"#0000ff\" d=\"M2327.04,-434.8C2326.63,-423.16 2326.07,-407.55 2325.6,-394.24\"/>\n<polygon fill=\"#0000ff\" stroke=\"#0000ff\" points=\"2329.1,-394.05 2325.25,-384.18 2322.1,-394.29 2329.1,-394.05\"/>\n<text text-anchor=\"middle\" x=\"2361.14\" y=\"-405.8\" font-family=\"Times,serif\" font-size=\"14.00\">yes, missing</text>\n</g>\n<!-- 6 -->\n<g id=\"node51\" class=\"node\">\n<title>6</title>\n<ellipse fill=\"none\" stroke=\"black\" cx=\"2499.64\" cy=\"-366\" rx=\"78.79\" ry=\"18\"/>\n<text text-anchor=\"middle\" x=\"2499.64\" y=\"-362.3\" font-family=\"Times,serif\" font-size=\"14.00\">leaf=&#45;0.200000003</text>\n</g>\n<!-- 2&#45;&gt;6 -->\n<g id=\"edge50\" class=\"edge\">\n<title>2&#45;&gt;6</title>\n<path fill=\"none\" stroke=\"#ff0000\" d=\"M2361.02,-435.87C2373.19,-429.96 2387.05,-423.21 2399.64,-417 2419.36,-407.28 2441.2,-396.37 2459.43,-387.23\"/>\n<polygon fill=\"#ff0000\" stroke=\"#ff0000\" points=\"2461.24,-390.24 2468.61,-382.63 2458.1,-383.99 2461.24,-390.24\"/>\n<text text-anchor=\"middle\" x=\"2433.64\" y=\"-405.8\" font-family=\"Times,serif\" font-size=\"14.00\">no</text>\n</g>\n<!-- 7 -->\n<g id=\"node6\" class=\"node\">\n<title>7</title>\n<ellipse fill=\"none\" stroke=\"black\" cx=\"399.64\" cy=\"-279\" rx=\"107.78\" ry=\"18\"/>\n<text text-anchor=\"middle\" x=\"399.64\" y=\"-275.3\" font-family=\"Times,serif\" font-size=\"14.00\">tx_amount&lt;&#45;0.0600907654</text>\n</g>\n<!-- 3&#45;&gt;7 -->\n<g id=\"edge5\" class=\"edge\">\n<title>3&#45;&gt;7</title>\n<path fill=\"none\" stroke=\"#0000ff\" d=\"M697.29,-350.87C634.4,-335.89 535.18,-312.27 468.79,-296.46\"/>\n<polygon fill=\"#0000ff\" stroke=\"#0000ff\" points=\"469.38,-293.01 458.84,-294.09 467.76,-299.82 469.38,-293.01\"/>\n<text text-anchor=\"middle\" x=\"634.14\" y=\"-318.8\" font-family=\"Times,serif\" font-size=\"14.00\">yes, missing</text>\n</g>\n<!-- 8 -->\n<g id=\"node7\" class=\"node\">\n<title>8</title>\n<ellipse fill=\"none\" stroke=\"black\" cx=\"756.64\" cy=\"-279\" rx=\"105.08\" ry=\"18\"/>\n<text text-anchor=\"middle\" x=\"756.64\" y=\"-275.3\" font-family=\"Times,serif\" font-size=\"14.00\">s_pagerank&lt;&#45;0.422001958</text>\n</g>\n<!-- 3&#45;&gt;8 -->\n<g id=\"edge6\" class=\"edge\">\n<title>3&#45;&gt;8</title>\n<path fill=\"none\" stroke=\"#ff0000\" d=\"M756.64,-347.8C756.64,-336.16 756.64,-320.55 756.64,-307.24\"/>\n<polygon fill=\"#ff0000\" stroke=\"#ff0000\" points=\"760.14,-307.18 756.64,-297.18 753.14,-307.18 760.14,-307.18\"/>\n<text text-anchor=\"middle\" x=\"763.64\" y=\"-318.8\" font-family=\"Times,serif\" font-size=\"14.00\">no</text>\n</g>\n<!-- 9 -->\n<g id=\"node24\" class=\"node\">\n<title>9</title>\n<ellipse fill=\"none\" stroke=\"black\" cx=\"2101.64\" cy=\"-279\" rx=\"120.48\" ry=\"18\"/>\n<text text-anchor=\"middle\" x=\"2101.64\" y=\"-275.3\" font-family=\"Times,serif\" font-size=\"14.00\">r_max_send_tx&lt;&#45;0.320606232</text>\n</g>\n<!-- 4&#45;&gt;9 -->\n<g id=\"edge23\" class=\"edge\">\n<title>4&#45;&gt;9</title>\n<path fill=\"none\" stroke=\"#0000ff\" d=\"M2101.64,-347.8C2101.64,-336.16 2101.64,-320.55 2101.64,-307.24\"/>\n<polygon fill=\"#0000ff\" stroke=\"#0000ff\" points=\"2105.14,-307.18 2101.64,-297.18 2098.14,-307.18 2105.14,-307.18\"/>\n<text text-anchor=\"middle\" x=\"2136.14\" y=\"-318.8\" font-family=\"Times,serif\" font-size=\"14.00\">yes, missing</text>\n</g>\n<!-- 10 -->\n<g id=\"node25\" class=\"node\">\n<title>10</title>\n<ellipse fill=\"none\" stroke=\"black\" cx=\"2837.64\" cy=\"-279\" rx=\"103.18\" ry=\"18\"/>\n<text text-anchor=\"middle\" x=\"2837.64\" y=\"-275.3\" font-family=\"Times,serif\" font-size=\"14.00\">tx_amount&lt;&#45;0.060074646</text>\n</g>\n<!-- 4&#45;&gt;10 -->\n<g id=\"edge24\" class=\"edge\">\n<title>4&#45;&gt;10</title>\n<path fill=\"none\" stroke=\"#ff0000\" d=\"M2189.49,-353.77C2205.19,-351.82 2221.4,-349.82 2236.64,-348 2415.2,-326.66 2623.82,-303.44 2742.38,-290.4\"/>\n<polygon fill=\"#ff0000\" stroke=\"#ff0000\" points=\"2742.95,-293.86 2752.51,-289.29 2742.19,-286.9 2742.95,-293.86\"/>\n<text text-anchor=\"middle\" x=\"2522.64\" y=\"-318.8\" font-family=\"Times,serif\" font-size=\"14.00\">no</text>\n</g>\n<!-- 11 -->\n<g id=\"node8\" class=\"node\">\n<title>11</title>\n<ellipse fill=\"none\" stroke=\"black\" cx=\"226.64\" cy=\"-192\" rx=\"79.89\" ry=\"18\"/>\n<text text-anchor=\"middle\" x=\"226.64\" y=\"-188.3\" font-family=\"Times,serif\" font-size=\"14.00\">leaf=0.0999990031</text>\n</g>\n<!-- 7&#45;&gt;11 -->\n<g id=\"edge7\" class=\"edge\">\n<title>7&#45;&gt;11</title>\n<path fill=\"none\" stroke=\"#0000ff\" d=\"M365.42,-261.74C353.17,-255.87 339.27,-249.18 326.64,-243 306.9,-233.33 285.05,-222.43 266.83,-213.28\"/>\n<polygon fill=\"#0000ff\" stroke=\"#0000ff\" points=\"268.16,-210.04 257.66,-208.67 265.02,-216.29 268.16,-210.04\"/>\n<text text-anchor=\"middle\" x=\"361.14\" y=\"-231.8\" font-family=\"Times,serif\" font-size=\"14.00\">yes, missing</text>\n</g>\n<!-- 12 -->\n<g id=\"node9\" class=\"node\">\n<title>12</title>\n<ellipse fill=\"none\" stroke=\"black\" cx=\"399.64\" cy=\"-192\" rx=\"75.29\" ry=\"18\"/>\n<text text-anchor=\"middle\" x=\"399.64\" y=\"-188.3\" font-family=\"Times,serif\" font-size=\"14.00\">leaf=0.200000003</text>\n</g>\n<!-- 7&#45;&gt;12 -->\n<g id=\"edge8\" class=\"edge\">\n<title>7&#45;&gt;12</title>\n<path fill=\"none\" stroke=\"#ff0000\" d=\"M399.64,-260.8C399.64,-249.16 399.64,-233.55 399.64,-220.24\"/>\n<polygon fill=\"#ff0000\" stroke=\"#ff0000\" points=\"403.14,-220.18 399.64,-210.18 396.14,-220.18 403.14,-220.18\"/>\n<text text-anchor=\"middle\" x=\"406.64\" y=\"-231.8\" font-family=\"Times,serif\" font-size=\"14.00\">no</text>\n</g>\n<!-- 13 -->\n<g id=\"node10\" class=\"node\">\n<title>13</title>\n<ellipse fill=\"none\" stroke=\"black\" cx=\"611.64\" cy=\"-192\" rx=\"118.88\" ry=\"18\"/>\n<text text-anchor=\"middle\" x=\"611.64\" y=\"-188.3\" font-family=\"Times,serif\" font-size=\"14.00\">s_min_send_tx&lt;&#45;0.266065776</text>\n</g>\n<!-- 8&#45;&gt;13 -->\n<g id=\"edge9\" class=\"edge\">\n<title>8&#45;&gt;13</title>\n<path fill=\"none\" stroke=\"#0000ff\" d=\"M728.69,-261.61C705.96,-248.29 673.71,-229.39 648.82,-214.79\"/>\n<polygon fill=\"#0000ff\" stroke=\"#0000ff\" points=\"650.41,-211.67 640.01,-209.63 646.87,-217.71 650.41,-211.67\"/>\n<text text-anchor=\"middle\" x=\"728.14\" y=\"-231.8\" font-family=\"Times,serif\" font-size=\"14.00\">yes, missing</text>\n</g>\n<!-- 14 -->\n<g id=\"node11\" class=\"node\">\n<title>14</title>\n<ellipse fill=\"none\" stroke=\"black\" cx=\"864.64\" cy=\"-192\" rx=\"102.88\" ry=\"18\"/>\n<text text-anchor=\"middle\" x=\"864.64\" y=\"-188.3\" font-family=\"Times,serif\" font-size=\"14.00\">s_pagerank&lt;0.459774345</text>\n</g>\n<!-- 8&#45;&gt;14 -->\n<g id=\"edge10\" class=\"edge\">\n<title>8&#45;&gt;14</title>\n<path fill=\"none\" stroke=\"#ff0000\" d=\"M777.98,-261.21C794.4,-248.28 817.27,-230.28 835.4,-216.02\"/>\n<polygon fill=\"#ff0000\" stroke=\"#ff0000\" points=\"837.66,-218.69 843.35,-209.76 833.33,-213.19 837.66,-218.69\"/>\n<text text-anchor=\"middle\" x=\"824.64\" y=\"-231.8\" font-family=\"Times,serif\" font-size=\"14.00\">no</text>\n</g>\n<!-- 19 -->\n<g id=\"node12\" class=\"node\">\n<title>19</title>\n<ellipse fill=\"none\" stroke=\"black\" cx=\"250.64\" cy=\"-105\" rx=\"118.88\" ry=\"18\"/>\n<text text-anchor=\"middle\" x=\"250.64\" y=\"-101.3\" font-family=\"Times,serif\" font-size=\"14.00\">s_min_send_tx&lt;&#45;0.266111851</text>\n</g>\n<!-- 13&#45;&gt;19 -->\n<g id=\"edge11\" class=\"edge\">\n<title>13&#45;&gt;19</title>\n<path fill=\"none\" stroke=\"#0000ff\" d=\"M550,-176.48C486.78,-161.6 388.57,-138.48 322.03,-122.81\"/>\n<polygon fill=\"#0000ff\" stroke=\"#0000ff\" points=\"322.57,-119.34 312.04,-120.46 320.97,-126.15 322.57,-119.34\"/>\n<text text-anchor=\"middle\" x=\"488.14\" y=\"-144.8\" font-family=\"Times,serif\" font-size=\"14.00\">yes, missing</text>\n</g>\n<!-- 20 -->\n<g id=\"node13\" class=\"node\">\n<title>20</title>\n<ellipse fill=\"none\" stroke=\"black\" cx=\"597.64\" cy=\"-105\" rx=\"107.78\" ry=\"18\"/>\n<text text-anchor=\"middle\" x=\"597.64\" y=\"-101.3\" font-family=\"Times,serif\" font-size=\"14.00\">tx_amount&lt;&#45;0.0600733757</text>\n</g>\n<!-- 13&#45;&gt;20 -->\n<g id=\"edge12\" class=\"edge\">\n<title>13&#45;&gt;20</title>\n<path fill=\"none\" stroke=\"#ff0000\" d=\"M608.81,-173.8C606.89,-162.16 604.32,-146.55 602.13,-133.24\"/>\n<polygon fill=\"#ff0000\" stroke=\"#ff0000\" points=\"605.55,-132.47 600.47,-123.18 598.64,-133.61 605.55,-132.47\"/>\n<text text-anchor=\"middle\" x=\"612.64\" y=\"-144.8\" font-family=\"Times,serif\" font-size=\"14.00\">no</text>\n</g>\n<!-- 21 -->\n<g id=\"node18\" class=\"node\">\n<title>21</title>\n<ellipse fill=\"none\" stroke=\"black\" cx=\"864.64\" cy=\"-105\" rx=\"118.88\" ry=\"18\"/>\n<text text-anchor=\"middle\" x=\"864.64\" y=\"-101.3\" font-family=\"Times,serif\" font-size=\"14.00\">s_min_send_tx&lt;&#45;0.265128613</text>\n</g>\n<!-- 14&#45;&gt;21 -->\n<g id=\"edge17\" class=\"edge\">\n<title>14&#45;&gt;21</title>\n<path fill=\"none\" stroke=\"#0000ff\" d=\"M864.64,-173.8C864.64,-162.16 864.64,-146.55 864.64,-133.24\"/>\n<polygon fill=\"#0000ff\" stroke=\"#0000ff\" points=\"868.14,-133.18 864.64,-123.18 861.14,-133.18 868.14,-133.18\"/>\n<text text-anchor=\"middle\" x=\"899.14\" y=\"-144.8\" font-family=\"Times,serif\" font-size=\"14.00\">yes, missing</text>\n</g>\n<!-- 22 -->\n<g id=\"node19\" class=\"node\">\n<title>22</title>\n<ellipse fill=\"none\" stroke=\"black\" cx=\"1126.64\" cy=\"-105\" rx=\"103.18\" ry=\"18\"/>\n<text text-anchor=\"middle\" x=\"1126.64\" y=\"-101.3\" font-family=\"Times,serif\" font-size=\"14.00\">s_timestamp&lt;1.49729061</text>\n</g>\n<!-- 14&#45;&gt;22 -->\n<g id=\"edge18\" class=\"edge\">\n<title>14&#45;&gt;22</title>\n<path fill=\"none\" stroke=\"#ff0000\" d=\"M911.18,-175.9C955.75,-161.44 1023.07,-139.6 1070.57,-124.19\"/>\n<polygon fill=\"#ff0000\" stroke=\"#ff0000\" points=\"1071.67,-127.52 1080.1,-121.1 1069.51,-120.86 1071.67,-127.52\"/>\n<text text-anchor=\"middle\" x=\"1018.64\" y=\"-144.8\" font-family=\"Times,serif\" font-size=\"14.00\">no</text>\n</g>\n<!-- 31 -->\n<g id=\"node14\" class=\"node\">\n<title>31</title>\n<ellipse fill=\"none\" stroke=\"black\" cx=\"78.64\" cy=\"-18\" rx=\"78.79\" ry=\"18\"/>\n<text text-anchor=\"middle\" x=\"78.64\" y=\"-14.3\" font-family=\"Times,serif\" font-size=\"14.00\">leaf=&#45;0.199999988</text>\n</g>\n<!-- 19&#45;&gt;31 -->\n<g id=\"edge13\" class=\"edge\">\n<title>19&#45;&gt;31</title>\n<path fill=\"none\" stroke=\"#0000ff\" d=\"M216.04,-87.59C203.87,-81.77 190.13,-75.14 177.64,-69 158.08,-59.37 136.45,-48.47 118.41,-39.32\"/>\n<polygon fill=\"#0000ff\" stroke=\"#0000ff\" points=\"119.83,-36.12 109.33,-34.7 116.66,-42.36 119.83,-36.12\"/>\n<text text-anchor=\"middle\" x=\"212.14\" y=\"-57.8\" font-family=\"Times,serif\" font-size=\"14.00\">yes, missing</text>\n</g>\n<!-- 32 -->\n<g id=\"node15\" class=\"node\">\n<title>32</title>\n<ellipse fill=\"none\" stroke=\"black\" cx=\"250.64\" cy=\"-18\" rx=\"75.29\" ry=\"18\"/>\n<text text-anchor=\"middle\" x=\"250.64\" y=\"-14.3\" font-family=\"Times,serif\" font-size=\"14.00\">leaf=0.199999958</text>\n</g>\n<!-- 19&#45;&gt;32 -->\n<g id=\"edge14\" class=\"edge\">\n<title>19&#45;&gt;32</title>\n<path fill=\"none\" stroke=\"#ff0000\" d=\"M250.64,-86.8C250.64,-75.16 250.64,-59.55 250.64,-46.24\"/>\n<polygon fill=\"#ff0000\" stroke=\"#ff0000\" points=\"254.14,-46.18 250.64,-36.18 247.14,-46.18 254.14,-46.18\"/>\n<text text-anchor=\"middle\" x=\"257.64\" y=\"-57.8\" font-family=\"Times,serif\" font-size=\"14.00\">no</text>\n</g>\n<!-- 33 -->\n<g id=\"node16\" class=\"node\">\n<title>33</title>\n<ellipse fill=\"none\" stroke=\"black\" cx=\"422.64\" cy=\"-18\" rx=\"78.79\" ry=\"18\"/>\n<text text-anchor=\"middle\" x=\"422.64\" y=\"-14.3\" font-family=\"Times,serif\" font-size=\"14.00\">leaf=&#45;0.170296997</text>\n</g>\n<!-- 20&#45;&gt;33 -->\n<g id=\"edge15\" class=\"edge\">\n<title>20&#45;&gt;33</title>\n<path fill=\"none\" stroke=\"#0000ff\" d=\"M563.81,-87.86C551.47,-81.95 537.42,-75.19 524.64,-69 504.45,-59.21 482.06,-48.25 463.41,-39.09\"/>\n<polygon fill=\"#0000ff\" stroke=\"#0000ff\" points=\"464.83,-35.88 454.31,-34.61 461.74,-42.16 464.83,-35.88\"/>\n<text text-anchor=\"middle\" x=\"559.14\" y=\"-57.8\" font-family=\"Times,serif\" font-size=\"14.00\">yes, missing</text>\n</g>\n<!-- 34 -->\n<g id=\"node17\" class=\"node\">\n<title>34</title>\n<ellipse fill=\"none\" stroke=\"black\" cx=\"597.64\" cy=\"-18\" rx=\"78.79\" ry=\"18\"/>\n<text text-anchor=\"middle\" x=\"597.64\" y=\"-14.3\" font-family=\"Times,serif\" font-size=\"14.00\">leaf=&#45;0.199780017</text>\n</g>\n<!-- 20&#45;&gt;34 -->\n<g id=\"edge16\" class=\"edge\">\n<title>20&#45;&gt;34</title>\n<path fill=\"none\" stroke=\"#ff0000\" d=\"M597.64,-86.8C597.64,-75.16 597.64,-59.55 597.64,-46.24\"/>\n<polygon fill=\"#ff0000\" stroke=\"#ff0000\" points=\"601.14,-46.18 597.64,-36.18 594.14,-46.18 601.14,-46.18\"/>\n<text text-anchor=\"middle\" x=\"604.64\" y=\"-57.8\" font-family=\"Times,serif\" font-size=\"14.00\">no</text>\n</g>\n<!-- 35 -->\n<g id=\"node20\" class=\"node\">\n<title>35</title>\n<ellipse fill=\"none\" stroke=\"black\" cx=\"769.64\" cy=\"-18\" rx=\"75.29\" ry=\"18\"/>\n<text text-anchor=\"middle\" x=\"769.64\" y=\"-14.3\" font-family=\"Times,serif\" font-size=\"14.00\">leaf=0.119010128</text>\n</g>\n<!-- 21&#45;&gt;35 -->\n<g id=\"edge19\" class=\"edge\">\n<title>21&#45;&gt;35</title>\n<path fill=\"none\" stroke=\"#0000ff\" d=\"M845.87,-87.21C831.6,-74.43 811.78,-56.7 795.93,-42.52\"/>\n<polygon fill=\"#0000ff\" stroke=\"#0000ff\" points=\"797.84,-39.53 788.05,-35.47 793.17,-44.75 797.84,-39.53\"/>\n<text text-anchor=\"middle\" x=\"858.14\" y=\"-57.8\" font-family=\"Times,serif\" font-size=\"14.00\">yes, missing</text>\n</g>\n<!-- 36 -->\n<g id=\"node21\" class=\"node\">\n<title>36</title>\n<ellipse fill=\"none\" stroke=\"black\" cx=\"946.64\" cy=\"-18\" rx=\"83.39\" ry=\"18\"/>\n<text text-anchor=\"middle\" x=\"946.64\" y=\"-14.3\" font-family=\"Times,serif\" font-size=\"14.00\">leaf=&#45;0.0107526882</text>\n</g>\n<!-- 21&#45;&gt;36 -->\n<g id=\"edge20\" class=\"edge\">\n<title>21&#45;&gt;36</title>\n<path fill=\"none\" stroke=\"#ff0000\" d=\"M881.24,-86.8C893.32,-74.27 909.85,-57.14 923.27,-43.23\"/>\n<polygon fill=\"#ff0000\" stroke=\"#ff0000\" points=\"925.93,-45.51 930.35,-35.89 920.89,-40.65 925.93,-45.51\"/>\n<text text-anchor=\"middle\" x=\"917.64\" y=\"-57.8\" font-family=\"Times,serif\" font-size=\"14.00\">no</text>\n</g>\n<!-- 37 -->\n<g id=\"node22\" class=\"node\">\n<title>37</title>\n<ellipse fill=\"none\" stroke=\"black\" cx=\"1126.64\" cy=\"-18\" rx=\"78.79\" ry=\"18\"/>\n<text text-anchor=\"middle\" x=\"1126.64\" y=\"-14.3\" font-family=\"Times,serif\" font-size=\"14.00\">leaf=&#45;0.194497928</text>\n</g>\n<!-- 22&#45;&gt;37 -->\n<g id=\"edge21\" class=\"edge\">\n<title>22&#45;&gt;37</title>\n<path fill=\"none\" stroke=\"#0000ff\" d=\"M1126.64,-86.8C1126.64,-75.16 1126.64,-59.55 1126.64,-46.24\"/>\n<polygon fill=\"#0000ff\" stroke=\"#0000ff\" points=\"1130.14,-46.18 1126.64,-36.18 1123.14,-46.18 1130.14,-46.18\"/>\n<text text-anchor=\"middle\" x=\"1161.14\" y=\"-57.8\" font-family=\"Times,serif\" font-size=\"14.00\">yes, missing</text>\n</g>\n<!-- 38 -->\n<g id=\"node23\" class=\"node\">\n<title>38</title>\n<ellipse fill=\"none\" stroke=\"black\" cx=\"1303.64\" cy=\"-18\" rx=\"79.89\" ry=\"18\"/>\n<text text-anchor=\"middle\" x=\"1303.64\" y=\"-14.3\" font-family=\"Times,serif\" font-size=\"14.00\">leaf=0.0205980036</text>\n</g>\n<!-- 22&#45;&gt;38 -->\n<g id=\"edge22\" class=\"edge\">\n<title>22&#45;&gt;38</title>\n<path fill=\"none\" stroke=\"#ff0000\" d=\"M1160.45,-87.8C1172.78,-81.89 1186.85,-75.14 1199.64,-69 1220.29,-59.09 1243.23,-48.06 1262.3,-38.89\"/>\n<polygon fill=\"#ff0000\" stroke=\"#ff0000\" points=\"1263.83,-42.04 1271.32,-34.55 1260.79,-35.73 1263.83,-42.04\"/>\n<text text-anchor=\"middle\" x=\"1235.64\" y=\"-57.8\" font-family=\"Times,serif\" font-size=\"14.00\">no</text>\n</g>\n<!-- 15 -->\n<g id=\"node26\" class=\"node\">\n<title>15</title>\n<ellipse fill=\"none\" stroke=\"black\" cx=\"1952.64\" cy=\"-192\" rx=\"118.88\" ry=\"18\"/>\n<text text-anchor=\"middle\" x=\"1952.64\" y=\"-188.3\" font-family=\"Times,serif\" font-size=\"14.00\">s_min_send_tx&lt;&#45;0.244504422</text>\n</g>\n<!-- 9&#45;&gt;15 -->\n<g id=\"edge25\" class=\"edge\">\n<title>9&#45;&gt;15</title>\n<path fill=\"none\" stroke=\"#0000ff\" d=\"M2072.56,-261.41C2049.18,-248.07 2016.14,-229.22 1990.66,-214.69\"/>\n<polygon fill=\"#0000ff\" stroke=\"#0000ff\" points=\"1992.07,-211.46 1981.65,-209.55 1988.6,-217.54 1992.07,-211.46\"/>\n<text text-anchor=\"middle\" x=\"2071.14\" y=\"-231.8\" font-family=\"Times,serif\" font-size=\"14.00\">yes, missing</text>\n</g>\n<!-- 16 -->\n<g id=\"node27\" class=\"node\">\n<title>16</title>\n<ellipse fill=\"none\" stroke=\"black\" cx=\"2251.64\" cy=\"-192\" rx=\"122.38\" ry=\"18\"/>\n<text text-anchor=\"middle\" x=\"2251.64\" y=\"-188.3\" font-family=\"Times,serif\" font-size=\"14.00\">s_max_recieve_tx&lt;3.59596801</text>\n</g>\n<!-- 9&#45;&gt;16 -->\n<g id=\"edge26\" class=\"edge\">\n<title>9&#45;&gt;16</title>\n<path fill=\"none\" stroke=\"#ff0000\" d=\"M2130.92,-261.41C2154.56,-248.01 2188.01,-229.06 2213.7,-214.5\"/>\n<polygon fill=\"#ff0000\" stroke=\"#ff0000\" points=\"2215.46,-217.52 2222.44,-209.55 2212.01,-211.43 2215.46,-217.52\"/>\n<text text-anchor=\"middle\" x=\"2192.64\" y=\"-231.8\" font-family=\"Times,serif\" font-size=\"14.00\">no</text>\n</g>\n<!-- 17 -->\n<g id=\"node40\" class=\"node\">\n<title>17</title>\n<ellipse fill=\"none\" stroke=\"black\" cx=\"2837.64\" cy=\"-192\" rx=\"107.78\" ry=\"18\"/>\n<text text-anchor=\"middle\" x=\"2837.64\" y=\"-188.3\" font-family=\"Times,serif\" font-size=\"14.00\">tx_amount&lt;&#45;0.0600913428</text>\n</g>\n<!-- 10&#45;&gt;17 -->\n<g id=\"edge39\" class=\"edge\">\n<title>10&#45;&gt;17</title>\n<path fill=\"none\" stroke=\"#0000ff\" d=\"M2837.64,-260.8C2837.64,-249.16 2837.64,-233.55 2837.64,-220.24\"/>\n<polygon fill=\"#0000ff\" stroke=\"#0000ff\" points=\"2841.14,-220.18 2837.64,-210.18 2834.14,-220.18 2841.14,-220.18\"/>\n<text text-anchor=\"middle\" x=\"2872.14\" y=\"-231.8\" font-family=\"Times,serif\" font-size=\"14.00\">yes, missing</text>\n</g>\n<!-- 18 -->\n<g id=\"node41\" class=\"node\">\n<title>18</title>\n<ellipse fill=\"none\" stroke=\"black\" cx=\"3227.64\" cy=\"-192\" rx=\"108.58\" ry=\"18\"/>\n<text text-anchor=\"middle\" x=\"3227.64\" y=\"-188.3\" font-family=\"Times,serif\" font-size=\"14.00\">s_max_send_tx&lt;5.7675066</text>\n</g>\n<!-- 10&#45;&gt;18 -->\n<g id=\"edge40\" class=\"edge\">\n<title>10&#45;&gt;18</title>\n<path fill=\"none\" stroke=\"#ff0000\" d=\"M2899.44,-264.53C2968.78,-249.42 3081.15,-224.93 3154.73,-208.89\"/>\n<polygon fill=\"#ff0000\" stroke=\"#ff0000\" points=\"3155.82,-212.24 3164.84,-206.69 3154.33,-205.4 3155.82,-212.24\"/>\n<text text-anchor=\"middle\" x=\"3062.64\" y=\"-231.8\" font-family=\"Times,serif\" font-size=\"14.00\">no</text>\n</g>\n<!-- 23 -->\n<g id=\"node28\" class=\"node\">\n<title>23</title>\n<ellipse fill=\"none\" stroke=\"black\" cx=\"1654.64\" cy=\"-105\" rx=\"124.28\" ry=\"18\"/>\n<text text-anchor=\"middle\" x=\"1654.64\" y=\"-101.3\" font-family=\"Times,serif\" font-size=\"14.00\">s_avg_recieve_tx&lt;0.713691115</text>\n</g>\n<!-- 15&#45;&gt;23 -->\n<g id=\"edge27\" class=\"edge\">\n<title>15&#45;&gt;23</title>\n<path fill=\"none\" stroke=\"#0000ff\" d=\"M1899.37,-175.8C1848.54,-161.31 1771.94,-139.46 1718.01,-124.07\"/>\n<polygon fill=\"#0000ff\" stroke=\"#0000ff\" points=\"1718.79,-120.66 1708.21,-121.28 1716.87,-127.39 1718.79,-120.66\"/>\n<text text-anchor=\"middle\" x=\"1856.14\" y=\"-144.8\" font-family=\"Times,serif\" font-size=\"14.00\">yes, missing</text>\n</g>\n<!-- 24 -->\n<g id=\"node29\" class=\"node\">\n<title>24</title>\n<ellipse fill=\"none\" stroke=\"black\" cx=\"1952.64\" cy=\"-105\" rx=\"107.78\" ry=\"18\"/>\n<text text-anchor=\"middle\" x=\"1952.64\" y=\"-101.3\" font-family=\"Times,serif\" font-size=\"14.00\">tx_amount&lt;&#45;0.0600788407</text>\n</g>\n<!-- 15&#45;&gt;24 -->\n<g id=\"edge28\" class=\"edge\">\n<title>15&#45;&gt;24</title>\n<path fill=\"none\" stroke=\"#ff0000\" d=\"M1952.64,-173.8C1952.64,-162.16 1952.64,-146.55 1952.64,-133.24\"/>\n<polygon fill=\"#ff0000\" stroke=\"#ff0000\" points=\"1956.14,-133.18 1952.64,-123.18 1949.14,-133.18 1956.14,-133.18\"/>\n<text text-anchor=\"middle\" x=\"1959.64\" y=\"-144.8\" font-family=\"Times,serif\" font-size=\"14.00\">no</text>\n</g>\n<!-- 25 -->\n<g id=\"node34\" class=\"node\">\n<title>25</title>\n<ellipse fill=\"none\" stroke=\"black\" cx=\"2251.64\" cy=\"-105\" rx=\"118.88\" ry=\"18\"/>\n<text text-anchor=\"middle\" x=\"2251.64\" y=\"-101.3\" font-family=\"Times,serif\" font-size=\"14.00\">s_min_send_tx&lt;&#45;0.268011153</text>\n</g>\n<!-- 16&#45;&gt;25 -->\n<g id=\"edge33\" class=\"edge\">\n<title>16&#45;&gt;25</title>\n<path fill=\"none\" stroke=\"#0000ff\" d=\"M2251.64,-173.8C2251.64,-162.16 2251.64,-146.55 2251.64,-133.24\"/>\n<polygon fill=\"#0000ff\" stroke=\"#0000ff\" points=\"2255.14,-133.18 2251.64,-123.18 2248.14,-133.18 2255.14,-133.18\"/>\n<text text-anchor=\"middle\" x=\"2286.14\" y=\"-144.8\" font-family=\"Times,serif\" font-size=\"14.00\">yes, missing</text>\n</g>\n<!-- 26 -->\n<g id=\"node35\" class=\"node\">\n<title>26</title>\n<ellipse fill=\"none\" stroke=\"black\" cx=\"2520.64\" cy=\"-105\" rx=\"107.78\" ry=\"18\"/>\n<text text-anchor=\"middle\" x=\"2520.64\" y=\"-101.3\" font-family=\"Times,serif\" font-size=\"14.00\">tx_amount&lt;&#45;0.0600698292</text>\n</g>\n<!-- 16&#45;&gt;26 -->\n<g id=\"edge34\" class=\"edge\">\n<title>16&#45;&gt;26</title>\n<path fill=\"none\" stroke=\"#ff0000\" d=\"M2300.67,-175.51C2346.32,-161.08 2414.4,-139.57 2462.72,-124.3\"/>\n<polygon fill=\"#ff0000\" stroke=\"#ff0000\" points=\"2463.93,-127.59 2472.41,-121.24 2461.82,-120.92 2463.93,-127.59\"/>\n<text text-anchor=\"middle\" x=\"2409.64\" y=\"-144.8\" font-family=\"Times,serif\" font-size=\"14.00\">no</text>\n</g>\n<!-- 39 -->\n<g id=\"node30\" class=\"node\">\n<title>39</title>\n<ellipse fill=\"none\" stroke=\"black\" cx=\"1476.64\" cy=\"-18\" rx=\"75.29\" ry=\"18\"/>\n<text text-anchor=\"middle\" x=\"1476.64\" y=\"-14.3\" font-family=\"Times,serif\" font-size=\"14.00\">leaf=0.166955635</text>\n</g>\n<!-- 23&#45;&gt;39 -->\n<g id=\"edge29\" class=\"edge\">\n<title>23&#45;&gt;39</title>\n<path fill=\"none\" stroke=\"#0000ff\" d=\"M1620.32,-87.61C1591.12,-73.66 1549.09,-53.59 1518.02,-38.76\"/>\n<polygon fill=\"#0000ff\" stroke=\"#0000ff\" points=\"1519.29,-35.49 1508.76,-34.34 1516.28,-41.81 1519.29,-35.49\"/>\n<text text-anchor=\"middle\" x=\"1611.14\" y=\"-57.8\" font-family=\"Times,serif\" font-size=\"14.00\">yes, missing</text>\n</g>\n<!-- 40 -->\n<g id=\"node31\" class=\"node\">\n<title>40</title>\n<ellipse fill=\"none\" stroke=\"black\" cx=\"1654.64\" cy=\"-18\" rx=\"84.49\" ry=\"18\"/>\n<text text-anchor=\"middle\" x=\"1654.64\" y=\"-14.3\" font-family=\"Times,serif\" font-size=\"14.00\">leaf=0.00383141707</text>\n</g>\n<!-- 23&#45;&gt;40 -->\n<g id=\"edge30\" class=\"edge\">\n<title>23&#45;&gt;40</title>\n<path fill=\"none\" stroke=\"#ff0000\" d=\"M1654.64,-86.8C1654.64,-75.16 1654.64,-59.55 1654.64,-46.24\"/>\n<polygon fill=\"#ff0000\" stroke=\"#ff0000\" points=\"1658.14,-46.18 1654.64,-36.18 1651.14,-46.18 1658.14,-46.18\"/>\n<text text-anchor=\"middle\" x=\"1661.64\" y=\"-57.8\" font-family=\"Times,serif\" font-size=\"14.00\">no</text>\n</g>\n<!-- 41 -->\n<g id=\"node32\" class=\"node\">\n<title>41</title>\n<ellipse fill=\"none\" stroke=\"black\" cx=\"1832.64\" cy=\"-18\" rx=\"75.29\" ry=\"18\"/>\n<text text-anchor=\"middle\" x=\"1832.64\" y=\"-14.3\" font-family=\"Times,serif\" font-size=\"14.00\">leaf=0.199999601</text>\n</g>\n<!-- 24&#45;&gt;41 -->\n<g id=\"edge31\" class=\"edge\">\n<title>24&#45;&gt;41</title>\n<path fill=\"none\" stroke=\"#0000ff\" d=\"M1928.7,-87.31C1920.44,-81.53 1911.12,-75 1902.64,-69 1889.89,-59.98 1875.87,-49.98 1863.75,-41.31\"/>\n<polygon fill=\"#0000ff\" stroke=\"#0000ff\" points=\"1865.47,-38.24 1855.3,-35.27 1861.4,-43.93 1865.47,-38.24\"/>\n<text text-anchor=\"middle\" x=\"1937.14\" y=\"-57.8\" font-family=\"Times,serif\" font-size=\"14.00\">yes, missing</text>\n</g>\n<!-- 42 -->\n<g id=\"node33\" class=\"node\">\n<title>42</title>\n<ellipse fill=\"none\" stroke=\"black\" cx=\"2004.64\" cy=\"-18\" rx=\"78.79\" ry=\"18\"/>\n<text text-anchor=\"middle\" x=\"2004.64\" y=\"-14.3\" font-family=\"Times,serif\" font-size=\"14.00\">leaf=&#45;0.199999988</text>\n</g>\n<!-- 24&#45;&gt;42 -->\n<g id=\"edge32\" class=\"edge\">\n<title>24&#45;&gt;42</title>\n<path fill=\"none\" stroke=\"#ff0000\" d=\"M1963.17,-86.8C1970.54,-74.74 1980.54,-58.4 1988.87,-44.79\"/>\n<polygon fill=\"#ff0000\" stroke=\"#ff0000\" points=\"1992.08,-46.24 1994.31,-35.89 1986.11,-42.59 1992.08,-46.24\"/>\n<text text-anchor=\"middle\" x=\"1989.64\" y=\"-57.8\" font-family=\"Times,serif\" font-size=\"14.00\">no</text>\n</g>\n<!-- 43 -->\n<g id=\"node36\" class=\"node\">\n<title>43</title>\n<ellipse fill=\"none\" stroke=\"black\" cx=\"2179.64\" cy=\"-18\" rx=\"78.79\" ry=\"18\"/>\n<text text-anchor=\"middle\" x=\"2179.64\" y=\"-14.3\" font-family=\"Times,serif\" font-size=\"14.00\">leaf=&#45;0.182352826</text>\n</g>\n<!-- 25&#45;&gt;43 -->\n<g id=\"edge35\" class=\"edge\">\n<title>25&#45;&gt;43</title>\n<path fill=\"none\" stroke=\"#0000ff\" d=\"M2237.07,-86.8C2226.56,-74.39 2212.22,-57.46 2200.5,-43.62\"/>\n<polygon fill=\"#0000ff\" stroke=\"#0000ff\" points=\"2203.08,-41.25 2193.95,-35.89 2197.74,-45.78 2203.08,-41.25\"/>\n<text text-anchor=\"middle\" x=\"2255.14\" y=\"-57.8\" font-family=\"Times,serif\" font-size=\"14.00\">yes, missing</text>\n</g>\n<!-- 44 -->\n<g id=\"node37\" class=\"node\">\n<title>44</title>\n<ellipse fill=\"none\" stroke=\"black\" cx=\"2351.64\" cy=\"-18\" rx=\"75.29\" ry=\"18\"/>\n<text text-anchor=\"middle\" x=\"2351.64\" y=\"-14.3\" font-family=\"Times,serif\" font-size=\"14.00\">leaf=0.189380452</text>\n</g>\n<!-- 25&#45;&gt;44 -->\n<g id=\"edge36\" class=\"edge\">\n<title>25&#45;&gt;44</title>\n<path fill=\"none\" stroke=\"#ff0000\" d=\"M2272.21,-86.98C2279.05,-81.29 2286.69,-74.89 2293.64,-69 2303.86,-60.34 2315.03,-50.75 2324.8,-42.3\"/>\n<polygon fill=\"#ff0000\" stroke=\"#ff0000\" points=\"2327.37,-44.71 2332.64,-35.52 2322.79,-39.42 2327.37,-44.71\"/>\n<text text-anchor=\"middle\" x=\"2317.64\" y=\"-57.8\" font-family=\"Times,serif\" font-size=\"14.00\">no</text>\n</g>\n<!-- 45 -->\n<g id=\"node38\" class=\"node\">\n<title>45</title>\n<ellipse fill=\"none\" stroke=\"black\" cx=\"2523.64\" cy=\"-18\" rx=\"78.79\" ry=\"18\"/>\n<text text-anchor=\"middle\" x=\"2523.64\" y=\"-14.3\" font-family=\"Times,serif\" font-size=\"14.00\">leaf=&#45;0.127272263</text>\n</g>\n<!-- 26&#45;&gt;45 -->\n<g id=\"edge37\" class=\"edge\">\n<title>26&#45;&gt;45</title>\n<path fill=\"none\" stroke=\"#0000ff\" d=\"M2521.25,-86.8C2521.66,-75.16 2522.21,-59.55 2522.68,-46.24\"/>\n<polygon fill=\"#0000ff\" stroke=\"#0000ff\" points=\"2526.18,-46.29 2523.04,-36.18 2519.19,-46.05 2526.18,-46.29\"/>\n<text text-anchor=\"middle\" x=\"2556.14\" y=\"-57.8\" font-family=\"Times,serif\" font-size=\"14.00\">yes, missing</text>\n</g>\n<!-- 46 -->\n<g id=\"node39\" class=\"node\">\n<title>46</title>\n<ellipse fill=\"none\" stroke=\"black\" cx=\"2698.64\" cy=\"-18\" rx=\"78.79\" ry=\"18\"/>\n<text text-anchor=\"middle\" x=\"2698.64\" y=\"-14.3\" font-family=\"Times,serif\" font-size=\"14.00\">leaf=&#45;0.199999943</text>\n</g>\n<!-- 26&#45;&gt;46 -->\n<g id=\"edge38\" class=\"edge\">\n<title>26&#45;&gt;46</title>\n<path fill=\"none\" stroke=\"#ff0000\" d=\"M2554.93,-87.84C2567.44,-81.93 2581.69,-75.18 2594.64,-69 2615.31,-59.14 2638.26,-48.12 2657.32,-38.94\"/>\n<polygon fill=\"#ff0000\" stroke=\"#ff0000\" points=\"2658.85,-42.09 2666.34,-34.59 2655.82,-35.78 2658.85,-42.09\"/>\n<text text-anchor=\"middle\" x=\"2629.64\" y=\"-57.8\" font-family=\"Times,serif\" font-size=\"14.00\">no</text>\n</g>\n<!-- 27 -->\n<g id=\"node42\" class=\"node\">\n<title>27</title>\n<ellipse fill=\"none\" stroke=\"black\" cx=\"2726.64\" cy=\"-105\" rx=\"79.89\" ry=\"18\"/>\n<text text-anchor=\"middle\" x=\"2726.64\" y=\"-101.3\" font-family=\"Times,serif\" font-size=\"14.00\">leaf=0.0999990031</text>\n</g>\n<!-- 17&#45;&gt;27 -->\n<g id=\"edge41\" class=\"edge\">\n<title>17&#45;&gt;27</title>\n<path fill=\"none\" stroke=\"#0000ff\" d=\"M2815.71,-174.21C2798.73,-161.2 2775.02,-143.05 2756.34,-128.74\"/>\n<polygon fill=\"#0000ff\" stroke=\"#0000ff\" points=\"2758.22,-125.77 2748.15,-122.47 2753.96,-131.33 2758.22,-125.77\"/>\n<text text-anchor=\"middle\" x=\"2823.14\" y=\"-144.8\" font-family=\"Times,serif\" font-size=\"14.00\">yes, missing</text>\n</g>\n<!-- 28 -->\n<g id=\"node43\" class=\"node\">\n<title>28</title>\n<ellipse fill=\"none\" stroke=\"black\" cx=\"2948.64\" cy=\"-105\" rx=\"124.28\" ry=\"18\"/>\n<text text-anchor=\"middle\" x=\"2948.64\" y=\"-101.3\" font-family=\"Times,serif\" font-size=\"14.00\">s_avg_recieve_tx&lt;0.368902832</text>\n</g>\n<!-- 17&#45;&gt;28 -->\n<g id=\"edge42\" class=\"edge\">\n<title>17&#45;&gt;28</title>\n<path fill=\"none\" stroke=\"#ff0000\" d=\"M2859.57,-174.21C2876.45,-161.28 2899.96,-143.28 2918.58,-129.02\"/>\n<polygon fill=\"#ff0000\" stroke=\"#ff0000\" points=\"2920.95,-131.62 2926.76,-122.76 2916.69,-126.06 2920.95,-131.62\"/>\n<text text-anchor=\"middle\" x=\"2906.64\" y=\"-144.8\" font-family=\"Times,serif\" font-size=\"14.00\">no</text>\n</g>\n<!-- 29 -->\n<g id=\"node46\" class=\"node\">\n<title>29</title>\n<ellipse fill=\"none\" stroke=\"black\" cx=\"3227.64\" cy=\"-105\" rx=\"136.48\" ry=\"18\"/>\n<text text-anchor=\"middle\" x=\"3227.64\" y=\"-101.3\" font-family=\"Times,serif\" font-size=\"14.00\">s_min_receieve_tx&lt;&#45;0.0264293756</text>\n</g>\n<!-- 18&#45;&gt;29 -->\n<g id=\"edge45\" class=\"edge\">\n<title>18&#45;&gt;29</title>\n<path fill=\"none\" stroke=\"#0000ff\" d=\"M3227.64,-173.8C3227.64,-162.16 3227.64,-146.55 3227.64,-133.24\"/>\n<polygon fill=\"#0000ff\" stroke=\"#0000ff\" points=\"3231.14,-133.18 3227.64,-123.18 3224.14,-133.18 3231.14,-133.18\"/>\n<text text-anchor=\"middle\" x=\"3262.14\" y=\"-144.8\" font-family=\"Times,serif\" font-size=\"14.00\">yes, missing</text>\n</g>\n<!-- 30 -->\n<g id=\"node47\" class=\"node\">\n<title>30</title>\n<ellipse fill=\"none\" stroke=\"black\" cx=\"3457.64\" cy=\"-105\" rx=\"75.29\" ry=\"18\"/>\n<text text-anchor=\"middle\" x=\"3457.64\" y=\"-101.3\" font-family=\"Times,serif\" font-size=\"14.00\">leaf=0.199999988</text>\n</g>\n<!-- 18&#45;&gt;30 -->\n<g id=\"edge46\" class=\"edge\">\n<title>18&#45;&gt;30</title>\n<path fill=\"none\" stroke=\"#ff0000\" d=\"M3269.83,-175.41C3309.09,-160.9 3367.58,-139.28 3408.84,-124.04\"/>\n<polygon fill=\"#ff0000\" stroke=\"#ff0000\" points=\"3410.24,-127.25 3418.41,-120.5 3407.82,-120.68 3410.24,-127.25\"/>\n<text text-anchor=\"middle\" x=\"3362.64\" y=\"-144.8\" font-family=\"Times,serif\" font-size=\"14.00\">no</text>\n</g>\n<!-- 47 -->\n<g id=\"node44\" class=\"node\">\n<title>47</title>\n<ellipse fill=\"none\" stroke=\"black\" cx=\"2874.64\" cy=\"-18\" rx=\"75.29\" ry=\"18\"/>\n<text text-anchor=\"middle\" x=\"2874.64\" y=\"-14.3\" font-family=\"Times,serif\" font-size=\"14.00\">leaf=0.200000003</text>\n</g>\n<!-- 28&#45;&gt;47 -->\n<g id=\"edge43\" class=\"edge\">\n<title>28&#45;&gt;47</title>\n<path fill=\"none\" stroke=\"#0000ff\" d=\"M2933.67,-86.8C2922.87,-74.39 2908.12,-57.46 2896.08,-43.62\"/>\n<polygon fill=\"#0000ff\" stroke=\"#0000ff\" points=\"2898.55,-41.13 2889.34,-35.89 2893.27,-45.73 2898.55,-41.13\"/>\n<text text-anchor=\"middle\" x=\"2950.14\" y=\"-57.8\" font-family=\"Times,serif\" font-size=\"14.00\">yes, missing</text>\n</g>\n<!-- 48 -->\n<g id=\"node45\" class=\"node\">\n<title>48</title>\n<ellipse fill=\"none\" stroke=\"black\" cx=\"3043.64\" cy=\"-18\" rx=\"75.29\" ry=\"18\"/>\n<text text-anchor=\"middle\" x=\"3043.64\" y=\"-14.3\" font-family=\"Times,serif\" font-size=\"14.00\">leaf=0.196190402</text>\n</g>\n<!-- 28&#45;&gt;48 -->\n<g id=\"edge44\" class=\"edge\">\n<title>28&#45;&gt;48</title>\n<path fill=\"none\" stroke=\"#ff0000\" d=\"M2968.24,-86.98C2974.75,-81.29 2982.03,-74.9 2988.64,-69 2998.27,-60.41 3008.77,-50.9 3017.99,-42.5\"/>\n<polygon fill=\"#ff0000\" stroke=\"#ff0000\" points=\"3020.36,-45.08 3025.39,-35.75 3015.64,-39.91 3020.36,-45.08\"/>\n<text text-anchor=\"middle\" x=\"3010.64\" y=\"-57.8\" font-family=\"Times,serif\" font-size=\"14.00\">no</text>\n</g>\n<!-- 49 -->\n<g id=\"node48\" class=\"node\">\n<title>49</title>\n<ellipse fill=\"none\" stroke=\"black\" cx=\"3218.64\" cy=\"-18\" rx=\"79.89\" ry=\"18\"/>\n<text text-anchor=\"middle\" x=\"3218.64\" y=\"-14.3\" font-family=\"Times,serif\" font-size=\"14.00\">leaf=0.0691853613</text>\n</g>\n<!-- 29&#45;&gt;49 -->\n<g id=\"edge47\" class=\"edge\">\n<title>29&#45;&gt;49</title>\n<path fill=\"none\" stroke=\"#0000ff\" d=\"M3225.82,-86.8C3224.59,-75.16 3222.94,-59.55 3221.53,-46.24\"/>\n<polygon fill=\"#0000ff\" stroke=\"#0000ff\" points=\"3225,-45.75 3220.46,-36.18 3218.03,-46.49 3225,-45.75\"/>\n<text text-anchor=\"middle\" x=\"3258.14\" y=\"-57.8\" font-family=\"Times,serif\" font-size=\"14.00\">yes, missing</text>\n</g>\n<!-- 50 -->\n<g id=\"node49\" class=\"node\">\n<title>50</title>\n<ellipse fill=\"none\" stroke=\"black\" cx=\"3395.64\" cy=\"-18\" rx=\"78.79\" ry=\"18\"/>\n<text text-anchor=\"middle\" x=\"3395.64\" y=\"-14.3\" font-family=\"Times,serif\" font-size=\"14.00\">leaf=&#45;0.150681853</text>\n</g>\n<!-- 29&#45;&gt;50 -->\n<g id=\"edge48\" class=\"edge\">\n<title>29&#45;&gt;50</title>\n<path fill=\"none\" stroke=\"#ff0000\" d=\"M3260.43,-87.41C3287.66,-73.63 3326.5,-53.98 3355.57,-39.28\"/>\n<polygon fill=\"#ff0000\" stroke=\"#ff0000\" points=\"3357.29,-42.33 3364.64,-34.69 3354.13,-36.08 3357.29,-42.33\"/>\n<text text-anchor=\"middle\" x=\"3328.64\" y=\"-57.8\" font-family=\"Times,serif\" font-size=\"14.00\">no</text>\n</g>\n</g>\n</svg>\n",
            "text/plain": [
              "<graphviz.sources.Source at 0x7a7ef5ae7040>"
            ]
          },
          "metadata": {},
          "execution_count": 21
        },
        {
          "output_type": "display_data",
          "data": {
            "text/plain": [
              "<Figure size 500x300 with 1 Axes>"
            ],
            "image/png": "[encoded data removed]"
          },
          "metadata": {}
        }
      ]
    },
    {
      "cell_type": "code",
      "source": [
        "from explainerdashboard import ClassifierExplainer, ExplainerDashboard\n",
        "explainer = ClassifierExplainer(xgb_model, X_test, y_test)\n",
        "ExplainerDashboard(explainer).run()"
      ],
      "metadata": {
        "colab": {
          "base_uri": "https://localhost:8080/",
          "height": 737,
          "referenced_widgets": [
            "4cad4885cba240aa835a3a876e07a65c",
            "b19871dbcd354005834293a6fe18010e",
            "0ea52d3dfbc849ceb55cc05146a941cc",
            "aed19d57370f4fb1a8d5cb3f4896ea12",
            "c50f123ab76e40e5a856b392ca30bc45",
            "b0d92061e100401e92b06198cc461567",
            "03d37d5e16714dab93e006b2d0875500",
            "5d618c1b0e9345b6ab75ed199028a338",
            "10651cc41389465c874658dfceaedebd",
            "dbbd13b649c04f94b4e3d8fae0f3be2f",
            "f5c9e4f8646d4f4396dce1cd2ce5e4b2"
          ]
        },
        "id": "3BfTKjyAzgFZ",
        "outputId": "89bc4038-1565-4f12-9827-da0d9dd9ae83"
      },
      "execution_count": 18,
      "outputs": [
        {
          "output_type": "stream",
          "name": "stderr",
          "text": [
            "Using `tqdm.autonotebook.tqdm` in notebook mode. Use `tqdm.tqdm` instead to force console mode (e.g. in jupyter console)\n"
          ]
        },
        {
          "output_type": "stream",
          "name": "stdout",
          "text": [
            "WARNING: Parameter shap='guess', but failed to guess the type of shap explainer to use for XGBRFClassifier. Defaulting to the model agnostic shap.KernelExplainer (shap='kernel'). However this will be slow, so if your model is compatible with e.g. shap.TreeExplainer or shap.LinearExplainer then pass shap='tree' or shap='linear'!\n",
            "WARNING: For shap='kernel', shap interaction values can unfortunately not be calculated!\n",
            "Note: shap values for shap='kernel' normally get calculated against X_background, but paramater X_background=None, so setting X_background=shap.sample(X, 50)...\n",
            "Generating self.shap_explainer = shap.KernelExplainer(model, X, link='identity')\n",
            "Building ExplainerDashboard..\n",
            "WARNING: the number of idxs (=93887) > max_idxs_in_dropdown(=1000). However with your installed version of dash(2.13.0) dropdown search may not work smoothly. You can downgrade to `pip install dash==2.6.2` which should work better for now...\n",
            "Detected google colab environment, setting mode='external'\n",
            "For this type of model and model_output interactions don't work, so setting shap_interaction=False...\n",
            "The explainer object has no decision_trees property. so setting decision_trees=False...\n",
            "Generating layout...\n",
            "Calculating shap values...\n"
          ]
        },
        {
          "output_type": "stream",
          "name": "stderr",
          "text": [
            "/usr/local/lib/python3.10/dist-packages/dash/dash.py:525: UserWarning:\n",
            "\n",
            "JupyterDash is deprecated, use Dash instead.\n",
            "See https://dash.plotly.com/dash-in-jupyter for more details.\n",
            "\n"
          ]
        },
        {
          "output_type": "display_data",
          "data": {
            "text/plain": [
              "  0%|          | 0/93887 [00:00<?, ?it/s]"
            ],
            "application/vnd.jupyter.widget-view+json": {
              "version_major": 2,
              "version_minor": 0,
              "model_id": "4cad4885cba240aa835a3a876e07a65c"
            }
          },
          "metadata": {}
        },
        {
          "output_type": "error",
          "ename": "KeyboardInterrupt",
          "evalue": "ignored",
          "traceback": [
            "\u001b[0;31m---------------------------------------------------------------------------\u001b[0m",
            "\u001b[0;31mKeyboardInterrupt\u001b[0m                         Traceback (most recent call last)",
            "\u001b[0;32m<ipython-input-18-2a0c2bae8eff>\u001b[0m in \u001b[0;36m<cell line: 3>\u001b[0;34m()\u001b[0m\n\u001b[1;32m      1\u001b[0m \u001b[0;32mfrom\u001b[0m \u001b[0mexplainerdashboard\u001b[0m \u001b[0;32mimport\u001b[0m \u001b[0mClassifierExplainer\u001b[0m\u001b[0;34m,\u001b[0m \u001b[0mExplainerDashboard\u001b[0m\u001b[0;34m\u001b[0m\u001b[0;34m\u001b[0m\u001b[0m\n\u001b[1;32m      2\u001b[0m \u001b[0mexplainer\u001b[0m \u001b[0;34m=\u001b[0m \u001b[0mClassifierExplainer\u001b[0m\u001b[0;34m(\u001b[0m\u001b[0mxgb_model\u001b[0m\u001b[0;34m,\u001b[0m \u001b[0mX_test\u001b[0m\u001b[0;34m,\u001b[0m \u001b[0my_test\u001b[0m\u001b[0;34m)\u001b[0m\u001b[0;34m\u001b[0m\u001b[0;34m\u001b[0m\u001b[0m\n\u001b[0;32m----> 3\u001b[0;31m \u001b[0mExplainerDashboard\u001b[0m\u001b[0;34m(\u001b[0m\u001b[0mexplainer\u001b[0m\u001b[0;34m)\u001b[0m\u001b[0;34m.\u001b[0m\u001b[0mrun\u001b[0m\u001b[0;34m(\u001b[0m\u001b[0;34m)\u001b[0m\u001b[0;34m\u001b[0m\u001b[0;34m\u001b[0m\u001b[0m\n\u001b[0m",
            "\u001b[0;32m/usr/local/lib/python3.10/dist-packages/explainerdashboard/dashboards.py\u001b[0m in \u001b[0;36m__init__\u001b[0;34m(self, explainer, tabs, title, name, description, simple, hide_header, header_hide_title, header_hide_selector, header_hide_download, hide_poweredby, block_selector_callbacks, pos_label, fluid, mode, width, height, bootstrap, external_stylesheets, server, url_base_pathname, routes_pathname_prefix, requests_pathname_prefix, responsive, logins, port, importances, model_summary, contributions, whatif, shap_dependence, shap_interaction, decision_trees, **kwargs)\u001b[0m\n\u001b[1;32m    801\u001b[0m         \u001b[0;32mif\u001b[0m \u001b[0misinstance\u001b[0m\u001b[0;34m(\u001b[0m\u001b[0mtabs\u001b[0m\u001b[0;34m,\u001b[0m \u001b[0mlist\u001b[0m\u001b[0;34m)\u001b[0m\u001b[0;34m:\u001b[0m\u001b[0;34m\u001b[0m\u001b[0;34m\u001b[0m\u001b[0m\n\u001b[1;32m    802\u001b[0m             \u001b[0mtabs\u001b[0m \u001b[0;34m=\u001b[0m \u001b[0;34m[\u001b[0m\u001b[0mself\u001b[0m\u001b[0;34m.\u001b[0m\u001b[0m_convert_str_tabs\u001b[0m\u001b[0;34m(\u001b[0m\u001b[0mtab\u001b[0m\u001b[0;34m)\u001b[0m \u001b[0;32mfor\u001b[0m \u001b[0mtab\u001b[0m \u001b[0;32min\u001b[0m \u001b[0mtabs\u001b[0m\u001b[0;34m]\u001b[0m\u001b[0;34m\u001b[0m\u001b[0;34m\u001b[0m\u001b[0m\n\u001b[0;32m--> 803\u001b[0;31m             self.explainer_layout = ExplainerTabsLayout(\n\u001b[0m\u001b[1;32m    804\u001b[0m                 \u001b[0mexplainer\u001b[0m\u001b[0;34m,\u001b[0m\u001b[0;34m\u001b[0m\u001b[0;34m\u001b[0m\u001b[0m\n\u001b[1;32m    805\u001b[0m                 \u001b[0mtabs\u001b[0m\u001b[0;34m,\u001b[0m\u001b[0;34m\u001b[0m\u001b[0;34m\u001b[0m\u001b[0m\n",
            "\u001b[0;32m/usr/local/lib/python3.10/dist-packages/explainerdashboard/dashboards.py\u001b[0m in \u001b[0;36m__init__\u001b[0;34m(self, explainer, tabs, title, name, description, header_hide_title, header_hide_selector, header_hide_download, hide_poweredby, block_selector_callbacks, pos_label, fluid, **kwargs)\u001b[0m\n\u001b[1;32m    117\u001b[0m \u001b[0;34m\u001b[0m\u001b[0m\n\u001b[1;32m    118\u001b[0m         \u001b[0mself\u001b[0m\u001b[0;34m.\u001b[0m\u001b[0mselector\u001b[0m \u001b[0;34m=\u001b[0m \u001b[0mPosLabelSelector\u001b[0m\u001b[0;34m(\u001b[0m\u001b[0mexplainer\u001b[0m\u001b[0;34m,\u001b[0m \u001b[0mname\u001b[0m\u001b[0;34m=\u001b[0m\u001b[0;34m\"0\"\u001b[0m\u001b[0;34m,\u001b[0m \u001b[0mpos_label\u001b[0m\u001b[0;34m=\u001b[0m\u001b[0mpos_label\u001b[0m\u001b[0;34m)\u001b[0m\u001b[0;34m\u001b[0m\u001b[0;34m\u001b[0m\u001b[0m\n\u001b[0;32m--> 119\u001b[0;31m         self.tabs = [\n\u001b[0m\u001b[1;32m    120\u001b[0m             \u001b[0minstantiate_component\u001b[0m\u001b[0;34m(\u001b[0m\u001b[0mtab\u001b[0m\u001b[0;34m,\u001b[0m \u001b[0mexplainer\u001b[0m\u001b[0;34m,\u001b[0m \u001b[0mname\u001b[0m\u001b[0;34m=\u001b[0m\u001b[0mstr\u001b[0m\u001b[0;34m(\u001b[0m\u001b[0mi\u001b[0m \u001b[0;34m+\u001b[0m \u001b[0;36m1\u001b[0m\u001b[0;34m)\u001b[0m\u001b[0;34m,\u001b[0m \u001b[0;34m**\u001b[0m\u001b[0mkwargs\u001b[0m\u001b[0;34m)\u001b[0m\u001b[0;34m\u001b[0m\u001b[0;34m\u001b[0m\u001b[0m\n\u001b[1;32m    121\u001b[0m             \u001b[0;32mfor\u001b[0m \u001b[0mi\u001b[0m\u001b[0;34m,\u001b[0m \u001b[0mtab\u001b[0m \u001b[0;32min\u001b[0m \u001b[0menumerate\u001b[0m\u001b[0;34m(\u001b[0m\u001b[0mtabs\u001b[0m\u001b[0;34m)\u001b[0m\u001b[0;34m\u001b[0m\u001b[0;34m\u001b[0m\u001b[0m\n",
            "\u001b[0;32m/usr/local/lib/python3.10/dist-packages/explainerdashboard/dashboards.py\u001b[0m in \u001b[0;36m<listcomp>\u001b[0;34m(.0)\u001b[0m\n\u001b[1;32m    118\u001b[0m         \u001b[0mself\u001b[0m\u001b[0;34m.\u001b[0m\u001b[0mselector\u001b[0m \u001b[0;34m=\u001b[0m \u001b[0mPosLabelSelector\u001b[0m\u001b[0;34m(\u001b[0m\u001b[0mexplainer\u001b[0m\u001b[0;34m,\u001b[0m \u001b[0mname\u001b[0m\u001b[0;34m=\u001b[0m\u001b[0;34m\"0\"\u001b[0m\u001b[0;34m,\u001b[0m \u001b[0mpos_label\u001b[0m\u001b[0;34m=\u001b[0m\u001b[0mpos_label\u001b[0m\u001b[0;34m)\u001b[0m\u001b[0;34m\u001b[0m\u001b[0;34m\u001b[0m\u001b[0m\n\u001b[1;32m    119\u001b[0m         self.tabs = [\n\u001b[0;32m--> 120\u001b[0;31m             \u001b[0minstantiate_component\u001b[0m\u001b[0;34m(\u001b[0m\u001b[0mtab\u001b[0m\u001b[0;34m,\u001b[0m \u001b[0mexplainer\u001b[0m\u001b[0;34m,\u001b[0m \u001b[0mname\u001b[0m\u001b[0;34m=\u001b[0m\u001b[0mstr\u001b[0m\u001b[0;34m(\u001b[0m\u001b[0mi\u001b[0m \u001b[0;34m+\u001b[0m \u001b[0;36m1\u001b[0m\u001b[0;34m)\u001b[0m\u001b[0;34m,\u001b[0m \u001b[0;34m**\u001b[0m\u001b[0mkwargs\u001b[0m\u001b[0;34m)\u001b[0m\u001b[0;34m\u001b[0m\u001b[0;34m\u001b[0m\u001b[0m\n\u001b[0m\u001b[1;32m    121\u001b[0m             \u001b[0;32mfor\u001b[0m \u001b[0mi\u001b[0m\u001b[0;34m,\u001b[0m \u001b[0mtab\u001b[0m \u001b[0;32min\u001b[0m \u001b[0menumerate\u001b[0m\u001b[0;34m(\u001b[0m\u001b[0mtabs\u001b[0m\u001b[0;34m)\u001b[0m\u001b[0;34m\u001b[0m\u001b[0;34m\u001b[0m\u001b[0m\n\u001b[1;32m    122\u001b[0m         ]\n",
            "\u001b[0;32m/usr/local/lib/python3.10/dist-packages/explainerdashboard/dashboard_methods.py\u001b[0m in \u001b[0;36minstantiate_component\u001b[0;34m(component, explainer, name, **kwargs)\u001b[0m\n\u001b[1;32m    888\u001b[0m             }\n\u001b[1;32m    889\u001b[0m         \u001b[0;32mif\u001b[0m \u001b[0;34m\"name\"\u001b[0m \u001b[0;32min\u001b[0m \u001b[0minit_argspec\u001b[0m\u001b[0;34m.\u001b[0m\u001b[0margs\u001b[0m \u001b[0;34m+\u001b[0m \u001b[0minit_argspec\u001b[0m\u001b[0;34m.\u001b[0m\u001b[0mkwonlyargs\u001b[0m\u001b[0;34m:\u001b[0m\u001b[0;34m\u001b[0m\u001b[0;34m\u001b[0m\u001b[0m\n\u001b[0;32m--> 890\u001b[0;31m             \u001b[0mcomponent\u001b[0m \u001b[0;34m=\u001b[0m \u001b[0mcomponent\u001b[0m\u001b[0;34m(\u001b[0m\u001b[0mexplainer\u001b[0m\u001b[0;34m,\u001b[0m \u001b[0mname\u001b[0m\u001b[0;34m=\u001b[0m\u001b[0mname\u001b[0m\u001b[0;34m,\u001b[0m \u001b[0;34m**\u001b[0m\u001b[0mkwargs\u001b[0m\u001b[0;34m)\u001b[0m\u001b[0;34m\u001b[0m\u001b[0;34m\u001b[0m\u001b[0m\n\u001b[0m\u001b[1;32m    891\u001b[0m         \u001b[0;32melse\u001b[0m\u001b[0;34m:\u001b[0m\u001b[0;34m\u001b[0m\u001b[0;34m\u001b[0m\u001b[0m\n\u001b[1;32m    892\u001b[0m             print(\n",
            "\u001b[0;32m/usr/local/lib/python3.10/dist-packages/explainerdashboard/dashboard_components/composites.py\u001b[0m in \u001b[0;36m__init__\u001b[0;34m(self, explainer, title, name, hide_predindexselector, hide_predictionsummary, hide_contributiongraph, hide_pdp, hide_contributiontable, hide_title, hide_selector, index_check, **kwargs)\u001b[0m\n\u001b[1;32m    543\u001b[0m             \u001b[0mexplainer\u001b[0m\u001b[0;34m,\u001b[0m \u001b[0mhide_selector\u001b[0m\u001b[0;34m=\u001b[0m\u001b[0mhide_selector\u001b[0m\u001b[0;34m,\u001b[0m \u001b[0;34m**\u001b[0m\u001b[0mkwargs\u001b[0m\u001b[0;34m\u001b[0m\u001b[0;34m\u001b[0m\u001b[0m\n\u001b[1;32m    544\u001b[0m         )\n\u001b[0;32m--> 545\u001b[0;31m         self.pdp = PdpComponent(\n\u001b[0m\u001b[1;32m    546\u001b[0m             \u001b[0mexplainer\u001b[0m\u001b[0;34m,\u001b[0m \u001b[0mname\u001b[0m\u001b[0;34m=\u001b[0m\u001b[0mself\u001b[0m\u001b[0;34m.\u001b[0m\u001b[0mname\u001b[0m \u001b[0;34m+\u001b[0m \u001b[0;34m\"3\"\u001b[0m\u001b[0;34m,\u001b[0m \u001b[0mhide_selector\u001b[0m\u001b[0;34m=\u001b[0m\u001b[0mhide_selector\u001b[0m\u001b[0;34m,\u001b[0m \u001b[0;34m**\u001b[0m\u001b[0mkwargs\u001b[0m\u001b[0;34m\u001b[0m\u001b[0;34m\u001b[0m\u001b[0m\n\u001b[1;32m    547\u001b[0m         )\n",
            "\u001b[0;32m/usr/local/lib/python3.10/dist-packages/explainerdashboard/dashboard_components/overview_components.py\u001b[0m in \u001b[0;36m__init__\u001b[0;34m(self, explainer, title, name, subtitle, hide_col, hide_index, hide_title, hide_subtitle, hide_footer, hide_selector, hide_popout, hide_dropna, hide_sample, hide_gridlines, hide_gridpoints, hide_cats_sort, index_dropdown, feature_input_component, pos_label, col, index, dropna, sample, gridlines, gridpoints, cats_sort, description, **kwargs)\u001b[0m\n\u001b[1;32m    637\u001b[0m \u001b[0;34m\u001b[0m\u001b[0m\n\u001b[1;32m    638\u001b[0m         \u001b[0;32mif\u001b[0m \u001b[0mself\u001b[0m\u001b[0;34m.\u001b[0m\u001b[0mcol\u001b[0m \u001b[0;32mis\u001b[0m \u001b[0;32mNone\u001b[0m\u001b[0;34m:\u001b[0m\u001b[0;34m\u001b[0m\u001b[0;34m\u001b[0m\u001b[0m\n\u001b[0;32m--> 639\u001b[0;31m             \u001b[0mself\u001b[0m\u001b[0;34m.\u001b[0m\u001b[0mcol\u001b[0m \u001b[0;34m=\u001b[0m \u001b[0mself\u001b[0m\u001b[0;34m.\u001b[0m\u001b[0mexplainer\u001b[0m\u001b[0;34m.\u001b[0m\u001b[0mcolumns_ranked_by_shap\u001b[0m\u001b[0;34m(\u001b[0m\u001b[0;34m)\u001b[0m\u001b[0;34m[\u001b[0m\u001b[0;36m0\u001b[0m\u001b[0;34m]\u001b[0m\u001b[0;34m\u001b[0m\u001b[0;34m\u001b[0m\u001b[0m\n\u001b[0m\u001b[1;32m    640\u001b[0m \u001b[0;34m\u001b[0m\u001b[0m\n\u001b[1;32m    641\u001b[0m         \u001b[0;32mif\u001b[0m \u001b[0mself\u001b[0m\u001b[0;34m.\u001b[0m\u001b[0mfeature_input_component\u001b[0m \u001b[0;32mis\u001b[0m \u001b[0;32mnot\u001b[0m \u001b[0;32mNone\u001b[0m\u001b[0;34m:\u001b[0m\u001b[0;34m\u001b[0m\u001b[0;34m\u001b[0m\u001b[0m\n",
            "\u001b[0;32m/usr/local/lib/python3.10/dist-packages/explainerdashboard/explainers.py\u001b[0m in \u001b[0;36minner\u001b[0;34m(self, *args, **kwargs)\u001b[0m\n\u001b[1;32m     84\u001b[0m         \u001b[0;32melse\u001b[0m\u001b[0;34m:\u001b[0m\u001b[0;34m\u001b[0m\u001b[0;34m\u001b[0m\u001b[0m\n\u001b[1;32m     85\u001b[0m             \u001b[0mkwargs\u001b[0m\u001b[0;34m.\u001b[0m\u001b[0mupdate\u001b[0m\u001b[0;34m(\u001b[0m\u001b[0mdict\u001b[0m\u001b[0;34m(\u001b[0m\u001b[0mpos_label\u001b[0m\u001b[0;34m=\u001b[0m\u001b[0mself\u001b[0m\u001b[0;34m.\u001b[0m\u001b[0mpos_label\u001b[0m\u001b[0;34m)\u001b[0m\u001b[0;34m)\u001b[0m\u001b[0;34m\u001b[0m\u001b[0;34m\u001b[0m\u001b[0m\n\u001b[0;32m---> 86\u001b[0;31m         \u001b[0;32mreturn\u001b[0m \u001b[0mfunc\u001b[0m\u001b[0;34m(\u001b[0m\u001b[0mself\u001b[0m\u001b[0;34m,\u001b[0m \u001b[0;34m**\u001b[0m\u001b[0mkwargs\u001b[0m\u001b[0;34m)\u001b[0m\u001b[0;34m\u001b[0m\u001b[0;34m\u001b[0m\u001b[0m\n\u001b[0m\u001b[1;32m     87\u001b[0m \u001b[0;34m\u001b[0m\u001b[0m\n\u001b[1;32m     88\u001b[0m     \u001b[0;32mreturn\u001b[0m \u001b[0minner\u001b[0m\u001b[0;34m\u001b[0m\u001b[0;34m\u001b[0m\u001b[0m\n",
            "\u001b[0;32m/usr/local/lib/python3.10/dist-packages/explainerdashboard/explainers.py\u001b[0m in \u001b[0;36mcolumns_ranked_by_shap\u001b[0;34m(self, pos_label)\u001b[0m\n\u001b[1;32m   1309\u001b[0m \u001b[0;34m\u001b[0m\u001b[0m\n\u001b[1;32m   1310\u001b[0m         \"\"\"\n\u001b[0;32m-> 1311\u001b[0;31m         \u001b[0;32mreturn\u001b[0m \u001b[0mself\u001b[0m\u001b[0;34m.\u001b[0m\u001b[0mmean_abs_shap_df\u001b[0m\u001b[0;34m(\u001b[0m\u001b[0mpos_label\u001b[0m\u001b[0;34m)\u001b[0m\u001b[0;34m.\u001b[0m\u001b[0mFeature\u001b[0m\u001b[0;34m.\u001b[0m\u001b[0mtolist\u001b[0m\u001b[0;34m(\u001b[0m\u001b[0;34m)\u001b[0m\u001b[0;34m\u001b[0m\u001b[0;34m\u001b[0m\u001b[0m\n\u001b[0m\u001b[1;32m   1312\u001b[0m \u001b[0;34m\u001b[0m\u001b[0m\n\u001b[1;32m   1313\u001b[0m     \u001b[0;34m@\u001b[0m\u001b[0minsert_pos_label\u001b[0m\u001b[0;34m\u001b[0m\u001b[0;34m\u001b[0m\u001b[0m\n",
            "\u001b[0;32m/usr/local/lib/python3.10/dist-packages/explainerdashboard/explainers.py\u001b[0m in \u001b[0;36minner\u001b[0;34m(self, *args, **kwargs)\u001b[0m\n\u001b[1;32m     84\u001b[0m         \u001b[0;32melse\u001b[0m\u001b[0;34m:\u001b[0m\u001b[0;34m\u001b[0m\u001b[0;34m\u001b[0m\u001b[0m\n\u001b[1;32m     85\u001b[0m             \u001b[0mkwargs\u001b[0m\u001b[0;34m.\u001b[0m\u001b[0mupdate\u001b[0m\u001b[0;34m(\u001b[0m\u001b[0mdict\u001b[0m\u001b[0;34m(\u001b[0m\u001b[0mpos_label\u001b[0m\u001b[0;34m=\u001b[0m\u001b[0mself\u001b[0m\u001b[0;34m.\u001b[0m\u001b[0mpos_label\u001b[0m\u001b[0;34m)\u001b[0m\u001b[0;34m)\u001b[0m\u001b[0;34m\u001b[0m\u001b[0;34m\u001b[0m\u001b[0m\n\u001b[0;32m---> 86\u001b[0;31m         \u001b[0;32mreturn\u001b[0m \u001b[0mfunc\u001b[0m\u001b[0;34m(\u001b[0m\u001b[0mself\u001b[0m\u001b[0;34m,\u001b[0m \u001b[0;34m**\u001b[0m\u001b[0mkwargs\u001b[0m\u001b[0;34m)\u001b[0m\u001b[0;34m\u001b[0m\u001b[0;34m\u001b[0m\u001b[0m\n\u001b[0m\u001b[1;32m     87\u001b[0m \u001b[0;34m\u001b[0m\u001b[0m\n\u001b[1;32m     88\u001b[0m     \u001b[0;32mreturn\u001b[0m \u001b[0minner\u001b[0m\u001b[0;34m\u001b[0m\u001b[0;34m\u001b[0m\u001b[0m\n",
            "\u001b[0;32m/usr/local/lib/python3.10/dist-packages/explainerdashboard/explainers.py\u001b[0m in \u001b[0;36mmean_abs_shap_df\u001b[0;34m(self, pos_label)\u001b[0m\n\u001b[1;32m   3121\u001b[0m         \u001b[0;34m\"\"\"mean absolute SHAP values\"\"\"\u001b[0m\u001b[0;34m\u001b[0m\u001b[0;34m\u001b[0m\u001b[0m\n\u001b[1;32m   3122\u001b[0m         \u001b[0;32mif\u001b[0m \u001b[0;32mnot\u001b[0m \u001b[0mhasattr\u001b[0m\u001b[0;34m(\u001b[0m\u001b[0mself\u001b[0m\u001b[0;34m,\u001b[0m \u001b[0;34m\"_mean_abs_shap_df\"\u001b[0m\u001b[0;34m)\u001b[0m\u001b[0;34m:\u001b[0m\u001b[0;34m\u001b[0m\u001b[0;34m\u001b[0m\u001b[0m\n\u001b[0;32m-> 3123\u001b[0;31m             \u001b[0m_\u001b[0m \u001b[0;34m=\u001b[0m \u001b[0mself\u001b[0m\u001b[0;34m.\u001b[0m\u001b[0mget_shap_values_df\u001b[0m\u001b[0;34m(\u001b[0m\u001b[0;34m)\u001b[0m\u001b[0;34m\u001b[0m\u001b[0;34m\u001b[0m\u001b[0m\n\u001b[0m\u001b[1;32m   3124\u001b[0m             self._mean_abs_shap_df = [\n\u001b[1;32m   3125\u001b[0m                 \u001b[0mself\u001b[0m\u001b[0;34m.\u001b[0m\u001b[0mget_shap_values_df\u001b[0m\u001b[0;34m(\u001b[0m\u001b[0mpos_label\u001b[0m\u001b[0;34m)\u001b[0m\u001b[0;34m[\u001b[0m\u001b[0mself\u001b[0m\u001b[0;34m.\u001b[0m\u001b[0mmerged_cols\u001b[0m\u001b[0;34m]\u001b[0m\u001b[0;34m\u001b[0m\u001b[0;34m\u001b[0m\u001b[0m\n",
            "\u001b[0;32m/usr/local/lib/python3.10/dist-packages/explainerdashboard/explainers.py\u001b[0m in \u001b[0;36minner\u001b[0;34m(self, *args, **kwargs)\u001b[0m\n\u001b[1;32m     84\u001b[0m         \u001b[0;32melse\u001b[0m\u001b[0;34m:\u001b[0m\u001b[0;34m\u001b[0m\u001b[0;34m\u001b[0m\u001b[0m\n\u001b[1;32m     85\u001b[0m             \u001b[0mkwargs\u001b[0m\u001b[0;34m.\u001b[0m\u001b[0mupdate\u001b[0m\u001b[0;34m(\u001b[0m\u001b[0mdict\u001b[0m\u001b[0;34m(\u001b[0m\u001b[0mpos_label\u001b[0m\u001b[0;34m=\u001b[0m\u001b[0mself\u001b[0m\u001b[0;34m.\u001b[0m\u001b[0mpos_label\u001b[0m\u001b[0;34m)\u001b[0m\u001b[0;34m)\u001b[0m\u001b[0;34m\u001b[0m\u001b[0;34m\u001b[0m\u001b[0m\n\u001b[0;32m---> 86\u001b[0;31m         \u001b[0;32mreturn\u001b[0m \u001b[0mfunc\u001b[0m\u001b[0;34m(\u001b[0m\u001b[0mself\u001b[0m\u001b[0;34m,\u001b[0m \u001b[0;34m**\u001b[0m\u001b[0mkwargs\u001b[0m\u001b[0;34m)\u001b[0m\u001b[0;34m\u001b[0m\u001b[0;34m\u001b[0m\u001b[0m\n\u001b[0m\u001b[1;32m     87\u001b[0m \u001b[0;34m\u001b[0m\u001b[0m\n\u001b[1;32m     88\u001b[0m     \u001b[0;32mreturn\u001b[0m \u001b[0minner\u001b[0m\u001b[0;34m\u001b[0m\u001b[0;34m\u001b[0m\u001b[0m\n",
            "\u001b[0;32m/usr/local/lib/python3.10/dist-packages/explainerdashboard/explainers.py\u001b[0m in \u001b[0;36mget_shap_values_df\u001b[0;34m(self, pos_label)\u001b[0m\n\u001b[1;32m   2832\u001b[0m                 )\n\u001b[1;32m   2833\u001b[0m             \u001b[0;32melse\u001b[0m\u001b[0;34m:\u001b[0m\u001b[0;34m\u001b[0m\u001b[0;34m\u001b[0m\u001b[0m\n\u001b[0;32m-> 2834\u001b[0;31m                 _shap_values = self.shap_explainer.shap_values(\n\u001b[0m\u001b[1;32m   2835\u001b[0m                     \u001b[0mself\u001b[0m\u001b[0;34m.\u001b[0m\u001b[0mX\u001b[0m\u001b[0;34m.\u001b[0m\u001b[0mvalues\u001b[0m\u001b[0;34m,\u001b[0m \u001b[0;34m**\u001b[0m\u001b[0mself\u001b[0m\u001b[0;34m.\u001b[0m\u001b[0mshap_kwargs\u001b[0m\u001b[0;34m\u001b[0m\u001b[0;34m\u001b[0m\u001b[0m\n\u001b[1;32m   2836\u001b[0m                 )\n",
            "\u001b[0;32m/usr/local/lib/python3.10/dist-packages/shap/explainers/_kernel.py\u001b[0m in \u001b[0;36mshap_values\u001b[0;34m(self, X, **kwargs)\u001b[0m\n\u001b[1;32m    240\u001b[0m                 \u001b[0;32mif\u001b[0m \u001b[0mself\u001b[0m\u001b[0;34m.\u001b[0m\u001b[0mkeep_index\u001b[0m\u001b[0;34m:\u001b[0m\u001b[0;34m\u001b[0m\u001b[0;34m\u001b[0m\u001b[0m\n\u001b[1;32m    241\u001b[0m                     \u001b[0mdata\u001b[0m \u001b[0;34m=\u001b[0m \u001b[0mconvert_to_instance_with_index\u001b[0m\u001b[0;34m(\u001b[0m\u001b[0mdata\u001b[0m\u001b[0;34m,\u001b[0m \u001b[0mcolumn_name\u001b[0m\u001b[0;34m,\u001b[0m \u001b[0mindex_value\u001b[0m\u001b[0;34m[\u001b[0m\u001b[0mi\u001b[0m\u001b[0;34m:\u001b[0m\u001b[0mi\u001b[0m \u001b[0;34m+\u001b[0m \u001b[0;36m1\u001b[0m\u001b[0;34m]\u001b[0m\u001b[0;34m,\u001b[0m \u001b[0mindex_name\u001b[0m\u001b[0;34m)\u001b[0m\u001b[0;34m\u001b[0m\u001b[0;34m\u001b[0m\u001b[0m\n\u001b[0;32m--> 242\u001b[0;31m                 \u001b[0mexplanations\u001b[0m\u001b[0;34m.\u001b[0m\u001b[0mappend\u001b[0m\u001b[0;34m(\u001b[0m\u001b[0mself\u001b[0m\u001b[0;34m.\u001b[0m\u001b[0mexplain\u001b[0m\u001b[0;34m(\u001b[0m\u001b[0mdata\u001b[0m\u001b[0;34m,\u001b[0m \u001b[0;34m**\u001b[0m\u001b[0mkwargs\u001b[0m\u001b[0;34m)\u001b[0m\u001b[0;34m)\u001b[0m\u001b[0;34m\u001b[0m\u001b[0;34m\u001b[0m\u001b[0m\n\u001b[0m\u001b[1;32m    243\u001b[0m                 \u001b[0;32mif\u001b[0m \u001b[0mkwargs\u001b[0m\u001b[0;34m.\u001b[0m\u001b[0mget\u001b[0m\u001b[0;34m(\u001b[0m\u001b[0;34m\"gc_collect\"\u001b[0m\u001b[0;34m,\u001b[0m \u001b[0;32mFalse\u001b[0m\u001b[0;34m)\u001b[0m\u001b[0;34m:\u001b[0m\u001b[0;34m\u001b[0m\u001b[0;34m\u001b[0m\u001b[0m\n\u001b[1;32m    244\u001b[0m                     \u001b[0mgc\u001b[0m\u001b[0;34m.\u001b[0m\u001b[0mcollect\u001b[0m\u001b[0;34m(\u001b[0m\u001b[0;34m)\u001b[0m\u001b[0;34m\u001b[0m\u001b[0;34m\u001b[0m\u001b[0m\n",
            "\u001b[0;32m/usr/local/lib/python3.10/dist-packages/shap/explainers/_kernel.py\u001b[0m in \u001b[0;36mexplain\u001b[0;34m(self, incoming_instance, **kwargs)\u001b[0m\n\u001b[1;32m    434\u001b[0m \u001b[0;34m\u001b[0m\u001b[0m\n\u001b[1;32m    435\u001b[0m             \u001b[0;31m# execute the model on the synthetic samples we have created\u001b[0m\u001b[0;34m\u001b[0m\u001b[0;34m\u001b[0m\u001b[0m\n\u001b[0;32m--> 436\u001b[0;31m             \u001b[0mself\u001b[0m\u001b[0;34m.\u001b[0m\u001b[0mrun\u001b[0m\u001b[0;34m(\u001b[0m\u001b[0;34m)\u001b[0m\u001b[0;34m\u001b[0m\u001b[0;34m\u001b[0m\u001b[0m\n\u001b[0m\u001b[1;32m    437\u001b[0m \u001b[0;34m\u001b[0m\u001b[0m\n\u001b[1;32m    438\u001b[0m             \u001b[0;31m# solve then expand the feature importance (Shapley value) vector to contain the non-varying features\u001b[0m\u001b[0;34m\u001b[0m\u001b[0;34m\u001b[0m\u001b[0m\n",
            "\u001b[0;32m/usr/local/lib/python3.10/dist-packages/shap/explainers/_kernel.py\u001b[0m in \u001b[0;36mrun\u001b[0;34m(self)\u001b[0m\n\u001b[1;32m    573\u001b[0m             \u001b[0;32mif\u001b[0m \u001b[0mself\u001b[0m\u001b[0;34m.\u001b[0m\u001b[0mkeep_index_ordered\u001b[0m\u001b[0;34m:\u001b[0m\u001b[0;34m\u001b[0m\u001b[0;34m\u001b[0m\u001b[0m\n\u001b[1;32m    574\u001b[0m                 \u001b[0mdata\u001b[0m \u001b[0;34m=\u001b[0m \u001b[0mdata\u001b[0m\u001b[0;34m.\u001b[0m\u001b[0msort_index\u001b[0m\u001b[0;34m(\u001b[0m\u001b[0;34m)\u001b[0m\u001b[0;34m\u001b[0m\u001b[0;34m\u001b[0m\u001b[0m\n\u001b[0;32m--> 575\u001b[0;31m         \u001b[0mmodelOut\u001b[0m \u001b[0;34m=\u001b[0m \u001b[0mself\u001b[0m\u001b[0;34m.\u001b[0m\u001b[0mmodel\u001b[0m\u001b[0;34m.\u001b[0m\u001b[0mf\u001b[0m\u001b[0;34m(\u001b[0m\u001b[0mdata\u001b[0m\u001b[0;34m)\u001b[0m\u001b[0;34m\u001b[0m\u001b[0;34m\u001b[0m\u001b[0m\n\u001b[0m\u001b[1;32m    576\u001b[0m         \u001b[0;32mif\u001b[0m \u001b[0misinstance\u001b[0m\u001b[0;34m(\u001b[0m\u001b[0mmodelOut\u001b[0m\u001b[0;34m,\u001b[0m \u001b[0;34m(\u001b[0m\u001b[0mpd\u001b[0m\u001b[0;34m.\u001b[0m\u001b[0mDataFrame\u001b[0m\u001b[0;34m,\u001b[0m \u001b[0mpd\u001b[0m\u001b[0;34m.\u001b[0m\u001b[0mSeries\u001b[0m\u001b[0;34m)\u001b[0m\u001b[0;34m)\u001b[0m\u001b[0;34m:\u001b[0m\u001b[0;34m\u001b[0m\u001b[0;34m\u001b[0m\u001b[0m\n\u001b[1;32m    577\u001b[0m             \u001b[0mmodelOut\u001b[0m \u001b[0;34m=\u001b[0m \u001b[0mmodelOut\u001b[0m\u001b[0;34m.\u001b[0m\u001b[0mvalues\u001b[0m\u001b[0;34m\u001b[0m\u001b[0;34m\u001b[0m\u001b[0m\n",
            "\u001b[0;32m/usr/local/lib/python3.10/dist-packages/explainerdashboard/explainers.py\u001b[0m in \u001b[0;36mmodel_predict\u001b[0;34m(data_asarray)\u001b[0m\n\u001b[1;32m   2769\u001b[0m                 \u001b[0;32mdef\u001b[0m \u001b[0mmodel_predict\u001b[0m\u001b[0;34m(\u001b[0m\u001b[0mdata_asarray\u001b[0m\u001b[0;34m)\u001b[0m\u001b[0;34m:\u001b[0m\u001b[0;34m\u001b[0m\u001b[0;34m\u001b[0m\u001b[0m\n\u001b[1;32m   2770\u001b[0m                     \u001b[0mdata_asframe\u001b[0m \u001b[0;34m=\u001b[0m \u001b[0mpd\u001b[0m\u001b[0;34m.\u001b[0m\u001b[0mDataFrame\u001b[0m\u001b[0;34m(\u001b[0m\u001b[0mdata_asarray\u001b[0m\u001b[0;34m,\u001b[0m \u001b[0mcolumns\u001b[0m\u001b[0;34m=\u001b[0m\u001b[0mself\u001b[0m\u001b[0;34m.\u001b[0m\u001b[0mcolumns\u001b[0m\u001b[0;34m)\u001b[0m\u001b[0;34m\u001b[0m\u001b[0;34m\u001b[0m\u001b[0m\n\u001b[0;32m-> 2771\u001b[0;31m                     \u001b[0;32mreturn\u001b[0m \u001b[0mself\u001b[0m\u001b[0;34m.\u001b[0m\u001b[0mmodel\u001b[0m\u001b[0;34m.\u001b[0m\u001b[0mpredict_proba\u001b[0m\u001b[0;34m(\u001b[0m\u001b[0mdata_asframe\u001b[0m\u001b[0;34m)\u001b[0m\u001b[0;34m\u001b[0m\u001b[0;34m\u001b[0m\u001b[0m\n\u001b[0m\u001b[1;32m   2772\u001b[0m \u001b[0;34m\u001b[0m\u001b[0m\n\u001b[1;32m   2773\u001b[0m                 self._shap_explainer = shap.KernelExplainer(\n",
            "\u001b[0;32m/usr/local/lib/python3.10/dist-packages/xgboost/sklearn.py\u001b[0m in \u001b[0;36mpredict_proba\u001b[0;34m(self, X, ntree_limit, validate_features, base_margin, iteration_range)\u001b[0m\n\u001b[1;32m   1604\u001b[0m             \u001b[0mclass_prob\u001b[0m \u001b[0;34m=\u001b[0m \u001b[0msoftmax\u001b[0m\u001b[0;34m(\u001b[0m\u001b[0mraw_predt\u001b[0m\u001b[0;34m,\u001b[0m \u001b[0maxis\u001b[0m\u001b[0;34m=\u001b[0m\u001b[0;36m1\u001b[0m\u001b[0;34m)\u001b[0m\u001b[0;34m\u001b[0m\u001b[0;34m\u001b[0m\u001b[0m\n\u001b[1;32m   1605\u001b[0m             \u001b[0;32mreturn\u001b[0m \u001b[0mclass_prob\u001b[0m\u001b[0;34m\u001b[0m\u001b[0;34m\u001b[0m\u001b[0m\n\u001b[0;32m-> 1606\u001b[0;31m         class_probs = super().predict(\n\u001b[0m\u001b[1;32m   1607\u001b[0m             \u001b[0mX\u001b[0m\u001b[0;34m=\u001b[0m\u001b[0mX\u001b[0m\u001b[0;34m,\u001b[0m\u001b[0;34m\u001b[0m\u001b[0;34m\u001b[0m\u001b[0m\n\u001b[1;32m   1608\u001b[0m             \u001b[0mntree_limit\u001b[0m\u001b[0;34m=\u001b[0m\u001b[0mntree_limit\u001b[0m\u001b[0;34m,\u001b[0m\u001b[0;34m\u001b[0m\u001b[0;34m\u001b[0m\u001b[0m\n",
            "\u001b[0;32m/usr/local/lib/python3.10/dist-packages/xgboost/sklearn.py\u001b[0m in \u001b[0;36mpredict\u001b[0;34m(self, X, output_margin, ntree_limit, validate_features, base_margin, iteration_range)\u001b[0m\n\u001b[1;32m   1112\u001b[0m             \u001b[0;32mif\u001b[0m \u001b[0mself\u001b[0m\u001b[0;34m.\u001b[0m\u001b[0m_can_use_inplace_predict\u001b[0m\u001b[0;34m(\u001b[0m\u001b[0;34m)\u001b[0m\u001b[0;34m:\u001b[0m\u001b[0;34m\u001b[0m\u001b[0;34m\u001b[0m\u001b[0m\n\u001b[1;32m   1113\u001b[0m                 \u001b[0;32mtry\u001b[0m\u001b[0;34m:\u001b[0m\u001b[0;34m\u001b[0m\u001b[0;34m\u001b[0m\u001b[0m\n\u001b[0;32m-> 1114\u001b[0;31m                     predts = self.get_booster().inplace_predict(\n\u001b[0m\u001b[1;32m   1115\u001b[0m                         \u001b[0mdata\u001b[0m\u001b[0;34m=\u001b[0m\u001b[0mX\u001b[0m\u001b[0;34m,\u001b[0m\u001b[0;34m\u001b[0m\u001b[0;34m\u001b[0m\u001b[0m\n\u001b[1;32m   1116\u001b[0m                         \u001b[0miteration_range\u001b[0m\u001b[0;34m=\u001b[0m\u001b[0miteration_range\u001b[0m\u001b[0;34m,\u001b[0m\u001b[0;34m\u001b[0m\u001b[0;34m\u001b[0m\u001b[0m\n",
            "\u001b[0;32m/usr/local/lib/python3.10/dist-packages/xgboost/core.py\u001b[0m in \u001b[0;36minplace_predict\u001b[0;34m(self, data, iteration_range, predict_type, missing, validate_features, base_margin, strict_shape)\u001b[0m\n\u001b[1;32m   2291\u001b[0m             \u001b[0mdata\u001b[0m\u001b[0;34m,\u001b[0m \u001b[0m_\u001b[0m \u001b[0;34m=\u001b[0m \u001b[0m_ensure_np_dtype\u001b[0m\u001b[0;34m(\u001b[0m\u001b[0mdata\u001b[0m\u001b[0;34m,\u001b[0m \u001b[0mdata\u001b[0m\u001b[0;34m.\u001b[0m\u001b[0mdtype\u001b[0m\u001b[0;34m)\u001b[0m\u001b[0;34m\u001b[0m\u001b[0;34m\u001b[0m\u001b[0m\n\u001b[1;32m   2292\u001b[0m             _check_call(\n\u001b[0;32m-> 2293\u001b[0;31m                 _LIB.XGBoosterPredictFromDense(\n\u001b[0m\u001b[1;32m   2294\u001b[0m                     \u001b[0mself\u001b[0m\u001b[0;34m.\u001b[0m\u001b[0mhandle\u001b[0m\u001b[0;34m,\u001b[0m\u001b[0;34m\u001b[0m\u001b[0;34m\u001b[0m\u001b[0m\n\u001b[1;32m   2295\u001b[0m                     \u001b[0m_array_interface\u001b[0m\u001b[0;34m(\u001b[0m\u001b[0mdata\u001b[0m\u001b[0;34m)\u001b[0m\u001b[0;34m,\u001b[0m\u001b[0;34m\u001b[0m\u001b[0;34m\u001b[0m\u001b[0m\n",
            "\u001b[0;31mKeyboardInterrupt\u001b[0m: "
          ]
        }
      ]
    },
    {
      "cell_type": "markdown",
      "source": [
        "## KNN"
      ],
      "metadata": {
        "id": "XwJj5ig7p2j4"
      }
    },
    {
      "cell_type": "code",
      "source": [
        "from sklearn.neighbors import KNeighborsClassifier\n",
        "from sklearn.metrics import accuracy_score\n",
        "\n",
        "# Training the KNN model\n",
        "knn_model = KNeighborsClassifier(n_neighbors=5)\n",
        "\n",
        "# Fitting the model on the training set\n",
        "knn_model.fit(X_train, y_train)\n",
        "\n",
        "# Making predictions on the test set using KNN\n",
        "knn_test_predictions = knn_model.predict(X_test)\n",
        "\n",
        "# Evaluate the KNN model using Precision on the test set\n",
        "knn_test_precision = precision_score(y_test, knn_test_predictions)\n",
        "print(f\"KNN Test precision: {knn_test_precision}\")\n",
        "\n",
        "# Making predictions on the validation set using KNN\n",
        "knn_val_predictions = knn_model.predict(X_val)\n",
        "\n",
        "# Evaluate the KNN model using Precision on the validation set\n",
        "knn_val_precision = precision_score(y_val, knn_val_predictions)\n",
        "print(f\"KNN Validation precision: {knn_val_precision}\")\n"
      ],
      "metadata": {
        "id": "TC_pn1wjh3o1"
      },
      "execution_count": null,
      "outputs": []
    },
    {
      "cell_type": "code",
      "source": [
        "from sklearn.metrics import classification_report, confusion_matrix, accuracy_score, precision_score, recall_score, roc_curve, roc_auc_score, f1_score\n",
        "result = confusion_matrix(y_test, knn_test_predictions)\n",
        "print(\"Confusion Matrix:\")\n",
        "print(result)\n",
        "print('\\n')\n",
        "result1 = classification_report(y_test, knn_test_predictions)\n",
        "print(\"Classification Report:\",)\n",
        "print (result1)\n",
        "print('\\n')\n",
        "result2 = accuracy_score(y_test,knn_test_predictions)\n",
        "print(\"Accuracy:\",result2)\n",
        "print('\\n')\n",
        "# calculate precision and recall scores\n",
        "precision = precision_score(y_test, knn_test_predictions)\n",
        "recall = recall_score(y_test, knn_test_predictions)\n",
        "f1score = f1_score(y_test, knn_test_predictions)\n",
        "\n",
        "# print the results\n",
        "print(\"Precision:\", precision)\n",
        "print(\"Recall:\", recall)\n",
        "print(\"f1 score:\", recall)\n",
        "\n",
        "print(roc_auc_score(y_test, knn_test_predictions))\n",
        "\n",
        "fpr, tpr, _ = roc_curve(y_test, knn_test_predictions)\n",
        "\n",
        "plt.clf()\n",
        "plt.plot(fpr, tpr)\n",
        "plt.xlabel('FPR')\n",
        "plt.ylabel('TPR')\n",
        "plt.title('ROC curve')\n",
        "plt.show()"
      ],
      "metadata": {
        "id": "8UKKjo_as0m2"
      },
      "execution_count": null,
      "outputs": []
    },
    {
      "cell_type": "code",
      "source": [
        "from explainerdashboard import ClassifierExplainer, ExplainerDashboard\n",
        "explainer = ClassifierExplainer(knn_model, X_test, y_test)\n",
        "ExplainerDashboard(explainer).run()"
      ],
      "metadata": {
        "id": "pOmqEUYg1eeN"
      },
      "execution_count": null,
      "outputs": []
    },
    {
      "cell_type": "markdown",
      "source": [
        "##Decision Tree"
      ],
      "metadata": {
        "id": "Jg4AfnQEd049"
      }
    },
    {
      "cell_type": "code",
      "source": [
        "from sklearn.tree import DecisionTreeClassifier\n",
        "\n",
        "# Initialize the Decision Tree model\n",
        "dt_model = DecisionTreeClassifier(\n",
        "    criterion='entropy', max_depth=5, min_samples_split=2,\n",
        "    min_samples_leaf=1, random_state=42\n",
        ")\n",
        "\n",
        "# Training the Decision Tree model\n",
        "dt_model.fit(X_train, y_train)\n",
        "\n",
        "# Making predictions on the validation set using the Decision Tree model\n",
        "dt_val_predictions = dt_model.predict(X_val)\n",
        "\n",
        "# Evaluate the Decision Tree model using Precision on the validation set\n",
        "dt_val_precision = precision_score(y_val, dt_val_predictions)\n",
        "print(f\"Decision Tree Validation precision: {dt_val_precision}\")\n",
        "\n",
        "# Making predictions on the test set using the Decision Tree model\n",
        "dt_test_predictions = dt_model.predict(X_test)\n",
        "\n",
        "# Evaluate the Decision Tree model using Precision on the test set\n",
        "dt_test_precision = precision_score(y_test, dt_test_predictions)\n",
        "print(f\"Decision Tree Test precision: {dt_test_precision}\")\n"
      ],
      "metadata": {
        "id": "Eeiw0hokd0Va"
      },
      "execution_count": null,
      "outputs": []
    },
    {
      "cell_type": "code",
      "source": [
        "from sklearn.metrics import classification_report, confusion_matrix, accuracy_score, precision_score, recall_score, roc_curve, roc_auc_score, f1_score\n",
        "result = confusion_matrix(y_test, dt_test_predictions)\n",
        "print(\"Confusion Matrix:\")\n",
        "print(result)\n",
        "print('\\n')\n",
        "result1 = classification_report(y_test, dt_test_predictions)\n",
        "print(\"Classification Report:\",)\n",
        "print (result1)\n",
        "print('\\n')\n",
        "result2 = accuracy_score(y_test,dt_test_predictions)\n",
        "print(\"Accuracy:\",result2)\n",
        "print('\\n')\n",
        "# calculate precision and recall scores\n",
        "precision = precision_score(y_test, dt_test_predictions)\n",
        "recall = recall_score(y_test, dt_test_predictions)\n",
        "f1score = f1_score(y_test, dt_test_predictions)\n",
        "\n",
        "# print the results\n",
        "print(\"Precision:\", precision)\n",
        "print(\"Recall:\", recall)\n",
        "print(\"f1 score:\", recall)\n",
        "\n",
        "print(roc_auc_score(y_test, dt_test_predictions))\n",
        "\n",
        "fpr, tpr, _ = roc_curve(y_test, dt_test_predictions)\n",
        "\n",
        "plt.clf()\n",
        "plt.plot(fpr, tpr)\n",
        "plt.xlabel('FPR')\n",
        "plt.ylabel('TPR')\n",
        "plt.title('ROC curve')\n",
        "plt.show()"
      ],
      "metadata": {
        "id": "8cxqzYOrfD8O"
      },
      "execution_count": null,
      "outputs": []
    },
    {
      "cell_type": "markdown",
      "source": [
        "## GNN\n"
      ],
      "metadata": {
        "id": "8phdKSM3bxco"
      }
    },
    {
      "cell_type": "markdown",
      "source": [
        "Model building"
      ],
      "metadata": {
        "id": "ExQZUWFzfHEi"
      }
    },
    {
      "cell_type": "code",
      "source": [
        "import torch.nn.functional as F\n",
        "from torch_geometric.nn import GCNConv"
      ],
      "metadata": {
        "id": "q0bnXG24qqOv"
      },
      "execution_count": null,
      "outputs": []
    },
    {
      "cell_type": "code",
      "source": [
        "class GNNModel(torch.nn.Module):\n",
        "    def __init__(self, num_node_features):\n",
        "        super(GNNModel, self).__init__()\n",
        "        self.conv1 = GCNConv(num_node_features, 32)  # Increased from 16 to 32\n",
        "        self.conv2 = GCNConv(32, 16)  # New layer\n",
        "        self.conv3 = GCNConv(16, 2)  # Output layer\n",
        "\n",
        "    def forward(self, data):\n",
        "        x, edge_index = data.x, data.edge_index\n",
        "        x = self.conv1(x, edge_index)\n",
        "        x = F.relu(x)\n",
        "        x = self.conv2(x, edge_index)  # New layer\n",
        "        x = F.relu(x)\n",
        "        x = F.dropout(x, training=self.training)\n",
        "        x = self.conv3(x, edge_index)\n",
        "        return F.log_softmax(x, dim=1)\n"
      ],
      "metadata": {
        "id": "BdQ4VzCzMfuG"
      },
      "execution_count": null,
      "outputs": []
    },
    {
      "cell_type": "markdown",
      "source": [
        "Test train split"
      ],
      "metadata": {
        "id": "Og7KE5KIfvTi"
      }
    },
    {
      "cell_type": "code",
      "source": [
        "from sklearn.model_selection import train_test_split\n",
        "\n",
        "# Initial train-test split\n",
        "train_fraud, temp_fraud = train_test_split(fraud_resampled_scaled, test_size=0.4, random_state=42, stratify=fraud_resampled_scaled['tx_fraud'])\n",
        "\n",
        "# Split the remaining 40% into validation and test sets\n",
        "val_fraud, test_fraud = train_test_split(temp_fraud, test_size=0.5, random_state=42, stratify=temp_fraud['tx_fraud'])\n",
        "\n",
        "# Initialize masks\n",
        "train_mask = torch.zeros(len(fraud_resampled_scaled), dtype=torch.bool)\n",
        "val_mask = torch.zeros(len(fraud_resampled_scaled), dtype=torch.bool)\n",
        "test_mask = torch.zeros(len(fraud_resampled_scaled), dtype=torch.bool)\n",
        "\n",
        "# Update masks based on the indices of the train, validation and test sets\n",
        "train_mask[train_fraud.index] = True\n",
        "val_mask[val_fraud.index] = True\n",
        "test_mask[test_fraud.index] = True\n",
        "\n",
        "# Update your data object\n",
        "data_scaled.train_mask = train_mask\n",
        "data_scaled.val_mask = val_mask\n",
        "data_scaled.test_mask = test_mask\n",
        "data_scaled.y = torch.tensor(fraud_resampled_scaled['tx_fraud'].values, dtype=torch.long)\n",
        "\n",
        "print(\"Graph constructed and train-validation-test split done.\")\n"
      ],
      "metadata": {
        "id": "eXFqbVBdfMuQ"
      },
      "execution_count": null,
      "outputs": []
    },
    {
      "cell_type": "markdown",
      "source": [
        "Training"
      ],
      "metadata": {
        "id": "e-IdIPtTh70D"
      }
    },
    {
      "cell_type": "code",
      "source": [
        "# Number of node features\n",
        "num_node_features = x_scaled.shape[1]"
      ],
      "metadata": {
        "id": "mw8XicY6kJ5z"
      },
      "execution_count": null,
      "outputs": []
    },
    {
      "cell_type": "code",
      "source": [
        "# Initialize the model and optimizer\n",
        "model = GNNModel(data_scaled.num_node_features)\n",
        "optimizer = torch.optim.Adam(model.parameters(), lr=0.01)\n",
        "\n",
        "# Training loop with validation\n",
        "for epoch in range(200):\n",
        "    model.train()\n",
        "    optimizer.zero_grad()\n",
        "    out = model(data_scaled)\n",
        "\n",
        "    # Training loss\n",
        "    train_loss = F.nll_loss(out[data_scaled.train_mask], data_scaled.y[data_scaled.train_mask])\n",
        "    train_loss.backward()\n",
        "    optimizer.step()\n",
        "\n",
        "    # Validation loss\n",
        "    model.eval()  # Set the model to evaluation mode\n",
        "    with torch.no_grad():  # Deactivate autograd engine to reduce memory usage and speed up computations\n",
        "        val_loss = F.nll_loss(out[data_scaled.val_mask], data_scaled.y[data_scaled.val_mask])\n",
        "\n",
        "    print(f\"Epoch {epoch+1}, Training Loss: {train_loss.item()}, Validation Loss: {val_loss.item()}\")"
      ],
      "metadata": {
        "id": "kpzaYYSZh12z"
      },
      "execution_count": null,
      "outputs": []
    },
    {
      "cell_type": "code",
      "source": [
        "# Testing and Evaluation\n",
        "model.eval()\n",
        "_, pred = out.max(dim=1)\n",
        "correct = float(pred[data_scaled.test_mask].eq(data_scaled.y[data_scaled.test_mask]).sum().item())\n",
        "acc = correct / data_scaled.test_mask.sum().item()\n",
        "print(f\"Test Accuracy: {acc}\")\n",
        "\n",
        "from sklearn.metrics import precision_score\n",
        "\n",
        "\n",
        "# Testing and Evaluation\n",
        "model.eval()\n",
        "_, pred = out.max(dim=1)\n",
        "\n",
        "# Extract ground truth and predictions for test set\n",
        "true_labels = data_scaled.y[data_scaled.test_mask].cpu().numpy()\n",
        "predicted_labels = pred[data_scaled.test_mask].cpu().numpy()"
      ],
      "metadata": {
        "id": "twp_PyW5v8-u"
      },
      "execution_count": null,
      "outputs": []
    },
    {
      "cell_type": "code",
      "source": [
        "\n",
        "result = confusion_matrix(true_labels, predicted_labels)\n",
        "print(\"Confusion Matrix:\")\n",
        "print(result)\n",
        "print('\\n')\n",
        "result1 = classification_report(true_labels, predicted_labels)\n",
        "print(\"Classification Report:\",)\n",
        "print (result1)\n",
        "print('\\n')\n",
        "result2 = accuracy_score(true_labels,predicted_labels)\n",
        "print(\"Accuracy:\",result2)\n",
        "print('\\n')\n",
        "# calculate precision and recall scores\n",
        "precision = precision_score(true_labels, predicted_labels)\n",
        "recall = recall_score(true_labels, predicted_labels)\n",
        "f1score = f1_score(true_labels, predicted_labels)\n",
        "\n",
        "# print the results\n",
        "print(\"Precision:\", precision)\n",
        "print(\"Recall:\", recall)\n",
        "print(\"f1 score:\", recall)\n",
        "\n",
        "print(roc_auc_score(true_labels, predicted_labels))\n",
        "\n",
        "fpr, tpr, _ = roc_curve(true_labels, predicted_labels)\n",
        "\n",
        "plt.clf()\n",
        "plt.plot(fpr, tpr)\n",
        "plt.xlabel('FPR')\n",
        "plt.ylabel('TPR')\n",
        "plt.title('ROC curve')\n",
        "plt.show()"
      ],
      "metadata": {
        "id": "X8yuErRAxr6t"
      },
      "execution_count": null,
      "outputs": []
    }
  ]
}