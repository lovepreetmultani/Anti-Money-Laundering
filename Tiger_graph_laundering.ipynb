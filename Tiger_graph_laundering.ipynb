{
  "nbformat": 4,
  "nbformat_minor": 0,
  "metadata": {
    "colab": {
      "provenance": [],
      "authorship_tag": "ABX9TyMgBbPRbwXlLSXIZav3YvXj",
      "include_colab_link": true
    },
    "kernelspec": {
      "name": "python3",
      "display_name": "Python 3"
    },
    "language_info": {
      "name": "python"
    }
  },
  "cells": [
    {
      "cell_type": "markdown",
      "metadata": {
        "id": "view-in-github",
        "colab_type": "text"
      },
      "source": [
        "<a href=\"https://colab.research.google.com/github/lovepreetmultani/Anti-Money-Laundering/blob/main/Tiger_graph_laundering.ipynb\" target=\"_parent\"><img src=\"https://colab.research.google.com/assets/colab-badge.svg\" alt=\"Open In Colab\"/></a>"
      ]
    },
    {
      "cell_type": "code",
      "execution_count": 1,
      "metadata": {
        "colab": {
          "base_uri": "https://localhost:8080/"
        },
        "id": "y9F-e0YrHXfS",
        "outputId": "29b6ca81-92df-44f9-c599-3828812a1085"
      },
      "outputs": [
        {
          "output_type": "stream",
          "name": "stdout",
          "text": [
            "Collecting pyTigerGraph\n",
            "  Downloading pyTigerGraph-1.4.1-py3-none-any.whl (254 kB)\n",
            "\u001b[2K     \u001b[90m━━━━━━━━━━━━━━━━━━━━━━━━━━━━━━━━━━━━━━━\u001b[0m \u001b[32m254.8/254.8 kB\u001b[0m \u001b[31m4.5 MB/s\u001b[0m eta \u001b[36m0:00:00\u001b[0m\n",
            "\u001b[?25hCollecting pyTigerDriver (from pyTigerGraph)\n",
            "  Downloading pyTigerDriver-1.0.15-py3-none-any.whl (12 kB)\n",
            "Collecting validators (from pyTigerGraph)\n",
            "  Downloading validators-0.21.2-py3-none-any.whl (25 kB)\n",
            "Requirement already satisfied: requests in /usr/local/lib/python3.10/dist-packages (from pyTigerGraph) (2.31.0)\n",
            "Requirement already satisfied: charset-normalizer<4,>=2 in /usr/local/lib/python3.10/dist-packages (from requests->pyTigerGraph) (3.2.0)\n",
            "Requirement already satisfied: idna<4,>=2.5 in /usr/local/lib/python3.10/dist-packages (from requests->pyTigerGraph) (3.4)\n",
            "Requirement already satisfied: urllib3<3,>=1.21.1 in /usr/local/lib/python3.10/dist-packages (from requests->pyTigerGraph) (2.0.4)\n",
            "Requirement already satisfied: certifi>=2017.4.17 in /usr/local/lib/python3.10/dist-packages (from requests->pyTigerGraph) (2023.7.22)\n",
            "Installing collected packages: validators, pyTigerDriver, pyTigerGraph\n",
            "Successfully installed pyTigerDriver-1.0.15 pyTigerGraph-1.4.1 validators-0.21.2\n"
          ]
        }
      ],
      "source": [
        "!pip install pyTigerGraph\n",
        "import pyTigerGraph as tg\n",
        "import json"
      ]
    },
    {
      "cell_type": "code",
      "source": [
        "# Connection parameters\n",
        "hostName = \"https://a55fb64527c24bf68095be5e2188185a.i.tgcloud.io\"\n",
        "userName = \"user_2\"\n",
        "password = \"Algo@123\"\n",
        "graphName=\"test_graph\"\n",
        "secret=\"punc46sthclkb5s74jun92ctc51ihg52\"\n",
        "conn = tg.TigerGraphConnection(host=hostName, username=userName, password=password)\n",
        "\n",
        "print(\"Connected\")\n"
      ],
      "metadata": {
        "colab": {
          "base_uri": "https://localhost:8080/"
        },
        "id": "z5uDxmxJH9QD",
        "outputId": "8107f526-cacd-4302-ada4-a7c978f41c56"
      },
      "execution_count": 7,
      "outputs": [
        {
          "output_type": "stream",
          "name": "stdout",
          "text": [
            "Connected\n"
          ]
        }
      ]
    },
    {
      "cell_type": "code",
      "source": [
        "graph = tg.TigerGraphConnection(host=hostName, graphname=graphName)\n",
        "\n",
        "authToken = graph.getToken(secret)\n",
        "authToken = authToken[0]\n",
        "print(f\"SHHHH.... Keep this a secret. Here's your token:\\n {authToken}\")"
      ],
      "metadata": {
        "colab": {
          "base_uri": "https://localhost:8080/"
        },
        "id": "nxFrwSqIH_7E",
        "outputId": "45d62b73-7bd7-4a4f-b2d7-b092762483ef"
      },
      "execution_count": 18,
      "outputs": [
        {
          "output_type": "stream",
          "name": "stdout",
          "text": [
            "SHHHH.... Keep this a secret. Here's your token:\n",
            " 1fkuln593cgou9oe5ub7f5194c04kv34\n"
          ]
        }
      ]
    },
    {
      "cell_type": "code",
      "source": [
        "show_schema = conn.gsql('''LS''')\n",
        "print(show_schema)"
      ],
      "metadata": {
        "colab": {
          "base_uri": "https://localhost:8080/"
        },
        "id": "iN8j-etWIb9D",
        "outputId": "a9b3ffb5-d4dc-450d-d8a6-c579b98d013b"
      },
      "execution_count": 19,
      "outputs": [
        {
          "output_type": "stream",
          "name": "stdout",
          "text": [
            "Graphs:\n",
            "- Graph test_graph()\n"
          ]
        }
      ]
    },
    {
      "cell_type": "code",
      "source": [
        "results = conn.gsql('''\n",
        "USE GRAPH test_graph\n",
        "''')\n",
        "print(results)"
      ],
      "metadata": {
        "colab": {
          "base_uri": "https://localhost:8080/"
        },
        "id": "eyYMUw1nIjIN",
        "outputId": "1abfdf7f-cd73-4740-aef7-aa4127bb2dc5"
      },
      "execution_count": 22,
      "outputs": [
        {
          "output_type": "stream",
          "name": "stdout",
          "text": [
            "Using graph 'test_graph'\n"
          ]
        }
      ]
    },
    {
      "cell_type": "code",
      "source": [
        "# DEFINE / CREATE ALL EDGES AND VERTICES\n",
        "results = conn.gsql('''\n",
        "USE global\n",
        "CREATE VERTEX Country(PRIMARY_ID id STRING) WITH primary_id_as_attribute=\"true\"\n",
        "CREATE VERTEX Customer (PRIMARY_ID id STRING) WITH primary_id_as_attribute=\"true\"\n",
        "CREATE VERTEX Account (PRIMARY_ID id STRING, init_balance DOUBLE, account_type STRING, tx_behavior INT, pagerank FLOAT, label INT, current_balance DOUBLE, min_send_tx DOUBLE, min_recieve_tx DOUBLE, max_send_tx DOUBLE, max_recieve_tx DOUBLE, avg_send_tx DOUBLE, avg_recieve_tx DOUBLE, cnt_recieve_tx INT, cnt_send_tx INT) WITH primary_id_as_attribute=\"true\"\n",
        "CREATE VERTEX Transaction (PRIMARY_ID id STRING, tx_behavior_id INT, amount DOUBLE, is_fraud BOOL) WITH primary_id_as_attribute=\"true\"\n",
        "CREATE VERTEX Alert (PRIMARY_ID id STRING, alert_type STRING, ts INT) WITH primary_id_as_attribute=\"true\"\n",
        "CREATE UNDIRECTED EDGE BASED_IN (From Customer, To Country)\n",
        "CREATE UNDIRECTED EDGE CUSTOMER_ACCOUNT (From Customer, To Account)\n",
        "CREATE UNDIRECTED EDGE TRANSACTION_FLAGGED (From Transaction, To Alert)\n",
        "CREATE DIRECTED EDGE SEND_TO (From Account, To Account) WITH REVERSE_EDGE=\"reverse_SEND_TO\"\n",
        "CREATE DIRECTED EDGE SEND_TRANSACTION (From Account, To Transaction, ts INT, tx_type STRING) WITH REVERSE_EDGE=\"reverse_SEND_TRANSACTION\"\n",
        "CREATE DIRECTED EDGE RECEIVE_TRANSACTION (From Transaction, To Account, ts INT, tx_type STRING) WITH REVERSE_EDGE=\"reverse_RECEIVE_TRANSACTION\"\n",
        "''')\n",
        "print(results)"
      ],
      "metadata": {
        "colab": {
          "base_uri": "https://localhost:8080/"
        },
        "id": "e-OKQWoTInTp",
        "outputId": "161b0189-a30d-4768-d118-1ad32a9d9502"
      },
      "execution_count": 23,
      "outputs": [
        {
          "output_type": "stream",
          "name": "stdout",
          "text": [
            "Successfully created vertex types: [Country].\n",
            "Successfully created vertex types: [Customer].\n",
            "Successfully created vertex types: [Account].\n",
            "Successfully created vertex types: [Transaction].\n",
            "Successfully created vertex types: [Alert].\n",
            "Successfully created edge types: [BASED_IN].\n",
            "Successfully created edge types: [CUSTOMER_ACCOUNT].\n",
            "Successfully created edge types: [TRANSACTION_FLAGGED].\n",
            "Successfully created edge types: [SEND_TO].\n",
            "Successfully created reverse edge types: [reverse_SEND_TO].\n",
            "Successfully created edge types: [SEND_TRANSACTION].\n",
            "Successfully created reverse edge types: [reverse_SEND_TRANSACTION].\n",
            "Successfully created edge types: [RECEIVE_TRANSACTION].\n",
            "Successfully created reverse edge types: [reverse_RECEIVE_TRANSACTION].\n"
          ]
        }
      ]
    },
    {
      "cell_type": "code",
      "source": [
        "results = conn.gsql('CREATE GRAPH test_graph(Country, Customer, Account, Transaction, Alert, BASED_IN, CUSTOMER_ACCOUNT, TRANSACTION_FLAGGED, SEND_TO, SEND_TRANSACTION, reverse_SEND_TRANSACTION, RECEIVE_TRANSACTION, reverse_RECEIVE_TRANSACTION)')"
      ],
      "metadata": {
        "id": "2Fy6cKK4NYOD"
      },
      "execution_count": 25,
      "outputs": []
    },
    {
      "cell_type": "code",
      "source": [
        "conn.graphname=\"test_graph\"\n",
        "secret = conn.createSecret()\n",
        "authToken = conn.getToken(secret)\n",
        "authToken = authToken[0]\n",
        "print(authToken)\n",
        "conn = tg.TigerGraphConnection(host=hostName, graphname=\"test_graph\", username=userName, password=password, apiToken=authToken)\n",
        "\n",
        "def pprint(string):\n",
        "  print(json.dumps(string, indent=2))"
      ],
      "metadata": {
        "colab": {
          "base_uri": "https://localhost:8080/"
        },
        "id": "v8zXvaJ7PVTU",
        "outputId": "a341883f-642d-4d31-f58d-de59c189899a"
      },
      "execution_count": 31,
      "outputs": [
        {
          "output_type": "stream",
          "name": "stdout",
          "text": [
            "tvusk0ao5fbud8k6221l95vej8uaacmh\n"
          ]
        }
      ]
    },
    {
      "cell_type": "code",
      "source": [
        "show_schema = conn.gsql('''LS''')\n",
        "print(show_schema)"
      ],
      "metadata": {
        "colab": {
          "base_uri": "https://localhost:8080/"
        },
        "id": "_XVAP9tKTh3W",
        "outputId": "53477d7a-2632-41c1-c879-b647e00fddd8"
      },
      "execution_count": 32,
      "outputs": [
        {
          "output_type": "stream",
          "name": "stdout",
          "text": [
            "---- Global vertices, edges, and all graphs\n",
            "Vertex Types:\n",
            "- VERTEX Country(PRIMARY_ID id STRING) WITH STATS=\"OUTDEGREE_BY_EDGETYPE\", PRIMARY_ID_AS_ATTRIBUTE=\"true\"\n",
            "- VERTEX Customer(PRIMARY_ID id STRING) WITH STATS=\"OUTDEGREE_BY_EDGETYPE\", PRIMARY_ID_AS_ATTRIBUTE=\"true\"\n",
            "- VERTEX Account(PRIMARY_ID id STRING, init_balance DOUBLE, account_type STRING, tx_behavior INT, pagerank FLOAT, label INT, current_balance DOUBLE, min_send_tx DOUBLE, min_recieve_tx DOUBLE, max_send_tx DOUBLE, max_recieve_tx DOUBLE, avg_send_tx DOUBLE, avg_recieve_tx DOUBLE, cnt_recieve_tx INT, cnt_send_tx INT) WITH STATS=\"OUTDEGREE_BY_EDGETYPE\", PRIMARY_ID_AS_ATTRIBUTE=\"true\"\n",
            "- VERTEX Transaction(PRIMARY_ID id STRING, tx_behavior_id INT, amount DOUBLE, is_fraud BOOL) WITH STATS=\"OUTDEGREE_BY_EDGETYPE\", PRIMARY_ID_AS_ATTRIBUTE=\"true\"\n",
            "- VERTEX Alert(PRIMARY_ID id STRING, alert_type STRING, ts INT) WITH STATS=\"OUTDEGREE_BY_EDGETYPE\", PRIMARY_ID_AS_ATTRIBUTE=\"true\"\n",
            "Edge Types:\n",
            "- UNDIRECTED EDGE BASED_IN(FROM Customer, TO Country)\n",
            "- UNDIRECTED EDGE CUSTOMER_ACCOUNT(FROM Customer, TO Account)\n",
            "- UNDIRECTED EDGE TRANSACTION_FLAGGED(FROM Transaction, TO Alert)\n",
            "- DIRECTED EDGE SEND_TO(FROM Account, TO Account) WITH REVERSE_EDGE=\"reverse_SEND_TO\"\n",
            "- DIRECTED EDGE reverse_SEND_TO(FROM Account, TO Account) WITH REVERSE_EDGE=\"SEND_TO\"\n",
            "- DIRECTED EDGE SEND_TRANSACTION(FROM Account, TO Transaction, ts INT, tx_type STRING) WITH REVERSE_EDGE=\"reverse_SEND_TRANSACTION\"\n",
            "- DIRECTED EDGE reverse_SEND_TRANSACTION(FROM Transaction, TO Account, ts INT, tx_type STRING) WITH REVERSE_EDGE=\"SEND_TRANSACTION\"\n",
            "- DIRECTED EDGE RECEIVE_TRANSACTION(FROM Transaction, TO Account, ts INT, tx_type STRING) WITH REVERSE_EDGE=\"reverse_RECEIVE_TRANSACTION\"\n",
            "- DIRECTED EDGE reverse_RECEIVE_TRANSACTION(FROM Account, TO Transaction, ts INT, tx_type STRING) WITH REVERSE_EDGE=\"RECEIVE_TRANSACTION\"\n",
            "\n",
            "Graphs:\n",
            "- Graph test_graph(Country:v, Customer:v, Account:v, Transaction:v, Alert:v, BASED_IN:e, CUSTOMER_ACCOUNT:e, TRANSACTION_FLAGGED:e, SEND_TO:e, reverse_SEND_TO:e, SEND_TRANSACTION:e, reverse_SEND_TRANSACTION:e, RECEIVE_TRANSACTION:e, reverse_RECEIVE_TRANSACTION:e)\n",
            "Jobs:\n",
            "\n",
            "\n",
            "JSON API version: v2\n",
            "Syntax version: v2\n",
            "\n"
          ]
        }
      ]
    },
    {
      "cell_type": "code",
      "source": [
        "results = conn.getVertexTypes()\n",
        "print(f\"Verticies: {results}\")\n",
        "vertices = results\n",
        "\n",
        "results = conn.getEdgeTypes()\n",
        "print(f\"Edges: {results}\")\n",
        "edges = results"
      ],
      "metadata": {
        "colab": {
          "base_uri": "https://localhost:8080/"
        },
        "id": "N8XxqM12TsaV",
        "outputId": "d3e8ce2e-8e2b-4124-df7d-b4eb7c5b4b10"
      },
      "execution_count": 33,
      "outputs": [
        {
          "output_type": "stream",
          "name": "stdout",
          "text": [
            "Verticies: ['Country', 'Customer', 'Account', 'Transaction', 'Alert']\n",
            "Edges: ['BASED_IN', 'CUSTOMER_ACCOUNT', 'TRANSACTION_FLAGGED', 'SEND_TO', 'SEND_TRANSACTION', 'RECEIVE_TRANSACTION']\n"
          ]
        }
      ]
    },
    {
      "cell_type": "code",
      "source": [
        "import pandas as pd\n",
        "!git clone https://github.com/TigerGraph-OSS/AMLSim_Python_Lab\n",
        "accounts = pd.read_csv(\"AMLSim_Python_Lab/data/accounts.csv\", sep=\",\")\n",
        "alerts = pd.read_csv(\"AMLSim_Python_Lab/data/alerts.csv\", sep=\",\")\n",
        "transactions = pd.read_csv(\"AMLSim_Python_Lab/data/transactions.csv\", sep=\",\")"
      ],
      "metadata": {
        "id": "ArzELda80wfK"
      },
      "execution_count": null,
      "outputs": []
    },
    {
      "cell_type": "code",
      "source": [
        "\n",
        "print(f\"Results for Post vertex\")\n",
        "pprint(conn.getVertexType(\"Account\"))\n",
        "\n",
        "print(\"-----------------\")\n",
        "print(f\"Results for liked edge\")\n",
        "pprint(conn.getEdgeType(\"send_money\"))\n"
      ],
      "metadata": {
        "colab": {
          "base_uri": "https://localhost:8080/"
        },
        "id": "ckaDwk9TTvmq",
        "outputId": "292f6af9-7bfb-4503-c953-2e88749a8301"
      },
      "execution_count": 34,
      "outputs": [
        {
          "output_type": "stream",
          "name": "stderr",
          "text": [
            "WARNING:pyTigerGraph.pyTigerGraphEdge:Edge type `send_money` was not found.\n"
          ]
        },
        {
          "output_type": "stream",
          "name": "stdout",
          "text": [
            "Results for Post vertex\n",
            "{\n",
            "  \"Config\": {\n",
            "    \"STATS\": \"OUTDEGREE_BY_EDGETYPE\",\n",
            "    \"PRIMARY_ID_AS_ATTRIBUTE\": true\n",
            "  },\n",
            "  \"Attributes\": [\n",
            "    {\n",
            "      \"AttributeType\": {\n",
            "        \"Name\": \"DOUBLE\"\n",
            "      },\n",
            "      \"AttributeName\": \"init_balance\"\n",
            "    },\n",
            "    {\n",
            "      \"AttributeType\": {\n",
            "        \"Name\": \"STRING\"\n",
            "      },\n",
            "      \"AttributeName\": \"account_type\"\n",
            "    },\n",
            "    {\n",
            "      \"AttributeType\": {\n",
            "        \"Name\": \"INT\"\n",
            "      },\n",
            "      \"AttributeName\": \"tx_behavior\"\n",
            "    },\n",
            "    {\n",
            "      \"AttributeType\": {\n",
            "        \"Name\": \"FLOAT\"\n",
            "      },\n",
            "      \"AttributeName\": \"pagerank\"\n",
            "    },\n",
            "    {\n",
            "      \"AttributeType\": {\n",
            "        \"Name\": \"INT\"\n",
            "      },\n",
            "      \"AttributeName\": \"label\"\n",
            "    },\n",
            "    {\n",
            "      \"AttributeType\": {\n",
            "        \"Name\": \"DOUBLE\"\n",
            "      },\n",
            "      \"AttributeName\": \"current_balance\"\n",
            "    },\n",
            "    {\n",
            "      \"AttributeType\": {\n",
            "        \"Name\": \"DOUBLE\"\n",
            "      },\n",
            "      \"AttributeName\": \"min_send_tx\"\n",
            "    },\n",
            "    {\n",
            "      \"AttributeType\": {\n",
            "        \"Name\": \"DOUBLE\"\n",
            "      },\n",
            "      \"AttributeName\": \"min_recieve_tx\"\n",
            "    },\n",
            "    {\n",
            "      \"AttributeType\": {\n",
            "        \"Name\": \"DOUBLE\"\n",
            "      },\n",
            "      \"AttributeName\": \"max_send_tx\"\n",
            "    },\n",
            "    {\n",
            "      \"AttributeType\": {\n",
            "        \"Name\": \"DOUBLE\"\n",
            "      },\n",
            "      \"AttributeName\": \"max_recieve_tx\"\n",
            "    },\n",
            "    {\n",
            "      \"AttributeType\": {\n",
            "        \"Name\": \"DOUBLE\"\n",
            "      },\n",
            "      \"AttributeName\": \"avg_send_tx\"\n",
            "    },\n",
            "    {\n",
            "      \"AttributeType\": {\n",
            "        \"Name\": \"DOUBLE\"\n",
            "      },\n",
            "      \"AttributeName\": \"avg_recieve_tx\"\n",
            "    },\n",
            "    {\n",
            "      \"AttributeType\": {\n",
            "        \"Name\": \"INT\"\n",
            "      },\n",
            "      \"AttributeName\": \"cnt_recieve_tx\"\n",
            "    },\n",
            "    {\n",
            "      \"AttributeType\": {\n",
            "        \"Name\": \"INT\"\n",
            "      },\n",
            "      \"AttributeName\": \"cnt_send_tx\"\n",
            "    }\n",
            "  ],\n",
            "  \"PrimaryId\": {\n",
            "    \"AttributeType\": {\n",
            "      \"Name\": \"STRING\"\n",
            "    },\n",
            "    \"PrimaryIdAsAttribute\": true,\n",
            "    \"AttributeName\": \"id\"\n",
            "  },\n",
            "  \"Name\": \"Account\"\n",
            "}\n",
            "-----------------\n",
            "Results for liked edge\n",
            "{}\n"
          ]
        }
      ]
    },
    {
      "cell_type": "code",
      "source": [
        "print(\"Vertex Counts\")\n",
        "for vertex in vertices:\n",
        "  print(f\"There are {conn.getVertexCount(vertex)} {vertex} vertices in the graph\")\n",
        "\n",
        "print(\"--------------\")\n",
        "print(\"Edge Counts\")\n",
        "for edge in edges:\n",
        "  print(f\"There are {conn.getEdgeCount(edge)} {edge} edges in the graph\")"
      ],
      "metadata": {
        "colab": {
          "base_uri": "https://localhost:8080/"
        },
        "id": "L8bVIAUsT79J",
        "outputId": "3e0b5997-9ab2-44fe-b5e0-d4db8ab03698"
      },
      "execution_count": 35,
      "outputs": [
        {
          "output_type": "stream",
          "name": "stdout",
          "text": [
            "Vertex Counts\n",
            "There are 0 Country vertices in the graph\n",
            "There are 0 Customer vertices in the graph\n",
            "There are 0 Account vertices in the graph\n",
            "There are 0 Transaction vertices in the graph\n",
            "There are 0 Alert vertices in the graph\n",
            "--------------\n",
            "Edge Counts\n",
            "There are 0 BASED_IN edges in the graph\n",
            "There are 0 CUSTOMER_ACCOUNT edges in the graph\n",
            "There are 0 TRANSACTION_FLAGGED edges in the graph\n",
            "There are 0 SEND_TO edges in the graph\n",
            "There are 0 SEND_TRANSACTION edges in the graph\n",
            "There are 0 RECEIVE_TRANSACTION edges in the graph\n"
          ]
        }
      ]
    },
    {
      "cell_type": "code",
      "source": [
        "results = conn.getVerticesById(\"Account\", \"0\")\n",
        "pprint(results)"
      ],
      "metadata": {
        "colab": {
          "base_uri": "https://localhost:8080/",
          "height": 346
        },
        "id": "EyGKgR68UEOO",
        "outputId": "b4ec1185-4abb-406c-ccd7-6c0014c69563"
      },
      "execution_count": 36,
      "outputs": [
        {
          "output_type": "error",
          "ename": "TigerGraphException",
          "evalue": "ignored",
          "traceback": [
            "\u001b[0;31m---------------------------------------------------------------------------\u001b[0m",
            "\u001b[0;31mTigerGraphException\u001b[0m                       Traceback (most recent call last)",
            "\u001b[0;32m<ipython-input-36-1d8504707572>\u001b[0m in \u001b[0;36m<cell line: 1>\u001b[0;34m()\u001b[0m\n\u001b[0;32m----> 1\u001b[0;31m \u001b[0mresults\u001b[0m \u001b[0;34m=\u001b[0m \u001b[0mconn\u001b[0m\u001b[0;34m.\u001b[0m\u001b[0mgetVerticesById\u001b[0m\u001b[0;34m(\u001b[0m\u001b[0;34m\"Account\"\u001b[0m\u001b[0;34m,\u001b[0m \u001b[0;34m\"0\"\u001b[0m\u001b[0;34m)\u001b[0m\u001b[0;34m\u001b[0m\u001b[0;34m\u001b[0m\u001b[0m\n\u001b[0m\u001b[1;32m      2\u001b[0m \u001b[0mpprint\u001b[0m\u001b[0;34m(\u001b[0m\u001b[0mresults\u001b[0m\u001b[0;34m)\u001b[0m\u001b[0;34m\u001b[0m\u001b[0;34m\u001b[0m\u001b[0m\n",
            "\u001b[0;32m/usr/local/lib/python3.10/dist-packages/pyTigerGraph/pyTigerGraphVertex.py\u001b[0m in \u001b[0;36mgetVerticesById\u001b[0;34m(self, vertexType, vertexIds, select, fmt, withId, withType, timeout)\u001b[0m\n\u001b[1;32m    522\u001b[0m         \u001b[0mret\u001b[0m \u001b[0;34m=\u001b[0m \u001b[0;34m[\u001b[0m\u001b[0;34m]\u001b[0m\u001b[0;34m\u001b[0m\u001b[0;34m\u001b[0m\u001b[0m\n\u001b[1;32m    523\u001b[0m         \u001b[0;32mfor\u001b[0m \u001b[0mvid\u001b[0m \u001b[0;32min\u001b[0m \u001b[0mvids\u001b[0m\u001b[0;34m:\u001b[0m\u001b[0;34m\u001b[0m\u001b[0;34m\u001b[0m\u001b[0m\n\u001b[0;32m--> 524\u001b[0;31m             \u001b[0mret\u001b[0m \u001b[0;34m+=\u001b[0m \u001b[0mself\u001b[0m\u001b[0;34m.\u001b[0m\u001b[0m_get\u001b[0m\u001b[0;34m(\u001b[0m\u001b[0murl\u001b[0m \u001b[0;34m+\u001b[0m \u001b[0mself\u001b[0m\u001b[0;34m.\u001b[0m\u001b[0m_safeChar\u001b[0m\u001b[0;34m(\u001b[0m\u001b[0mvid\u001b[0m\u001b[0;34m)\u001b[0m\u001b[0;34m)\u001b[0m\u001b[0;34m\u001b[0m\u001b[0;34m\u001b[0m\u001b[0m\n\u001b[0m\u001b[1;32m    525\u001b[0m \u001b[0;34m\u001b[0m\u001b[0m\n\u001b[1;32m    526\u001b[0m         \u001b[0;32mif\u001b[0m \u001b[0mfmt\u001b[0m \u001b[0;34m==\u001b[0m \u001b[0;34m\"json\"\u001b[0m\u001b[0;34m:\u001b[0m\u001b[0;34m\u001b[0m\u001b[0;34m\u001b[0m\u001b[0m\n",
            "\u001b[0;32m/usr/local/lib/python3.10/dist-packages/pyTigerGraph/pyTigerGraphBase.py\u001b[0m in \u001b[0;36m_get\u001b[0;34m(self, url, authMode, headers, resKey, skipCheck, params, strictJson)\u001b[0m\n\u001b[1;32m    328\u001b[0m             \u001b[0mlogger\u001b[0m\u001b[0;34m.\u001b[0m\u001b[0mdebug\u001b[0m\u001b[0;34m(\u001b[0m\u001b[0;34m\"params: \"\u001b[0m \u001b[0;34m+\u001b[0m \u001b[0mself\u001b[0m\u001b[0;34m.\u001b[0m\u001b[0m_locals\u001b[0m\u001b[0;34m(\u001b[0m\u001b[0mlocals\u001b[0m\u001b[0;34m(\u001b[0m\u001b[0;34m)\u001b[0m\u001b[0;34m)\u001b[0m\u001b[0;34m)\u001b[0m\u001b[0;34m\u001b[0m\u001b[0;34m\u001b[0m\u001b[0m\n\u001b[1;32m    329\u001b[0m \u001b[0;34m\u001b[0m\u001b[0m\n\u001b[0;32m--> 330\u001b[0;31m         \u001b[0mres\u001b[0m \u001b[0;34m=\u001b[0m \u001b[0mself\u001b[0m\u001b[0;34m.\u001b[0m\u001b[0m_req\u001b[0m\u001b[0;34m(\u001b[0m\u001b[0;34m\"GET\"\u001b[0m\u001b[0;34m,\u001b[0m \u001b[0murl\u001b[0m\u001b[0;34m,\u001b[0m \u001b[0mauthMode\u001b[0m\u001b[0;34m,\u001b[0m \u001b[0mheaders\u001b[0m\u001b[0;34m,\u001b[0m \u001b[0;32mNone\u001b[0m\u001b[0;34m,\u001b[0m \u001b[0mresKey\u001b[0m\u001b[0;34m,\u001b[0m \u001b[0mskipCheck\u001b[0m\u001b[0;34m,\u001b[0m \u001b[0mparams\u001b[0m\u001b[0;34m,\u001b[0m \u001b[0mstrictJson\u001b[0m\u001b[0;34m)\u001b[0m\u001b[0;34m\u001b[0m\u001b[0;34m\u001b[0m\u001b[0m\n\u001b[0m\u001b[1;32m    331\u001b[0m \u001b[0;34m\u001b[0m\u001b[0m\n\u001b[1;32m    332\u001b[0m         \u001b[0;32mif\u001b[0m \u001b[0mlogger\u001b[0m\u001b[0;34m.\u001b[0m\u001b[0mlevel\u001b[0m \u001b[0;34m==\u001b[0m \u001b[0mlogging\u001b[0m\u001b[0;34m.\u001b[0m\u001b[0mDEBUG\u001b[0m\u001b[0;34m:\u001b[0m\u001b[0;34m\u001b[0m\u001b[0;34m\u001b[0m\u001b[0m\n",
            "\u001b[0;32m/usr/local/lib/python3.10/dist-packages/pyTigerGraph/pyTigerGraphBase.py\u001b[0m in \u001b[0;36m_req\u001b[0;34m(self, method, url, authMode, headers, data, resKey, skipCheck, params, strictJson, jsonData)\u001b[0m\n\u001b[1;32m    288\u001b[0m             \u001b[0;32mraise\u001b[0m \u001b[0mTigerGraphException\u001b[0m\u001b[0;34m(\u001b[0m\u001b[0mres\u001b[0m\u001b[0;34m.\u001b[0m\u001b[0mtext\u001b[0m\u001b[0;34m)\u001b[0m\u001b[0;34m\u001b[0m\u001b[0;34m\u001b[0m\u001b[0m\n\u001b[1;32m    289\u001b[0m         \u001b[0;32mif\u001b[0m \u001b[0;32mnot\u001b[0m \u001b[0mskipCheck\u001b[0m\u001b[0;34m:\u001b[0m\u001b[0;34m\u001b[0m\u001b[0;34m\u001b[0m\u001b[0m\n\u001b[0;32m--> 290\u001b[0;31m             \u001b[0mself\u001b[0m\u001b[0;34m.\u001b[0m\u001b[0m_errorCheck\u001b[0m\u001b[0;34m(\u001b[0m\u001b[0mres\u001b[0m\u001b[0;34m)\u001b[0m\u001b[0;34m\u001b[0m\u001b[0;34m\u001b[0m\u001b[0m\n\u001b[0m\u001b[1;32m    291\u001b[0m         \u001b[0;32mif\u001b[0m \u001b[0;32mnot\u001b[0m \u001b[0mresKey\u001b[0m\u001b[0;34m:\u001b[0m\u001b[0;34m\u001b[0m\u001b[0;34m\u001b[0m\u001b[0m\n\u001b[1;32m    292\u001b[0m             \u001b[0;32mif\u001b[0m \u001b[0mlogger\u001b[0m\u001b[0;34m.\u001b[0m\u001b[0mlevel\u001b[0m \u001b[0;34m==\u001b[0m \u001b[0mlogging\u001b[0m\u001b[0;34m.\u001b[0m\u001b[0mDEBUG\u001b[0m\u001b[0;34m:\u001b[0m\u001b[0;34m\u001b[0m\u001b[0;34m\u001b[0m\u001b[0m\n",
            "\u001b[0;32m/usr/local/lib/python3.10/dist-packages/pyTigerGraph/pyTigerGraphBase.py\u001b[0m in \u001b[0;36m_errorCheck\u001b[0;34m(self, res)\u001b[0m\n\u001b[1;32m    208\u001b[0m         \u001b[0;32mif\u001b[0m \u001b[0;34m\"error\"\u001b[0m \u001b[0;32min\u001b[0m \u001b[0mres\u001b[0m \u001b[0;32mand\u001b[0m \u001b[0mres\u001b[0m\u001b[0;34m[\u001b[0m\u001b[0;34m\"error\"\u001b[0m\u001b[0;34m]\u001b[0m \u001b[0;32mand\u001b[0m \u001b[0mres\u001b[0m\u001b[0;34m[\u001b[0m\u001b[0;34m\"error\"\u001b[0m\u001b[0;34m]\u001b[0m \u001b[0;34m!=\u001b[0m \u001b[0;34m\"false\"\u001b[0m\u001b[0;34m:\u001b[0m\u001b[0;34m\u001b[0m\u001b[0;34m\u001b[0m\u001b[0m\n\u001b[1;32m    209\u001b[0m             \u001b[0;31m# Endpoint might return string \"false\" rather than Boolean false\u001b[0m\u001b[0;34m\u001b[0m\u001b[0;34m\u001b[0m\u001b[0m\n\u001b[0;32m--> 210\u001b[0;31m             \u001b[0;32mraise\u001b[0m \u001b[0mTigerGraphException\u001b[0m\u001b[0;34m(\u001b[0m\u001b[0mres\u001b[0m\u001b[0;34m[\u001b[0m\u001b[0;34m\"message\"\u001b[0m\u001b[0;34m]\u001b[0m\u001b[0;34m,\u001b[0m \u001b[0;34m(\u001b[0m\u001b[0mres\u001b[0m\u001b[0;34m[\u001b[0m\u001b[0;34m\"code\"\u001b[0m\u001b[0;34m]\u001b[0m \u001b[0;32mif\u001b[0m \u001b[0;34m\"code\"\u001b[0m \u001b[0;32min\u001b[0m \u001b[0mres\u001b[0m \u001b[0;32melse\u001b[0m \u001b[0;32mNone\u001b[0m\u001b[0;34m)\u001b[0m\u001b[0;34m)\u001b[0m\u001b[0;34m\u001b[0m\u001b[0;34m\u001b[0m\u001b[0m\n\u001b[0m\u001b[1;32m    211\u001b[0m \u001b[0;34m\u001b[0m\u001b[0m\n\u001b[1;32m    212\u001b[0m     def _req(self, method: str, url: str, authMode: str = \"token\", headers: dict = None,\n",
            "\u001b[0;31mTigerGraphException\u001b[0m: (\"The input vertex id '0' is not a valid vertex id for vertex type = Account.\", '601')"
          ]
        }
      ]
    },
    {
      "cell_type": "code",
      "source": [
        "df1 = conn.getVertexDataframe(\"Alert\")\n",
        "print(df1)"
      ],
      "metadata": {
        "colab": {
          "base_uri": "https://localhost:8080/"
        },
        "id": "2zqDM7MDUQCa",
        "outputId": "411bd006-2039-4fcc-f663-907e494c8739"
      },
      "execution_count": null,
      "outputs": [
        {
          "output_type": "stream",
          "name": "stdout",
          "text": [
            "    v_id   id alert_type   ts\n",
            "0    273  273      cycle   49\n",
            "1    194  194     fan_in   94\n",
            "2    296  296      cycle   50\n",
            "3    263  263      cycle  111\n",
            "4    270  270      cycle   94\n",
            "..   ...  ...        ...  ...\n",
            "386  137  137     fan_in  150\n",
            "387  228  228      cycle  135\n",
            "388   56   56     fan_in   99\n",
            "389  155  155     fan_in  134\n",
            "390   63   63     fan_in  164\n",
            "\n",
            "[391 rows x 4 columns]\n"
          ]
        }
      ]
    },
    {
      "cell_type": "code",
      "source": [
        "import pandas as pd\n",
        "!git clone https://github.com/lovepreetmultani/Anti-Money-Laundering.git\n",
        "accounts = pd.read_csv(\"Anti-Money-Laundering/data/accounts.csv\", sep=\",\")\n",
        "alerts = pd.read_csv(\"Anti-Money-Laundering/data/alerts.csv\", sep=\",\")\n",
        "transactions = pd.read_csv(\"Anti-Money-Laundering/data/transactions.csv\", sep=\",\")"
      ],
      "metadata": {
        "colab": {
          "base_uri": "https://localhost:8080/"
        },
        "id": "-QBDwT5EbqUT",
        "outputId": "7bfe383c-7947-461d-fa74-bea3eccbd29e"
      },
      "execution_count": null,
      "outputs": [
        {
          "output_type": "stream",
          "name": "stdout",
          "text": [
            "fatal: destination path 'Anti-Money-Laundering' already exists and is not an empty directory.\n"
          ]
        }
      ]
    },
    {
      "cell_type": "code",
      "source": [
        "transactions.info()"
      ],
      "metadata": {
        "colab": {
          "base_uri": "https://localhost:8080/"
        },
        "id": "N3saj-zje0oT",
        "outputId": "38b14eba-41b0-4e9c-b913-0a6dafbadea8"
      },
      "execution_count": null,
      "outputs": [
        {
          "output_type": "stream",
          "name": "stdout",
          "text": [
            "<class 'pandas.core.frame.DataFrame'>\n",
            "RangeIndex: 121457 entries, 0 to 121456\n",
            "Data columns (total 8 columns):\n",
            " #   Column          Non-Null Count   Dtype  \n",
            "---  ------          --------------   -----  \n",
            " 0   tran_id         121457 non-null  int64  \n",
            " 1   orig_acct       121457 non-null  int64  \n",
            " 2   bene_acct       121457 non-null  int64  \n",
            " 3   tx_type         121457 non-null  object \n",
            " 4   base_amt        121457 non-null  float64\n",
            " 5   tran_timestamp  121457 non-null  object \n",
            " 6   is_sar          121457 non-null  bool   \n",
            " 7   alert_id        121457 non-null  int64  \n",
            "dtypes: bool(1), float64(1), int64(4), object(2)\n",
            "memory usage: 6.6+ MB\n"
          ]
        }
      ]
    },
    {
      "cell_type": "code",
      "source": [
        "accounts.info()"
      ],
      "metadata": {
        "colab": {
          "base_uri": "https://localhost:8080/"
        },
        "id": "hYwtjnRjeREQ",
        "outputId": "1fd8a906-b52c-4bc6-bac4-cfe1bf064ffc"
      },
      "execution_count": null,
      "outputs": [
        {
          "output_type": "stream",
          "name": "stdout",
          "text": [
            "<class 'pandas.core.frame.DataFrame'>\n",
            "RangeIndex: 10000 entries, 0 to 9999\n",
            "Data columns (total 7 columns):\n",
            " #   Column          Non-Null Count  Dtype  \n",
            "---  ------          --------------  -----  \n",
            " 0   ACCOUNT_ID      10000 non-null  int64  \n",
            " 1   CUSTOMER_ID     10000 non-null  object \n",
            " 2   INIT_BALANCE    10000 non-null  float64\n",
            " 3   COUNTRY         10000 non-null  object \n",
            " 4   ACCOUNT_TYPE    10000 non-null  object \n",
            " 5   IS_FRAUD        10000 non-null  bool   \n",
            " 6   TX_BEHAVIOR_ID  10000 non-null  int64  \n",
            "dtypes: bool(1), float64(1), int64(2), object(3)\n",
            "memory usage: 478.6+ KB\n"
          ]
        }
      ]
    },
    {
      "cell_type": "code",
      "source": [
        "alerts.info()"
      ],
      "metadata": {
        "colab": {
          "base_uri": "https://localhost:8080/"
        },
        "id": "8VkxuSWKeyAG",
        "outputId": "20c04870-0e16-4383-d4c9-17c67d6fe53b"
      },
      "execution_count": null,
      "outputs": [
        {
          "output_type": "stream",
          "name": "stdout",
          "text": [
            "<class 'pandas.core.frame.DataFrame'>\n",
            "RangeIndex: 65 entries, 0 to 64\n",
            "Data columns (total 9 columns):\n",
            " #   Column          Non-Null Count  Dtype  \n",
            "---  ------          --------------  -----  \n",
            " 0   alert_id        65 non-null     int64  \n",
            " 1   alert_type      65 non-null     object \n",
            " 2   is_sar          65 non-null     bool   \n",
            " 3   tran_id         65 non-null     int64  \n",
            " 4   orig_acct       65 non-null     int64  \n",
            " 5   bene_acct       65 non-null     int64  \n",
            " 6   tx_type         65 non-null     object \n",
            " 7   base_amt        65 non-null     float64\n",
            " 8   tran_timestamp  65 non-null     object \n",
            "dtypes: bool(1), float64(1), int64(4), object(3)\n",
            "memory usage: 4.3+ KB\n"
          ]
        }
      ]
    },
    {
      "cell_type": "code",
      "source": [
        "results = conn.gsql('''\n",
        "USE GRAPH test_graph_New\n",
        "''')\n",
        "print(results)"
      ],
      "metadata": {
        "colab": {
          "base_uri": "https://localhost:8080/"
        },
        "id": "8YouVc0ghppS",
        "outputId": "6bb0faeb-3830-4533-9cac-25f98055b52f"
      },
      "execution_count": null,
      "outputs": [
        {
          "output_type": "stream",
          "name": "stdout",
          "text": [
            "Using graph 'test_graph_New'\n"
          ]
        }
      ]
    },
    {
      "cell_type": "code",
      "source": [
        "!head -n 2 Anti-Money-Laundering/accounts.csv"
      ],
      "metadata": {
        "colab": {
          "base_uri": "https://localhost:8080/"
        },
        "id": "VhVBjHX6fw2H",
        "outputId": "f8ee63da-1951-4496-f003-b7fb78263776"
      },
      "execution_count": null,
      "outputs": [
        {
          "output_type": "stream",
          "name": "stdout",
          "text": [
            "head: cannot open 'Anti-Money-Laundering/accounts.csv' for reading: No such file or directory\n"
          ]
        }
      ]
    },
    {
      "cell_type": "code",
      "source": [
        "results = conn.gsql('''\n",
        "DROP JOB load_job_accounts\n",
        "  END\n",
        "  ''')"
      ],
      "metadata": {
        "id": "38Bdh8shf95b"
      },
      "execution_count": null,
      "outputs": []
    },
    {
      "cell_type": "code",
      "source": [
        "results = conn.gsql('''\n",
        "  USE GRAPH test_graph_New\n",
        "  BEGIN\n",
        "  CREATE LOADING JOB load_job_accounts FOR GRAPH test_graph_New {\n",
        "      DEFINE FILENAME MyDataSource;\n",
        "      LOAD MyDataSource TO VERTEX Customer VALUES($1) USING SEPARATOR=\",\", HEADER=\"true\", EOL=\"\\n\";\n",
        "      LOAD MyDataSource TO VERTEX Account VALUES($0, $2, $4, $6, _, _, _, _, _, _, _, _, _, _, _) USING SEPARATOR=\",\", HEADER=\"true\", EOL=\"\\n\";\n",
        "      LOAD MyDataSource TO EDGE BASED_IN VALUES($1, $3) USING SEPARATOR=\",\", HEADER=\"true\", EOL=\"\\n\";\n",
        "      LOAD MyDataSource TO EDGE CUSTOMER_ACCOUNT VALUES($1, $4) USING SEPARATOR=\",\", HEADER=\"true\", EOL=\"\\n\";\n",
        "}\n",
        "  END\n",
        "  ''')\n",
        "print(results)"
      ],
      "metadata": {
        "colab": {
          "base_uri": "https://localhost:8080/"
        },
        "id": "6sOihgPVfBcn",
        "outputId": "6e2a3ef7-743d-4402-ee40-ba113ce4e9eb"
      },
      "execution_count": null,
      "outputs": [
        {
          "output_type": "stream",
          "name": "stdout",
          "text": [
            "Using graph 'test_graph_New'\n",
            "Successfully created loading jobs: [load_job_accounts].\n"
          ]
        }
      ]
    },
    {
      "cell_type": "code",
      "source": [
        "results = conn.gsql('''\n",
        "USE GRAPH test_graph_New\n",
        "''')\n",
        "print(results)"
      ],
      "metadata": {
        "colab": {
          "base_uri": "https://localhost:8080/"
        },
        "id": "ZY34rBD7huQZ",
        "outputId": "5d046d50-af94-4267-a04d-71864b62f919"
      },
      "execution_count": null,
      "outputs": [
        {
          "output_type": "stream",
          "name": "stdout",
          "text": [
            "Using graph 'test_graph_New'\n"
          ]
        }
      ]
    },
    {
      "cell_type": "code",
      "source": [
        "!head -n 2 Anti-Money-Laundering/alerts.csv"
      ],
      "metadata": {
        "colab": {
          "base_uri": "https://localhost:8080/"
        },
        "id": "1NII3rf2fXZg",
        "outputId": "dd5ac3a7-9559-4e44-efae-56be244133d7"
      },
      "execution_count": null,
      "outputs": [
        {
          "output_type": "stream",
          "name": "stdout",
          "text": [
            "head: cannot open 'Anti-Money-Laundering/alerts.csv' for reading: No such file or directory\n"
          ]
        }
      ]
    },
    {
      "cell_type": "code",
      "source": [
        "results = conn.gsql('''\n",
        "DROP JOB load_job_alerts\n",
        "  END\n",
        "  ''')"
      ],
      "metadata": {
        "id": "NVlYnjikfhVH"
      },
      "execution_count": null,
      "outputs": []
    },
    {
      "cell_type": "code",
      "source": [
        "results = conn.gsql('''\n",
        "  USE GRAPH test_graph_New\n",
        "  BEGIN\n",
        "CREATE LOADING JOB load_job_alerts FOR GRAPH test_graph_New {\n",
        "      DEFINE FILENAME MyDataSource;\n",
        "      LOAD MyDataSource TO VERTEX Alert VALUES($0, $1, $8) USING SEPARATOR=\",\", HEADER=\"true\", EOL=\"\\n\";\n",
        "      LOAD MyDataSource TO EDGE TRANSACTION_FLAGGED VALUES($3, $0) USING SEPARATOR=\",\", HEADER=\"true\", EOL=\"\\n\";\n",
        "}\n",
        "  END\n",
        "  ''')\n",
        "print(results)"
      ],
      "metadata": {
        "colab": {
          "base_uri": "https://localhost:8080/"
        },
        "id": "iqYuuAtxgTBV",
        "outputId": "bdf36179-282a-42fc-fb83-57727bcedd20"
      },
      "execution_count": null,
      "outputs": [
        {
          "output_type": "stream",
          "name": "stdout",
          "text": [
            "Using graph 'test_graph_New'\n",
            "Successfully created loading jobs: [load_job_alerts].\n"
          ]
        }
      ]
    },
    {
      "cell_type": "code",
      "source": [
        "results = conn.gsql('''\n",
        "USE GRAPH test_graph_New\n",
        "''')\n",
        "print(results)"
      ],
      "metadata": {
        "colab": {
          "base_uri": "https://localhost:8080/"
        },
        "id": "LgXAacTzhw6a",
        "outputId": "64e33fea-7a38-4133-ce72-c7cead4d7466"
      },
      "execution_count": null,
      "outputs": [
        {
          "output_type": "stream",
          "name": "stdout",
          "text": [
            "Using graph 'test_graph_New'\n"
          ]
        }
      ]
    },
    {
      "cell_type": "code",
      "source": [
        "!head -n 2 Anti-Money-Laundering/transactions.csv"
      ],
      "metadata": {
        "colab": {
          "base_uri": "https://localhost:8080/"
        },
        "id": "EA74SaEdglqj",
        "outputId": "10fd461c-62c0-43a3-cef6-c256d2d701fd"
      },
      "execution_count": null,
      "outputs": [
        {
          "output_type": "stream",
          "name": "stdout",
          "text": [
            "head: cannot open 'Anti-Money-Laundering/transactions.csv' for reading: No such file or directory\n"
          ]
        }
      ]
    },
    {
      "cell_type": "code",
      "source": [
        "results = conn.gsql('''\n",
        "DROP JOB load_job_transactions\n",
        "  END\n",
        "  ''')"
      ],
      "metadata": {
        "id": "imvsAK68gsF2"
      },
      "execution_count": null,
      "outputs": []
    },
    {
      "cell_type": "code",
      "source": [
        "results = conn.gsql('''\n",
        "  USE GRAPH test_graph_New\n",
        "  BEGIN\n",
        "CREATE LOADING JOB load_job_transactions FOR GRAPH test_graph_New {\n",
        "      DEFINE FILENAME MyDataSource;\n",
        "      LOAD MyDataSource TO VERTEX Transaction VALUES($0, _, $4, $6) USING SEPARATOR=\",\", HEADER=\"true\", EOL=\"\\n\";\n",
        "      LOAD MyDataSource TO EDGE SEND_TO VALUES($1, $2) USING SEPARATOR=\",\", HEADER=\"true\", EOL=\"\\n\";\n",
        "      LOAD MyDataSource TO EDGE SEND_TRANSACTION VALUES($1, $0, $5, $3) USING SEPARATOR=\",\", HEADER=\"true\", EOL=\"\\n\";\n",
        "      LOAD MyDataSource TO EDGE RECEIVE_TRANSACTION VALUES($0, $2, $5, $3) USING SEPARATOR=\",\", HEADER=\"true\", EOL=\"\\n\";\n",
        "}\n",
        "  END\n",
        "  ''')\n",
        "print(results)"
      ],
      "metadata": {
        "colab": {
          "base_uri": "https://localhost:8080/"
        },
        "id": "owvTtqsqgxyF",
        "outputId": "18db639e-af95-46a0-ed6b-da0b174dca5d"
      },
      "execution_count": null,
      "outputs": [
        {
          "output_type": "stream",
          "name": "stdout",
          "text": [
            "Using graph 'test_graph_New'\n",
            "Successfully created loading jobs: [load_job_transactions].\n"
          ]
        }
      ]
    },
    {
      "cell_type": "code",
      "source": [
        "results = conn.gsql('''\n",
        "USE GRAPH test_graph_New\n",
        "SHOW JOBS\n",
        "''')\n",
        "print(results)"
      ],
      "metadata": {
        "colab": {
          "base_uri": "https://localhost:8080/"
        },
        "id": "0Ncs0yMpg7I4",
        "outputId": "e47075e1-c928-4517-d717-42dc638e2770"
      },
      "execution_count": null,
      "outputs": [
        {
          "output_type": "stream",
          "name": "stdout",
          "text": [
            "Encountered \" <IDENTIFIER> \"JOBS \"\" at line 3, column 6.\n",
            "Was expecting one of:\n",
            "\"acl\" ...\n",
            "\"DATA_SOURCE\" ...\n",
            "\"edge\" ...\n",
            "\"graph\" ...\n",
            "\"group\" ...\n",
            "\"job\" ...\n",
            "\"loading\" ...\n",
            "\"package\" ...\n",
            "\"privilege\" ...\n",
            "\"query\" ...\n",
            "\"role\" ...\n",
            "\"secret\" ...\n",
            "\"tag\" ...\n",
            "\"template\" ...\n",
            "\"user\" ...\n",
            "\"vertex\" ...\n",
            "\n"
          ]
        }
      ]
    },
    {
      "cell_type": "code",
      "source": [
        "results = conn.gsql('''\n",
        "USE GRAPH test_graph_New\n",
        "''')\n",
        "print(results)"
      ],
      "metadata": {
        "colab": {
          "base_uri": "https://localhost:8080/"
        },
        "id": "o0mDklMLjwXL",
        "outputId": "148f5ab7-95e8-4578-9612-91f5be4d942a"
      },
      "execution_count": null,
      "outputs": [
        {
          "output_type": "stream",
          "name": "stdout",
          "text": [
            "Using graph 'test_graph_New'\n"
          ]
        }
      ]
    },
    {
      "cell_type": "code",
      "source": [
        "\n",
        "# ACCOUNTS DATAFRAME\n",
        "accounts['ACCOUNT_ID'] = accounts['ACCOUNT_ID'].astype(str)\n",
        "accounts.head()"
      ],
      "metadata": {
        "colab": {
          "base_uri": "https://localhost:8080/",
          "height": 206
        },
        "id": "oFAmp2nelMLt",
        "outputId": "cab60af1-b1df-4f96-8d72-175395d6d9e4"
      },
      "execution_count": null,
      "outputs": [
        {
          "output_type": "execute_result",
          "data": {
            "text/plain": [
              "  ACCOUNT_ID CUSTOMER_ID  INIT_BALANCE COUNTRY ACCOUNT_TYPE  IS_FRAUD  \\\n",
              "0          0         C_0        184.44      US            I     False   \n",
              "1          1         C_1        175.80      US            I     False   \n",
              "2          2         C_2        142.06      US            I     False   \n",
              "3          3         C_3        125.89      US            I     False   \n",
              "4          4         C_4        151.13      US            I     False   \n",
              "\n",
              "   TX_BEHAVIOR_ID  \n",
              "0               1  \n",
              "1               1  \n",
              "2               1  \n",
              "3               1  \n",
              "4               1  "
            ],
            "text/html": [
              "\n",
              "\n",
              "  <div id=\"df-8b89f79c-904a-4cf0-8f69-95759fb541da\">\n",
              "    <div class=\"colab-df-container\">\n",
              "      <div>\n",
              "<style scoped>\n",
              "    .dataframe tbody tr th:only-of-type {\n",
              "        vertical-align: middle;\n",
              "    }\n",
              "\n",
              "    .dataframe tbody tr th {\n",
              "        vertical-align: top;\n",
              "    }\n",
              "\n",
              "    .dataframe thead th {\n",
              "        text-align: right;\n",
              "    }\n",
              "</style>\n",
              "<table border=\"1\" class=\"dataframe\">\n",
              "  <thead>\n",
              "    <tr style=\"text-align: right;\">\n",
              "      <th></th>\n",
              "      <th>ACCOUNT_ID</th>\n",
              "      <th>CUSTOMER_ID</th>\n",
              "      <th>INIT_BALANCE</th>\n",
              "      <th>COUNTRY</th>\n",
              "      <th>ACCOUNT_TYPE</th>\n",
              "      <th>IS_FRAUD</th>\n",
              "      <th>TX_BEHAVIOR_ID</th>\n",
              "    </tr>\n",
              "  </thead>\n",
              "  <tbody>\n",
              "    <tr>\n",
              "      <th>0</th>\n",
              "      <td>0</td>\n",
              "      <td>C_0</td>\n",
              "      <td>184.44</td>\n",
              "      <td>US</td>\n",
              "      <td>I</td>\n",
              "      <td>False</td>\n",
              "      <td>1</td>\n",
              "    </tr>\n",
              "    <tr>\n",
              "      <th>1</th>\n",
              "      <td>1</td>\n",
              "      <td>C_1</td>\n",
              "      <td>175.80</td>\n",
              "      <td>US</td>\n",
              "      <td>I</td>\n",
              "      <td>False</td>\n",
              "      <td>1</td>\n",
              "    </tr>\n",
              "    <tr>\n",
              "      <th>2</th>\n",
              "      <td>2</td>\n",
              "      <td>C_2</td>\n",
              "      <td>142.06</td>\n",
              "      <td>US</td>\n",
              "      <td>I</td>\n",
              "      <td>False</td>\n",
              "      <td>1</td>\n",
              "    </tr>\n",
              "    <tr>\n",
              "      <th>3</th>\n",
              "      <td>3</td>\n",
              "      <td>C_3</td>\n",
              "      <td>125.89</td>\n",
              "      <td>US</td>\n",
              "      <td>I</td>\n",
              "      <td>False</td>\n",
              "      <td>1</td>\n",
              "    </tr>\n",
              "    <tr>\n",
              "      <th>4</th>\n",
              "      <td>4</td>\n",
              "      <td>C_4</td>\n",
              "      <td>151.13</td>\n",
              "      <td>US</td>\n",
              "      <td>I</td>\n",
              "      <td>False</td>\n",
              "      <td>1</td>\n",
              "    </tr>\n",
              "  </tbody>\n",
              "</table>\n",
              "</div>\n",
              "      <button class=\"colab-df-convert\" onclick=\"convertToInteractive('df-8b89f79c-904a-4cf0-8f69-95759fb541da')\"\n",
              "              title=\"Convert this dataframe to an interactive table.\"\n",
              "              style=\"display:none;\">\n",
              "\n",
              "  <svg xmlns=\"http://www.w3.org/2000/svg\" height=\"24px\"viewBox=\"0 0 24 24\"\n",
              "       width=\"24px\">\n",
              "    <path d=\"M0 0h24v24H0V0z\" fill=\"none\"/>\n",
              "    <path d=\"M18.56 5.44l.94 2.06.94-2.06 2.06-.94-2.06-.94-.94-2.06-.94 2.06-2.06.94zm-11 1L8.5 8.5l.94-2.06 2.06-.94-2.06-.94L8.5 2.5l-.94 2.06-2.06.94zm10 10l.94 2.06.94-2.06 2.06-.94-2.06-.94-.94-2.06-.94 2.06-2.06.94z\"/><path d=\"M17.41 7.96l-1.37-1.37c-.4-.4-.92-.59-1.43-.59-.52 0-1.04.2-1.43.59L10.3 9.45l-7.72 7.72c-.78.78-.78 2.05 0 2.83L4 21.41c.39.39.9.59 1.41.59.51 0 1.02-.2 1.41-.59l7.78-7.78 2.81-2.81c.8-.78.8-2.07 0-2.86zM5.41 20L4 18.59l7.72-7.72 1.47 1.35L5.41 20z\"/>\n",
              "  </svg>\n",
              "      </button>\n",
              "\n",
              "\n",
              "\n",
              "    <div id=\"df-928913ae-a317-4b50-a866-b5156314e98d\">\n",
              "      <button class=\"colab-df-quickchart\" onclick=\"quickchart('df-928913ae-a317-4b50-a866-b5156314e98d')\"\n",
              "              title=\"Suggest charts.\"\n",
              "              style=\"display:none;\">\n",
              "\n",
              "<svg xmlns=\"http://www.w3.org/2000/svg\" height=\"24px\"viewBox=\"0 0 24 24\"\n",
              "     width=\"24px\">\n",
              "    <g>\n",
              "        <path d=\"M19 3H5c-1.1 0-2 .9-2 2v14c0 1.1.9 2 2 2h14c1.1 0 2-.9 2-2V5c0-1.1-.9-2-2-2zM9 17H7v-7h2v7zm4 0h-2V7h2v10zm4 0h-2v-4h2v4z\"/>\n",
              "    </g>\n",
              "</svg>\n",
              "      </button>\n",
              "    </div>\n",
              "\n",
              "<style>\n",
              "  .colab-df-quickchart {\n",
              "    background-color: #E8F0FE;\n",
              "    border: none;\n",
              "    border-radius: 50%;\n",
              "    cursor: pointer;\n",
              "    display: none;\n",
              "    fill: #1967D2;\n",
              "    height: 32px;\n",
              "    padding: 0 0 0 0;\n",
              "    width: 32px;\n",
              "  }\n",
              "\n",
              "  .colab-df-quickchart:hover {\n",
              "    background-color: #E2EBFA;\n",
              "    box-shadow: 0px 1px 2px rgba(60, 64, 67, 0.3), 0px 1px 3px 1px rgba(60, 64, 67, 0.15);\n",
              "    fill: #174EA6;\n",
              "  }\n",
              "\n",
              "  [theme=dark] .colab-df-quickchart {\n",
              "    background-color: #3B4455;\n",
              "    fill: #D2E3FC;\n",
              "  }\n",
              "\n",
              "  [theme=dark] .colab-df-quickchart:hover {\n",
              "    background-color: #434B5C;\n",
              "    box-shadow: 0px 1px 3px 1px rgba(0, 0, 0, 0.15);\n",
              "    filter: drop-shadow(0px 1px 2px rgba(0, 0, 0, 0.3));\n",
              "    fill: #FFFFFF;\n",
              "  }\n",
              "</style>\n",
              "\n",
              "    <script>\n",
              "      async function quickchart(key) {\n",
              "        const containerElement = document.querySelector('#' + key);\n",
              "        const charts = await google.colab.kernel.invokeFunction(\n",
              "            'suggestCharts', [key], {});\n",
              "      }\n",
              "    </script>\n",
              "\n",
              "\n",
              "      <script>\n",
              "\n",
              "function displayQuickchartButton(domScope) {\n",
              "  let quickchartButtonEl =\n",
              "    domScope.querySelector('#df-928913ae-a317-4b50-a866-b5156314e98d button.colab-df-quickchart');\n",
              "  quickchartButtonEl.style.display =\n",
              "    google.colab.kernel.accessAllowed ? 'block' : 'none';\n",
              "}\n",
              "\n",
              "        displayQuickchartButton(document);\n",
              "      </script>\n",
              "      <style>\n",
              "    .colab-df-container {\n",
              "      display:flex;\n",
              "      flex-wrap:wrap;\n",
              "      gap: 12px;\n",
              "    }\n",
              "\n",
              "    .colab-df-convert {\n",
              "      background-color: #E8F0FE;\n",
              "      border: none;\n",
              "      border-radius: 50%;\n",
              "      cursor: pointer;\n",
              "      display: none;\n",
              "      fill: #1967D2;\n",
              "      height: 32px;\n",
              "      padding: 0 0 0 0;\n",
              "      width: 32px;\n",
              "    }\n",
              "\n",
              "    .colab-df-convert:hover {\n",
              "      background-color: #E2EBFA;\n",
              "      box-shadow: 0px 1px 2px rgba(60, 64, 67, 0.3), 0px 1px 3px 1px rgba(60, 64, 67, 0.15);\n",
              "      fill: #174EA6;\n",
              "    }\n",
              "\n",
              "    [theme=dark] .colab-df-convert {\n",
              "      background-color: #3B4455;\n",
              "      fill: #D2E3FC;\n",
              "    }\n",
              "\n",
              "    [theme=dark] .colab-df-convert:hover {\n",
              "      background-color: #434B5C;\n",
              "      box-shadow: 0px 1px 3px 1px rgba(0, 0, 0, 0.15);\n",
              "      filter: drop-shadow(0px 1px 2px rgba(0, 0, 0, 0.3));\n",
              "      fill: #FFFFFF;\n",
              "    }\n",
              "  </style>\n",
              "\n",
              "      <script>\n",
              "        const buttonEl =\n",
              "          document.querySelector('#df-8b89f79c-904a-4cf0-8f69-95759fb541da button.colab-df-convert');\n",
              "        buttonEl.style.display =\n",
              "          google.colab.kernel.accessAllowed ? 'block' : 'none';\n",
              "\n",
              "        async function convertToInteractive(key) {\n",
              "          const element = document.querySelector('#df-8b89f79c-904a-4cf0-8f69-95759fb541da');\n",
              "          const dataTable =\n",
              "            await google.colab.kernel.invokeFunction('convertToInteractive',\n",
              "                                                     [key], {});\n",
              "          if (!dataTable) return;\n",
              "\n",
              "          const docLinkHtml = 'Like what you see? Visit the ' +\n",
              "            '<a target=\"_blank\" href=https://colab.research.google.com/notebooks/data_table.ipynb>data table notebook</a>'\n",
              "            + ' to learn more about interactive tables.';\n",
              "          element.innerHTML = '';\n",
              "          dataTable['output_type'] = 'display_data';\n",
              "          await google.colab.output.renderOutput(dataTable, element);\n",
              "          const docLink = document.createElement('div');\n",
              "          docLink.innerHTML = docLinkHtml;\n",
              "          element.appendChild(docLink);\n",
              "        }\n",
              "      </script>\n",
              "    </div>\n",
              "  </div>\n"
            ]
          },
          "metadata": {},
          "execution_count": 71
        }
      ]
    },
    {
      "cell_type": "code",
      "source": [
        "# ALERTS DATAFRAME\n",
        "alerts['alert_id'] = alerts['alert_id'].astype(str)\n",
        "alerts['orig_acct'] = alerts['orig_acct'].astype(str)\n",
        "alerts['bene_acct'] = alerts['bene_acct'].astype(str)\n",
        "alerts.head()\n",
        "alerts.head()"
      ],
      "metadata": {
        "id": "qx2W0X3AlQ3N"
      },
      "execution_count": null,
      "outputs": []
    },
    {
      "cell_type": "code",
      "source": [
        "%%time\n",
        "split = conn.gds.vertexSplitter(is_training=0.8, is_validation=0.2)\n",
        "split.run()"
      ],
      "metadata": {
        "id": "GAvIWka3eFx9"
      },
      "execution_count": null,
      "outputs": []
    },
    {
      "cell_type": "code",
      "source": [
        "feat = conn.gds.featurizer()\n",
        "feat.installAlgorithm(\"tg_pagerank\")\n",
        "tg_pagerank_params = {\n",
        "  \"v_type\": \"Account\",\n",
        "  \"e_type\": \"Transaction\",\n",
        "  #\"result_attr\": \"pagerank\",\n",
        "  \"top_k\":5\n",
        "}\n",
        "results = pd.json_normalize(feat.runAlgorithm(\"tg_pagerank\",tg_pagerank_params)[0]['@@top_scores_heap'])\n",
        "results"
      ],
      "metadata": {
        "colab": {
          "base_uri": "https://localhost:8080/",
          "height": 206
        },
        "id": "mFlG8lcBZKeM",
        "outputId": "1800a103-8ca2-474c-b586-c0ca472eb614"
      },
      "execution_count": null,
      "outputs": [
        {
          "output_type": "execute_result",
          "data": {
            "text/plain": [
              "  Vertex_ID  score\n",
              "0      9786      1\n",
              "1      9976      1\n",
              "2      9745      1\n",
              "3      9858      1\n",
              "4      9986      1"
            ],
            "text/html": [
              "\n",
              "\n",
              "  <div id=\"df-ec213e10-ab7a-489f-9c49-37995898d7df\">\n",
              "    <div class=\"colab-df-container\">\n",
              "      <div>\n",
              "<style scoped>\n",
              "    .dataframe tbody tr th:only-of-type {\n",
              "        vertical-align: middle;\n",
              "    }\n",
              "\n",
              "    .dataframe tbody tr th {\n",
              "        vertical-align: top;\n",
              "    }\n",
              "\n",
              "    .dataframe thead th {\n",
              "        text-align: right;\n",
              "    }\n",
              "</style>\n",
              "<table border=\"1\" class=\"dataframe\">\n",
              "  <thead>\n",
              "    <tr style=\"text-align: right;\">\n",
              "      <th></th>\n",
              "      <th>Vertex_ID</th>\n",
              "      <th>score</th>\n",
              "    </tr>\n",
              "  </thead>\n",
              "  <tbody>\n",
              "    <tr>\n",
              "      <th>0</th>\n",
              "      <td>9786</td>\n",
              "      <td>1</td>\n",
              "    </tr>\n",
              "    <tr>\n",
              "      <th>1</th>\n",
              "      <td>9976</td>\n",
              "      <td>1</td>\n",
              "    </tr>\n",
              "    <tr>\n",
              "      <th>2</th>\n",
              "      <td>9745</td>\n",
              "      <td>1</td>\n",
              "    </tr>\n",
              "    <tr>\n",
              "      <th>3</th>\n",
              "      <td>9858</td>\n",
              "      <td>1</td>\n",
              "    </tr>\n",
              "    <tr>\n",
              "      <th>4</th>\n",
              "      <td>9986</td>\n",
              "      <td>1</td>\n",
              "    </tr>\n",
              "  </tbody>\n",
              "</table>\n",
              "</div>\n",
              "      <button class=\"colab-df-convert\" onclick=\"convertToInteractive('df-ec213e10-ab7a-489f-9c49-37995898d7df')\"\n",
              "              title=\"Convert this dataframe to an interactive table.\"\n",
              "              style=\"display:none;\">\n",
              "\n",
              "  <svg xmlns=\"http://www.w3.org/2000/svg\" height=\"24px\"viewBox=\"0 0 24 24\"\n",
              "       width=\"24px\">\n",
              "    <path d=\"M0 0h24v24H0V0z\" fill=\"none\"/>\n",
              "    <path d=\"M18.56 5.44l.94 2.06.94-2.06 2.06-.94-2.06-.94-.94-2.06-.94 2.06-2.06.94zm-11 1L8.5 8.5l.94-2.06 2.06-.94-2.06-.94L8.5 2.5l-.94 2.06-2.06.94zm10 10l.94 2.06.94-2.06 2.06-.94-2.06-.94-.94-2.06-.94 2.06-2.06.94z\"/><path d=\"M17.41 7.96l-1.37-1.37c-.4-.4-.92-.59-1.43-.59-.52 0-1.04.2-1.43.59L10.3 9.45l-7.72 7.72c-.78.78-.78 2.05 0 2.83L4 21.41c.39.39.9.59 1.41.59.51 0 1.02-.2 1.41-.59l7.78-7.78 2.81-2.81c.8-.78.8-2.07 0-2.86zM5.41 20L4 18.59l7.72-7.72 1.47 1.35L5.41 20z\"/>\n",
              "  </svg>\n",
              "      </button>\n",
              "\n",
              "\n",
              "\n",
              "    <div id=\"df-aca1d9da-f173-469c-8345-c8dca1216bff\">\n",
              "      <button class=\"colab-df-quickchart\" onclick=\"quickchart('df-aca1d9da-f173-469c-8345-c8dca1216bff')\"\n",
              "              title=\"Suggest charts.\"\n",
              "              style=\"display:none;\">\n",
              "\n",
              "<svg xmlns=\"http://www.w3.org/2000/svg\" height=\"24px\"viewBox=\"0 0 24 24\"\n",
              "     width=\"24px\">\n",
              "    <g>\n",
              "        <path d=\"M19 3H5c-1.1 0-2 .9-2 2v14c0 1.1.9 2 2 2h14c1.1 0 2-.9 2-2V5c0-1.1-.9-2-2-2zM9 17H7v-7h2v7zm4 0h-2V7h2v10zm4 0h-2v-4h2v4z\"/>\n",
              "    </g>\n",
              "</svg>\n",
              "      </button>\n",
              "    </div>\n",
              "\n",
              "<style>\n",
              "  .colab-df-quickchart {\n",
              "    background-color: #E8F0FE;\n",
              "    border: none;\n",
              "    border-radius: 50%;\n",
              "    cursor: pointer;\n",
              "    display: none;\n",
              "    fill: #1967D2;\n",
              "    height: 32px;\n",
              "    padding: 0 0 0 0;\n",
              "    width: 32px;\n",
              "  }\n",
              "\n",
              "  .colab-df-quickchart:hover {\n",
              "    background-color: #E2EBFA;\n",
              "    box-shadow: 0px 1px 2px rgba(60, 64, 67, 0.3), 0px 1px 3px 1px rgba(60, 64, 67, 0.15);\n",
              "    fill: #174EA6;\n",
              "  }\n",
              "\n",
              "  [theme=dark] .colab-df-quickchart {\n",
              "    background-color: #3B4455;\n",
              "    fill: #D2E3FC;\n",
              "  }\n",
              "\n",
              "  [theme=dark] .colab-df-quickchart:hover {\n",
              "    background-color: #434B5C;\n",
              "    box-shadow: 0px 1px 3px 1px rgba(0, 0, 0, 0.15);\n",
              "    filter: drop-shadow(0px 1px 2px rgba(0, 0, 0, 0.3));\n",
              "    fill: #FFFFFF;\n",
              "  }\n",
              "</style>\n",
              "\n",
              "    <script>\n",
              "      async function quickchart(key) {\n",
              "        const containerElement = document.querySelector('#' + key);\n",
              "        const charts = await google.colab.kernel.invokeFunction(\n",
              "            'suggestCharts', [key], {});\n",
              "      }\n",
              "    </script>\n",
              "\n",
              "\n",
              "      <script>\n",
              "\n",
              "function displayQuickchartButton(domScope) {\n",
              "  let quickchartButtonEl =\n",
              "    domScope.querySelector('#df-aca1d9da-f173-469c-8345-c8dca1216bff button.colab-df-quickchart');\n",
              "  quickchartButtonEl.style.display =\n",
              "    google.colab.kernel.accessAllowed ? 'block' : 'none';\n",
              "}\n",
              "\n",
              "        displayQuickchartButton(document);\n",
              "      </script>\n",
              "      <style>\n",
              "    .colab-df-container {\n",
              "      display:flex;\n",
              "      flex-wrap:wrap;\n",
              "      gap: 12px;\n",
              "    }\n",
              "\n",
              "    .colab-df-convert {\n",
              "      background-color: #E8F0FE;\n",
              "      border: none;\n",
              "      border-radius: 50%;\n",
              "      cursor: pointer;\n",
              "      display: none;\n",
              "      fill: #1967D2;\n",
              "      height: 32px;\n",
              "      padding: 0 0 0 0;\n",
              "      width: 32px;\n",
              "    }\n",
              "\n",
              "    .colab-df-convert:hover {\n",
              "      background-color: #E2EBFA;\n",
              "      box-shadow: 0px 1px 2px rgba(60, 64, 67, 0.3), 0px 1px 3px 1px rgba(60, 64, 67, 0.15);\n",
              "      fill: #174EA6;\n",
              "    }\n",
              "\n",
              "    [theme=dark] .colab-df-convert {\n",
              "      background-color: #3B4455;\n",
              "      fill: #D2E3FC;\n",
              "    }\n",
              "\n",
              "    [theme=dark] .colab-df-convert:hover {\n",
              "      background-color: #434B5C;\n",
              "      box-shadow: 0px 1px 3px 1px rgba(0, 0, 0, 0.15);\n",
              "      filter: drop-shadow(0px 1px 2px rgba(0, 0, 0, 0.3));\n",
              "      fill: #FFFFFF;\n",
              "    }\n",
              "  </style>\n",
              "\n",
              "      <script>\n",
              "        const buttonEl =\n",
              "          document.querySelector('#df-ec213e10-ab7a-489f-9c49-37995898d7df button.colab-df-convert');\n",
              "        buttonEl.style.display =\n",
              "          google.colab.kernel.accessAllowed ? 'block' : 'none';\n",
              "\n",
              "        async function convertToInteractive(key) {\n",
              "          const element = document.querySelector('#df-ec213e10-ab7a-489f-9c49-37995898d7df');\n",
              "          const dataTable =\n",
              "            await google.colab.kernel.invokeFunction('convertToInteractive',\n",
              "                                                     [key], {});\n",
              "          if (!dataTable) return;\n",
              "\n",
              "          const docLinkHtml = 'Like what you see? Visit the ' +\n",
              "            '<a target=\"_blank\" href=https://colab.research.google.com/notebooks/data_table.ipynb>data table notebook</a>'\n",
              "            + ' to learn more about interactive tables.';\n",
              "          element.innerHTML = '';\n",
              "          dataTable['output_type'] = 'display_data';\n",
              "          await google.colab.output.renderOutput(dataTable, element);\n",
              "          const docLink = document.createElement('div');\n",
              "          docLink.innerHTML = docLinkHtml;\n",
              "          element.appendChild(docLink);\n",
              "        }\n",
              "      </script>\n",
              "    </div>\n",
              "  </div>\n"
            ]
          },
          "metadata": {},
          "execution_count": 88
        }
      ]
    },
    {
      "cell_type": "code",
      "source": [
        "train_loader = conn.gds.neighborLoader(\n",
        "    v_in_feats=[\"in_degree\",\"out_degree\",\"send_amount\",\"send_min\",\"recv_amount\",\"recv_min\",\"pagerank\"],\n",
        "    v_out_labels=[\"is_fraud\"],\n",
        "    v_extra_feats=[\"is_training\"],\n",
        "    output_format=\"PyG\",\n",
        "    batch_size=hp[\"batch_size\"],\n",
        "    num_neighbors=hp[\"num_neighbors\"],\n",
        "    num_hops=hp[\"num_hops\"],\n",
        "    filter_by = \"is_training\",\n",
        "    shuffle=True,\n",
        "    timeout=600000\n",
        ")"
      ],
      "metadata": {
        "colab": {
          "base_uri": "https://localhost:8080/",
          "height": 435
        },
        "id": "CQ2q7BBmhWYZ",
        "outputId": "75af72ea-0a04-4a4d-9a01-ced05047f140"
      },
      "execution_count": null,
      "outputs": [
        {
          "output_type": "error",
          "ename": "TigerGraphException",
          "evalue": "ignored",
          "traceback": [
            "\u001b[0;31m---------------------------------------------------------------------------\u001b[0m",
            "\u001b[0;31mTigerGraphException\u001b[0m                       Traceback (most recent call last)",
            "\u001b[0;32m<ipython-input-109-96cfcbb76ab2>\u001b[0m in \u001b[0;36m<cell line: 1>\u001b[0;34m()\u001b[0m\n\u001b[0;32m----> 1\u001b[0;31m train_loader = conn.gds.neighborLoader(\n\u001b[0m\u001b[1;32m      2\u001b[0m     \u001b[0mv_in_feats\u001b[0m\u001b[0;34m=\u001b[0m\u001b[0;34m[\u001b[0m\u001b[0;34m\"in_degree\"\u001b[0m\u001b[0;34m,\u001b[0m\u001b[0;34m\"out_degree\"\u001b[0m\u001b[0;34m,\u001b[0m\u001b[0;34m\"send_amount\"\u001b[0m\u001b[0;34m,\u001b[0m\u001b[0;34m\"send_min\"\u001b[0m\u001b[0;34m,\u001b[0m\u001b[0;34m\"recv_amount\"\u001b[0m\u001b[0;34m,\u001b[0m\u001b[0;34m\"recv_min\"\u001b[0m\u001b[0;34m,\u001b[0m\u001b[0;34m\"pagerank\"\u001b[0m\u001b[0;34m]\u001b[0m\u001b[0;34m,\u001b[0m\u001b[0;34m\u001b[0m\u001b[0;34m\u001b[0m\u001b[0m\n\u001b[1;32m      3\u001b[0m     \u001b[0mv_out_labels\u001b[0m\u001b[0;34m=\u001b[0m\u001b[0;34m[\u001b[0m\u001b[0;34m\"is_fraud\"\u001b[0m\u001b[0;34m]\u001b[0m\u001b[0;34m,\u001b[0m\u001b[0;34m\u001b[0m\u001b[0;34m\u001b[0m\u001b[0m\n\u001b[1;32m      4\u001b[0m     \u001b[0mv_extra_feats\u001b[0m\u001b[0;34m=\u001b[0m\u001b[0;34m[\u001b[0m\u001b[0;34m\"is_training\"\u001b[0m\u001b[0;34m]\u001b[0m\u001b[0;34m,\u001b[0m\u001b[0;34m\u001b[0m\u001b[0;34m\u001b[0m\u001b[0m\n\u001b[1;32m      5\u001b[0m     \u001b[0moutput_format\u001b[0m\u001b[0;34m=\u001b[0m\u001b[0;34m\"PyG\"\u001b[0m\u001b[0;34m,\u001b[0m\u001b[0;34m\u001b[0m\u001b[0;34m\u001b[0m\u001b[0m\n",
            "\u001b[0;32m/usr/local/lib/python3.10/dist-packages/pyTigerGraph/gds/gds.py\u001b[0m in \u001b[0;36mneighborLoader\u001b[0;34m(self, v_in_feats, v_out_labels, v_extra_feats, e_in_feats, e_out_labels, e_extra_feats, batch_size, num_batches, num_neighbors, num_hops, shuffle, filter_by, output_format, add_self_loop, loader_id, buffer_size, reverse_edge, delimiter, timeout, callback_fn, reinstall_query, distributed_query)\u001b[0m\n\u001b[1;32m    410\u001b[0m             \u001b[0;32mif\u001b[0m \u001b[0mself\u001b[0m\u001b[0;34m.\u001b[0m\u001b[0mkafkaConfig\u001b[0m\u001b[0;34m:\u001b[0m\u001b[0;34m\u001b[0m\u001b[0;34m\u001b[0m\u001b[0m\n\u001b[1;32m    411\u001b[0m                 \u001b[0mparams\u001b[0m\u001b[0;34m.\u001b[0m\u001b[0mupdate\u001b[0m\u001b[0;34m(\u001b[0m\u001b[0mself\u001b[0m\u001b[0;34m.\u001b[0m\u001b[0mkafkaConfig\u001b[0m\u001b[0;34m)\u001b[0m\u001b[0;34m\u001b[0m\u001b[0;34m\u001b[0m\u001b[0m\n\u001b[0;32m--> 412\u001b[0;31m             \u001b[0mloader\u001b[0m \u001b[0;34m=\u001b[0m \u001b[0mNeighborLoader\u001b[0m\u001b[0;34m(\u001b[0m\u001b[0;34m**\u001b[0m\u001b[0mparams\u001b[0m\u001b[0;34m)\u001b[0m\u001b[0;34m\u001b[0m\u001b[0;34m\u001b[0m\u001b[0m\n\u001b[0m\u001b[1;32m    413\u001b[0m             \u001b[0;32mif\u001b[0m \u001b[0mreinstall_query\u001b[0m\u001b[0;34m:\u001b[0m\u001b[0;34m\u001b[0m\u001b[0;34m\u001b[0m\u001b[0m\n\u001b[1;32m    414\u001b[0m                 \u001b[0mloader\u001b[0m\u001b[0;34m.\u001b[0m\u001b[0mreinstall_query\u001b[0m\u001b[0;34m(\u001b[0m\u001b[0;34m)\u001b[0m\u001b[0;34m\u001b[0m\u001b[0;34m\u001b[0m\u001b[0m\n",
            "\u001b[0;32m/usr/local/lib/python3.10/dist-packages/pyTigerGraph/gds/dataloaders.py\u001b[0m in \u001b[0;36m__init__\u001b[0;34m(self, graph, v_in_feats, v_out_labels, v_extra_feats, e_in_feats, e_out_labels, e_extra_feats, batch_size, num_batches, num_neighbors, num_hops, shuffle, filter_by, output_format, add_self_loop, loader_id, buffer_size, reverse_edge, delimiter, timeout, distributed_query, kafka_address, kafka_max_msg_size, kafka_num_partitions, kafka_replica_factor, kafka_retention_ms, kafka_auto_del_topic, kafka_address_consumer, kafka_address_producer, kafka_security_protocol, kafka_sasl_mechanism, kafka_sasl_plain_username, kafka_sasl_plain_password, kafka_sasl_kerberos_service_name, kafka_sasl_kerberos_keytab, kafka_sasl_kerberos_principal, kafka_sasl_kerberos_domain_name, kafka_ssl_check_hostname, kafka_producer_ca_location, kafka_producer_certificate_location, kafka_producer_key_location, kafka_producer_key_password, kafka_consumer_ca_location, kafka_consumer_certificate_location, kafka_consumer_key_location, kafka_consumer_key_password, kafka_skip_produce, kafka_auto_offset_reset, kafka_del_topic_per_epoch, kafka_add_topic_per_epoch, callback_fn, kafka_group_id, kafka_topic)\u001b[0m\n\u001b[1;32m   1531\u001b[0m         \u001b[0;34m\"\"\"NO DOC\"\"\"\u001b[0m\u001b[0;34m\u001b[0m\u001b[0;34m\u001b[0m\u001b[0m\n\u001b[1;32m   1532\u001b[0m \u001b[0;34m\u001b[0m\u001b[0m\n\u001b[0;32m-> 1533\u001b[0;31m         super().__init__(\n\u001b[0m\u001b[1;32m   1534\u001b[0m             \u001b[0mgraph\u001b[0m\u001b[0;34m,\u001b[0m\u001b[0;34m\u001b[0m\u001b[0;34m\u001b[0m\u001b[0m\n\u001b[1;32m   1535\u001b[0m             \u001b[0mloader_id\u001b[0m\u001b[0;34m,\u001b[0m\u001b[0;34m\u001b[0m\u001b[0;34m\u001b[0m\u001b[0m\n",
            "\u001b[0;32m/usr/local/lib/python3.10/dist-packages/pyTigerGraph/gds/dataloaders.py\u001b[0m in \u001b[0;36m__init__\u001b[0;34m(self, graph, loader_id, num_batches, buffer_size, output_format, reverse_edge, delimiter, timeout, distributed_query, kafka_address, Kafka_max_msg_size, kafka_num_partitions, kafka_replica_factor, kafka_retention_ms, kafka_auto_del_topic, kafka_consumer_address, kafka_producer_address, kafka_security_protocol, kafka_sasl_mechanism, kafka_sasl_plain_username, kafka_sasl_plain_password, kafka_sasl_kerberos_service_name, kafka_sasl_kerberos_keytab, kafka_sasl_kerberos_principal, kafka_sasl_kerberos_domain_name, kafka_ssl_check_hostname, kafka_producer_ca_location, kafka_producer_certificate_location, kafka_producer_key_location, kafka_producer_key_password, kafka_consumer_ca_location, kafka_consumer_certificate_location, kafka_consumer_key_location, kafka_consumer_key_password, kafka_skip_produce, kafka_auto_offset_reset, kafka_del_topic_per_epoch, kafka_add_topic_per_epoch, callback_fn, kafka_group_id, kafka_topic)\u001b[0m\n\u001b[1;32m    338\u001b[0m             \u001b[0;31m# kafka_topic will be filled in later.\u001b[0m\u001b[0;34m\u001b[0m\u001b[0;34m\u001b[0m\u001b[0m\n\u001b[1;32m    339\u001b[0m         \u001b[0;31m# Check ml workbench compatibility\u001b[0m\u001b[0;34m\u001b[0m\u001b[0;34m\u001b[0m\u001b[0m\n\u001b[0;32m--> 340\u001b[0;31m         \u001b[0mself\u001b[0m\u001b[0;34m.\u001b[0m\u001b[0m_validate_mlwb_version\u001b[0m\u001b[0;34m(\u001b[0m\u001b[0;34m)\u001b[0m\u001b[0;34m\u001b[0m\u001b[0;34m\u001b[0m\u001b[0m\n\u001b[0m\u001b[1;32m    341\u001b[0m         \u001b[0;31m# Implement `_install_query()` that installs your query\u001b[0m\u001b[0;34m\u001b[0m\u001b[0;34m\u001b[0m\u001b[0m\n\u001b[1;32m    342\u001b[0m         \u001b[0;31m# self._install_query()\u001b[0m\u001b[0;34m\u001b[0m\u001b[0;34m\u001b[0m\u001b[0m\n",
            "\u001b[0;32m/usr/local/lib/python3.10/dist-packages/pyTigerGraph/gds/dataloaders.py\u001b[0m in \u001b[0;36m_validate_mlwb_version\u001b[0;34m(self)\u001b[0m\n\u001b[1;32m    458\u001b[0m         \u001b[0mmlwb\u001b[0m \u001b[0;34m=\u001b[0m \u001b[0mself\u001b[0m\u001b[0;34m.\u001b[0m\u001b[0m_graph\u001b[0m\u001b[0;34m.\u001b[0m\u001b[0mgetUDF\u001b[0m\u001b[0;34m(\u001b[0m\u001b[0;34m)\u001b[0m\u001b[0;34m\u001b[0m\u001b[0;34m\u001b[0m\u001b[0m\n\u001b[1;32m    459\u001b[0m         \u001b[0;32mif\u001b[0m \u001b[0;34m(\u001b[0m\u001b[0;34m\"init_kafka_producer\"\u001b[0m \u001b[0;32mnot\u001b[0m \u001b[0;32min\u001b[0m \u001b[0mmlwb\u001b[0m\u001b[0;34m[\u001b[0m\u001b[0;36m0\u001b[0m\u001b[0;34m]\u001b[0m\u001b[0;34m)\u001b[0m \u001b[0;32mor\u001b[0m \u001b[0;34m(\u001b[0m\u001b[0;34m\"class KafkaProducer\"\u001b[0m \u001b[0;32mnot\u001b[0m \u001b[0;32min\u001b[0m \u001b[0mmlwb\u001b[0m\u001b[0;34m[\u001b[0m\u001b[0;36m1\u001b[0m\u001b[0;34m]\u001b[0m\u001b[0;34m)\u001b[0m\u001b[0;34m:\u001b[0m\u001b[0;34m\u001b[0m\u001b[0;34m\u001b[0m\u001b[0m\n\u001b[0;32m--> 460\u001b[0;31m             \u001b[0;32mraise\u001b[0m \u001b[0mTigerGraphException\u001b[0m\u001b[0;34m(\u001b[0m\u001b[0;34m\"ML Workbench version incompatible. Please reactivate database with the activator whose version matches your pyTigerGraph's. See https://act.tigergraphlabs.com for details.\"\u001b[0m\u001b[0;34m)\u001b[0m\u001b[0;34m\u001b[0m\u001b[0;34m\u001b[0m\u001b[0m\n\u001b[0m\u001b[1;32m    461\u001b[0m \u001b[0;34m\u001b[0m\u001b[0m\n\u001b[1;32m    462\u001b[0m     \u001b[0;32mdef\u001b[0m \u001b[0m_install_query\u001b[0m\u001b[0;34m(\u001b[0m\u001b[0mself\u001b[0m\u001b[0;34m)\u001b[0m \u001b[0;34m->\u001b[0m \u001b[0mNoReturn\u001b[0m\u001b[0;34m:\u001b[0m\u001b[0;34m\u001b[0m\u001b[0;34m\u001b[0m\u001b[0m\n",
            "\u001b[0;31mTigerGraphException\u001b[0m: ML Workbench version incompatible. Please reactivate database with the activator whose version matches your pyTigerGraph's. See https://act.tigergraphlabs.com for details."
          ]
        }
      ]
    },
    {
      "cell_type": "code",
      "source": [
        "global_steps = 0\n",
        "logs = {}\n",
        "for epoch in range(10):\n",
        "    # Train\n",
        "    print(\"Start Training epoch:\", epoch)\n",
        "    model.train()\n",
        "    epoch_train_loss = Accumulator()\n",
        "\n",
        "    epoch_train_auc = []\n",
        "    epoch_train_prec = []\n",
        "    epoch_train_rec = []\n",
        "    epoch_train_apr = []\n",
        "    epoch_best_thr = []\n",
        "\n",
        "    # Iterate through the loader to get a stream of subgraphs instead of the whole graph\n",
        "    for bid, batch in enumerate(train_loader):\n",
        "        # print(bid, batch)\n",
        "        if (batch.y.sum()==0):\n",
        "            continue\n",
        "        batchsize = batch.x.shape[0]\n",
        "        norm = T.NormalizeFeatures()\n",
        "        batch = norm(batch).to(device)\n",
        "        batch.x = batch.x.type(torch.FloatTensor)\n",
        "        batch.y = batch.y.type(torch.LongTensor)\n",
        "\n",
        "        # Forward pass\n",
        "        out = model(batch.x, batch.edge_index, batch.edge_weight)\n",
        "        # Calculate loss\n",
        "        class_weight = torch.FloatTensor([1.0, 15.0])\n",
        "        loss = F.cross_entropy(out[batch.is_training], batch.y[batch.is_training], class_weight)\n",
        "        # f1_loss(batch.y[batch.is_training], out[batch.is_training], is_training=True)\n",
        "        # Backward pass\n",
        "        optimizer.zero_grad()\n",
        "        loss.backward()\n",
        "        optimizer.step()\n",
        "        epoch_train_loss.update(loss.item() * batchsize, batchsize)\n",
        "        # Predict on training data\n",
        "        with torch.no_grad():\n",
        "            pred = out.argmax(dim=1)\n",
        "            y_pred = out[batch.is_training][:,1].cpu().numpy()\n",
        "            y_true = batch.y[batch.is_training].cpu().numpy()\n",
        "            # softmax = F.softmax(out, dim=1)[batch.is_training][:,1].cpu().numpy()\n",
        "            best_threshold = threshold_search(y_true, y_pred)\n",
        "            y_pred1 = (y_pred > best_threshold).astype(int)\n",
        "\n",
        "            epoch_train_auc.append(roc_auc_score(y_true, y_pred))\n",
        "            epoch_train_prec.append(precision_score(y_true, y_pred1))\n",
        "            epoch_train_rec.append(recall_score(y_true, y_pred1))\n",
        "            epoch_train_apr.append(average_precision_score(y_true, y_pred))\n",
        "            epoch_best_thr.append(best_threshold)\n",
        "\n",
        "        # Log training status after each batch\n",
        "        logs[\"loss\"] = epoch_train_loss.mean\n",
        "        logs[\"auc\"] = np.mean(epoch_train_auc)\n",
        "        logs[\"prec\"] = np.mean(epoch_train_prec)\n",
        "        logs[\"rec\"] = np.mean(epoch_train_rec)\n",
        "        logs[\"apr\"] = np.mean(epoch_train_apr)\n",
        "        logs[\"thr\"] = np.mean(epoch_best_thr)\n",
        "\n",
        "        print(\n",
        "            \"Epoch {}, Train Batch {}, Loss {:.4f}, AUC {:.4f}, AUCPR {:.4f}, Precision {:.4f}, Recall {:.4f}\".format(\n",
        "                epoch, bid, logs[\"loss\"], logs[\"auc\"], logs[\"apr\"], logs[\"prec\"], logs[\"rec\"]\n",
        "            )\n",
        "        )\n",
        "        train_log.add_scalar(\"Loss\", logs[\"loss\"], global_steps)\n",
        "        train_log.add_scalar(\"AUC\", logs[\"auc\"], global_steps)\n",
        "        train_log.add_scalar(\"AUCPR\", logs[\"apr\"], global_steps)\n",
        "        train_log.flush()\n",
        "        global_steps += 1\n",
        "    # Evaluate\n",
        "    print(\"Start validation epoch:\", epoch)\n",
        "    model.eval()\n",
        "    epoch_val_loss = Accumulator()\n",
        "    epoch_val_prec = []\n",
        "    epoch_val_rec = []\n",
        "    epoch_val_auc = []\n",
        "    epoch_val_apr = []\n",
        "\n",
        "    for batch in valid_loader:\n",
        "        batchsize = batch.x.shape[0]\n",
        "        norm = T.NormalizeFeatures()\n",
        "        batch = norm(batch).to(device)\n",
        "        with torch.no_grad():\n",
        "            # Forward pass\n",
        "            batch.x = batch.x.type(torch.FloatTensor)\n",
        "            batch.y = batch.y.type(torch.LongTensor)\n",
        "            out = model(batch.x, batch.edge_index)\n",
        "            # Calculate loss\n",
        "            class_weight = torch.FloatTensor([1.0, 20.0])\n",
        "            valid_loss = F.cross_entropy(out[batch.is_validation], batch.y[batch.is_validation], class_weight)\n",
        "            # f1_loss(batch.y[batch.is_validation], out[batch.is_validation])\n",
        "            epoch_val_loss.update(valid_loss.item() * batchsize, batchsize)\n",
        "            # Prediction\n",
        "            pred = out.argmax(dim=1)\n",
        "            y_pred = out[batch.is_validation][:,1].cpu().numpy()\n",
        "            y_true = batch.y[batch.is_validation].cpu().numpy()\n",
        "            # softmax = F.softmax(out, dim=1)[batch.is_validation][:,1].cpu().numpy()\n",
        "            y_pred1 = (y_pred > np.mean(epoch_best_thr)).astype(int)\n",
        "\n",
        "            epoch_val_auc.append(roc_auc_score(y_true, y_pred))\n",
        "            epoch_val_prec.append(precision_score(y_true, y_pred1))\n",
        "            epoch_val_rec.append(recall_score(y_true, y_pred1))\n",
        "            epoch_val_apr.append(average_precision_score(y_true, y_pred))\n",
        "\n",
        "    # Log testing result after each epoch\n",
        "    logs[\"val_loss\"] = epoch_val_loss.mean\n",
        "    logs[\"val_prec\"] = np.mean(epoch_val_prec)\n",
        "    logs[\"val_auc\"] = np.mean(epoch_val_auc)\n",
        "    logs[\"val_rec\"] = np.mean(epoch_val_rec)\n",
        "    logs[\"val_apr\"] = np.mean(epoch_val_apr)\n",
        "    print(\n",
        "        \"Epoch {}, Valid Loss {:.4f}, Valid AUC {:.4f}, Valid AUCPR {:.4f}, Valid Precision {:.4f}, Valid Recall {:.4f}\".format(\n",
        "            epoch, logs[\"val_loss\"], logs[\"val_auc\"], logs[\"val_apr\"], logs[\"val_prec\"], logs[\"val_rec\"]\n",
        "        )\n",
        "    )\n",
        "    valid_log.add_scalar(\"Loss\", logs[\"val_loss\"], global_steps)\n",
        "    valid_log.add_scalar(\"AUC\", logs[\"val_auc\"], global_steps)\n",
        "    valid_log.add_scalar(\"AUCPR\", logs[\"val_apr\"], global_steps)\n",
        "    valid_log.flush()"
      ],
      "metadata": {
        "colab": {
          "base_uri": "https://localhost:8080/",
          "height": 268
        },
        "id": "NjmJ2kNefTjt",
        "outputId": "c0171ac1-7778-40e1-c2f4-d61fd8ba9a67"
      },
      "execution_count": null,
      "outputs": [
        {
          "output_type": "stream",
          "name": "stdout",
          "text": [
            "Start Training epoch: 0\n"
          ]
        },
        {
          "output_type": "error",
          "ename": "NameError",
          "evalue": "ignored",
          "traceback": [
            "\u001b[0;31m---------------------------------------------------------------------------\u001b[0m",
            "\u001b[0;31mNameError\u001b[0m                                 Traceback (most recent call last)",
            "\u001b[0;32m<ipython-input-108-396b1cbb2638>\u001b[0m in \u001b[0;36m<cell line: 3>\u001b[0;34m()\u001b[0m\n\u001b[1;32m     14\u001b[0m \u001b[0;34m\u001b[0m\u001b[0m\n\u001b[1;32m     15\u001b[0m     \u001b[0;31m# Iterate through the loader to get a stream of subgraphs instead of the whole graph\u001b[0m\u001b[0;34m\u001b[0m\u001b[0;34m\u001b[0m\u001b[0m\n\u001b[0;32m---> 16\u001b[0;31m     \u001b[0;32mfor\u001b[0m \u001b[0mbid\u001b[0m\u001b[0;34m,\u001b[0m \u001b[0mbatch\u001b[0m \u001b[0;32min\u001b[0m \u001b[0menumerate\u001b[0m\u001b[0;34m(\u001b[0m\u001b[0mtrain_loader\u001b[0m\u001b[0;34m)\u001b[0m\u001b[0;34m:\u001b[0m\u001b[0;34m\u001b[0m\u001b[0;34m\u001b[0m\u001b[0m\n\u001b[0m\u001b[1;32m     17\u001b[0m         \u001b[0;31m# print(bid, batch)\u001b[0m\u001b[0;34m\u001b[0m\u001b[0;34m\u001b[0m\u001b[0m\n\u001b[1;32m     18\u001b[0m         \u001b[0;32mif\u001b[0m \u001b[0;34m(\u001b[0m\u001b[0mbatch\u001b[0m\u001b[0;34m.\u001b[0m\u001b[0my\u001b[0m\u001b[0;34m.\u001b[0m\u001b[0msum\u001b[0m\u001b[0;34m(\u001b[0m\u001b[0;34m)\u001b[0m\u001b[0;34m==\u001b[0m\u001b[0;36m0\u001b[0m\u001b[0;34m)\u001b[0m\u001b[0;34m:\u001b[0m\u001b[0;34m\u001b[0m\u001b[0;34m\u001b[0m\u001b[0m\n",
            "\u001b[0;31mNameError\u001b[0m: name 'train_loader' is not defined"
          ]
        }
      ]
    },
    {
      "cell_type": "code",
      "source": [
        "import torch\n",
        "import torchvision\n",
        "from torch_geometric.nn import GCN\n",
        "from pyTigerGraph.gds.metrics import Accumulator, Accuracy"
      ],
      "metadata": {
        "id": "sdz6rsAngh01"
      },
      "execution_count": null,
      "outputs": []
    },
    {
      "cell_type": "code",
      "source": [
        "device = torch.device(\"cuda\" if torch.cuda.is_available() else \"cpu\")\n",
        "\n",
        "model = GCN(\n",
        "    in_channels=7,\n",
        "    hidden_channels=hp[\"hidden_dim\"],\n",
        "    num_layers=hp[\"num_layers\"],\n",
        "    out_channels=2,\n",
        "    dropout=hp[\"dropout\"],\n",
        ").to(device)\n",
        "\n",
        "optimizer = torch.optim.Adam(\n",
        "    model.parameters(), lr=hp[\"lr\"], weight_decay=hp[\"l2_penalty\"]\n",
        ")"
      ],
      "metadata": {
        "id": "6sux464sf-wW"
      },
      "execution_count": null,
      "outputs": []
    },
    {
      "cell_type": "code",
      "source": [
        "# Hyperparameters\n",
        "hp = {\"batch_size\": 5000, \"num_neighbors\": 200, \"num_hops\": 3, \"hidden_dim\": 128, \"num_layers\": 2, \"dropout\": 0.05, \"lr\": 0.0075, \"l2_penalty\": 5e-5}"
      ],
      "metadata": {
        "id": "bBreTMOvfYkR"
      },
      "execution_count": null,
      "outputs": []
    },
    {
      "cell_type": "code",
      "source": [
        "print(conn.gsql('''\n",
        "USE GRAPH test_graph_New\n",
        "INSTALL QUERY Testing\n",
        "''', options=[]))"
      ],
      "metadata": {
        "colab": {
          "base_uri": "https://localhost:8080/"
        },
        "id": "XNNdq4xia3cI",
        "outputId": "32756ad4-fbae-4f89-8f1e-62f3e9a5f2b9"
      },
      "execution_count": null,
      "outputs": [
        {
          "output_type": "stream",
          "name": "stdout",
          "text": [
            "Using graph 'test_graph_New'\n",
            "Semantic Check Fails: The query Testing cannot be found!\n",
            "Query installation failed!\n"
          ]
        }
      ]
    },
    {
      "cell_type": "code",
      "source": [
        "results = conn.getEndpoints()\n",
        "print(results)"
      ],
      "metadata": {
        "colab": {
          "base_uri": "https://localhost:8080/"
        },
        "id": "OUysZnaGZ9u8",
        "outputId": "3cd15cec-9028-44a7-d9b1-fed42d0f23cd"
      },
      "execution_count": null,
      "outputs": [
        {
          "output_type": "stream",
          "name": "stdout",
          "text": [
            "{'DELETE /graph/{graph_name}/delete_by_type/vertices/{vertex_type}/': {'parameters': {'ack': {'default': 'all', 'max_count': 1, 'min_count': 1, 'options': ['all', 'none'], 'type': 'STRING'}, 'graph_name': {'default': '', 'max_count': 1, 'min_count': 0, 'type': 'STRING'}, 'permanent': {'default': False, 'max_count': 1, 'min_count': 1, 'type': 'BOOL'}, 'vertex_type': {'type': 'TYPENAME'}}}, 'DELETE /graph/{graph_name}/edges/{source_vertex_type}/{source_vertex_id}/{edge_type}/{target_vertex_type}/{target_vertex_id}': {'parameters': {'discriminator': {'max_count': 1, 'max_length': 2560, 'min_count': 0, 'type': 'STRING'}, 'edge_type': {'max_count': 1, 'min_count': 0, 'type': 'EDGETYPENAME'}, 'filter': {'max_count': 1, 'max_length': 2560, 'min_count': 0, 'type': 'STRING'}, 'graph_name': {'default': '', 'max_count': 1, 'min_count': 0, 'type': 'STRING'}, 'limit': {'max_count': 1, 'min_count': 0, 'type': 'UINT64'}, 'not_wildcard': {'max_count': 1, 'min_count': 0, 'type': 'BOOL'}, 'permanent': {'default': False, 'max_count': 1, 'min_count': 1, 'type': 'BOOL'}, 'select': {'max_count': 1, 'max_length': 2560, 'min_count': 0, 'type': 'STRING'}, 'sort': {'max_count': 1, 'max_length': 2560, 'min_count': 0, 'type': 'STRING'}, 'source_vertex_id': {'id_type': '$source_vertex_type', 'is_id': True, 'max_count': 1, 'max_length': 256, 'min_count': 1, 'type': 'STRING'}, 'source_vertex_type': {'max_count': 1, 'min_count': 1, 'type': 'TYPENAME'}, 'target_vertex_id': {'id_type': '$target_vertex_type', 'is_id': True, 'max_count': 1, 'max_length': 256, 'min_count': 0, 'type': 'STRING'}, 'target_vertex_type': {'max_count': 1, 'min_count': 0, 'type': 'TYPENAME'}, 'timeout': {'default': 0, 'max_count': 1, 'min_count': 0, 'type': 'UINT32'}}}, 'DELETE /graph/{graph_name}/edges/{source_vertex_type}/{source_vertex_id}/{edge_type}/{target_vertex_type}/{target_vertex_id}/{discriminator}': {'parameters': {'discriminator': {'max_count': 1, 'max_length': 2560, 'min_count': 0, 'type': 'STRING'}, 'edge_type': {'max_count': 1, 'min_count': 0, 'type': 'EDGETYPENAME'}, 'filter': {'max_count': 1, 'max_length': 2560, 'min_count': 0, 'type': 'STRING'}, 'graph_name': {'default': '', 'max_count': 1, 'min_count': 0, 'type': 'STRING'}, 'limit': {'max_count': 1, 'min_count': 0, 'type': 'UINT64'}, 'not_wildcard': {'max_count': 1, 'min_count': 0, 'type': 'BOOL'}, 'permanent': {'default': False, 'max_count': 1, 'min_count': 1, 'type': 'BOOL'}, 'select': {'max_count': 1, 'max_length': 2560, 'min_count': 0, 'type': 'STRING'}, 'sort': {'max_count': 1, 'max_length': 2560, 'min_count': 0, 'type': 'STRING'}, 'source_vertex_id': {'id_type': '$source_vertex_type', 'is_id': True, 'max_count': 1, 'max_length': 256, 'min_count': 1, 'type': 'STRING'}, 'source_vertex_type': {'max_count': 1, 'min_count': 1, 'type': 'TYPENAME'}, 'target_vertex_id': {'id_type': '$target_vertex_type', 'is_id': True, 'max_count': 1, 'max_length': 256, 'min_count': 0, 'type': 'STRING'}, 'target_vertex_type': {'max_count': 1, 'min_count': 0, 'type': 'TYPENAME'}, 'timeout': {'default': 0, 'max_count': 1, 'min_count': 0, 'type': 'UINT32'}}}, 'DELETE /graph/{graph_name}/vertices/{vertex_type}/{vertex_id}': {'parameters': {'filter': {'max_count': 1, 'max_length': 2560, 'min_count': 0, 'type': 'STRING'}, 'graph_name': {'default': '', 'max_count': 1, 'min_count': 0, 'type': 'STRING'}, 'limit': {'max_count': 1, 'min_count': 0, 'type': 'UINT64'}, 'permanent': {'default': False, 'max_count': 1, 'min_count': 1, 'type': 'BOOL'}, 'sort': {'max_count': 1, 'max_length': 2560, 'min_count': 0, 'type': 'STRING'}, 'timeout': {'default': 0, 'max_count': 1, 'min_count': 0, 'type': 'UINT32'}, 'vertex_id': {'id_type': '$vertex_type', 'is_id': True, 'max_count': 1, 'max_length': 2560, 'min_count': 0, 'type': 'STRING'}, 'vertex_type': {'type': 'TYPENAME'}}}, 'GET /abortquery/{graph_name}': {'parameters': {'graph_name': {'default': '', 'max_count': 1, 'min_count': 0, 'type': 'STRING'}, 'requestid': {'min_count': 0, 'type': 'STRING'}}}, 'GET /allpaths/{graph_name}': {'parameters': {'graph_name': {'default': '', 'max_count': 1, 'min_count': 0, 'type': 'STRING'}}}, 'GET /data_consistency_check': {'parameters': {'strict': {'default': False, 'max_count': 1, 'min_count': 0, 'type': 'BOOL'}, 'threadnum': {'default': 6, 'max_count': 1, 'min_count': 0, 'type': 'UINT32'}, 'verbose': {'default': 1, 'max_count': 1, 'min_count': 0, 'type': 'UINT32'}}}, 'GET /deleted_vertex_check/{graph_name}': {'parameters': {'fix': {'default': False, 'max_count': 1, 'min_count': 0, 'type': 'BOOL'}, 'graph_name': {'default': '', 'max_count': 1, 'min_count': 0, 'type': 'STRING'}, 'log': {'max_count': 1, 'min_count': 0, 'type': 'UINT32'}, 'segid': {'max_count': 100000, 'min_count': 0, 'type': 'UINT32'}, 'strict': {'default': False, 'max_count': 1, 'min_count': 0, 'type': 'BOOL'}, 'threadnum': {'default': 6, 'max_count': 1, 'min_count': 0, 'type': 'UINT32'}, 'verbose': {'default': 1, 'max_count': 1, 'min_count': 0, 'type': 'UINT32'}, 'vertextype': {'max_count': 1, 'min_count': 0, 'type': 'TYPENAME'}}}, 'GET /echo/{graph_name}': {'parameters': {'graph_name': {'default': '', 'max_count': 1, 'min_count': 0, 'type': 'STRING'}, 'sleep': {'default': 0, 'type': 'INT32'}}}, 'GET /endpoints/{graph_name}': {'parameters': {'builtin': {'default': False, 'max_count': 1, 'min_count': 0, 'type': 'BOOL'}, 'dynamic': {'default': False, 'max_count': 1, 'min_count': 0, 'type': 'BOOL'}, 'graph_name': {'default': '', 'max_count': 1, 'min_count': 0, 'type': 'STRING'}, 'static': {'default': False, 'max_count': 1, 'min_count': 0, 'type': 'BOOL'}}}, 'GET /graph/{graph_name}/edges/{source_vertex_type}/{source_vertex_id}/{edge_type}/{target_vertex_type}/{target_vertex_id}': {'parameters': {'count_only': {'default': False, 'max_count': 1, 'min_count': 0, 'type': 'BOOL'}, 'discriminator': {'max_count': 1, 'max_length': 2560, 'min_count': 0, 'type': 'STRING'}, 'edge_type': {'max_count': 1, 'min_count': 0, 'type': 'EDGETYPENAME'}, 'filter': {'max_count': 1, 'max_length': 2560, 'min_count': 0, 'type': 'STRING'}, 'graph_name': {'default': '', 'max_count': 1, 'min_count': 0, 'type': 'STRING'}, 'limit': {'max_count': 1, 'min_count': 0, 'type': 'UINT64'}, 'not_wildcard': {'max_count': 1, 'min_count': 0, 'type': 'BOOL'}, 'select': {'max_count': 1, 'max_length': 2560, 'min_count': 0, 'type': 'STRING'}, 'sort': {'max_count': 1, 'max_length': 2560, 'min_count': 0, 'type': 'STRING'}, 'source_vertex_id': {'id_type': '$source_vertex_type', 'is_id': True, 'max_count': 1, 'max_length': 256, 'min_count': 1, 'type': 'STRING'}, 'source_vertex_type': {'max_count': 1, 'min_count': 1, 'type': 'TYPENAME'}, 'target_vertex_id': {'id_type': '$target_vertex_type', 'is_id': True, 'max_count': 1, 'max_length': 256, 'min_count': 0, 'type': 'STRING'}, 'target_vertex_type': {'max_count': 1, 'min_count': 0, 'type': 'TYPENAME'}, 'timeout': {'default': 0, 'max_count': 1, 'min_count': 0, 'type': 'UINT32'}}}, 'GET /graph/{graph_name}/edges/{source_vertex_type}/{source_vertex_id}/{edge_type}/{target_vertex_type}/{target_vertex_id}/{discriminator}': {'parameters': {'count_only': {'default': False, 'max_count': 1, 'min_count': 0, 'type': 'BOOL'}, 'discriminator': {'max_count': 1, 'max_length': 2560, 'min_count': 0, 'type': 'STRING'}, 'edge_type': {'max_count': 1, 'min_count': 0, 'type': 'EDGETYPENAME'}, 'filter': {'max_count': 1, 'max_length': 2560, 'min_count': 0, 'type': 'STRING'}, 'graph_name': {'default': '', 'max_count': 1, 'min_count': 0, 'type': 'STRING'}, 'limit': {'max_count': 1, 'min_count': 0, 'type': 'UINT64'}, 'not_wildcard': {'max_count': 1, 'min_count': 0, 'type': 'BOOL'}, 'select': {'max_count': 1, 'max_length': 2560, 'min_count': 0, 'type': 'STRING'}, 'sort': {'max_count': 1, 'max_length': 2560, 'min_count': 0, 'type': 'STRING'}, 'source_vertex_id': {'id_type': '$source_vertex_type', 'is_id': True, 'max_count': 1, 'max_length': 256, 'min_count': 1, 'type': 'STRING'}, 'source_vertex_type': {'max_count': 1, 'min_count': 1, 'type': 'TYPENAME'}, 'target_vertex_id': {'id_type': '$target_vertex_type', 'is_id': True, 'max_count': 1, 'max_length': 256, 'min_count': 0, 'type': 'STRING'}, 'target_vertex_type': {'max_count': 1, 'min_count': 0, 'type': 'TYPENAME'}, 'timeout': {'default': 0, 'max_count': 1, 'min_count': 0, 'type': 'UINT32'}}}, 'GET /graph/{graph_name}/vertices/{vertex_type}/{vertex_id}': {'parameters': {'count_only': {'default': False, 'max_count': 1, 'min_count': 0, 'type': 'BOOL'}, 'filter': {'max_count': 1, 'max_length': 2560, 'min_count': 0, 'type': 'STRING'}, 'graph_name': {'default': '', 'max_count': 1, 'min_count': 0, 'type': 'STRING'}, 'limit': {'max_count': 1, 'min_count': 0, 'type': 'UINT64'}, 'select': {'max_count': 1, 'max_length': 2560, 'min_count': 0, 'type': 'STRING'}, 'sort': {'max_count': 1, 'max_length': 2560, 'min_count': 0, 'type': 'STRING'}, 'timeout': {'default': 0, 'max_count': 1, 'min_count': 0, 'type': 'UINT32'}, 'vertex_id': {'id_type': '$vertex_type', 'is_id': True, 'max_count': 1, 'max_length': 2560, 'min_count': 0, 'type': 'STRING'}, 'vertex_type': {'type': 'TYPENAME'}}}, 'GET /query_result/{requestid}': {'parameters': {'requestid': {'max_count': 1, 'min_count': 1, 'type': 'STRING'}}}, 'GET /query_status/{graph_name}': {'parameters': {'graph_name': {'default': '', 'max_count': 1, 'min_count': 0, 'type': 'STRING'}, 'requestid': {'max_count': 100, 'min_count': 0, 'type': 'STRING'}}}, 'GET /rebuildnow/{graph_name}': {'parameters': {'force': {'max_count': 1, 'min_count': 0, 'type': 'BOOL'}, 'graph_name': {'default': '', 'max_count': 1, 'min_count': 0, 'type': 'STRING'}, 'path': {'default': '/tmp/rebuildnow', 'max_count': 1, 'min_count': 0, 'type': 'STRING'}, 'segid': {'max_count': 100000, 'min_count': 0, 'type': 'UINT32'}, 'snapshot': {'max_count': 1, 'min_count': 0, 'type': 'BOOL'}, 'snapshotonly': {'max_count': 1, 'min_count': 0, 'type': 'BOOL'}, 'threadnum': {'default': 0, 'max_count': 1, 'min_count': 0, 'type': 'UINT32'}, 'tid': {'max_count': 1, 'min_count': 0, 'type': 'UINT32'}, 'vertextype': {'max_count': 1, 'min_count': 0, 'type': 'TYPENAME'}}}, 'GET /shortestpath/{graph_name}': {'parameters': {'graph_name': {'default': '', 'max_count': 1, 'min_count': 0, 'type': 'STRING'}}}, 'GET /showdelayedlistall': {'parameters': {'graph_name': {'default': '', 'max_count': 1, 'min_count': 0, 'type': 'STRING'}}}, 'GET /showlicenseinfo/{graph_name}': {'parameters': {'graph_name': {'default': '', 'max_count': 1, 'min_count': 0, 'type': 'STRING'}}}, 'GET /showprocesslist/{graph_name}': {'parameters': {'graph_name': {'default': '', 'max_count': 1, 'min_count': 0, 'type': 'STRING'}}}, 'GET /showprocesslistall': {'parameters': {'graph_name': {'default': '', 'max_count': 1, 'min_count': 0, 'type': 'STRING'}}}, 'GET /statistics/{graph_name}': {'parameters': {'graph_name': {'default': '', 'max_count': 1, 'min_count': 0, 'type': 'STRING'}, 'seconds': {'default': 10, 'type': 'UINT32'}, 'segments': {'default': 10, 'max': 100, 'min': 1, 'type': 'UINT32'}}}, 'GET /version/{graph_name}': {'parameters': {'graph_name': {'default': '', 'max_count': 1, 'min_count': 0, 'type': 'STRING'}}}, 'POST /abortquery/{graph_name}': {'parameters': {'graph_name': {'default': '', 'max_count': 1, 'min_count': 0, 'type': 'STRING'}, 'requestid': {'min_count': 0, 'type': 'STRING'}}}, 'POST /allpaths/{graph_name}': {'parameters': {'graph_name': {'default': '', 'max_count': 1, 'min_count': 0, 'type': 'STRING'}}}, 'POST /builtins/{graph_name}': {'parameters': {'graph_name': {'default': '', 'max_count': 1, 'min_count': 0, 'type': 'STRING'}, 'realtime': {'default': False, 'max_count': 1, 'min_count': 0, 'type': 'BOOL'}}}, 'POST /data_consistency_check': {'parameters': {'strict': {'default': False, 'max_count': 1, 'min_count': 0, 'type': 'BOOL'}, 'threadnum': {'default': 6, 'max_count': 1, 'min_count': 0, 'type': 'UINT32'}, 'verbose': {'default': 1, 'max_count': 1, 'min_count': 0, 'type': 'UINT32'}}}, 'POST /ddl/{graph_name}': {'parameters': {'ack': {'default': 'all', 'max_count': 1, 'min_count': 1, 'options': ['all', 'none'], 'type': 'STRING'}, 'concise': {'default': False, 'max_count': 1, 'min_count': 1, 'type': 'BOOL'}, 'eol': {'default': '\\n', 'max_count': 1, 'max_length': 4, 'min_count': 0, 'min_length': 1, 'type': 'STRING'}, 'filename': {'default': '__GSQL_FILENAME__', 'max_count': 1, 'min_count': 0, 'type': 'STRING'}, 'graph_name': {'default': '', 'max_count': 1, 'min_count': 0, 'type': 'STRING'}, 'jobid': {'default': '', 'max_count': 1, 'min_count': 0, 'type': 'STRING'}, 'max_num_error': {'default': 0, 'max_count': 99999, 'min_count': 0, 'type': 'UINT64'}, 'max_percent_error': {'default': 0, 'max_count': 100, 'min_count': 0, 'type': 'UINT32'}, 'sep': {'default': ',', 'max_count': 1, 'max_length': 4, 'min_count': 0, 'min_length': 1, 'type': 'STRING'}, 'tag': {'max_count': 1, 'min_count': 1, 'type': 'STRING'}, 'timeout': {'default': 0, 'max_count': 1, 'min_count': 0, 'type': 'UINT32'}}}, 'POST /deleted_vertex_check/{graph_name}': {'parameters': {'fix': {'default': False, 'max_count': 1, 'min_count': 0, 'type': 'BOOL'}, 'graph_name': {'default': '', 'max_count': 1, 'min_count': 0, 'type': 'STRING'}, 'log': {'max_count': 1, 'min_count': 0, 'type': 'UINT32'}, 'segid': {'max_count': 100000, 'min_count': 0, 'type': 'UINT32'}, 'strict': {'default': False, 'max_count': 1, 'min_count': 0, 'type': 'BOOL'}, 'threadnum': {'default': 6, 'max_count': 1, 'min_count': 0, 'type': 'UINT32'}, 'verbose': {'default': 1, 'max_count': 1, 'min_count': 0, 'type': 'UINT32'}, 'vertextype': {'max_count': 1, 'min_count': 0, 'type': 'TYPENAME'}}}, 'POST /echo/{graph_name}': {'parameters': {'graph_name': {'default': '', 'max_count': 1, 'min_count': 0, 'type': 'STRING'}, 'sleep': {'default': 0, 'type': 'INT32'}}}, 'POST /rebuildnow/{graph_name}': {'parameters': {'force': {'max_count': 1, 'min_count': 0, 'type': 'BOOL'}, 'graph_name': {'default': '', 'max_count': 1, 'min_count': 0, 'type': 'STRING'}, 'path': {'default': '/tmp/rebuildnow', 'max_count': 1, 'min_count': 0, 'type': 'STRING'}, 'segid': {'max_count': 100000, 'min_count': 0, 'type': 'UINT32'}, 'snapshot': {'max_count': 1, 'min_count': 0, 'type': 'BOOL'}, 'snapshotonly': {'max_count': 1, 'min_count': 0, 'type': 'BOOL'}, 'threadnum': {'default': 0, 'max_count': 1, 'min_count': 0, 'type': 'UINT32'}, 'tid': {'max_count': 1, 'min_count': 0, 'type': 'UINT32'}, 'vertextype': {'max_count': 1, 'min_count': 0, 'type': 'TYPENAME'}}}, 'POST /restpploader/{graph_name}': {'parameters': {'abort': {'max_count': 1, 'min_count': 0, 'type': 'BOOL'}, 'checkstatus': {'max_count': 1, 'min_count': 0, 'type': 'BOOL'}, 'graph_name': {'default': '', 'max_count': 1, 'min_count': 0, 'type': 'STRING'}, 'resume': {'max_count': 1, 'min_count': 0, 'type': 'BOOL'}, 'showsummary': {'max_count': 1, 'min_count': 0, 'type': 'BOOL'}}}, 'POST /shortestpath/{graph_name}': {'parameters': {'graph_name': {'default': '', 'max_count': 1, 'min_count': 0, 'type': 'STRING'}}}, 'POST /showprocesslist/{graph_name}': {'parameters': {'graph_name': {'default': '', 'max_count': 1, 'min_count': 0, 'type': 'STRING'}}}}\n"
          ]
        }
      ]
    }
  ]
}