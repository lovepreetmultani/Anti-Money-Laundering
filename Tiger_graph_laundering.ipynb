{
  "nbformat": 4,
  "nbformat_minor": 0,
  "metadata": {
    "colab": {
      "provenance": [],
      "authorship_tag": "ABX9TyN/GZyJ2uS9dqA17j2nMn6Y",
      "include_colab_link": true
    },
    "kernelspec": {
      "name": "python3",
      "display_name": "Python 3"
    },
    "language_info": {
      "name": "python"
    }
  },
  "cells": [
    {
      "cell_type": "markdown",
      "metadata": {
        "id": "view-in-github",
        "colab_type": "text"
      },
      "source": [
        "<a href=\"https://colab.research.google.com/github/lovepreetmultani/Anti-Money-Laundering/blob/main/Tiger_graph_laundering.ipynb\" target=\"_parent\"><img src=\"https://colab.research.google.com/assets/colab-badge.svg\" alt=\"Open In Colab\"/></a>"
      ]
    },
    {
      "cell_type": "code",
      "execution_count": 1,
      "metadata": {
        "colab": {
          "base_uri": "https://localhost:8080/"
        },
        "id": "y9F-e0YrHXfS",
        "outputId": "14bacb1e-904e-4d42-f94a-c18d35cf6a3a"
      },
      "outputs": [
        {
          "output_type": "stream",
          "name": "stdout",
          "text": [
            "Collecting pyTigerGraph\n",
            "  Downloading pyTigerGraph-1.4.1-py3-none-any.whl (254 kB)\n",
            "\u001b[2K     \u001b[90m━━━━━━━━━━━━━━━━━━━━━━━━━━━━━━━━━━━━━━━\u001b[0m \u001b[32m254.8/254.8 kB\u001b[0m \u001b[31m6.9 MB/s\u001b[0m eta \u001b[36m0:00:00\u001b[0m\n",
            "\u001b[?25hCollecting pyTigerDriver (from pyTigerGraph)\n",
            "  Downloading pyTigerDriver-1.0.15-py3-none-any.whl (12 kB)\n",
            "Collecting validators (from pyTigerGraph)\n",
            "  Downloading validators-0.21.2-py3-none-any.whl (25 kB)\n",
            "Requirement already satisfied: requests in /usr/local/lib/python3.10/dist-packages (from pyTigerGraph) (2.31.0)\n",
            "Requirement already satisfied: charset-normalizer<4,>=2 in /usr/local/lib/python3.10/dist-packages (from requests->pyTigerGraph) (3.2.0)\n",
            "Requirement already satisfied: idna<4,>=2.5 in /usr/local/lib/python3.10/dist-packages (from requests->pyTigerGraph) (3.4)\n",
            "Requirement already satisfied: urllib3<3,>=1.21.1 in /usr/local/lib/python3.10/dist-packages (from requests->pyTigerGraph) (2.0.4)\n",
            "Requirement already satisfied: certifi>=2017.4.17 in /usr/local/lib/python3.10/dist-packages (from requests->pyTigerGraph) (2023.7.22)\n",
            "Installing collected packages: validators, pyTigerDriver, pyTigerGraph\n",
            "Successfully installed pyTigerDriver-1.0.15 pyTigerGraph-1.4.1 validators-0.21.2\n"
          ]
        }
      ],
      "source": [
        "#!pip install pyTigerGraph\n",
        "import pyTigerGraph as tg\n",
        "import json"
      ]
    },
    {
      "cell_type": "code",
      "source": [
        "# Connection parameters\n",
        "hostName = \"https://5d8cb4af4a294e9c852fad8b03bddd05.i.tgcloud.io\"\n",
        "userName = \"user_1\"\n",
        "password = \"Algo@123\"\n",
        "graphName=\"test_graph\"\n",
        "secret=\"q35on53p9dhtev14otqt0223u5k194a0\"\n",
        "conn = tg.TigerGraphConnection(host=hostName, username=userName, password=password)\n",
        "\n",
        "print(\"Connected\")\n"
      ],
      "metadata": {
        "colab": {
          "base_uri": "https://localhost:8080/"
        },
        "id": "z5uDxmxJH9QD",
        "outputId": "b32323d4-c3c5-4c34-e367-ab34f9384c84"
      },
      "execution_count": 4,
      "outputs": [
        {
          "output_type": "stream",
          "name": "stdout",
          "text": [
            "Connected\n"
          ]
        }
      ]
    },
    {
      "cell_type": "code",
      "source": [
        "graph = tg.TigerGraphConnection(host=hostName, graphname=graphName)\n",
        "\n",
        "authToken = graph.getToken(secret)\n",
        "authToken = authToken[0]\n",
        "print(f\"SHHHH.... Keep this a secret. Here's your token:\\n {authToken}\")"
      ],
      "metadata": {
        "colab": {
          "base_uri": "https://localhost:8080/"
        },
        "id": "nxFrwSqIH_7E",
        "outputId": "ae100411-38bb-4b1b-e200-a1c9696fcea2"
      },
      "execution_count": 5,
      "outputs": [
        {
          "output_type": "stream",
          "name": "stdout",
          "text": [
            "SHHHH.... Keep this a secret. Here's your token:\n",
            " o9ussc78scmn8qce8ilqahlt17an8dtq\n"
          ]
        }
      ]
    },
    {
      "cell_type": "code",
      "source": [
        "show_schema = conn.gsql('''LS''')\n",
        "print(show_schema)"
      ],
      "metadata": {
        "colab": {
          "base_uri": "https://localhost:8080/"
        },
        "id": "iN8j-etWIb9D",
        "outputId": "943588d2-2492-4bad-fa68-1025fc118e95"
      },
      "execution_count": 6,
      "outputs": [
        {
          "output_type": "stream",
          "name": "stdout",
          "text": [
            "---- Global vertices, edges, and all graphs\n",
            "Vertex Types:\n",
            "- VERTEX Person(PRIMARY_ID id STRING, name STRING, email STRING, username STRING, created_at DATETIME) WITH STATS=\"OUTDEGREE_BY_EDGETYPE\", PRIMARY_ID_AS_ATTRIBUTE=\"true\"\n",
            "- VERTEX Post(PRIMARY_ID id STRING, content STRING, posted_date DATETIME, deleted BOOL) WITH STATS=\"OUTDEGREE_BY_EDGETYPE\", PRIMARY_ID_AS_ATTRIBUTE=\"true\"\n",
            "- VERTEX Hashtag(PRIMARY_ID tag STRING) WITH STATS=\"OUTDEGREE_BY_EDGETYPE\", PRIMARY_ID_AS_ATTRIBUTE=\"true\"\n",
            "- VERTEX Message(PRIMARY_ID id STRING, subject STRING, body STRING) WITH STATS=\"OUTDEGREE_BY_EDGETYPE\", PRIMARY_ID_AS_ATTRIBUTE=\"true\"\n",
            "Edge Types:\n",
            "- DIRECTED EDGE posted(FROM Person, TO Post, post_date DATETIME) WITH REVERSE_EDGE=\"reverse_posted\"\n",
            "- DIRECTED EDGE reverse_posted(FROM Post, TO Person, post_date DATETIME) WITH REVERSE_EDGE=\"posted\"\n",
            "- DIRECTED EDGE liked(FROM Person, TO Post, like_date DATETIME) WITH REVERSE_EDGE=\"reverse_liked\"\n",
            "- DIRECTED EDGE reverse_liked(FROM Post, TO Person, like_date DATETIME) WITH REVERSE_EDGE=\"liked\"\n",
            "- DIRECTED EDGE has_tag(FROM Post, TO Hashtag) WITH REVERSE_EDGE=\"reverse_has_tag\"\n",
            "- DIRECTED EDGE reverse_has_tag(FROM Hashtag, TO Post) WITH REVERSE_EDGE=\"has_tag\"\n",
            "- DIRECTED EDGE sent_message(FROM Person, TO Message, to_person STRING, sent_date DATETIME) WITH REVERSE_EDGE=\"reverse_sent_message\"\n",
            "- DIRECTED EDGE reverse_sent_message(FROM Message, TO Person, to_person STRING, sent_date DATETIME) WITH REVERSE_EDGE=\"sent_message\"\n",
            "- DIRECTED EDGE received_message(FROM Message, TO Person, from_person STRING, receive_date DATETIME, opened_date DATETIME) WITH REVERSE_EDGE=\"reverse_received_message\"\n",
            "- DIRECTED EDGE reverse_received_message(FROM Person, TO Message, from_person STRING, receive_date DATETIME, opened_date DATETIME) WITH REVERSE_EDGE=\"received_message\"\n",
            "\n",
            "Graphs:\n",
            "- Graph MyGraph(Person:v, Post:v, Hashtag:v, Message:v, posted:e, reverse_posted:e, liked:e, reverse_liked:e, has_tag:e, reverse_has_tag:e, sent_message:e, reverse_sent_message:e, received_message:e, reverse_received_message:e)\n",
            "- Graph test_graph(Person:v, Post:v, Hashtag:v, Message:v, posted:e, reverse_posted:e, liked:e, reverse_liked:e, has_tag:e, reverse_has_tag:e, sent_message:e, reverse_sent_message:e, received_message:e, reverse_received_message:e)\n",
            "- Graph test_graph11()\n",
            "Jobs:\n",
            "\n",
            "\n",
            "JSON API version: v2\n",
            "Syntax version: v2\n",
            "\n"
          ]
        }
      ]
    },
    {
      "cell_type": "code",
      "source": [
        "results = conn.gsql('''\n",
        "USE GRAPH test_graph11\n",
        "''')\n",
        "print(results)"
      ],
      "metadata": {
        "colab": {
          "base_uri": "https://localhost:8080/"
        },
        "id": "eyYMUw1nIjIN",
        "outputId": "a82133fd-cf11-4058-fd22-f28b70b2e9fc"
      },
      "execution_count": 7,
      "outputs": [
        {
          "output_type": "stream",
          "name": "stdout",
          "text": [
            "Using graph 'test_graph11'\n"
          ]
        }
      ]
    },
    {
      "cell_type": "code",
      "source": [
        "# DEFINE / CREATE ALL EDGES AND VERTICES\n",
        "results = conn.gsql('''\n",
        "  USE global\n",
        "  CREATE VERTEX Account (PRIMARY_ID account_id int) WITH primary_id_as_attribute=\"true\"\n",
        "  CREATE VERTEX Transaction (PRIMARY_ID transaction_id int, from_acct int, to_acct int,trans_date DATETIME, fraud BOOL) WITH primary_id_as_attribute=\"true\"\n",
        "  CREATE VERTEX Alert (PRIMARY_ID alert_id int, account_id int, alert_type STRING) WITH primary_id_as_attribute=\"true\"\n",
        "  CREATE DIRECTED EDGE has_alert(From Account, To Alert) WITH REVERSE_EDGE=\"reverse_has_alert\"\n",
        "  CREATE DIRECTED EDGE sent_amount (From Account, To Transaction, to_account int, sent_date DATETIME) WITH REVERSE_EDGE=\"reverse_sent_money\"\n",
        "  CREATE DIRECTED EDGE received_amount (From Transaction, To Account, from_account int, receive_date DATETIME) WITH REVERSE_EDGE=\"reverse_received_money\"\n",
        "''')\n",
        "print(results)"
      ],
      "metadata": {
        "colab": {
          "base_uri": "https://localhost:8080/"
        },
        "id": "e-OKQWoTInTp",
        "outputId": "458a6b28-d6e4-46ab-b06f-ddf012ff94d2"
      },
      "execution_count": 15,
      "outputs": [
        {
          "output_type": "stream",
          "name": "stdout",
          "text": [
            "Successfully created vertex types: [Account].\n",
            "Successfully created vertex types: [Transaction].\n",
            "Successfully created vertex types: [Alert].\n",
            "Successfully created edge types: [has_alert].\n",
            "Successfully created reverse edge types: [reverse_has_alert].\n",
            "Successfully created edge types: [sent_amount].\n",
            "Successfully created reverse edge types: [reverse_sent_money].\n",
            "Successfully created edge types: [received_amount].\n",
            "Successfully created reverse edge types: [reverse_received_money].\n"
          ]
        }
      ]
    },
    {
      "cell_type": "code",
      "source": [
        "results = conn.gsql('CREATE GRAPH test_graph11(Account, Transaction, Alert, has_alert, sent_amount, received_amount, reverse_sent_money, reverse_received_money, reverse_has_alert)')"
      ],
      "metadata": {
        "id": "2Fy6cKK4NYOD"
      },
      "execution_count": 16,
      "outputs": []
    },
    {
      "cell_type": "code",
      "source": [
        "conn.graphname=\"test_graph11\"\n",
        "secret = conn.createSecret()\n",
        "authToken = conn.getToken(secret)\n",
        "authToken = authToken[0]\n",
        "print(authToken)\n",
        "conn = tg.TigerGraphConnection(host=hostName, graphname=\"test_graph11\", username=userName, password=password, apiToken=authToken)\n",
        "\n",
        "def pprint(string):\n",
        "  print(json.dumps(string, indent=2))"
      ],
      "metadata": {
        "colab": {
          "base_uri": "https://localhost:8080/"
        },
        "id": "v8zXvaJ7PVTU",
        "outputId": "5ca70e1f-7eb2-407c-fe1c-43a11c4a403a"
      },
      "execution_count": 18,
      "outputs": [
        {
          "output_type": "stream",
          "name": "stdout",
          "text": [
            "10riue4cvinhp5b5j9mv8i8rmdht2ql7\n"
          ]
        }
      ]
    },
    {
      "cell_type": "code",
      "source": [
        "show_schema = conn.gsql('''LS''')\n",
        "print(show_schema)"
      ],
      "metadata": {
        "colab": {
          "base_uri": "https://localhost:8080/"
        },
        "id": "_XVAP9tKTh3W",
        "outputId": "7c513dda-800e-4b10-9b12-b15cec6acb7b"
      },
      "execution_count": 25,
      "outputs": [
        {
          "output_type": "stream",
          "name": "stdout",
          "text": [
            "---- Global vertices, edges, and all graphs\n",
            "Vertex Types:\n",
            "- VERTEX Account(PRIMARY_ID account_id INT) WITH STATS=\"OUTDEGREE_BY_EDGETYPE\", PRIMARY_ID_AS_ATTRIBUTE=\"true\"\n",
            "- VERTEX Transaction(PRIMARY_ID transaction_id INT, from_acct INT, to_acct INT, trans_date DATETIME, fraud BOOL) WITH STATS=\"OUTDEGREE_BY_EDGETYPE\", PRIMARY_ID_AS_ATTRIBUTE=\"true\"\n",
            "- VERTEX Alert(PRIMARY_ID alert_id INT, account_id INT, alert_type STRING) WITH STATS=\"OUTDEGREE_BY_EDGETYPE\", PRIMARY_ID_AS_ATTRIBUTE=\"true\"\n",
            "Edge Types:\n",
            "- DIRECTED EDGE has_alert(FROM Account, TO Alert) WITH REVERSE_EDGE=\"reverse_has_alert\"\n",
            "- DIRECTED EDGE reverse_has_alert(FROM Alert, TO Account) WITH REVERSE_EDGE=\"has_alert\"\n",
            "- DIRECTED EDGE sent_amount(FROM Account, TO Transaction, to_account INT, sent_date DATETIME) WITH REVERSE_EDGE=\"reverse_sent_money\"\n",
            "- DIRECTED EDGE reverse_sent_money(FROM Transaction, TO Account, to_account INT, sent_date DATETIME) WITH REVERSE_EDGE=\"sent_amount\"\n",
            "- DIRECTED EDGE received_amount(FROM Transaction, TO Account, from_account INT, receive_date DATETIME) WITH REVERSE_EDGE=\"reverse_received_money\"\n",
            "- DIRECTED EDGE reverse_received_money(FROM Account, TO Transaction, from_account INT, receive_date DATETIME) WITH REVERSE_EDGE=\"received_amount\"\n",
            "\n",
            "Graphs:\n",
            "- Graph test_graph11(Account:v, Transaction:v, Alert:v, send_money:e, reverse_send_money:e, receive_money:e, reverse_receive_money:e, has_alert:e, reverse_has_alert:e)\n",
            "Jobs:\n",
            "\n",
            "\n",
            "JSON API version: v2\n",
            "Syntax version: v2\n",
            "\n"
          ]
        }
      ]
    },
    {
      "cell_type": "code",
      "source": [
        "results = conn.getVertexTypes()\n",
        "print(f\"Verticies: {results}\")\n",
        "vertices = results\n",
        "\n",
        "results = conn.getEdgeTypes()\n",
        "print(f\"Edges: {results}\")\n",
        "edges = results"
      ],
      "metadata": {
        "colab": {
          "base_uri": "https://localhost:8080/"
        },
        "id": "N8XxqM12TsaV",
        "outputId": "653447ab-810b-4092-b482-246ca6d9c0dd"
      },
      "execution_count": 26,
      "outputs": [
        {
          "output_type": "stream",
          "name": "stdout",
          "text": [
            "Verticies: ['Account', 'Transaction', 'Alert']\n",
            "Edges: ['send_money', 'receive_money', 'has_alert']\n"
          ]
        }
      ]
    },
    {
      "cell_type": "code",
      "source": [
        "\n",
        "print(f\"Results for Post vertex\")\n",
        "pprint(conn.getVertexType(\"Account\"))\n",
        "\n",
        "print(\"-----------------\")\n",
        "print(f\"Results for liked edge\")\n",
        "pprint(conn.getEdgeType(\"send_money\"))\n"
      ],
      "metadata": {
        "colab": {
          "base_uri": "https://localhost:8080/"
        },
        "id": "ckaDwk9TTvmq",
        "outputId": "aeefcb61-1e08-48b9-8ded-72016a8c47e0"
      },
      "execution_count": 27,
      "outputs": [
        {
          "output_type": "stream",
          "name": "stdout",
          "text": [
            "Results for Post vertex\n",
            "{\n",
            "  \"Config\": {\n",
            "    \"STATS\": \"OUTDEGREE_BY_EDGETYPE\"\n",
            "  },\n",
            "  \"IsLocal\": true,\n",
            "  \"Attributes\": [],\n",
            "  \"PrimaryId\": {\n",
            "    \"AttributeType\": {\n",
            "      \"Name\": \"INT\"\n",
            "    },\n",
            "    \"AttributeName\": \"account_id\"\n",
            "  },\n",
            "  \"Name\": \"Account\"\n",
            "}\n",
            "-----------------\n",
            "Results for liked edge\n",
            "{\n",
            "  \"IsDirected\": true,\n",
            "  \"ToVertexTypeName\": \"Transaction\",\n",
            "  \"Config\": {\n",
            "    \"REVERSE_EDGE\": \"reverse_send_money\"\n",
            "  },\n",
            "  \"IsLocal\": true,\n",
            "  \"Attributes\": [\n",
            "    {\n",
            "      \"AttributeType\": {\n",
            "        \"Name\": \"INT\"\n",
            "      },\n",
            "      \"AttributeName\": \"to_acct\"\n",
            "    },\n",
            "    {\n",
            "      \"AttributeType\": {\n",
            "        \"Name\": \"DATETIME\"\n",
            "      },\n",
            "      \"AttributeName\": \"sent_date\"\n",
            "    }\n",
            "  ],\n",
            "  \"FromVertexTypeName\": \"Account\",\n",
            "  \"Name\": \"send_money\"\n",
            "}\n"
          ]
        }
      ]
    },
    {
      "cell_type": "code",
      "source": [
        "print(\"Vertex Counts\")\n",
        "for vertex in vertices:\n",
        "  print(f\"There are {conn.getVertexCount(vertex)} {vertex} vertices in the graph\")\n",
        "\n",
        "print(\"--------------\")\n",
        "print(\"Edge Counts\")\n",
        "for edge in edges:\n",
        "  print(f\"There are {conn.getEdgeCount(edge)} {edge} edges in the graph\")"
      ],
      "metadata": {
        "colab": {
          "base_uri": "https://localhost:8080/"
        },
        "id": "L8bVIAUsT79J",
        "outputId": "36e9389c-76d5-4379-825e-61b1e4f3cc78"
      },
      "execution_count": 28,
      "outputs": [
        {
          "output_type": "stream",
          "name": "stdout",
          "text": [
            "Vertex Counts\n",
            "There are 1446 Account vertices in the graph\n",
            "There are 121457 Transaction vertices in the graph\n",
            "There are 10 Alert vertices in the graph\n",
            "--------------\n",
            "Edge Counts\n",
            "There are 0 send_money edges in the graph\n",
            "There are 0 receive_money edges in the graph\n",
            "There are 0 has_alert edges in the graph\n"
          ]
        }
      ]
    },
    {
      "cell_type": "code",
      "source": [
        "results = conn.getVerticesById(\"Account\", \"424\")\n",
        "pprint(results)"
      ],
      "metadata": {
        "colab": {
          "base_uri": "https://localhost:8080/"
        },
        "id": "EyGKgR68UEOO",
        "outputId": "34863dd8-a522-42e5-b0f6-3c40fa5a293b"
      },
      "execution_count": 32,
      "outputs": [
        {
          "output_type": "stream",
          "name": "stdout",
          "text": [
            "[\n",
            "  {\n",
            "    \"v_id\": \"424\",\n",
            "    \"v_type\": \"Account\",\n",
            "    \"attributes\": {}\n",
            "  }\n",
            "]\n"
          ]
        }
      ]
    },
    {
      "cell_type": "code",
      "source": [
        "df1 = conn.getVertexDataframe(\"Alert\")\n",
        "print(df1)"
      ],
      "metadata": {
        "colab": {
          "base_uri": "https://localhost:8080/"
        },
        "id": "2zqDM7MDUQCa",
        "outputId": "15beca72-e8b3-466a-fbd9-6bacb910b982"
      },
      "execution_count": 34,
      "outputs": [
        {
          "output_type": "stream",
          "name": "stdout",
          "text": [
            "  v_id  account_id Alert_type\n",
            "0    9        1140      cycle\n",
            "1    5         103    fan_out\n",
            "2    7         978      cycle\n",
            "3    3         831    fan_out\n",
            "4    6         128      cycle\n",
            "5    1         666     fan_in\n",
            "6    4         533    fan_out\n",
            "7    0         554     fan_in\n",
            "8    8        1303      cycle\n",
            "9    2         265     fan_in\n"
          ]
        }
      ]
    }
  ]
}