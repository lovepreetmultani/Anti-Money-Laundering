{
  "nbformat": 4,
  "nbformat_minor": 0,
  "metadata": {
    "colab": {
      "provenance": [],
      "authorship_tag": "ABX9TyMrmiUUN1pwreDC7UlIcAvD",
      "include_colab_link": true
    },
    "kernelspec": {
      "name": "python3",
      "display_name": "Python 3"
    },
    "language_info": {
      "name": "python"
    }
  },
  "cells": [
    {
      "cell_type": "markdown",
      "metadata": {
        "id": "view-in-github",
        "colab_type": "text"
      },
      "source": [
        "<a href=\"https://colab.research.google.com/github/lovepreetmultani/Anti-Money-Laundering/blob/main/Tiger_graph_laundering.ipynb\" target=\"_parent\"><img src=\"https://colab.research.google.com/assets/colab-badge.svg\" alt=\"Open In Colab\"/></a>"
      ]
    },
    {
      "cell_type": "code",
      "execution_count": 1,
      "metadata": {
        "colab": {
          "base_uri": "https://localhost:8080/"
        },
        "id": "y9F-e0YrHXfS",
        "outputId": "1b844fb0-e66e-4717-90bb-f9ff5aa714b9"
      },
      "outputs": [
        {
          "output_type": "stream",
          "name": "stdout",
          "text": [
            "Collecting pyTigerGraph\n",
            "  Downloading pyTigerGraph-1.4.1-py3-none-any.whl (254 kB)\n",
            "\u001b[?25l     \u001b[90m━━━━━━━━━━━━━━━━━━━━━━━━━━━━━━━━━━━━━━━━\u001b[0m \u001b[32m0.0/254.8 kB\u001b[0m \u001b[31m?\u001b[0m eta \u001b[36m-:--:--\u001b[0m\r\u001b[2K     \u001b[91m━━━━━━━━━━━━━━━━━\u001b[0m\u001b[90m╺\u001b[0m\u001b[90m━━━━━━━━━━━━━━━━━━━━━\u001b[0m \u001b[32m112.6/254.8 kB\u001b[0m \u001b[31m3.1 MB/s\u001b[0m eta \u001b[36m0:00:01\u001b[0m\r\u001b[2K     \u001b[90m━━━━━━━━━━━━━━━━━━━━━━━━━━━━━━━━━━━━━━━\u001b[0m \u001b[32m254.8/254.8 kB\u001b[0m \u001b[31m4.4 MB/s\u001b[0m eta \u001b[36m0:00:00\u001b[0m\n",
            "\u001b[?25hCollecting pyTigerDriver (from pyTigerGraph)\n",
            "  Downloading pyTigerDriver-1.0.15-py3-none-any.whl (12 kB)\n",
            "Collecting validators (from pyTigerGraph)\n",
            "  Downloading validators-0.21.2-py3-none-any.whl (25 kB)\n",
            "Requirement already satisfied: requests in /usr/local/lib/python3.10/dist-packages (from pyTigerGraph) (2.31.0)\n",
            "Requirement already satisfied: charset-normalizer<4,>=2 in /usr/local/lib/python3.10/dist-packages (from requests->pyTigerGraph) (3.2.0)\n",
            "Requirement already satisfied: idna<4,>=2.5 in /usr/local/lib/python3.10/dist-packages (from requests->pyTigerGraph) (3.4)\n",
            "Requirement already satisfied: urllib3<3,>=1.21.1 in /usr/local/lib/python3.10/dist-packages (from requests->pyTigerGraph) (2.0.4)\n",
            "Requirement already satisfied: certifi>=2017.4.17 in /usr/local/lib/python3.10/dist-packages (from requests->pyTigerGraph) (2023.7.22)\n",
            "Installing collected packages: validators, pyTigerDriver, pyTigerGraph\n",
            "Successfully installed pyTigerDriver-1.0.15 pyTigerGraph-1.4.1 validators-0.21.2\n"
          ]
        }
      ],
      "source": [
        "!pip install pyTigerGraph\n",
        "import pyTigerGraph as tg\n",
        "import json"
      ]
    },
    {
      "cell_type": "code",
      "source": [
        "# Connection parameters\n",
        "hostName = \"https://a55fb64527c24bf68095be5e2188185a.i.tgcloud.io\"\n",
        "userName = \"user_2\"\n",
        "password = \"Algo@123\"\n",
        "graphName=\"test_graph\"\n",
        "secret=\"fk0piafuvq7b9f65cv15djb58l52k6bt\"\n",
        "conn = tg.TigerGraphConnection(host=hostName, username=userName, password=password)\n",
        "\n",
        "print(\"Connected\")\n"
      ],
      "metadata": {
        "colab": {
          "base_uri": "https://localhost:8080/"
        },
        "id": "z5uDxmxJH9QD",
        "outputId": "3cfa94ef-95ca-414d-f7a9-fc74589b1cf8"
      },
      "execution_count": 4,
      "outputs": [
        {
          "output_type": "stream",
          "name": "stdout",
          "text": [
            "Connected\n"
          ]
        }
      ]
    },
    {
      "cell_type": "code",
      "source": [
        "graph = tg.TigerGraphConnection(host=hostName, graphname=graphName)\n",
        "\n",
        "authToken = graph.getToken(secret)\n",
        "authToken = authToken[0]\n",
        "print(f\"SHHHH.... Keep this a secret. Here's your token:\\n {authToken}\")"
      ],
      "metadata": {
        "colab": {
          "base_uri": "https://localhost:8080/"
        },
        "id": "nxFrwSqIH_7E",
        "outputId": "29d31a15-4622-4dad-d7a7-2bf5592a3dc9"
      },
      "execution_count": 5,
      "outputs": [
        {
          "output_type": "stream",
          "name": "stdout",
          "text": [
            "SHHHH.... Keep this a secret. Here's your token:\n",
            " 6gbnbdlv9ks5bthqjs0pf7mp62sl7rpg\n"
          ]
        }
      ]
    },
    {
      "cell_type": "code",
      "source": [
        "show_schema = conn.gsql('''LS''')\n",
        "print(show_schema)"
      ],
      "metadata": {
        "colab": {
          "base_uri": "https://localhost:8080/"
        },
        "id": "iN8j-etWIb9D",
        "outputId": "a7c0930f-7a72-4252-868d-c7869e39fadf"
      },
      "execution_count": 6,
      "outputs": [
        {
          "output_type": "stream",
          "name": "stdout",
          "text": [
            "---- Global vertices, edges, and all graphs\n",
            "Vertex Types:\n",
            "- VERTEX Country(PRIMARY_ID id STRING) WITH STATS=\"OUTDEGREE_BY_EDGETYPE\", PRIMARY_ID_AS_ATTRIBUTE=\"true\"\n",
            "- VERTEX Customer(PRIMARY_ID id STRING) WITH STATS=\"OUTDEGREE_BY_EDGETYPE\", PRIMARY_ID_AS_ATTRIBUTE=\"true\"\n",
            "- VERTEX Account(PRIMARY_ID id STRING, init_balance DOUBLE, account_type STRING, tx_behavior INT, pagerank FLOAT, label INT, current_balance DOUBLE, min_send_tx DOUBLE, min_recieve_tx DOUBLE, max_send_tx DOUBLE, max_recieve_tx DOUBLE, avg_send_tx DOUBLE, avg_recieve_tx DOUBLE, cnt_recieve_tx INT, cnt_send_tx INT) WITH STATS=\"OUTDEGREE_BY_EDGETYPE\", PRIMARY_ID_AS_ATTRIBUTE=\"true\"\n",
            "- VERTEX Transaction(PRIMARY_ID id STRING, tx_behavior_id INT, amount DOUBLE, is_fraud BOOL) WITH STATS=\"OUTDEGREE_BY_EDGETYPE\", PRIMARY_ID_AS_ATTRIBUTE=\"true\"\n",
            "- VERTEX Alert(PRIMARY_ID id STRING, alert_type STRING, ts INT) WITH STATS=\"OUTDEGREE_BY_EDGETYPE\", PRIMARY_ID_AS_ATTRIBUTE=\"true\"\n",
            "Edge Types:\n",
            "- UNDIRECTED EDGE BASED_IN(FROM Customer, TO Country)\n",
            "- UNDIRECTED EDGE CUSTOMER_ACCOUNT(FROM Customer, TO Account)\n",
            "- UNDIRECTED EDGE TRANSACTION_FLAGGED(FROM Transaction, TO Alert)\n",
            "- DIRECTED EDGE SEND_TO(FROM Account, TO Account) WITH REVERSE_EDGE=\"reverse_SEND_TO\"\n",
            "- DIRECTED EDGE reverse_SEND_TO(FROM Account, TO Account) WITH REVERSE_EDGE=\"SEND_TO\"\n",
            "- DIRECTED EDGE SEND_TRANSACTION(FROM Account, TO Transaction, ts INT, tx_type STRING) WITH REVERSE_EDGE=\"reverse_SEND_TRANSACTION\"\n",
            "- DIRECTED EDGE reverse_SEND_TRANSACTION(FROM Transaction, TO Account, ts INT, tx_type STRING) WITH REVERSE_EDGE=\"SEND_TRANSACTION\"\n",
            "- DIRECTED EDGE RECEIVE_TRANSACTION(FROM Transaction, TO Account, ts INT, tx_type STRING) WITH REVERSE_EDGE=\"reverse_RECEIVE_TRANSACTION\"\n",
            "- DIRECTED EDGE reverse_RECEIVE_TRANSACTION(FROM Account, TO Transaction, ts INT, tx_type STRING) WITH REVERSE_EDGE=\"RECEIVE_TRANSACTION\"\n",
            "\n",
            "Graphs:\n",
            "- Graph test_graph(Country:v, Customer:v, Account:v, Transaction:v, Alert:v, BASED_IN:e, CUSTOMER_ACCOUNT:e, TRANSACTION_FLAGGED:e, SEND_TO:e, reverse_SEND_TO:e, SEND_TRANSACTION:e, reverse_SEND_TRANSACTION:e, RECEIVE_TRANSACTION:e, reverse_RECEIVE_TRANSACTION:e)\n",
            "Jobs:\n",
            "\n",
            "\n",
            "JSON API version: v2\n",
            "Syntax version: v2\n",
            "\n"
          ]
        }
      ]
    },
    {
      "cell_type": "code",
      "source": [
        "results = conn.gsql('''\n",
        "USE GRAPH test_graph\n",
        "''')\n",
        "print(results)"
      ],
      "metadata": {
        "colab": {
          "base_uri": "https://localhost:8080/"
        },
        "id": "eyYMUw1nIjIN",
        "outputId": "1abfdf7f-cd73-4740-aef7-aa4127bb2dc5"
      },
      "execution_count": null,
      "outputs": [
        {
          "output_type": "stream",
          "name": "stdout",
          "text": [
            "Using graph 'test_graph'\n"
          ]
        }
      ]
    },
    {
      "cell_type": "code",
      "source": [
        "# DEFINE / CREATE ALL EDGES AND VERTICES\n",
        "results = conn.gsql('''\n",
        "USE global\n",
        "CREATE VERTEX Country(PRIMARY_ID id STRING) WITH primary_id_as_attribute=\"true\"\n",
        "CREATE VERTEX Customer (PRIMARY_ID id STRING) WITH primary_id_as_attribute=\"true\"\n",
        "CREATE VERTEX Account (PRIMARY_ID id STRING, init_balance DOUBLE, account_type STRING, tx_behavior INT, pagerank FLOAT, label INT, current_balance DOUBLE, min_send_tx DOUBLE, min_recieve_tx DOUBLE, max_send_tx DOUBLE, max_recieve_tx DOUBLE, avg_send_tx DOUBLE, avg_recieve_tx DOUBLE, cnt_recieve_tx INT, cnt_send_tx INT) WITH primary_id_as_attribute=\"true\"\n",
        "CREATE VERTEX Transaction (PRIMARY_ID id STRING, tx_behavior_id INT, amount DOUBLE, is_fraud BOOL) WITH primary_id_as_attribute=\"true\"\n",
        "CREATE VERTEX Alert (PRIMARY_ID id STRING, alert_type STRING, ts INT) WITH primary_id_as_attribute=\"true\"\n",
        "CREATE UNDIRECTED EDGE BASED_IN (From Customer, To Country)\n",
        "CREATE UNDIRECTED EDGE CUSTOMER_ACCOUNT (From Customer, To Account)\n",
        "CREATE UNDIRECTED EDGE TRANSACTION_FLAGGED (From Transaction, To Alert)\n",
        "CREATE DIRECTED EDGE SEND_TO (From Account, To Account) WITH REVERSE_EDGE=\"reverse_SEND_TO\"\n",
        "CREATE DIRECTED EDGE SEND_TRANSACTION (From Account, To Transaction, ts INT, tx_type STRING) WITH REVERSE_EDGE=\"reverse_SEND_TRANSACTION\"\n",
        "CREATE DIRECTED EDGE RECEIVE_TRANSACTION (From Transaction, To Account, ts INT, tx_type STRING) WITH REVERSE_EDGE=\"reverse_RECEIVE_TRANSACTION\"\n",
        "''')\n",
        "print(results)"
      ],
      "metadata": {
        "colab": {
          "base_uri": "https://localhost:8080/"
        },
        "id": "e-OKQWoTInTp",
        "outputId": "dfbd0528-ef10-45ed-bf73-08a6031ba98b"
      },
      "execution_count": 7,
      "outputs": [
        {
          "output_type": "stream",
          "name": "stdout",
          "text": [
            "Semantic Check Fails: The vertex name Country is used by another object! Please use a different name.\n",
            "Failed to create vertex types: [Country].\n"
          ]
        }
      ]
    },
    {
      "cell_type": "code",
      "source": [
        "results = conn.gsql('CREATE GRAPH test_graph_new(Country, Customer, Account, Transaction, Alert, BASED_IN, CUSTOMER_ACCOUNT, TRANSACTION_FLAGGED, SEND_TO, SEND_TRANSACTION, reverse_SEND_TRANSACTION, RECEIVE_TRANSACTION, reverse_RECEIVE_TRANSACTION)')"
      ],
      "metadata": {
        "id": "2Fy6cKK4NYOD"
      },
      "execution_count": 8,
      "outputs": []
    },
    {
      "cell_type": "code",
      "source": [
        "conn.graphname=\"test_graph_new\"\n",
        "secret = conn.createSecret()\n",
        "authToken = conn.getToken(secret)\n",
        "authToken = authToken[0]\n",
        "print(authToken)\n",
        "conn = tg.TigerGraphConnection(host=hostName, graphname=\"test_graph_new\", username=userName, password=password, apiToken=authToken)\n",
        "\n",
        "def pprint(string):\n",
        "  print(json.dumps(string, indent=2))"
      ],
      "metadata": {
        "colab": {
          "base_uri": "https://localhost:8080/"
        },
        "id": "v8zXvaJ7PVTU",
        "outputId": "2561d6b9-4256-4536-b7bb-3d287494499d"
      },
      "execution_count": 10,
      "outputs": [
        {
          "output_type": "stream",
          "name": "stdout",
          "text": [
            "rckre5gv34n70ukuf6tsa4b2qa5lt7ap\n"
          ]
        }
      ]
    },
    {
      "cell_type": "code",
      "source": [
        "show_schema = conn.gsql('''LS''')\n",
        "print(show_schema)"
      ],
      "metadata": {
        "colab": {
          "base_uri": "https://localhost:8080/"
        },
        "id": "_XVAP9tKTh3W",
        "outputId": "f2259669-82cc-4efa-e97e-49d8f56c7343"
      },
      "execution_count": 11,
      "outputs": [
        {
          "output_type": "stream",
          "name": "stdout",
          "text": [
            "---- Global vertices, edges, and all graphs\n",
            "Vertex Types:\n",
            "- VERTEX Country(PRIMARY_ID id STRING) WITH STATS=\"OUTDEGREE_BY_EDGETYPE\", PRIMARY_ID_AS_ATTRIBUTE=\"true\"\n",
            "- VERTEX Customer(PRIMARY_ID id STRING) WITH STATS=\"OUTDEGREE_BY_EDGETYPE\", PRIMARY_ID_AS_ATTRIBUTE=\"true\"\n",
            "- VERTEX Account(PRIMARY_ID id STRING, init_balance DOUBLE, account_type STRING, tx_behavior INT, pagerank FLOAT, label INT, current_balance DOUBLE, min_send_tx DOUBLE, min_recieve_tx DOUBLE, max_send_tx DOUBLE, max_recieve_tx DOUBLE, avg_send_tx DOUBLE, avg_recieve_tx DOUBLE, cnt_recieve_tx INT, cnt_send_tx INT) WITH STATS=\"OUTDEGREE_BY_EDGETYPE\", PRIMARY_ID_AS_ATTRIBUTE=\"true\"\n",
            "- VERTEX Transaction(PRIMARY_ID id STRING, tx_behavior_id INT, amount DOUBLE, is_fraud BOOL) WITH STATS=\"OUTDEGREE_BY_EDGETYPE\", PRIMARY_ID_AS_ATTRIBUTE=\"true\"\n",
            "- VERTEX Alert(PRIMARY_ID id STRING, alert_type STRING, ts INT) WITH STATS=\"OUTDEGREE_BY_EDGETYPE\", PRIMARY_ID_AS_ATTRIBUTE=\"true\"\n",
            "Edge Types:\n",
            "- UNDIRECTED EDGE BASED_IN(FROM Customer, TO Country)\n",
            "- UNDIRECTED EDGE CUSTOMER_ACCOUNT(FROM Customer, TO Account)\n",
            "- UNDIRECTED EDGE TRANSACTION_FLAGGED(FROM Transaction, TO Alert)\n",
            "- DIRECTED EDGE SEND_TO(FROM Account, TO Account) WITH REVERSE_EDGE=\"reverse_SEND_TO\"\n",
            "- DIRECTED EDGE reverse_SEND_TO(FROM Account, TO Account) WITH REVERSE_EDGE=\"SEND_TO\"\n",
            "- DIRECTED EDGE SEND_TRANSACTION(FROM Account, TO Transaction, ts INT, tx_type STRING) WITH REVERSE_EDGE=\"reverse_SEND_TRANSACTION\"\n",
            "- DIRECTED EDGE reverse_SEND_TRANSACTION(FROM Transaction, TO Account, ts INT, tx_type STRING) WITH REVERSE_EDGE=\"SEND_TRANSACTION\"\n",
            "- DIRECTED EDGE RECEIVE_TRANSACTION(FROM Transaction, TO Account, ts INT, tx_type STRING) WITH REVERSE_EDGE=\"reverse_RECEIVE_TRANSACTION\"\n",
            "- DIRECTED EDGE reverse_RECEIVE_TRANSACTION(FROM Account, TO Transaction, ts INT, tx_type STRING) WITH REVERSE_EDGE=\"RECEIVE_TRANSACTION\"\n",
            "\n",
            "Graphs:\n",
            "- Graph test_graph(Country:v, Customer:v, Account:v, Transaction:v, Alert:v, BASED_IN:e, CUSTOMER_ACCOUNT:e, TRANSACTION_FLAGGED:e, SEND_TO:e, reverse_SEND_TO:e, SEND_TRANSACTION:e, reverse_SEND_TRANSACTION:e, RECEIVE_TRANSACTION:e, reverse_RECEIVE_TRANSACTION:e)\n",
            "- Graph test_graph_new(Country:v, Customer:v, Account:v, Transaction:v, Alert:v, BASED_IN:e, CUSTOMER_ACCOUNT:e, TRANSACTION_FLAGGED:e, SEND_TO:e, reverse_SEND_TO:e, SEND_TRANSACTION:e, reverse_SEND_TRANSACTION:e, RECEIVE_TRANSACTION:e, reverse_RECEIVE_TRANSACTION:e)\n",
            "Jobs:\n",
            "\n",
            "\n",
            "JSON API version: v2\n",
            "Syntax version: v2\n",
            "\n"
          ]
        }
      ]
    },
    {
      "cell_type": "code",
      "source": [
        "results = conn.getVertexTypes()\n",
        "print(f\"Verticies: {results}\")\n",
        "vertices = results\n",
        "\n",
        "results = conn.getEdgeTypes()\n",
        "print(f\"Edges: {results}\")\n",
        "edges = results"
      ],
      "metadata": {
        "colab": {
          "base_uri": "https://localhost:8080/"
        },
        "id": "N8XxqM12TsaV",
        "outputId": "d3e8ce2e-8e2b-4124-df7d-b4eb7c5b4b10"
      },
      "execution_count": null,
      "outputs": [
        {
          "output_type": "stream",
          "name": "stdout",
          "text": [
            "Verticies: ['Country', 'Customer', 'Account', 'Transaction', 'Alert']\n",
            "Edges: ['BASED_IN', 'CUSTOMER_ACCOUNT', 'TRANSACTION_FLAGGED', 'SEND_TO', 'SEND_TRANSACTION', 'RECEIVE_TRANSACTION']\n"
          ]
        }
      ]
    },
    {
      "cell_type": "code",
      "source": [
        "import pandas as pd\n",
        "!git clone https://github.com/TigerGraph-OSS/AMLSim_Python_Lab\n",
        "accounts = pd.read_csv(\"AMLSim_Python_Lab/data/accounts.csv\", sep=\",\")\n",
        "alerts = pd.read_csv(\"AMLSim_Python_Lab/data/alerts.csv\", sep=\",\")\n",
        "transactions = pd.read_csv(\"AMLSim_Python_Lab/data/transactions.csv\", sep=\",\")"
      ],
      "metadata": {
        "colab": {
          "base_uri": "https://localhost:8080/"
        },
        "id": "ArzELda80wfK",
        "outputId": "503a3bab-c9e0-42b3-84db-292b2b657028"
      },
      "execution_count": null,
      "outputs": [
        {
          "metadata": {
            "tags": null
          },
          "name": "stdout",
          "output_type": "stream",
          "text": [
            "Cloning into 'AMLSim_Python_Lab'...\n",
            "remote: Enumerating objects: 113, done.\u001b[K\n",
            "remote: Counting objects: 100% (113/113), done.\u001b[K\n",
            "remote: Compressing objects: 100% (88/88), done.\u001b[K\n",
            "remote: Total 113 (delta 43), reused 66 (delta 18), pack-reused 0\u001b[K\n",
            "Receiving objects: 100% (113/113), 11.46 MiB | 16.29 MiB/s, done.\n",
            "Resolving deltas: 100% (43/43), done.\n"
          ]
        }
      ]
    },
    {
      "cell_type": "code",
      "source": [
        "accounts.head(10)"
      ],
      "metadata": {
        "id": "_egeaK3wJSPJ",
        "outputId": "4fd16152-9c59-46ef-a2b9-bb81f3be50b8",
        "colab": {
          "base_uri": "https://localhost:8080/",
          "height": 363
        }
      },
      "execution_count": null,
      "outputs": [
        {
          "output_type": "execute_result",
          "data": {
            "text/plain": [
              "  ACCOUNT_ID CUSTOMER_ID  INIT_BALANCE COUNTRY ACCOUNT_TYPE  IS_FRAUD  \\\n",
              "0          0         C_0        184.44      US            I     False   \n",
              "1          1         C_1        175.80      US            I     False   \n",
              "2          2         C_2        142.06      US            I     False   \n",
              "3          3         C_3        125.89      US            I     False   \n",
              "4          4         C_4        151.13      US            I     False   \n",
              "5          5         C_5        140.49      US            I     False   \n",
              "6          6         C_6        178.38      US            I     False   \n",
              "7          7         C_7        130.33      US            I     False   \n",
              "8          8         C_8        147.66      US            I     False   \n",
              "9          9         C_9        158.34      US            I     False   \n",
              "\n",
              "   TX_BEHAVIOR_ID  \n",
              "0               1  \n",
              "1               1  \n",
              "2               1  \n",
              "3               1  \n",
              "4               1  \n",
              "5               1  \n",
              "6               1  \n",
              "7               1  \n",
              "8               1  \n",
              "9               1  "
            ],
            "text/html": [
              "\n",
              "  <div id=\"df-f3e7d194-aeb5-4852-8483-65e78339c756\" class=\"colab-df-container\">\n",
              "    <div>\n",
              "<style scoped>\n",
              "    .dataframe tbody tr th:only-of-type {\n",
              "        vertical-align: middle;\n",
              "    }\n",
              "\n",
              "    .dataframe tbody tr th {\n",
              "        vertical-align: top;\n",
              "    }\n",
              "\n",
              "    .dataframe thead th {\n",
              "        text-align: right;\n",
              "    }\n",
              "</style>\n",
              "<table border=\"1\" class=\"dataframe\">\n",
              "  <thead>\n",
              "    <tr style=\"text-align: right;\">\n",
              "      <th></th>\n",
              "      <th>ACCOUNT_ID</th>\n",
              "      <th>CUSTOMER_ID</th>\n",
              "      <th>INIT_BALANCE</th>\n",
              "      <th>COUNTRY</th>\n",
              "      <th>ACCOUNT_TYPE</th>\n",
              "      <th>IS_FRAUD</th>\n",
              "      <th>TX_BEHAVIOR_ID</th>\n",
              "    </tr>\n",
              "  </thead>\n",
              "  <tbody>\n",
              "    <tr>\n",
              "      <th>0</th>\n",
              "      <td>0</td>\n",
              "      <td>C_0</td>\n",
              "      <td>184.44</td>\n",
              "      <td>US</td>\n",
              "      <td>I</td>\n",
              "      <td>False</td>\n",
              "      <td>1</td>\n",
              "    </tr>\n",
              "    <tr>\n",
              "      <th>1</th>\n",
              "      <td>1</td>\n",
              "      <td>C_1</td>\n",
              "      <td>175.80</td>\n",
              "      <td>US</td>\n",
              "      <td>I</td>\n",
              "      <td>False</td>\n",
              "      <td>1</td>\n",
              "    </tr>\n",
              "    <tr>\n",
              "      <th>2</th>\n",
              "      <td>2</td>\n",
              "      <td>C_2</td>\n",
              "      <td>142.06</td>\n",
              "      <td>US</td>\n",
              "      <td>I</td>\n",
              "      <td>False</td>\n",
              "      <td>1</td>\n",
              "    </tr>\n",
              "    <tr>\n",
              "      <th>3</th>\n",
              "      <td>3</td>\n",
              "      <td>C_3</td>\n",
              "      <td>125.89</td>\n",
              "      <td>US</td>\n",
              "      <td>I</td>\n",
              "      <td>False</td>\n",
              "      <td>1</td>\n",
              "    </tr>\n",
              "    <tr>\n",
              "      <th>4</th>\n",
              "      <td>4</td>\n",
              "      <td>C_4</td>\n",
              "      <td>151.13</td>\n",
              "      <td>US</td>\n",
              "      <td>I</td>\n",
              "      <td>False</td>\n",
              "      <td>1</td>\n",
              "    </tr>\n",
              "    <tr>\n",
              "      <th>5</th>\n",
              "      <td>5</td>\n",
              "      <td>C_5</td>\n",
              "      <td>140.49</td>\n",
              "      <td>US</td>\n",
              "      <td>I</td>\n",
              "      <td>False</td>\n",
              "      <td>1</td>\n",
              "    </tr>\n",
              "    <tr>\n",
              "      <th>6</th>\n",
              "      <td>6</td>\n",
              "      <td>C_6</td>\n",
              "      <td>178.38</td>\n",
              "      <td>US</td>\n",
              "      <td>I</td>\n",
              "      <td>False</td>\n",
              "      <td>1</td>\n",
              "    </tr>\n",
              "    <tr>\n",
              "      <th>7</th>\n",
              "      <td>7</td>\n",
              "      <td>C_7</td>\n",
              "      <td>130.33</td>\n",
              "      <td>US</td>\n",
              "      <td>I</td>\n",
              "      <td>False</td>\n",
              "      <td>1</td>\n",
              "    </tr>\n",
              "    <tr>\n",
              "      <th>8</th>\n",
              "      <td>8</td>\n",
              "      <td>C_8</td>\n",
              "      <td>147.66</td>\n",
              "      <td>US</td>\n",
              "      <td>I</td>\n",
              "      <td>False</td>\n",
              "      <td>1</td>\n",
              "    </tr>\n",
              "    <tr>\n",
              "      <th>9</th>\n",
              "      <td>9</td>\n",
              "      <td>C_9</td>\n",
              "      <td>158.34</td>\n",
              "      <td>US</td>\n",
              "      <td>I</td>\n",
              "      <td>False</td>\n",
              "      <td>1</td>\n",
              "    </tr>\n",
              "  </tbody>\n",
              "</table>\n",
              "</div>\n",
              "    <div class=\"colab-df-buttons\">\n",
              "\n",
              "  <div class=\"colab-df-container\">\n",
              "    <button class=\"colab-df-convert\" onclick=\"convertToInteractive('df-f3e7d194-aeb5-4852-8483-65e78339c756')\"\n",
              "            title=\"Convert this dataframe to an interactive table.\"\n",
              "            style=\"display:none;\">\n",
              "\n",
              "  <svg xmlns=\"http://www.w3.org/2000/svg\" height=\"24px\" viewBox=\"0 -960 960 960\">\n",
              "    <path d=\"M120-120v-720h720v720H120Zm60-500h600v-160H180v160Zm220 220h160v-160H400v160Zm0 220h160v-160H400v160ZM180-400h160v-160H180v160Zm440 0h160v-160H620v160ZM180-180h160v-160H180v160Zm440 0h160v-160H620v160Z\"/>\n",
              "  </svg>\n",
              "    </button>\n",
              "\n",
              "  <style>\n",
              "    .colab-df-container {\n",
              "      display:flex;\n",
              "      gap: 12px;\n",
              "    }\n",
              "\n",
              "    .colab-df-convert {\n",
              "      background-color: #E8F0FE;\n",
              "      border: none;\n",
              "      border-radius: 50%;\n",
              "      cursor: pointer;\n",
              "      display: none;\n",
              "      fill: #1967D2;\n",
              "      height: 32px;\n",
              "      padding: 0 0 0 0;\n",
              "      width: 32px;\n",
              "    }\n",
              "\n",
              "    .colab-df-convert:hover {\n",
              "      background-color: #E2EBFA;\n",
              "      box-shadow: 0px 1px 2px rgba(60, 64, 67, 0.3), 0px 1px 3px 1px rgba(60, 64, 67, 0.15);\n",
              "      fill: #174EA6;\n",
              "    }\n",
              "\n",
              "    .colab-df-buttons div {\n",
              "      margin-bottom: 4px;\n",
              "    }\n",
              "\n",
              "    [theme=dark] .colab-df-convert {\n",
              "      background-color: #3B4455;\n",
              "      fill: #D2E3FC;\n",
              "    }\n",
              "\n",
              "    [theme=dark] .colab-df-convert:hover {\n",
              "      background-color: #434B5C;\n",
              "      box-shadow: 0px 1px 3px 1px rgba(0, 0, 0, 0.15);\n",
              "      filter: drop-shadow(0px 1px 2px rgba(0, 0, 0, 0.3));\n",
              "      fill: #FFFFFF;\n",
              "    }\n",
              "  </style>\n",
              "\n",
              "    <script>\n",
              "      const buttonEl =\n",
              "        document.querySelector('#df-f3e7d194-aeb5-4852-8483-65e78339c756 button.colab-df-convert');\n",
              "      buttonEl.style.display =\n",
              "        google.colab.kernel.accessAllowed ? 'block' : 'none';\n",
              "\n",
              "      async function convertToInteractive(key) {\n",
              "        const element = document.querySelector('#df-f3e7d194-aeb5-4852-8483-65e78339c756');\n",
              "        const dataTable =\n",
              "          await google.colab.kernel.invokeFunction('convertToInteractive',\n",
              "                                                    [key], {});\n",
              "        if (!dataTable) return;\n",
              "\n",
              "        const docLinkHtml = 'Like what you see? Visit the ' +\n",
              "          '<a target=\"_blank\" href=https://colab.research.google.com/notebooks/data_table.ipynb>data table notebook</a>'\n",
              "          + ' to learn more about interactive tables.';\n",
              "        element.innerHTML = '';\n",
              "        dataTable['output_type'] = 'display_data';\n",
              "        await google.colab.output.renderOutput(dataTable, element);\n",
              "        const docLink = document.createElement('div');\n",
              "        docLink.innerHTML = docLinkHtml;\n",
              "        element.appendChild(docLink);\n",
              "      }\n",
              "    </script>\n",
              "  </div>\n",
              "\n",
              "\n",
              "<div id=\"df-476d39e6-821d-4515-b86c-3d7c14865ac5\">\n",
              "  <button class=\"colab-df-quickchart\" onclick=\"quickchart('df-476d39e6-821d-4515-b86c-3d7c14865ac5')\"\n",
              "            title=\"Suggest charts.\"\n",
              "            style=\"display:none;\">\n",
              "\n",
              "<svg xmlns=\"http://www.w3.org/2000/svg\" height=\"24px\"viewBox=\"0 0 24 24\"\n",
              "     width=\"24px\">\n",
              "    <g>\n",
              "        <path d=\"M19 3H5c-1.1 0-2 .9-2 2v14c0 1.1.9 2 2 2h14c1.1 0 2-.9 2-2V5c0-1.1-.9-2-2-2zM9 17H7v-7h2v7zm4 0h-2V7h2v10zm4 0h-2v-4h2v4z\"/>\n",
              "    </g>\n",
              "</svg>\n",
              "  </button>\n",
              "\n",
              "<style>\n",
              "  .colab-df-quickchart {\n",
              "    background-color: #E8F0FE;\n",
              "    border: none;\n",
              "    border-radius: 50%;\n",
              "    cursor: pointer;\n",
              "    display: none;\n",
              "    fill: #1967D2;\n",
              "    height: 32px;\n",
              "    padding: 0 0 0 0;\n",
              "    width: 32px;\n",
              "  }\n",
              "\n",
              "  .colab-df-quickchart:hover {\n",
              "    background-color: #E2EBFA;\n",
              "    box-shadow: 0px 1px 2px rgba(60, 64, 67, 0.3), 0px 1px 3px 1px rgba(60, 64, 67, 0.15);\n",
              "    fill: #174EA6;\n",
              "  }\n",
              "\n",
              "  [theme=dark] .colab-df-quickchart {\n",
              "    background-color: #3B4455;\n",
              "    fill: #D2E3FC;\n",
              "  }\n",
              "\n",
              "  [theme=dark] .colab-df-quickchart:hover {\n",
              "    background-color: #434B5C;\n",
              "    box-shadow: 0px 1px 3px 1px rgba(0, 0, 0, 0.15);\n",
              "    filter: drop-shadow(0px 1px 2px rgba(0, 0, 0, 0.3));\n",
              "    fill: #FFFFFF;\n",
              "  }\n",
              "</style>\n",
              "\n",
              "  <script>\n",
              "    async function quickchart(key) {\n",
              "      const charts = await google.colab.kernel.invokeFunction(\n",
              "          'suggestCharts', [key], {});\n",
              "    }\n",
              "    (() => {\n",
              "      let quickchartButtonEl =\n",
              "        document.querySelector('#df-476d39e6-821d-4515-b86c-3d7c14865ac5 button');\n",
              "      quickchartButtonEl.style.display =\n",
              "        google.colab.kernel.accessAllowed ? 'block' : 'none';\n",
              "    })();\n",
              "  </script>\n",
              "</div>\n",
              "    </div>\n",
              "  </div>\n"
            ]
          },
          "metadata": {},
          "execution_count": 62
        }
      ]
    },
    {
      "cell_type": "code",
      "source": [
        "accounts['ACCOUNT_ID'] = accounts['ACCOUNT_ID'].astype(str)\n",
        "alerts['ALERT_ID'] = alerts['ALERT_ID'].astype(str)\n",
        "alerts['SENDER_ACCOUNT_ID'] = alerts['SENDER_ACCOUNT_ID'].astype(str)\n",
        "alerts['RECEIVER_ACCOUNT_ID'] = alerts['RECEIVER_ACCOUNT_ID'].astype(str)\n",
        "transactions['TX_ID'] = transactions['TX_ID'].astype(str)\n",
        "transactions['SENDER_ACCOUNT_ID'] = transactions['SENDER_ACCOUNT_ID'].astype(str)\n",
        "transactions['RECEIVER_ACCOUNT_ID'] = transactions['RECEIVER_ACCOUNT_ID'].astype(str)"
      ],
      "metadata": {
        "id": "hE6fgT8W1MWT"
      },
      "execution_count": null,
      "outputs": []
    },
    {
      "cell_type": "code",
      "source": [
        "conn.graphname = \"test_graph\"\n",
        "conn.apiToken = conn.getToken(conn.createSecret())"
      ],
      "metadata": {
        "id": "5dDlCfEd1Mfn"
      },
      "execution_count": null,
      "outputs": []
    },
    {
      "cell_type": "code",
      "source": [
        "\n",
        "print(f\"Results for Post vertex\")\n",
        "pprint(conn.getVertexType(\"Account\"))\n",
        "\n",
        "print(\"-----------------\")\n",
        "print(f\"Results for liked edge\")\n",
        "pprint(conn.getEdgeType(\"send_money\"))\n"
      ],
      "metadata": {
        "colab": {
          "base_uri": "https://localhost:8080/"
        },
        "id": "ckaDwk9TTvmq",
        "outputId": "3cc5d7b0-98c4-417e-b56f-62804d415ef3"
      },
      "execution_count": null,
      "outputs": [
        {
          "output_type": "stream",
          "name": "stderr",
          "text": [
            "WARNING:pyTigerGraph.pyTigerGraphEdge:Edge type `send_money` was not found.\n"
          ]
        },
        {
          "output_type": "stream",
          "name": "stdout",
          "text": [
            "Results for Post vertex\n",
            "{\n",
            "  \"Config\": {\n",
            "    \"STATS\": \"OUTDEGREE_BY_EDGETYPE\",\n",
            "    \"PRIMARY_ID_AS_ATTRIBUTE\": true\n",
            "  },\n",
            "  \"Attributes\": [\n",
            "    {\n",
            "      \"AttributeType\": {\n",
            "        \"Name\": \"DOUBLE\"\n",
            "      },\n",
            "      \"AttributeName\": \"init_balance\"\n",
            "    },\n",
            "    {\n",
            "      \"AttributeType\": {\n",
            "        \"Name\": \"STRING\"\n",
            "      },\n",
            "      \"AttributeName\": \"account_type\"\n",
            "    },\n",
            "    {\n",
            "      \"AttributeType\": {\n",
            "        \"Name\": \"INT\"\n",
            "      },\n",
            "      \"AttributeName\": \"tx_behavior\"\n",
            "    },\n",
            "    {\n",
            "      \"AttributeType\": {\n",
            "        \"Name\": \"FLOAT\"\n",
            "      },\n",
            "      \"AttributeName\": \"pagerank\"\n",
            "    },\n",
            "    {\n",
            "      \"AttributeType\": {\n",
            "        \"Name\": \"INT\"\n",
            "      },\n",
            "      \"AttributeName\": \"label\"\n",
            "    },\n",
            "    {\n",
            "      \"AttributeType\": {\n",
            "        \"Name\": \"DOUBLE\"\n",
            "      },\n",
            "      \"AttributeName\": \"current_balance\"\n",
            "    },\n",
            "    {\n",
            "      \"AttributeType\": {\n",
            "        \"Name\": \"DOUBLE\"\n",
            "      },\n",
            "      \"AttributeName\": \"min_send_tx\"\n",
            "    },\n",
            "    {\n",
            "      \"AttributeType\": {\n",
            "        \"Name\": \"DOUBLE\"\n",
            "      },\n",
            "      \"AttributeName\": \"min_recieve_tx\"\n",
            "    },\n",
            "    {\n",
            "      \"AttributeType\": {\n",
            "        \"Name\": \"DOUBLE\"\n",
            "      },\n",
            "      \"AttributeName\": \"max_send_tx\"\n",
            "    },\n",
            "    {\n",
            "      \"AttributeType\": {\n",
            "        \"Name\": \"DOUBLE\"\n",
            "      },\n",
            "      \"AttributeName\": \"max_recieve_tx\"\n",
            "    },\n",
            "    {\n",
            "      \"AttributeType\": {\n",
            "        \"Name\": \"DOUBLE\"\n",
            "      },\n",
            "      \"AttributeName\": \"avg_send_tx\"\n",
            "    },\n",
            "    {\n",
            "      \"AttributeType\": {\n",
            "        \"Name\": \"DOUBLE\"\n",
            "      },\n",
            "      \"AttributeName\": \"avg_recieve_tx\"\n",
            "    },\n",
            "    {\n",
            "      \"AttributeType\": {\n",
            "        \"Name\": \"INT\"\n",
            "      },\n",
            "      \"AttributeName\": \"cnt_recieve_tx\"\n",
            "    },\n",
            "    {\n",
            "      \"AttributeType\": {\n",
            "        \"Name\": \"INT\"\n",
            "      },\n",
            "      \"AttributeName\": \"cnt_send_tx\"\n",
            "    }\n",
            "  ],\n",
            "  \"PrimaryId\": {\n",
            "    \"AttributeType\": {\n",
            "      \"Name\": \"STRING\"\n",
            "    },\n",
            "    \"PrimaryIdAsAttribute\": true,\n",
            "    \"AttributeName\": \"id\"\n",
            "  },\n",
            "  \"Name\": \"Account\"\n",
            "}\n",
            "-----------------\n",
            "Results for liked edge\n",
            "{}\n"
          ]
        }
      ]
    },
    {
      "cell_type": "code",
      "source": [
        "print(\"Vertex Counts\")\n",
        "for vertex in vertices:\n",
        "  print(f\"There are {conn.getVertexCount(vertex)} {vertex} vertices in the graph\")\n",
        "\n",
        "print(\"--------------\")\n",
        "print(\"Edge Counts\")\n",
        "for edge in edges:\n",
        "  print(f\"There are {conn.getEdgeCount(edge)} {edge} edges in the graph\")"
      ],
      "metadata": {
        "colab": {
          "base_uri": "https://localhost:8080/"
        },
        "id": "L8bVIAUsT79J",
        "outputId": "a0ae55e4-7263-4a98-c4dc-9d26dce291b8"
      },
      "execution_count": null,
      "outputs": [
        {
          "output_type": "stream",
          "name": "stdout",
          "text": [
            "Vertex Counts\n",
            "There are 1 Country vertices in the graph\n",
            "There are 10000 Customer vertices in the graph\n",
            "There are 1323235 Account vertices in the graph\n",
            "There are 1323234 Transaction vertices in the graph\n",
            "There are 391 Alert vertices in the graph\n",
            "--------------\n",
            "Edge Counts\n",
            "There are 10000 BASED_IN edges in the graph\n",
            "There are 10000 CUSTOMER_ACCOUNT edges in the graph\n",
            "There are 1719 TRANSACTION_FLAGGED edges in the graph\n",
            "There are 0 SEND_TO edges in the graph\n",
            "There are 1323234 SEND_TRANSACTION edges in the graph\n",
            "There are 1323234 RECEIVE_TRANSACTION edges in the graph\n"
          ]
        }
      ]
    },
    {
      "cell_type": "code",
      "source": [
        "results = conn.getVerticesById(\"Account\", \"42\")\n",
        "pprint(results)"
      ],
      "metadata": {
        "colab": {
          "base_uri": "https://localhost:8080/"
        },
        "id": "EyGKgR68UEOO",
        "outputId": "f8894b6f-683d-4a5e-9cb9-56a72c2f01e6"
      },
      "execution_count": null,
      "outputs": [
        {
          "output_type": "stream",
          "name": "stdout",
          "text": [
            "[\n",
            "  {\n",
            "    \"v_id\": \"42\",\n",
            "    \"v_type\": \"Account\",\n",
            "    \"attributes\": {\n",
            "      \"id\": \"42\",\n",
            "      \"init_balance\": 186.76,\n",
            "      \"account_type\": \"I\",\n",
            "      \"tx_behavior\": 1,\n",
            "      \"pagerank\": 0,\n",
            "      \"label\": 0,\n",
            "      \"current_balance\": 0,\n",
            "      \"min_send_tx\": 0,\n",
            "      \"min_recieve_tx\": 0,\n",
            "      \"max_send_tx\": 0,\n",
            "      \"max_recieve_tx\": 0,\n",
            "      \"avg_send_tx\": 0,\n",
            "      \"avg_recieve_tx\": 0,\n",
            "      \"cnt_recieve_tx\": 0,\n",
            "      \"cnt_send_tx\": 0\n",
            "    }\n",
            "  }\n",
            "]\n"
          ]
        }
      ]
    },
    {
      "cell_type": "code",
      "source": [
        "df1 = conn.getVertexDataframe(\"Alert\")\n",
        "print(df1)"
      ],
      "metadata": {
        "colab": {
          "base_uri": "https://localhost:8080/"
        },
        "id": "2zqDM7MDUQCa",
        "outputId": "9f4ee9f4-08dd-46f1-e749-cedbe76dd60d"
      },
      "execution_count": null,
      "outputs": [
        {
          "output_type": "stream",
          "name": "stdout",
          "text": [
            "    v_id   id alert_type   ts\n",
            "0    217  217      cycle  173\n",
            "1    251  251      cycle  188\n",
            "2     13   13     fan_in  115\n",
            "3    180  180     fan_in  175\n",
            "4    183  183     fan_in    7\n",
            "..   ...  ...        ...  ...\n",
            "386  321  321      cycle  198\n",
            "387  176  176     fan_in    8\n",
            "388  141  141     fan_in   68\n",
            "389  147  147     fan_in   74\n",
            "390   56   56     fan_in   99\n",
            "\n",
            "[391 rows x 4 columns]\n"
          ]
        }
      ]
    },
    {
      "cell_type": "code",
      "source": [
        "print(conn.gsql('''\n",
        "USE GRAPH test_graph\n",
        "CREATE QUERY accountActivity() FOR GRAPH test_graph {\n",
        "SumAccum<DOUBLE> @s_sumAmt, @r_sumAmt;\n",
        "SumAccum<DOUBLE> @s_txCnt, @r_txCnt;\n",
        "MinAccum<DOUBLE> @s_minAmt, @r_minAmt;\n",
        "MaxAccum<DOUBLE> @s_maxAmt, @r_maxAmt;\n",
        "AvgAccum @s_avgAmt, @r_avgAmt;\n",
        "Seed = {Account.*};\n",
        "acctSend = SELECT tgt FROM Seed:s -(SEND_TRANSACTION:e)-> Transaction:tgt\n",
        "ACCUM s.@s_sumAmt += tgt.amount, s.@s_txCnt += 1, s.@s_minAmt += tgt.amount, s.@s_maxAmt += tgt.amount, s.@s_avgAmt += tgt.amount\n",
        "POST-ACCUM s.current_balance = s.@s_sumAmt - s.init_balance, s.min_send_tx = s.@s_minAmt, s.max_send_tx = s.@s_maxAmt, s.avg_send_tx = s.@s_avgAmt, s.cnt_send_tx = s.@s_txCnt;\n",
        "acctRecieve = SELECT tgt FROM Seed:s -(RECEIVE_TRANSACTION:e)-> Transaction:tgt\n",
        "ACCUM s.@r_sumAmt += tgt.amount, s.@r_txCnt += 1, s.@r_minAmt += tgt.amount, s.@r_maxAmt += tgt.amount, s.@r_avgAmt += tgt.amount\n",
        "POST-ACCUM s.current_balance = s.@r_sumAmt + s.init_balance, s.min_recieve_tx = s.@r_minAmt, s.max_recieve_tx = s.@r_maxAmt, s.avg_recieve_tx = s.@r_avgAmt, s.cnt_recieve_tx = s.@r_txCnt;\n",
        "PRINT \"Features Have Been Calculated\";\n",
        "}\n",
        "INSTALL QUERY accountActivity\n",
        "''', options=[]))"
      ],
      "metadata": {
        "colab": {
          "base_uri": "https://localhost:8080/"
        },
        "id": "-QBDwT5EbqUT",
        "outputId": "a577ec0c-ee62-4cbc-9118-a8e19e04abd8"
      },
      "execution_count": null,
      "outputs": [
        {
          "output_type": "stream",
          "name": "stdout",
          "text": [
            "Using graph 'test_graph'\n",
            "\n",
            "Type Check Error in query accountActivity (TYP-111): line 13, col 30\n",
            "In the FROM clause 'from Seed : s -(RECEIVE_TRANSACTION : e)-> Transaction :\n",
            "tgt', the source vertex types are [Account], the edge types are\n",
            "[RECEIVE_TRANSACTION]. However, the edge types [RECEIVE_TRANSACTION] cannot find\n",
            "any compatible starting vertex types from the source.\n",
            "Saved as draft query with type/semantic error: [accountActivity].\n"
          ]
        }
      ]
    },
    {
      "cell_type": "code",
      "source": [
        "results = conn.gsql('''\n",
        "USE GRAPH test_graph\n",
        "''')\n",
        "print(results)"
      ],
      "metadata": {
        "colab": {
          "base_uri": "https://localhost:8080/"
        },
        "id": "8YouVc0ghppS",
        "outputId": "90f31a67-911c-4887-d6fb-b6cd22084e9a"
      },
      "execution_count": null,
      "outputs": [
        {
          "output_type": "stream",
          "name": "stdout",
          "text": [
            "Using graph 'test_graph'\n"
          ]
        }
      ]
    },
    {
      "cell_type": "code",
      "source": [
        "!head -n 2 Anti-Money-Laundering/accounts.csv"
      ],
      "metadata": {
        "colab": {
          "base_uri": "https://localhost:8080/"
        },
        "id": "VhVBjHX6fw2H",
        "outputId": "f8ee63da-1951-4496-f003-b7fb78263776"
      },
      "execution_count": null,
      "outputs": [
        {
          "output_type": "stream",
          "name": "stdout",
          "text": [
            "head: cannot open 'Anti-Money-Laundering/accounts.csv' for reading: No such file or directory\n"
          ]
        }
      ]
    },
    {
      "cell_type": "code",
      "source": [
        "results = conn.gsql('''\n",
        "DROP JOB load_job_accounts\n",
        "  END\n",
        "  ''')"
      ],
      "metadata": {
        "id": "38Bdh8shf95b"
      },
      "execution_count": null,
      "outputs": []
    },
    {
      "cell_type": "code",
      "source": [
        "results = conn.gsql('''\n",
        "  USE GRAPH test_graph_New\n",
        "  BEGIN\n",
        "  CREATE LOADING JOB load_job_accounts FOR GRAPH test_graph_New {\n",
        "      DEFINE FILENAME MyDataSource;\n",
        "      LOAD MyDataSource TO VERTEX Customer VALUES($1) USING SEPARATOR=\",\", HEADER=\"true\", EOL=\"\\n\";\n",
        "      LOAD MyDataSource TO VERTEX Account VALUES($0, $2, $4, $6, _, _, _, _, _, _, _, _, _, _, _) USING SEPARATOR=\",\", HEADER=\"true\", EOL=\"\\n\";\n",
        "      LOAD MyDataSource TO EDGE BASED_IN VALUES($1, $3) USING SEPARATOR=\",\", HEADER=\"true\", EOL=\"\\n\";\n",
        "      LOAD MyDataSource TO EDGE CUSTOMER_ACCOUNT VALUES($1, $4) USING SEPARATOR=\",\", HEADER=\"true\", EOL=\"\\n\";\n",
        "}\n",
        "  END\n",
        "  ''')\n",
        "print(results)"
      ],
      "metadata": {
        "colab": {
          "base_uri": "https://localhost:8080/"
        },
        "id": "6sOihgPVfBcn",
        "outputId": "6e2a3ef7-743d-4402-ee40-ba113ce4e9eb"
      },
      "execution_count": null,
      "outputs": [
        {
          "output_type": "stream",
          "name": "stdout",
          "text": [
            "Using graph 'test_graph_New'\n",
            "Successfully created loading jobs: [load_job_accounts].\n"
          ]
        }
      ]
    },
    {
      "cell_type": "code",
      "source": [
        "results = conn.gsql('''\n",
        "USE GRAPH test_graph_New\n",
        "''')\n",
        "print(results)"
      ],
      "metadata": {
        "colab": {
          "base_uri": "https://localhost:8080/"
        },
        "id": "ZY34rBD7huQZ",
        "outputId": "5d046d50-af94-4267-a04d-71864b62f919"
      },
      "execution_count": null,
      "outputs": [
        {
          "output_type": "stream",
          "name": "stdout",
          "text": [
            "Using graph 'test_graph_New'\n"
          ]
        }
      ]
    },
    {
      "cell_type": "code",
      "source": [
        "!head -n 2 Anti-Money-Laundering/alerts.csv"
      ],
      "metadata": {
        "colab": {
          "base_uri": "https://localhost:8080/"
        },
        "id": "1NII3rf2fXZg",
        "outputId": "dd5ac3a7-9559-4e44-efae-56be244133d7"
      },
      "execution_count": null,
      "outputs": [
        {
          "output_type": "stream",
          "name": "stdout",
          "text": [
            "head: cannot open 'Anti-Money-Laundering/alerts.csv' for reading: No such file or directory\n"
          ]
        }
      ]
    },
    {
      "cell_type": "code",
      "source": [
        "results = conn.gsql('''\n",
        "DROP JOB load_job_alerts\n",
        "  END\n",
        "  ''')"
      ],
      "metadata": {
        "id": "NVlYnjikfhVH"
      },
      "execution_count": null,
      "outputs": []
    },
    {
      "cell_type": "code",
      "source": [
        "results = conn.gsql('''\n",
        "  USE GRAPH test_graph_New\n",
        "  BEGIN\n",
        "CREATE LOADING JOB load_job_alerts FOR GRAPH test_graph_New {\n",
        "      DEFINE FILENAME MyDataSource;\n",
        "      LOAD MyDataSource TO VERTEX Alert VALUES($0, $1, $8) USING SEPARATOR=\",\", HEADER=\"true\", EOL=\"\\n\";\n",
        "      LOAD MyDataSource TO EDGE TRANSACTION_FLAGGED VALUES($3, $0) USING SEPARATOR=\",\", HEADER=\"true\", EOL=\"\\n\";\n",
        "}\n",
        "  END\n",
        "  ''')\n",
        "print(results)"
      ],
      "metadata": {
        "colab": {
          "base_uri": "https://localhost:8080/"
        },
        "id": "iqYuuAtxgTBV",
        "outputId": "bdf36179-282a-42fc-fb83-57727bcedd20"
      },
      "execution_count": null,
      "outputs": [
        {
          "output_type": "stream",
          "name": "stdout",
          "text": [
            "Using graph 'test_graph_New'\n",
            "Successfully created loading jobs: [load_job_alerts].\n"
          ]
        }
      ]
    },
    {
      "cell_type": "code",
      "source": [
        "results = conn.gsql('''\n",
        "USE GRAPH test_graph_New\n",
        "''')\n",
        "print(results)"
      ],
      "metadata": {
        "colab": {
          "base_uri": "https://localhost:8080/"
        },
        "id": "LgXAacTzhw6a",
        "outputId": "64e33fea-7a38-4133-ce72-c7cead4d7466"
      },
      "execution_count": null,
      "outputs": [
        {
          "output_type": "stream",
          "name": "stdout",
          "text": [
            "Using graph 'test_graph_New'\n"
          ]
        }
      ]
    },
    {
      "cell_type": "code",
      "source": [
        "!head -n 2 Anti-Money-Laundering/transactions.csv"
      ],
      "metadata": {
        "colab": {
          "base_uri": "https://localhost:8080/"
        },
        "id": "EA74SaEdglqj",
        "outputId": "10fd461c-62c0-43a3-cef6-c256d2d701fd"
      },
      "execution_count": null,
      "outputs": [
        {
          "output_type": "stream",
          "name": "stdout",
          "text": [
            "head: cannot open 'Anti-Money-Laundering/transactions.csv' for reading: No such file or directory\n"
          ]
        }
      ]
    },
    {
      "cell_type": "code",
      "source": [
        "results = conn.gsql('''\n",
        "DROP JOB load_job_transactions\n",
        "  END\n",
        "  ''')"
      ],
      "metadata": {
        "id": "imvsAK68gsF2"
      },
      "execution_count": null,
      "outputs": []
    },
    {
      "cell_type": "code",
      "source": [
        "results = conn.gsql('''\n",
        "  USE GRAPH test_graph_New\n",
        "  BEGIN\n",
        "CREATE LOADING JOB load_job_transactions FOR GRAPH test_graph_New {\n",
        "      DEFINE FILENAME MyDataSource;\n",
        "      LOAD MyDataSource TO VERTEX Transaction VALUES($0, _, $4, $6) USING SEPARATOR=\",\", HEADER=\"true\", EOL=\"\\n\";\n",
        "      LOAD MyDataSource TO EDGE SEND_TO VALUES($1, $2) USING SEPARATOR=\",\", HEADER=\"true\", EOL=\"\\n\";\n",
        "      LOAD MyDataSource TO EDGE SEND_TRANSACTION VALUES($1, $0, $5, $3) USING SEPARATOR=\",\", HEADER=\"true\", EOL=\"\\n\";\n",
        "      LOAD MyDataSource TO EDGE RECEIVE_TRANSACTION VALUES($0, $2, $5, $3) USING SEPARATOR=\",\", HEADER=\"true\", EOL=\"\\n\";\n",
        "}\n",
        "  END\n",
        "  ''')\n",
        "print(results)"
      ],
      "metadata": {
        "colab": {
          "base_uri": "https://localhost:8080/"
        },
        "id": "owvTtqsqgxyF",
        "outputId": "18db639e-af95-46a0-ed6b-da0b174dca5d"
      },
      "execution_count": null,
      "outputs": [
        {
          "output_type": "stream",
          "name": "stdout",
          "text": [
            "Using graph 'test_graph_New'\n",
            "Successfully created loading jobs: [load_job_transactions].\n"
          ]
        }
      ]
    }
  ]
}